{
  "nbformat": 4,
  "nbformat_minor": 0,
  "metadata": {
    "colab": {
      "provenance": []
    },
    "kernelspec": {
      "name": "python3",
      "display_name": "Python 3"
    },
    "language_info": {
      "name": "python"
    }
  },
  "cells": [
    {
      "cell_type": "code",
      "execution_count": 1,
      "metadata": {
        "colab": {
          "base_uri": "https://localhost:8080/"
        },
        "id": "Y8m6ukYJIONw",
        "outputId": "2793dadf-2b7d-4894-c2be-0524d16ab06a"
      },
      "outputs": [
        {
          "output_type": "stream",
          "name": "stderr",
          "text": [
            "[nltk_data] Downloading package punkt to /root/nltk_data...\n",
            "[nltk_data]   Unzipping tokenizers/punkt.zip.\n",
            "[nltk_data] Downloading package stopwords to /root/nltk_data...\n",
            "[nltk_data]   Unzipping corpora/stopwords.zip.\n",
            "[nltk_data] Downloading package wordnet to /root/nltk_data...\n"
          ]
        }
      ],
      "source": [
        "import csv\n",
        "import time\n",
        "import pickle\n",
        "import pandas as pd\n",
        "import numpy as np\n",
        "import matplotlib.pyplot as plt\n",
        "import seaborn as sns\n",
        "\n",
        "import xgboost as xgb\n",
        "from sklearn.feature_extraction.text import CountVectorizer, TfidfVectorizer\n",
        "from sklearn.model_selection import train_test_split\n",
        "from sklearn.metrics import auc, accuracy_score, recall_score, f1_score, precision_score, roc_auc_score, roc_curve, confusion_matrix, precision_recall_curve, classification_report\n",
        "from sklearn import svm\n",
        "from sklearn.pipeline import Pipeline\n",
        "from sklearn.model_selection import GridSearchCV\n",
        "\n",
        "import nltk\n",
        "\n",
        "nltk.download(\"punkt\")\n",
        "nltk.download('stopwords')\n",
        "nltk.download('wordnet')\n",
        "\n",
        "import re\n",
        "\n",
        "from nltk.corpus import stopwords\n",
        "\n",
        "from nltk.stem import WordNetLemmatizer\n",
        "\n",
        "lemmatizer = WordNetLemmatizer()\n",
        "\n",
        "import warnings\n",
        "warnings.filterwarnings('ignore')"
      ]
    },
    {
      "cell_type": "markdown",
      "source": [
        "## Load the dataset and remove invalid data"
      ],
      "metadata": {
        "id": "q8qKHZzAP9p9"
      }
    },
    {
      "cell_type": "code",
      "source": [
        "raw_data = pd.read_csv('categories.csv', sep = ';', header = None)\n",
        "raw_data.columns = [\"Text\", \"Class\"]\n",
        "raw_data.head(10)"
      ],
      "metadata": {
        "colab": {
          "base_uri": "https://localhost:8080/",
          "height": 363
        },
        "id": "5j1ZJxcoP8_1",
        "outputId": "399329b2-0102-4fb2-8b1c-83ccb22a38bb"
      },
      "execution_count": 2,
      "outputs": [
        {
          "output_type": "execute_result",
          "data": {
            "text/plain": [
              "                                                Text  Class\n",
              "0         i feel lots of crypto has exhausted itself    1.0\n",
              "1  How are you guys feeling today ??? :Bear:  or ...    1.0\n",
              "2                         Did not take a trade today    1.0\n",
              "3                      Just entered eos long trade 👌    1.0\n",
              "4       Anything good to buy now? Or did I miss it 😭    1.0\n",
              "5  GL trading tonight guys.  I'm off to eat dinne...    1.0\n",
              "6         Okay my long position is still open on eth    1.0\n",
              "7                  morning guys any trades avaiable?    1.0\n",
              "8                 What’s everybodies thoughts today?    1.0\n",
              "9  Are you guys more bullish or bearish for this ...    1.0"
            ],
            "text/html": [
              "\n",
              "  <div id=\"df-190e513e-77b7-4acb-a67f-d7cca68b7fce\" class=\"colab-df-container\">\n",
              "    <div>\n",
              "<style scoped>\n",
              "    .dataframe tbody tr th:only-of-type {\n",
              "        vertical-align: middle;\n",
              "    }\n",
              "\n",
              "    .dataframe tbody tr th {\n",
              "        vertical-align: top;\n",
              "    }\n",
              "\n",
              "    .dataframe thead th {\n",
              "        text-align: right;\n",
              "    }\n",
              "</style>\n",
              "<table border=\"1\" class=\"dataframe\">\n",
              "  <thead>\n",
              "    <tr style=\"text-align: right;\">\n",
              "      <th></th>\n",
              "      <th>Text</th>\n",
              "      <th>Class</th>\n",
              "    </tr>\n",
              "  </thead>\n",
              "  <tbody>\n",
              "    <tr>\n",
              "      <th>0</th>\n",
              "      <td>i feel lots of crypto has exhausted itself</td>\n",
              "      <td>1.0</td>\n",
              "    </tr>\n",
              "    <tr>\n",
              "      <th>1</th>\n",
              "      <td>How are you guys feeling today ??? :Bear:  or ...</td>\n",
              "      <td>1.0</td>\n",
              "    </tr>\n",
              "    <tr>\n",
              "      <th>2</th>\n",
              "      <td>Did not take a trade today</td>\n",
              "      <td>1.0</td>\n",
              "    </tr>\n",
              "    <tr>\n",
              "      <th>3</th>\n",
              "      <td>Just entered eos long trade 👌</td>\n",
              "      <td>1.0</td>\n",
              "    </tr>\n",
              "    <tr>\n",
              "      <th>4</th>\n",
              "      <td>Anything good to buy now? Or did I miss it 😭</td>\n",
              "      <td>1.0</td>\n",
              "    </tr>\n",
              "    <tr>\n",
              "      <th>5</th>\n",
              "      <td>GL trading tonight guys.  I'm off to eat dinne...</td>\n",
              "      <td>1.0</td>\n",
              "    </tr>\n",
              "    <tr>\n",
              "      <th>6</th>\n",
              "      <td>Okay my long position is still open on eth</td>\n",
              "      <td>1.0</td>\n",
              "    </tr>\n",
              "    <tr>\n",
              "      <th>7</th>\n",
              "      <td>morning guys any trades avaiable?</td>\n",
              "      <td>1.0</td>\n",
              "    </tr>\n",
              "    <tr>\n",
              "      <th>8</th>\n",
              "      <td>What’s everybodies thoughts today?</td>\n",
              "      <td>1.0</td>\n",
              "    </tr>\n",
              "    <tr>\n",
              "      <th>9</th>\n",
              "      <td>Are you guys more bullish or bearish for this ...</td>\n",
              "      <td>1.0</td>\n",
              "    </tr>\n",
              "  </tbody>\n",
              "</table>\n",
              "</div>\n",
              "    <div class=\"colab-df-buttons\">\n",
              "\n",
              "  <div class=\"colab-df-container\">\n",
              "    <button class=\"colab-df-convert\" onclick=\"convertToInteractive('df-190e513e-77b7-4acb-a67f-d7cca68b7fce')\"\n",
              "            title=\"Convert this dataframe to an interactive table.\"\n",
              "            style=\"display:none;\">\n",
              "\n",
              "  <svg xmlns=\"http://www.w3.org/2000/svg\" height=\"24px\" viewBox=\"0 -960 960 960\">\n",
              "    <path d=\"M120-120v-720h720v720H120Zm60-500h600v-160H180v160Zm220 220h160v-160H400v160Zm0 220h160v-160H400v160ZM180-400h160v-160H180v160Zm440 0h160v-160H620v160ZM180-180h160v-160H180v160Zm440 0h160v-160H620v160Z\"/>\n",
              "  </svg>\n",
              "    </button>\n",
              "\n",
              "  <style>\n",
              "    .colab-df-container {\n",
              "      display:flex;\n",
              "      gap: 12px;\n",
              "    }\n",
              "\n",
              "    .colab-df-convert {\n",
              "      background-color: #E8F0FE;\n",
              "      border: none;\n",
              "      border-radius: 50%;\n",
              "      cursor: pointer;\n",
              "      display: none;\n",
              "      fill: #1967D2;\n",
              "      height: 32px;\n",
              "      padding: 0 0 0 0;\n",
              "      width: 32px;\n",
              "    }\n",
              "\n",
              "    .colab-df-convert:hover {\n",
              "      background-color: #E2EBFA;\n",
              "      box-shadow: 0px 1px 2px rgba(60, 64, 67, 0.3), 0px 1px 3px 1px rgba(60, 64, 67, 0.15);\n",
              "      fill: #174EA6;\n",
              "    }\n",
              "\n",
              "    .colab-df-buttons div {\n",
              "      margin-bottom: 4px;\n",
              "    }\n",
              "\n",
              "    [theme=dark] .colab-df-convert {\n",
              "      background-color: #3B4455;\n",
              "      fill: #D2E3FC;\n",
              "    }\n",
              "\n",
              "    [theme=dark] .colab-df-convert:hover {\n",
              "      background-color: #434B5C;\n",
              "      box-shadow: 0px 1px 3px 1px rgba(0, 0, 0, 0.15);\n",
              "      filter: drop-shadow(0px 1px 2px rgba(0, 0, 0, 0.3));\n",
              "      fill: #FFFFFF;\n",
              "    }\n",
              "  </style>\n",
              "\n",
              "    <script>\n",
              "      const buttonEl =\n",
              "        document.querySelector('#df-190e513e-77b7-4acb-a67f-d7cca68b7fce button.colab-df-convert');\n",
              "      buttonEl.style.display =\n",
              "        google.colab.kernel.accessAllowed ? 'block' : 'none';\n",
              "\n",
              "      async function convertToInteractive(key) {\n",
              "        const element = document.querySelector('#df-190e513e-77b7-4acb-a67f-d7cca68b7fce');\n",
              "        const dataTable =\n",
              "          await google.colab.kernel.invokeFunction('convertToInteractive',\n",
              "                                                    [key], {});\n",
              "        if (!dataTable) return;\n",
              "\n",
              "        const docLinkHtml = 'Like what you see? Visit the ' +\n",
              "          '<a target=\"_blank\" href=https://colab.research.google.com/notebooks/data_table.ipynb>data table notebook</a>'\n",
              "          + ' to learn more about interactive tables.';\n",
              "        element.innerHTML = '';\n",
              "        dataTable['output_type'] = 'display_data';\n",
              "        await google.colab.output.renderOutput(dataTable, element);\n",
              "        const docLink = document.createElement('div');\n",
              "        docLink.innerHTML = docLinkHtml;\n",
              "        element.appendChild(docLink);\n",
              "      }\n",
              "    </script>\n",
              "  </div>\n",
              "\n",
              "\n",
              "<div id=\"df-eb46acee-c79f-42b7-a98e-9941a760de0e\">\n",
              "  <button class=\"colab-df-quickchart\" onclick=\"quickchart('df-eb46acee-c79f-42b7-a98e-9941a760de0e')\"\n",
              "            title=\"Suggest charts\"\n",
              "            style=\"display:none;\">\n",
              "\n",
              "<svg xmlns=\"http://www.w3.org/2000/svg\" height=\"24px\"viewBox=\"0 0 24 24\"\n",
              "     width=\"24px\">\n",
              "    <g>\n",
              "        <path d=\"M19 3H5c-1.1 0-2 .9-2 2v14c0 1.1.9 2 2 2h14c1.1 0 2-.9 2-2V5c0-1.1-.9-2-2-2zM9 17H7v-7h2v7zm4 0h-2V7h2v10zm4 0h-2v-4h2v4z\"/>\n",
              "    </g>\n",
              "</svg>\n",
              "  </button>\n",
              "\n",
              "<style>\n",
              "  .colab-df-quickchart {\n",
              "      --bg-color: #E8F0FE;\n",
              "      --fill-color: #1967D2;\n",
              "      --hover-bg-color: #E2EBFA;\n",
              "      --hover-fill-color: #174EA6;\n",
              "      --disabled-fill-color: #AAA;\n",
              "      --disabled-bg-color: #DDD;\n",
              "  }\n",
              "\n",
              "  [theme=dark] .colab-df-quickchart {\n",
              "      --bg-color: #3B4455;\n",
              "      --fill-color: #D2E3FC;\n",
              "      --hover-bg-color: #434B5C;\n",
              "      --hover-fill-color: #FFFFFF;\n",
              "      --disabled-bg-color: #3B4455;\n",
              "      --disabled-fill-color: #666;\n",
              "  }\n",
              "\n",
              "  .colab-df-quickchart {\n",
              "    background-color: var(--bg-color);\n",
              "    border: none;\n",
              "    border-radius: 50%;\n",
              "    cursor: pointer;\n",
              "    display: none;\n",
              "    fill: var(--fill-color);\n",
              "    height: 32px;\n",
              "    padding: 0;\n",
              "    width: 32px;\n",
              "  }\n",
              "\n",
              "  .colab-df-quickchart:hover {\n",
              "    background-color: var(--hover-bg-color);\n",
              "    box-shadow: 0 1px 2px rgba(60, 64, 67, 0.3), 0 1px 3px 1px rgba(60, 64, 67, 0.15);\n",
              "    fill: var(--button-hover-fill-color);\n",
              "  }\n",
              "\n",
              "  .colab-df-quickchart-complete:disabled,\n",
              "  .colab-df-quickchart-complete:disabled:hover {\n",
              "    background-color: var(--disabled-bg-color);\n",
              "    fill: var(--disabled-fill-color);\n",
              "    box-shadow: none;\n",
              "  }\n",
              "\n",
              "  .colab-df-spinner {\n",
              "    border: 2px solid var(--fill-color);\n",
              "    border-color: transparent;\n",
              "    border-bottom-color: var(--fill-color);\n",
              "    animation:\n",
              "      spin 1s steps(1) infinite;\n",
              "  }\n",
              "\n",
              "  @keyframes spin {\n",
              "    0% {\n",
              "      border-color: transparent;\n",
              "      border-bottom-color: var(--fill-color);\n",
              "      border-left-color: var(--fill-color);\n",
              "    }\n",
              "    20% {\n",
              "      border-color: transparent;\n",
              "      border-left-color: var(--fill-color);\n",
              "      border-top-color: var(--fill-color);\n",
              "    }\n",
              "    30% {\n",
              "      border-color: transparent;\n",
              "      border-left-color: var(--fill-color);\n",
              "      border-top-color: var(--fill-color);\n",
              "      border-right-color: var(--fill-color);\n",
              "    }\n",
              "    40% {\n",
              "      border-color: transparent;\n",
              "      border-right-color: var(--fill-color);\n",
              "      border-top-color: var(--fill-color);\n",
              "    }\n",
              "    60% {\n",
              "      border-color: transparent;\n",
              "      border-right-color: var(--fill-color);\n",
              "    }\n",
              "    80% {\n",
              "      border-color: transparent;\n",
              "      border-right-color: var(--fill-color);\n",
              "      border-bottom-color: var(--fill-color);\n",
              "    }\n",
              "    90% {\n",
              "      border-color: transparent;\n",
              "      border-bottom-color: var(--fill-color);\n",
              "    }\n",
              "  }\n",
              "</style>\n",
              "\n",
              "  <script>\n",
              "    async function quickchart(key) {\n",
              "      const quickchartButtonEl =\n",
              "        document.querySelector('#' + key + ' button');\n",
              "      quickchartButtonEl.disabled = true;  // To prevent multiple clicks.\n",
              "      quickchartButtonEl.classList.add('colab-df-spinner');\n",
              "      try {\n",
              "        const charts = await google.colab.kernel.invokeFunction(\n",
              "            'suggestCharts', [key], {});\n",
              "      } catch (error) {\n",
              "        console.error('Error during call to suggestCharts:', error);\n",
              "      }\n",
              "      quickchartButtonEl.classList.remove('colab-df-spinner');\n",
              "      quickchartButtonEl.classList.add('colab-df-quickchart-complete');\n",
              "    }\n",
              "    (() => {\n",
              "      let quickchartButtonEl =\n",
              "        document.querySelector('#df-eb46acee-c79f-42b7-a98e-9941a760de0e button');\n",
              "      quickchartButtonEl.style.display =\n",
              "        google.colab.kernel.accessAllowed ? 'block' : 'none';\n",
              "    })();\n",
              "  </script>\n",
              "</div>\n",
              "    </div>\n",
              "  </div>\n"
            ]
          },
          "metadata": {},
          "execution_count": 2
        }
      ]
    },
    {
      "cell_type": "code",
      "source": [
        "raw_data['Class'].value_counts(normalize = True).plot.bar()"
      ],
      "metadata": {
        "colab": {
          "base_uri": "https://localhost:8080/",
          "height": 456
        },
        "id": "vUVjjho0QJJN",
        "outputId": "9af83afc-d9b7-44f8-f37b-f55cd0b96bc1"
      },
      "execution_count": 3,
      "outputs": [
        {
          "output_type": "execute_result",
          "data": {
            "text/plain": [
              "<Axes: >"
            ]
          },
          "metadata": {},
          "execution_count": 3
        },
        {
          "output_type": "display_data",
          "data": {
            "text/plain": [
              "<Figure size 640x480 with 1 Axes>"
            ],
            "image/png": "[encoded data removed]"
          },
          "metadata": {}
        }
      ]
    },
    {
      "cell_type": "markdown",
      "source": [
        "## Data Preprocessing"
      ],
      "metadata": {
        "id": "qOF0t2N5Qtid"
      }
    },
    {
      "cell_type": "code",
      "source": [
        "lemmatizer = WordNetLemmatizer()\n",
        "with open('specialWords.txt') as file:\n",
        "    special_words = [line.strip() for line in file]"
      ],
      "metadata": {
        "id": "SJ2-tn32QsfV"
      },
      "execution_count": 4,
      "outputs": []
    },
    {
      "cell_type": "code",
      "source": [
        "## cleaning text data, remove special charactors, numbers, puncatations, stopwords removing, lower casing, skip special words\n",
        "cleaned_text = []\n",
        "for idx in range(len(raw_data)):\n",
        "    sentence = raw_data['Text'][idx]\n",
        "    removeSpecialChars = str(sentence).translate ({ord(c): \" \" for c in \"!@#$%^&*()[]{};:,./<>?\\|`~-=_+\"})\n",
        "    pattern = r'[0-9]'\n",
        "    new_string = re.sub(pattern, '', removeSpecialChars)\n",
        "    new_string = re.sub(' +', ' ', new_string)\n",
        "    new_string = ' '.join([word for word in new_string.split() if word not in stopwords.words(\"english\")])\n",
        "    new_string = ' '.join([lemmatizer.lemmatize(w).lower() if len(w)>1 and w not in special_words else w for w in new_string.split() ] )\n",
        "    cleaned_text.append(new_string)\n",
        "\n",
        "raw_data['cleaned_text'] = cleaned_text"
      ],
      "metadata": {
        "id": "e3nC3774Rw1m"
      },
      "execution_count": 5,
      "outputs": []
    },
    {
      "cell_type": "code",
      "source": [
        "raw_data.head(30)"
      ],
      "metadata": {
        "colab": {
          "base_uri": "https://localhost:8080/",
          "height": 990
        },
        "id": "ySjp6ek1ShMW",
        "outputId": "4f32fc9b-cf7d-4c95-92e9-1e33449f8b91"
      },
      "execution_count": 6,
      "outputs": [
        {
          "output_type": "execute_result",
          "data": {
            "text/plain": [
              "                                                 Text  Class  \\\n",
              "0          i feel lots of crypto has exhausted itself    1.0   \n",
              "1   How are you guys feeling today ??? :Bear:  or ...    1.0   \n",
              "2                          Did not take a trade today    1.0   \n",
              "3                       Just entered eos long trade 👌    1.0   \n",
              "4        Anything good to buy now? Or did I miss it 😭    1.0   \n",
              "5   GL trading tonight guys.  I'm off to eat dinne...    1.0   \n",
              "6          Okay my long position is still open on eth    1.0   \n",
              "7                   morning guys any trades avaiable?    1.0   \n",
              "8                  What’s everybodies thoughts today?    1.0   \n",
              "9   Are you guys more bullish or bearish for this ...    1.0   \n",
              "10                            I'm 100% up on the long    1.0   \n",
              "11                              I am up 17% on Solana    1.0   \n",
              "12                                  Good luck longing    1.0   \n",
              "13  Hey Guys. Please share trades you are going fo...    1.0   \n",
              "14        Hi everyone!  Does anybody have to on rune?    1.0   \n",
              "15  Hey guys, i need a favor, can anyone do a TA f...    1.0   \n",
              "16  I'm still long  +43% AVAX +40% DOT +17% SOL .....    1.0   \n",
              "17  Good morning from sunny South Africa. \\n\\nWhat...    1.0   \n",
              "18  Hi everyone are people in longs or shorts today ?    1.0   \n",
              "19  Trading long and short at the same time messes...    1.0   \n",
              "20                Helloooo bullish or bearish today??    1.0   \n",
              "21                                              Hello    0.0   \n",
              "22                        So is everyone shorting eth    0.0   \n",
              "23                               Markets a turd today    0.0   \n",
              "24                                             Yo yo!    0.0   \n",
              "25                                 Hello banter fam .    0.0   \n",
              "26                             Hope you all are ready    0.0   \n",
              "27                                         Good luck!    0.0   \n",
              "28                                        Good luck 🤞    0.0   \n",
              "29     i reckon we have a slow grind up and then dump    0.0   \n",
              "\n",
              "                                         cleaned_text  \n",
              "0                           feel lot crypto exhausted  \n",
              "1                     how guy feeling today bear bull  \n",
              "2                                did take trade today  \n",
              "3                       just entered eos long trade 👌  \n",
              "4                       anything good buy or I miss 😭  \n",
              "5   gl trading tonight guy i'm eat dinner 🙂 watch ...  \n",
              "6                   okay long position still open eth  \n",
              "7                          morning guy trade avaiable  \n",
              "8                    what’s everybodies thought today  \n",
              "9                        are guy bullish bearish week  \n",
              "10                                           i'm long  \n",
              "11                                           I solana  \n",
              "12                                  good luck longing  \n",
              "13                  hey guys please share trade going  \n",
              "14                      hi everyone does anybody rune  \n",
              "15                  hey guy need favor anyone ta atom  \n",
              "16  i'm still long avax dot sol I like way working...  \n",
              "17  good morning sunny south africa what trade hot...  \n",
              "18               hi everyone people longs short today  \n",
              "19             trading long short time mess brain lol  \n",
              "20                     helloooo bullish bearish today  \n",
              "21                                              hello  \n",
              "22                           so everyone shorting eth  \n",
              "23                                 markets turd today  \n",
              "24                                              yo yo  \n",
              "25                                   hello banter fam  \n",
              "26                                         hope ready  \n",
              "27                                          good luck  \n",
              "28                                        good luck 🤞  \n",
              "29                             reckon slow grind dump  "
            ],
            "text/html": [
              "\n",
              "  <div id=\"df-272126f8-98f4-4bf3-aec9-d87962286757\" class=\"colab-df-container\">\n",
              "    <div>\n",
              "<style scoped>\n",
              "    .dataframe tbody tr th:only-of-type {\n",
              "        vertical-align: middle;\n",
              "    }\n",
              "\n",
              "    .dataframe tbody tr th {\n",
              "        vertical-align: top;\n",
              "    }\n",
              "\n",
              "    .dataframe thead th {\n",
              "        text-align: right;\n",
              "    }\n",
              "</style>\n",
              "<table border=\"1\" class=\"dataframe\">\n",
              "  <thead>\n",
              "    <tr style=\"text-align: right;\">\n",
              "      <th></th>\n",
              "      <th>Text</th>\n",
              "      <th>Class</th>\n",
              "      <th>cleaned_text</th>\n",
              "    </tr>\n",
              "  </thead>\n",
              "  <tbody>\n",
              "    <tr>\n",
              "      <th>0</th>\n",
              "      <td>i feel lots of crypto has exhausted itself</td>\n",
              "      <td>1.0</td>\n",
              "      <td>feel lot crypto exhausted</td>\n",
              "    </tr>\n",
              "    <tr>\n",
              "      <th>1</th>\n",
              "      <td>How are you guys feeling today ??? :Bear:  or ...</td>\n",
              "      <td>1.0</td>\n",
              "      <td>how guy feeling today bear bull</td>\n",
              "    </tr>\n",
              "    <tr>\n",
              "      <th>2</th>\n",
              "      <td>Did not take a trade today</td>\n",
              "      <td>1.0</td>\n",
              "      <td>did take trade today</td>\n",
              "    </tr>\n",
              "    <tr>\n",
              "      <th>3</th>\n",
              "      <td>Just entered eos long trade 👌</td>\n",
              "      <td>1.0</td>\n",
              "      <td>just entered eos long trade 👌</td>\n",
              "    </tr>\n",
              "    <tr>\n",
              "      <th>4</th>\n",
              "      <td>Anything good to buy now? Or did I miss it 😭</td>\n",
              "      <td>1.0</td>\n",
              "      <td>anything good buy or I miss 😭</td>\n",
              "    </tr>\n",
              "    <tr>\n",
              "      <th>5</th>\n",
              "      <td>GL trading tonight guys.  I'm off to eat dinne...</td>\n",
              "      <td>1.0</td>\n",
              "      <td>gl trading tonight guy i'm eat dinner 🙂 watch ...</td>\n",
              "    </tr>\n",
              "    <tr>\n",
              "      <th>6</th>\n",
              "      <td>Okay my long position is still open on eth</td>\n",
              "      <td>1.0</td>\n",
              "      <td>okay long position still open eth</td>\n",
              "    </tr>\n",
              "    <tr>\n",
              "      <th>7</th>\n",
              "      <td>morning guys any trades avaiable?</td>\n",
              "      <td>1.0</td>\n",
              "      <td>morning guy trade avaiable</td>\n",
              "    </tr>\n",
              "    <tr>\n",
              "      <th>8</th>\n",
              "      <td>What’s everybodies thoughts today?</td>\n",
              "      <td>1.0</td>\n",
              "      <td>what’s everybodies thought today</td>\n",
              "    </tr>\n",
              "    <tr>\n",
              "      <th>9</th>\n",
              "      <td>Are you guys more bullish or bearish for this ...</td>\n",
              "      <td>1.0</td>\n",
              "      <td>are guy bullish bearish week</td>\n",
              "    </tr>\n",
              "    <tr>\n",
              "      <th>10</th>\n",
              "      <td>I'm 100% up on the long</td>\n",
              "      <td>1.0</td>\n",
              "      <td>i'm long</td>\n",
              "    </tr>\n",
              "    <tr>\n",
              "      <th>11</th>\n",
              "      <td>I am up 17% on Solana</td>\n",
              "      <td>1.0</td>\n",
              "      <td>I solana</td>\n",
              "    </tr>\n",
              "    <tr>\n",
              "      <th>12</th>\n",
              "      <td>Good luck longing</td>\n",
              "      <td>1.0</td>\n",
              "      <td>good luck longing</td>\n",
              "    </tr>\n",
              "    <tr>\n",
              "      <th>13</th>\n",
              "      <td>Hey Guys. Please share trades you are going fo...</td>\n",
              "      <td>1.0</td>\n",
              "      <td>hey guys please share trade going</td>\n",
              "    </tr>\n",
              "    <tr>\n",
              "      <th>14</th>\n",
              "      <td>Hi everyone!  Does anybody have to on rune?</td>\n",
              "      <td>1.0</td>\n",
              "      <td>hi everyone does anybody rune</td>\n",
              "    </tr>\n",
              "    <tr>\n",
              "      <th>15</th>\n",
              "      <td>Hey guys, i need a favor, can anyone do a TA f...</td>\n",
              "      <td>1.0</td>\n",
              "      <td>hey guy need favor anyone ta atom</td>\n",
              "    </tr>\n",
              "    <tr>\n",
              "      <th>16</th>\n",
              "      <td>I'm still long  +43% AVAX +40% DOT +17% SOL .....</td>\n",
              "      <td>1.0</td>\n",
              "      <td>i'm still long avax dot sol I like way working...</td>\n",
              "    </tr>\n",
              "    <tr>\n",
              "      <th>17</th>\n",
              "      <td>Good morning from sunny South Africa. \\n\\nWhat...</td>\n",
              "      <td>1.0</td>\n",
              "      <td>good morning sunny south africa what trade hot...</td>\n",
              "    </tr>\n",
              "    <tr>\n",
              "      <th>18</th>\n",
              "      <td>Hi everyone are people in longs or shorts today ?</td>\n",
              "      <td>1.0</td>\n",
              "      <td>hi everyone people longs short today</td>\n",
              "    </tr>\n",
              "    <tr>\n",
              "      <th>19</th>\n",
              "      <td>Trading long and short at the same time messes...</td>\n",
              "      <td>1.0</td>\n",
              "      <td>trading long short time mess brain lol</td>\n",
              "    </tr>\n",
              "    <tr>\n",
              "      <th>20</th>\n",
              "      <td>Helloooo bullish or bearish today??</td>\n",
              "      <td>1.0</td>\n",
              "      <td>helloooo bullish bearish today</td>\n",
              "    </tr>\n",
              "    <tr>\n",
              "      <th>21</th>\n",
              "      <td>Hello</td>\n",
              "      <td>0.0</td>\n",
              "      <td>hello</td>\n",
              "    </tr>\n",
              "    <tr>\n",
              "      <th>22</th>\n",
              "      <td>So is everyone shorting eth</td>\n",
              "      <td>0.0</td>\n",
              "      <td>so everyone shorting eth</td>\n",
              "    </tr>\n",
              "    <tr>\n",
              "      <th>23</th>\n",
              "      <td>Markets a turd today</td>\n",
              "      <td>0.0</td>\n",
              "      <td>markets turd today</td>\n",
              "    </tr>\n",
              "    <tr>\n",
              "      <th>24</th>\n",
              "      <td>Yo yo!</td>\n",
              "      <td>0.0</td>\n",
              "      <td>yo yo</td>\n",
              "    </tr>\n",
              "    <tr>\n",
              "      <th>25</th>\n",
              "      <td>Hello banter fam .</td>\n",
              "      <td>0.0</td>\n",
              "      <td>hello banter fam</td>\n",
              "    </tr>\n",
              "    <tr>\n",
              "      <th>26</th>\n",
              "      <td>Hope you all are ready</td>\n",
              "      <td>0.0</td>\n",
              "      <td>hope ready</td>\n",
              "    </tr>\n",
              "    <tr>\n",
              "      <th>27</th>\n",
              "      <td>Good luck!</td>\n",
              "      <td>0.0</td>\n",
              "      <td>good luck</td>\n",
              "    </tr>\n",
              "    <tr>\n",
              "      <th>28</th>\n",
              "      <td>Good luck 🤞</td>\n",
              "      <td>0.0</td>\n",
              "      <td>good luck 🤞</td>\n",
              "    </tr>\n",
              "    <tr>\n",
              "      <th>29</th>\n",
              "      <td>i reckon we have a slow grind up and then dump</td>\n",
              "      <td>0.0</td>\n",
              "      <td>reckon slow grind dump</td>\n",
              "    </tr>\n",
              "  </tbody>\n",
              "</table>\n",
              "</div>\n",
              "    <div class=\"colab-df-buttons\">\n",
              "\n",
              "  <div class=\"colab-df-container\">\n",
              "    <button class=\"colab-df-convert\" onclick=\"convertToInteractive('df-272126f8-98f4-4bf3-aec9-d87962286757')\"\n",
              "            title=\"Convert this dataframe to an interactive table.\"\n",
              "            style=\"display:none;\">\n",
              "\n",
              "  <svg xmlns=\"http://www.w3.org/2000/svg\" height=\"24px\" viewBox=\"0 -960 960 960\">\n",
              "    <path d=\"M120-120v-720h720v720H120Zm60-500h600v-160H180v160Zm220 220h160v-160H400v160Zm0 220h160v-160H400v160ZM180-400h160v-160H180v160Zm440 0h160v-160H620v160ZM180-180h160v-160H180v160Zm440 0h160v-160H620v160Z\"/>\n",
              "  </svg>\n",
              "    </button>\n",
              "\n",
              "  <style>\n",
              "    .colab-df-container {\n",
              "      display:flex;\n",
              "      gap: 12px;\n",
              "    }\n",
              "\n",
              "    .colab-df-convert {\n",
              "      background-color: #E8F0FE;\n",
              "      border: none;\n",
              "      border-radius: 50%;\n",
              "      cursor: pointer;\n",
              "      display: none;\n",
              "      fill: #1967D2;\n",
              "      height: 32px;\n",
              "      padding: 0 0 0 0;\n",
              "      width: 32px;\n",
              "    }\n",
              "\n",
              "    .colab-df-convert:hover {\n",
              "      background-color: #E2EBFA;\n",
              "      box-shadow: 0px 1px 2px rgba(60, 64, 67, 0.3), 0px 1px 3px 1px rgba(60, 64, 67, 0.15);\n",
              "      fill: #174EA6;\n",
              "    }\n",
              "\n",
              "    .colab-df-buttons div {\n",
              "      margin-bottom: 4px;\n",
              "    }\n",
              "\n",
              "    [theme=dark] .colab-df-convert {\n",
              "      background-color: #3B4455;\n",
              "      fill: #D2E3FC;\n",
              "    }\n",
              "\n",
              "    [theme=dark] .colab-df-convert:hover {\n",
              "      background-color: #434B5C;\n",
              "      box-shadow: 0px 1px 3px 1px rgba(0, 0, 0, 0.15);\n",
              "      filter: drop-shadow(0px 1px 2px rgba(0, 0, 0, 0.3));\n",
              "      fill: #FFFFFF;\n",
              "    }\n",
              "  </style>\n",
              "\n",
              "    <script>\n",
              "      const buttonEl =\n",
              "        document.querySelector('#df-272126f8-98f4-4bf3-aec9-d87962286757 button.colab-df-convert');\n",
              "      buttonEl.style.display =\n",
              "        google.colab.kernel.accessAllowed ? 'block' : 'none';\n",
              "\n",
              "      async function convertToInteractive(key) {\n",
              "        const element = document.querySelector('#df-272126f8-98f4-4bf3-aec9-d87962286757');\n",
              "        const dataTable =\n",
              "          await google.colab.kernel.invokeFunction('convertToInteractive',\n",
              "                                                    [key], {});\n",
              "        if (!dataTable) return;\n",
              "\n",
              "        const docLinkHtml = 'Like what you see? Visit the ' +\n",
              "          '<a target=\"_blank\" href=https://colab.research.google.com/notebooks/data_table.ipynb>data table notebook</a>'\n",
              "          + ' to learn more about interactive tables.';\n",
              "        element.innerHTML = '';\n",
              "        dataTable['output_type'] = 'display_data';\n",
              "        await google.colab.output.renderOutput(dataTable, element);\n",
              "        const docLink = document.createElement('div');\n",
              "        docLink.innerHTML = docLinkHtml;\n",
              "        element.appendChild(docLink);\n",
              "      }\n",
              "    </script>\n",
              "  </div>\n",
              "\n",
              "\n",
              "<div id=\"df-50612c22-aaba-42df-b366-c595fe47d4d6\">\n",
              "  <button class=\"colab-df-quickchart\" onclick=\"quickchart('df-50612c22-aaba-42df-b366-c595fe47d4d6')\"\n",
              "            title=\"Suggest charts\"\n",
              "            style=\"display:none;\">\n",
              "\n",
              "<svg xmlns=\"http://www.w3.org/2000/svg\" height=\"24px\"viewBox=\"0 0 24 24\"\n",
              "     width=\"24px\">\n",
              "    <g>\n",
              "        <path d=\"M19 3H5c-1.1 0-2 .9-2 2v14c0 1.1.9 2 2 2h14c1.1 0 2-.9 2-2V5c0-1.1-.9-2-2-2zM9 17H7v-7h2v7zm4 0h-2V7h2v10zm4 0h-2v-4h2v4z\"/>\n",
              "    </g>\n",
              "</svg>\n",
              "  </button>\n",
              "\n",
              "<style>\n",
              "  .colab-df-quickchart {\n",
              "      --bg-color: #E8F0FE;\n",
              "      --fill-color: #1967D2;\n",
              "      --hover-bg-color: #E2EBFA;\n",
              "      --hover-fill-color: #174EA6;\n",
              "      --disabled-fill-color: #AAA;\n",
              "      --disabled-bg-color: #DDD;\n",
              "  }\n",
              "\n",
              "  [theme=dark] .colab-df-quickchart {\n",
              "      --bg-color: #3B4455;\n",
              "      --fill-color: #D2E3FC;\n",
              "      --hover-bg-color: #434B5C;\n",
              "      --hover-fill-color: #FFFFFF;\n",
              "      --disabled-bg-color: #3B4455;\n",
              "      --disabled-fill-color: #666;\n",
              "  }\n",
              "\n",
              "  .colab-df-quickchart {\n",
              "    background-color: var(--bg-color);\n",
              "    border: none;\n",
              "    border-radius: 50%;\n",
              "    cursor: pointer;\n",
              "    display: none;\n",
              "    fill: var(--fill-color);\n",
              "    height: 32px;\n",
              "    padding: 0;\n",
              "    width: 32px;\n",
              "  }\n",
              "\n",
              "  .colab-df-quickchart:hover {\n",
              "    background-color: var(--hover-bg-color);\n",
              "    box-shadow: 0 1px 2px rgba(60, 64, 67, 0.3), 0 1px 3px 1px rgba(60, 64, 67, 0.15);\n",
              "    fill: var(--button-hover-fill-color);\n",
              "  }\n",
              "\n",
              "  .colab-df-quickchart-complete:disabled,\n",
              "  .colab-df-quickchart-complete:disabled:hover {\n",
              "    background-color: var(--disabled-bg-color);\n",
              "    fill: var(--disabled-fill-color);\n",
              "    box-shadow: none;\n",
              "  }\n",
              "\n",
              "  .colab-df-spinner {\n",
              "    border: 2px solid var(--fill-color);\n",
              "    border-color: transparent;\n",
              "    border-bottom-color: var(--fill-color);\n",
              "    animation:\n",
              "      spin 1s steps(1) infinite;\n",
              "  }\n",
              "\n",
              "  @keyframes spin {\n",
              "    0% {\n",
              "      border-color: transparent;\n",
              "      border-bottom-color: var(--fill-color);\n",
              "      border-left-color: var(--fill-color);\n",
              "    }\n",
              "    20% {\n",
              "      border-color: transparent;\n",
              "      border-left-color: var(--fill-color);\n",
              "      border-top-color: var(--fill-color);\n",
              "    }\n",
              "    30% {\n",
              "      border-color: transparent;\n",
              "      border-left-color: var(--fill-color);\n",
              "      border-top-color: var(--fill-color);\n",
              "      border-right-color: var(--fill-color);\n",
              "    }\n",
              "    40% {\n",
              "      border-color: transparent;\n",
              "      border-right-color: var(--fill-color);\n",
              "      border-top-color: var(--fill-color);\n",
              "    }\n",
              "    60% {\n",
              "      border-color: transparent;\n",
              "      border-right-color: var(--fill-color);\n",
              "    }\n",
              "    80% {\n",
              "      border-color: transparent;\n",
              "      border-right-color: var(--fill-color);\n",
              "      border-bottom-color: var(--fill-color);\n",
              "    }\n",
              "    90% {\n",
              "      border-color: transparent;\n",
              "      border-bottom-color: var(--fill-color);\n",
              "    }\n",
              "  }\n",
              "</style>\n",
              "\n",
              "  <script>\n",
              "    async function quickchart(key) {\n",
              "      const quickchartButtonEl =\n",
              "        document.querySelector('#' + key + ' button');\n",
              "      quickchartButtonEl.disabled = true;  // To prevent multiple clicks.\n",
              "      quickchartButtonEl.classList.add('colab-df-spinner');\n",
              "      try {\n",
              "        const charts = await google.colab.kernel.invokeFunction(\n",
              "            'suggestCharts', [key], {});\n",
              "      } catch (error) {\n",
              "        console.error('Error during call to suggestCharts:', error);\n",
              "      }\n",
              "      quickchartButtonEl.classList.remove('colab-df-spinner');\n",
              "      quickchartButtonEl.classList.add('colab-df-quickchart-complete');\n",
              "    }\n",
              "    (() => {\n",
              "      let quickchartButtonEl =\n",
              "        document.querySelector('#df-50612c22-aaba-42df-b366-c595fe47d4d6 button');\n",
              "      quickchartButtonEl.style.display =\n",
              "        google.colab.kernel.accessAllowed ? 'block' : 'none';\n",
              "    })();\n",
              "  </script>\n",
              "</div>\n",
              "    </div>\n",
              "  </div>\n"
            ]
          },
          "metadata": {},
          "execution_count": 6
        }
      ]
    },
    {
      "cell_type": "markdown",
      "source": [
        "**how many entries were dropped after pre-processing**"
      ],
      "metadata": {
        "id": "GBgY4fKK2dDU"
      }
    },
    {
      "cell_type": "code",
      "source": [
        "## drop missing rows\n",
        "dropped_dataset=raw_data.dropna()\n",
        "dropped_dataset['Class'] = dropped_dataset['Class'].astype(int)\n",
        "print(\"Droped samples : \", len(raw_data) - len(dropped_dataset))"
      ],
      "metadata": {
        "colab": {
          "base_uri": "https://localhost:8080/"
        },
        "id": "p2rb3aACSdPF",
        "outputId": "b53cbe96-2502-41bc-cae3-5deec79696f5"
      },
      "execution_count": 7,
      "outputs": [
        {
          "output_type": "stream",
          "name": "stdout",
          "text": [
            "Droped samples :  513\n"
          ]
        }
      ]
    },
    {
      "cell_type": "markdown",
      "source": [
        "## Data Sampling (Undersampling)"
      ],
      "metadata": {
        "id": "wYDF1f8hQTR3"
      }
    },
    {
      "cell_type": "code",
      "source": [
        "class_1_data = dropped_dataset[dropped_dataset[\"Class\"] == 1]\n",
        "class_0_data = dropped_dataset[dropped_dataset[\"Class\"] == 0]\n",
        "\n",
        "print(\"Samples of Class 0 : \", len(class_0_data.index))\n",
        "print(\"Samples of Class 1 : \", len(class_1_data.index))"
      ],
      "metadata": {
        "colab": {
          "base_uri": "https://localhost:8080/"
        },
        "id": "hrriUkgAQUZf",
        "outputId": "b7b54639-e026-41af-8227-432289201eec"
      },
      "execution_count": 8,
      "outputs": [
        {
          "output_type": "stream",
          "name": "stdout",
          "text": [
            "Samples of Class 0 :  23099\n",
            "Samples of Class 1 :  5762\n"
          ]
        }
      ]
    },
    {
      "cell_type": "code",
      "source": [
        "balanced_dataset = pd.concat([class_1_data, class_0_data.sample(len(class_1_data.index))], ignore_index=True)\n",
        "print(\"Samples of Balanced Dataset : \", len(balanced_dataset.index))"
      ],
      "metadata": {
        "colab": {
          "base_uri": "https://localhost:8080/"
        },
        "id": "uBX3wkMmR6cX",
        "outputId": "daa02156-fd09-4976-c599-02f3f2be521f"
      },
      "execution_count": 9,
      "outputs": [
        {
          "output_type": "stream",
          "name": "stdout",
          "text": [
            "Samples of Balanced Dataset :  11524\n"
          ]
        }
      ]
    },
    {
      "cell_type": "markdown",
      "source": [
        "## Splitting into Train and Test"
      ],
      "metadata": {
        "id": "we5nKc5_TpMg"
      }
    },
    {
      "cell_type": "code",
      "source": [
        "X = balanced_dataset['cleaned_text']\n",
        "y = balanced_dataset['Class']\n",
        "\n",
        "X_train, X_test, y_train, y_test = train_test_split(X, y, test_size=0.1, random_state=0, shuffle=True)"
      ],
      "metadata": {
        "id": "bw0l489BTqFO"
      },
      "execution_count": 10,
      "outputs": []
    },
    {
      "cell_type": "markdown",
      "source": [
        "# **1. XGBoost Model**"
      ],
      "metadata": {
        "id": "PzQ8DfYuQhYl"
      }
    },
    {
      "cell_type": "code",
      "source": [
        "xgb_pipe = Pipeline([\n",
        " ('tvec', TfidfVectorizer()),\n",
        " ('xgb', xgb.XGBClassifier())\n",
        "])\n",
        "xgb_pipe.fit(X_train, y_train)\n",
        "xgb_parameters = {\n",
        "    'tvec__max_features':[1000, 2000],\n",
        "    'tvec__max_df': (0.2, 0.6, 1.0),\n",
        "    'tvec__min_df' : (1, 5, 10),\n",
        "    'tvec__ngram_range': [(1, 1), (1, 2)],\n",
        "    # 'tvec__norm' : (\"l1\", \"l2\"),\n",
        "    'xgb__max_depth': range (2, 10, 4),\n",
        "    'xgb__n_estimators': range(60, 220, 80),\n",
        "    'xgb__learning_rate': [0.1, 0.01, 0.05]\n",
        "}"
      ],
      "metadata": {
        "id": "5YPK7l19QiCL"
      },
      "execution_count": 11,
      "outputs": []
    },
    {
      "cell_type": "code",
      "source": [
        "# Setting up GridSearch for XGBoost\n",
        "startTime = time.time()\n",
        "xgb_gs = GridSearchCV(xgb_pipe, param_grid=xgb_parameters, cv = 3, verbose = 1, n_jobs = -1, scoring = 'roc_auc',)\n",
        "xgb_gs.fit(X_train, y_train)\n",
        "cpu_time = (time.time() - startTime)\n",
        "print(cpu_time)"
      ],
      "metadata": {
        "colab": {
          "base_uri": "https://localhost:8080/"
        },
        "id": "1Nyj7NzJRyAH",
        "outputId": "5eeb9787-534c-4d4e-8f0b-076682ee7dba"
      },
      "execution_count": 13,
      "outputs": [
        {
          "output_type": "stream",
          "name": "stdout",
          "text": [
            "Fitting 3 folds for each of 432 candidates, totalling 1296 fits\n",
            "1436.4490416049957\n"
          ]
        }
      ]
    },
    {
      "cell_type": "code",
      "source": [
        "xgb_gs.best_params_"
      ],
      "metadata": {
        "colab": {
          "base_uri": "https://localhost:8080/"
        },
        "id": "ygFDhftNVZRB",
        "outputId": "f0009bcb-5ffc-43ab-d656-d2f89391052a"
      },
      "execution_count": 14,
      "outputs": [
        {
          "output_type": "execute_result",
          "data": {
            "text/plain": [
              "{'tvec__max_df': 0.6,\n",
              " 'tvec__max_features': 2000,\n",
              " 'tvec__min_df': 1,\n",
              " 'tvec__ngram_range': (1, 1),\n",
              " 'xgb__learning_rate': 0.1,\n",
              " 'xgb__max_depth': 6,\n",
              " 'xgb__n_estimators': 140}"
            ]
          },
          "metadata": {},
          "execution_count": 14
        }
      ]
    },
    {
      "cell_type": "code",
      "source": [
        "xgb_gs.best_score_"
      ],
      "metadata": {
        "colab": {
          "base_uri": "https://localhost:8080/"
        },
        "id": "H--sMIimVbml",
        "outputId": "ea3ac535-1aac-4fdd-b426-1509cf9785d9"
      },
      "execution_count": 15,
      "outputs": [
        {
          "output_type": "execute_result",
          "data": {
            "text/plain": [
              "0.9809774641221654"
            ]
          },
          "metadata": {},
          "execution_count": 15
        }
      ]
    },
    {
      "cell_type": "code",
      "source": [
        "best_xgb = xgb_gs.best_estimator_"
      ],
      "metadata": {
        "id": "erMe3VLbVlGU"
      },
      "execution_count": 16,
      "outputs": []
    },
    {
      "cell_type": "code",
      "source": [
        "with open('{}.pkl'.format(\"best_xgb\"),'wb') as f:\n",
        "      pickle.dump(best_xgb,f)"
      ],
      "metadata": {
        "id": "Z62la-TRk6ap"
      },
      "execution_count": 17,
      "outputs": []
    },
    {
      "cell_type": "markdown",
      "source": [
        "# **2. SVM Classifier**"
      ],
      "metadata": {
        "id": "y40dVLChn7gE"
      }
    },
    {
      "cell_type": "code",
      "source": [
        "svc_pipe = Pipeline([\n",
        " ('tvec', TfidfVectorizer()),\n",
        " ('svc', svm.SVC(probability= True))\n",
        "])\n",
        "svc_pipe.fit(X_train, y_train)\n",
        "svc_parameters = {\n",
        "    'tvec__max_features':[1000, 2000],\n",
        "    'tvec__max_df': (0.2, 0.6, 1.0),\n",
        "    'tvec__min_df' : (1, 5, 10),\n",
        "    'tvec__ngram_range': [(1, 1), (1, 2)],\n",
        "    'svc__probability':[True],\n",
        "    'svc__C':[1,10,100], #[1,10,100,1000]\n",
        "    'svc__gamma':[1,0.1,0.01] #, [1,0.1,0.001,0.0001]\n",
        "    # 'svc__kernel':['linear','rbf']\n",
        "}"
      ],
      "metadata": {
        "id": "qZnnX3vPn8PA"
      },
      "execution_count": 27,
      "outputs": []
    },
    {
      "cell_type": "code",
      "source": [
        "# Setting up GridSearch for SVC\n",
        "startTime = time.time()\n",
        "svc_gs = GridSearchCV(svc_pipe, param_grid=svc_parameters, cv = 3, verbose = 1, n_jobs = -1, scoring = 'roc_auc')\n",
        "svc_gs.fit(X_train, y_train)\n",
        "cpu_time = (time.time() - startTime)\n",
        "print(cpu_time)"
      ],
      "metadata": {
        "colab": {
          "base_uri": "https://localhost:8080/"
        },
        "id": "DMf7LhxJoheg",
        "outputId": "fe0e3a76-25b5-4cd9-a7d9-5c52288e28fb"
      },
      "execution_count": 28,
      "outputs": [
        {
          "output_type": "stream",
          "name": "stdout",
          "text": [
            "Fitting 3 folds for each of 324 candidates, totalling 972 fits\n",
            "7209.628829240799\n"
          ]
        }
      ]
    },
    {
      "cell_type": "code",
      "source": [
        "svc_gs.best_params_"
      ],
      "metadata": {
        "colab": {
          "base_uri": "https://localhost:8080/"
        },
        "id": "NTYpXecoUYPf",
        "outputId": "92b0a534-a506-4a01-d734-2326828275be"
      },
      "execution_count": 29,
      "outputs": [
        {
          "output_type": "execute_result",
          "data": {
            "text/plain": [
              "{'svc__C': 1,\n",
              " 'svc__gamma': 1,\n",
              " 'svc__probability': True,\n",
              " 'tvec__max_df': 0.6,\n",
              " 'tvec__max_features': 2000,\n",
              " 'tvec__min_df': 1,\n",
              " 'tvec__ngram_range': (1, 2)}"
            ]
          },
          "metadata": {},
          "execution_count": 29
        }
      ]
    },
    {
      "cell_type": "code",
      "source": [
        "svc_gs.best_score_"
      ],
      "metadata": {
        "colab": {
          "base_uri": "https://localhost:8080/"
        },
        "id": "Wv_NnKh7Ubko",
        "outputId": "d1e76ce1-cffd-4d84-852f-6485a41fd3eb"
      },
      "execution_count": 30,
      "outputs": [
        {
          "output_type": "execute_result",
          "data": {
            "text/plain": [
              "0.9866187394224211"
            ]
          },
          "metadata": {},
          "execution_count": 30
        }
      ]
    },
    {
      "cell_type": "code",
      "source": [
        "best_svc = svc_gs.best_estimator_"
      ],
      "metadata": {
        "id": "3ofZVN9oql_z"
      },
      "execution_count": 31,
      "outputs": []
    },
    {
      "cell_type": "code",
      "source": [
        "with open('{}.pkl'.format(\"best_svc_prob\"),'wb') as f:\n",
        "      pickle.dump(best_svc,f)"
      ],
      "metadata": {
        "id": "Ae8I7yfxql_z"
      },
      "execution_count": 32,
      "outputs": []
    },
    {
      "cell_type": "code",
      "source": [
        "with open('/content/drive/My Drive/models/{}.pkl'.format(\"best_svc_prob\"),'wb') as f:\n",
        "      pickle.dump(best_svc,f)"
      ],
      "metadata": {
        "id": "IIgUnS_hYLVi"
      },
      "execution_count": 33,
      "outputs": []
    },
    {
      "cell_type": "markdown",
      "source": [
        "# **3. Random Forests**"
      ],
      "metadata": {
        "id": "Na3iJucOtZW-"
      }
    },
    {
      "cell_type": "code",
      "source": [
        "from sklearn.ensemble import RandomForestClassifier\n",
        "rf_pipe = Pipeline([\n",
        " ('tvec', TfidfVectorizer()),\n",
        " ('rf', RandomForestClassifier())\n",
        "])\n",
        "rf_pipe.fit(X_train, y_train)\n",
        "rf_parameters = {\n",
        "    'tvec__max_features':[1000, 2000],\n",
        "    'tvec__max_df': (0.2, 0.6, 1.0),\n",
        "    'tvec__min_df' : (1, 5, 10),\n",
        "    'tvec__ngram_range': [(1, 1), (1, 2)],\n",
        "    'rf__n_estimators': [200, 500],\n",
        "    'rf__max_features': ['auto', 'sqrt'],\n",
        "    'rf__max_depth' : [4,5,6]\n",
        "    # 'rf__criterion' :['gini', 'entropy']\n",
        "}"
      ],
      "metadata": {
        "id": "IwAOBFkjtZxI"
      },
      "execution_count": 24,
      "outputs": []
    },
    {
      "cell_type": "code",
      "source": [
        "# Setting up GridSearch for XGBoost\n",
        "startTime = time.time()\n",
        "rf_gs = GridSearchCV(rf_pipe, param_grid=rf_parameters, cv = 3, verbose = 1, n_jobs = -1, scoring = 'roc_auc',)\n",
        "rf_gs.fit(X_train, y_train)\n",
        "cpu_time = (time.time() - startTime)\n",
        "print(cpu_time)"
      ],
      "metadata": {
        "id": "IDWzd18CuNqD",
        "colab": {
          "base_uri": "https://localhost:8080/"
        },
        "outputId": "8304998f-d66c-4f4c-d1e2-4f40a68b9eca"
      },
      "execution_count": 25,
      "outputs": [
        {
          "output_type": "stream",
          "name": "stdout",
          "text": [
            "Fitting 3 folds for each of 432 candidates, totalling 1296 fits\n",
            "1416.313678264618\n"
          ]
        }
      ]
    },
    {
      "cell_type": "code",
      "source": [
        "rf_gs.best_params_"
      ],
      "metadata": {
        "id": "MZH2zcmEuHqJ",
        "colab": {
          "base_uri": "https://localhost:8080/"
        },
        "outputId": "31bba496-8752-46fc-8663-b3cd8a79d763"
      },
      "execution_count": 26,
      "outputs": [
        {
          "output_type": "execute_result",
          "data": {
            "text/plain": [
              "{'rf__max_depth': 6,\n",
              " 'rf__max_features': 'sqrt',\n",
              " 'rf__n_estimators': 500,\n",
              " 'tvec__max_df': 1.0,\n",
              " 'tvec__max_features': 2000,\n",
              " 'tvec__min_df': 1,\n",
              " 'tvec__ngram_range': (1, 1)}"
            ]
          },
          "metadata": {},
          "execution_count": 26
        }
      ]
    },
    {
      "cell_type": "code",
      "source": [
        "rf_gs.best_score_"
      ],
      "metadata": {
        "id": "BVUfRmSsuHqK",
        "colab": {
          "base_uri": "https://localhost:8080/"
        },
        "outputId": "7f5f8ef1-a191-4554-fda0-8006bb4677a6"
      },
      "execution_count": 27,
      "outputs": [
        {
          "output_type": "execute_result",
          "data": {
            "text/plain": [
              "0.9694649709215963"
            ]
          },
          "metadata": {},
          "execution_count": 27
        }
      ]
    },
    {
      "cell_type": "code",
      "source": [
        "best_rf = rf_gs.best_estimator_"
      ],
      "metadata": {
        "id": "FF5pByRiuHqK"
      },
      "execution_count": 28,
      "outputs": []
    },
    {
      "cell_type": "code",
      "source": [
        "with open('{}.pkl'.format(\"best_rf\"),'wb') as f:\n",
        "      pickle.dump(best_rf,f)"
      ],
      "metadata": {
        "id": "Iq8bUOoTuHqK"
      },
      "execution_count": 29,
      "outputs": []
    },
    {
      "cell_type": "code",
      "source": [
        "with open('/content/drive/My Drive/models/{}.pkl'.format(\"best_rf\"),'wb') as f:\n",
        "      pickle.dump(best_rf,f)"
      ],
      "metadata": {
        "id": "cAWgHSjTXx45"
      },
      "execution_count": 30,
      "outputs": []
    },
    {
      "cell_type": "markdown",
      "source": [
        "# **4. Non-linear SVM**"
      ],
      "metadata": {
        "id": "Yb0yQ_JsYfTG"
      }
    },
    {
      "cell_type": "code",
      "source": [
        "nusvc_pipe = Pipeline([\n",
        " ('tvec', TfidfVectorizer()),\n",
        " ('nusvc', svm.NuSVC(probability=True))\n",
        "])\n",
        "nusvc_pipe.fit(X_train, y_train)\n",
        "nusvc_parameters = {\n",
        "    'tvec__max_features':[1000, 2000],\n",
        "    'tvec__max_df': (0.2, 0.6, 1.0),\n",
        "    'tvec__min_df' : (1, 5, 10),\n",
        "    'tvec__ngram_range': [(1, 1), (1, 2)],\n",
        "    'nusvc__probability':[True],\n",
        "    'nusvc__nu':[0.5,1],\n",
        "    'nusvc__gamma':[1,0.1]\n",
        "}"
      ],
      "metadata": {
        "id": "GYPq2lTUmvAt"
      },
      "execution_count": 36,
      "outputs": []
    },
    {
      "cell_type": "code",
      "source": [
        "# Setting up GridSearch for XGBoost\n",
        "startTime = time.time()\n",
        "nusvc_gs = GridSearchCV(nusvc_pipe, param_grid=nusvc_parameters, cv = 3, verbose = 1, n_jobs = -1, scoring = 'roc_auc',)\n",
        "nusvc_gs.fit(X_train, y_train)\n",
        "cpu_time = (time.time() - startTime)\n",
        "print(cpu_time)"
      ],
      "metadata": {
        "colab": {
          "base_uri": "https://localhost:8080/"
        },
        "outputId": "208f6a4f-1a82-4cc0-c43e-f606da826de2",
        "id": "HVv5K7Snn3AU"
      },
      "execution_count": 37,
      "outputs": [
        {
          "output_type": "stream",
          "name": "stdout",
          "text": [
            "Fitting 3 folds for each of 144 candidates, totalling 432 fits\n",
            "2898.2522253990173\n"
          ]
        }
      ]
    },
    {
      "cell_type": "code",
      "source": [
        "nusvc_gs.best_params_"
      ],
      "metadata": {
        "colab": {
          "base_uri": "https://localhost:8080/"
        },
        "outputId": "5bd2ecf5-11e6-428c-f709-91bfdcb89173",
        "id": "CjF7tRMin3AV"
      },
      "execution_count": 38,
      "outputs": [
        {
          "data": {
            "text/plain": [
              "{'nusvc__gamma': 1,\n",
              " 'nusvc__nu': 0.5,\n",
              " 'nusvc__probability': True,\n",
              " 'tvec__max_df': 0.6,\n",
              " 'tvec__max_features': 2000,\n",
              " 'tvec__min_df': 1,\n",
              " 'tvec__ngram_range': (1, 2)}"
            ]
          },
          "execution_count": 38,
          "metadata": {},
          "output_type": "execute_result"
        }
      ]
    },
    {
      "cell_type": "code",
      "source": [
        "nusvc_gs.best_score_"
      ],
      "metadata": {
        "colab": {
          "base_uri": "https://localhost:8080/"
        },
        "outputId": "2faa7726-abaa-43a7-df64-fa77ffea4ebd",
        "id": "1z-fXOL4n3AV"
      },
      "execution_count": 39,
      "outputs": [
        {
          "output_type": "execute_result",
          "data": {
            "text/plain": [
              "0.9830312656611153"
            ]
          },
          "metadata": {},
          "execution_count": 39
        }
      ]
    },
    {
      "cell_type": "code",
      "source": [
        "best_nusvc = nusvc_gs.best_estimator_"
      ],
      "metadata": {
        "id": "JLlbU3eLn3AV"
      },
      "execution_count": 40,
      "outputs": []
    },
    {
      "cell_type": "code",
      "source": [
        "with open('{}.pkl'.format(\"best_nusvc\"),'wb') as f:\n",
        "      pickle.dump(best_nusvc,f)"
      ],
      "metadata": {
        "id": "3E6MdsRRn3AW"
      },
      "execution_count": 41,
      "outputs": []
    },
    {
      "cell_type": "code",
      "source": [
        "with open('/content/drive/My Drive/models/{}.pkl'.format(\"best_nusvc\"),'wb') as f:\n",
        "      pickle.dump(best_nusvc,f)"
      ],
      "metadata": {
        "id": "7O5obJ4pn3AW"
      },
      "execution_count": 42,
      "outputs": []
    },
    {
      "cell_type": "markdown",
      "source": [
        "# **5. MLPClassifier**"
      ],
      "metadata": {
        "id": "aaqEnXuXY8L_"
      }
    },
    {
      "cell_type": "code",
      "source": [
        "from sklearn.neural_network import MLPClassifier\n",
        "mlp_pipe = Pipeline([\n",
        " ('tvec', TfidfVectorizer()),\n",
        " ('mlp', MLPClassifier())\n",
        "])\n",
        "mlp_pipe.fit(X_train, y_train)\n",
        "mlp_parameters = {\n",
        "    'tvec__max_features':[1000, 2000],\n",
        "    'tvec__max_df': (0.2, 0.6, 1.0),\n",
        "    'tvec__min_df' : (1, 5, 10),\n",
        "    'tvec__ngram_range': [(1, 1), (1, 2)],\n",
        "    'mlp__max_iter': [1000,2000],\n",
        "    'mlp__hidden_layer_sizes':np.arange(10, 15)\n",
        "}"
      ],
      "metadata": {
        "id": "YwthJOttoiH0"
      },
      "execution_count": null,
      "outputs": []
    },
    {
      "cell_type": "code",
      "source": [
        "# Setting up GridSearch for XGBoost\n",
        "startTime = time.time()\n",
        "mlp_gs = GridSearchCV(mlp_pipe, param_grid=mlp_parameters, cv = 3, verbose = 1, n_jobs = -1, scoring = 'roc_auc',)\n",
        "mlp_gs.fit(X_train, y_train)\n",
        "cpu_time = (time.time() - startTime)\n",
        "print(cpu_time)"
      ],
      "metadata": {
        "colab": {
          "base_uri": "https://localhost:8080/"
        },
        "outputId": "e3823da7-1efb-4598-ae11-104b591ede99",
        "id": "N6YFSiz_oiH-"
      },
      "execution_count": null,
      "outputs": [
        {
          "output_type": "stream",
          "name": "stdout",
          "text": [
            "Fitting 3 folds for each of 360 candidates, totalling 1080 fits\n",
            "14770.592341184616\n"
          ]
        }
      ]
    },
    {
      "cell_type": "code",
      "source": [
        "mlp_gs.best_params_"
      ],
      "metadata": {
        "colab": {
          "base_uri": "https://localhost:8080/"
        },
        "outputId": "c3ea15f6-e025-437d-f340-a763e8ef908a",
        "id": "4eoSl07eoiH-"
      },
      "execution_count": null,
      "outputs": [
        {
          "output_type": "execute_result",
          "data": {
            "text/plain": [
              "{'mlp__hidden_layer_sizes': 13,\n",
              " 'mlp__max_iter': 1000,\n",
              " 'tvec__max_df': 0.6,\n",
              " 'tvec__max_features': 2000,\n",
              " 'tvec__min_df': 10,\n",
              " 'tvec__ngram_range': (1, 1)}"
            ]
          },
          "metadata": {},
          "execution_count": 18
        }
      ]
    },
    {
      "cell_type": "code",
      "source": [
        "mlp_gs.best_score_"
      ],
      "metadata": {
        "colab": {
          "base_uri": "https://localhost:8080/"
        },
        "outputId": "70157218-079e-48c1-83d3-537fb022931b",
        "id": "EaUXhIstoiH-"
      },
      "execution_count": null,
      "outputs": [
        {
          "output_type": "execute_result",
          "data": {
            "text/plain": [
              "0.9764208536752501"
            ]
          },
          "metadata": {},
          "execution_count": 19
        }
      ]
    },
    {
      "cell_type": "code",
      "source": [
        "best_mlp = mlp_gs.best_estimator_"
      ],
      "metadata": {
        "id": "ZGG33sqgoiH-"
      },
      "execution_count": null,
      "outputs": []
    },
    {
      "cell_type": "code",
      "source": [
        "with open('{}.pkl'.format(\"best_mlp\"),'wb') as f:\n",
        "      pickle.dump(best_mlp,f)"
      ],
      "metadata": {
        "id": "xfYBIvmqoiH-"
      },
      "execution_count": null,
      "outputs": []
    },
    {
      "cell_type": "code",
      "source": [
        "with open('/content/drive/My Drive/models/{}.pkl'.format(\"best_mlp\"),'wb') as f:\n",
        "      pickle.dump(best_mlp,f)"
      ],
      "metadata": {
        "id": "MVQiTitJoiH_"
      },
      "execution_count": null,
      "outputs": []
    },
    {
      "cell_type": "markdown",
      "source": [
        "# **6. Logistic Regression**"
      ],
      "metadata": {
        "id": "9YTStMldYMzD"
      }
    },
    {
      "cell_type": "code",
      "source": [
        "from sklearn.linear_model import LogisticRegression\n",
        "lr_pipe = Pipeline([\n",
        " ('tvec', TfidfVectorizer()),\n",
        " ('lr', LogisticRegression())\n",
        "])\n",
        "lr_pipe.fit(X_train, y_train)\n",
        "lr_parameters = {\n",
        "    'tvec__max_features':[1000, 2000],\n",
        "    'tvec__max_df': (0.2, 0.6, 1.0),\n",
        "    'tvec__min_df' : (1, 5, 10),\n",
        "    'tvec__ngram_range': [(1, 1), (1, 2)],\n",
        "    'lr__penalty': ['l1','l2'],\n",
        "    'lr__C': [0.001,0.01,0.1,1,10,100,1000]\n",
        "}"
      ],
      "metadata": {
        "id": "5273w_pvYNlL"
      },
      "execution_count": null,
      "outputs": []
    },
    {
      "cell_type": "code",
      "source": [
        "# Setting up GridSearch for XGBoost\n",
        "startTime = time.time()\n",
        "lr_gs = GridSearchCV(lr_pipe, param_grid=lr_parameters, cv = 3, verbose = 1, n_jobs = -1, scoring = 'roc_auc',)\n",
        "lr_gs.fit(X_train, y_train)\n",
        "cpu_time = (time.time() - startTime)\n",
        "print(cpu_time)"
      ],
      "metadata": {
        "colab": {
          "base_uri": "https://localhost:8080/"
        },
        "id": "mLXMM9FfY3-M",
        "outputId": "dea3b312-62b7-4c33-f1ad-bb32dcd9eb68"
      },
      "execution_count": null,
      "outputs": [
        {
          "output_type": "stream",
          "name": "stdout",
          "text": [
            "Fitting 3 folds for each of 504 candidates, totalling 1512 fits\n",
            "242.89740991592407\n"
          ]
        }
      ]
    },
    {
      "cell_type": "code",
      "source": [
        "lr_gs.best_params_"
      ],
      "metadata": {
        "colab": {
          "base_uri": "https://localhost:8080/"
        },
        "id": "uDVHyQPsYRar",
        "outputId": "e6a6ae14-09cb-494a-e58b-014ee0d07375"
      },
      "execution_count": null,
      "outputs": [
        {
          "output_type": "execute_result",
          "data": {
            "text/plain": [
              "{'lr__C': 10,\n",
              " 'lr__penalty': 'l2',\n",
              " 'tvec__max_df': 0.6,\n",
              " 'tvec__max_features': 2000,\n",
              " 'tvec__min_df': 1,\n",
              " 'tvec__ngram_range': (1, 2)}"
            ]
          },
          "metadata": {},
          "execution_count": 36
        }
      ]
    },
    {
      "cell_type": "code",
      "source": [
        "lr_gs.best_score_"
      ],
      "metadata": {
        "colab": {
          "base_uri": "https://localhost:8080/"
        },
        "id": "iNJdP-6OYRar",
        "outputId": "27868d05-4692-45c3-a706-887b840bb8e3"
      },
      "execution_count": null,
      "outputs": [
        {
          "output_type": "execute_result",
          "data": {
            "text/plain": [
              "0.9855399322272226"
            ]
          },
          "metadata": {},
          "execution_count": 37
        }
      ]
    },
    {
      "cell_type": "code",
      "source": [
        "best_lr = lr_gs.best_estimator_"
      ],
      "metadata": {
        "id": "XGqGs4_xYRas"
      },
      "execution_count": null,
      "outputs": []
    },
    {
      "cell_type": "code",
      "source": [
        "with open('{}.pkl'.format(\"best_lr\"),'wb') as f:\n",
        "      pickle.dump(best_lr,f)"
      ],
      "metadata": {
        "id": "XQ3d_KtaYRas"
      },
      "execution_count": null,
      "outputs": []
    },
    {
      "cell_type": "code",
      "source": [
        "with open('/content/drive/My Drive/models/{}.pkl'.format(\"best_lr\"),'wb') as f:\n",
        "      pickle.dump(best_lr,f)"
      ],
      "metadata": {
        "id": "6kXBRrcgYRas"
      },
      "execution_count": null,
      "outputs": []
    },
    {
      "cell_type": "markdown",
      "source": [
        "# **7. GradientBoosting**"
      ],
      "metadata": {
        "id": "z3e7ooFQ_fT4"
      }
    },
    {
      "cell_type": "code",
      "source": [
        "from sklearn.ensemble import GradientBoostingClassifier\n",
        "\n",
        "gb_pipe = Pipeline([\n",
        " ('tvec', TfidfVectorizer()),\n",
        " ('gb', GradientBoostingClassifier())\n",
        "])\n",
        "gb_pipe.fit(X_train, y_train)\n",
        "gb_parameters = {\n",
        "    'tvec__max_features':[1000, 2000],\n",
        "    'tvec__max_df': (0.2, 0.6, 1.0),\n",
        "    'tvec__min_df' : (1, 5, 10),\n",
        "    'tvec__ngram_range': [(1, 1), (1, 2)],\n",
        "    'gb__learning_rate': [0.01, 0.05, 0.1],\n",
        "    'gb__max_depth': [3,5,8]\n",
        "}"
      ],
      "metadata": {
        "id": "bInu5rbO_mRY"
      },
      "execution_count": 43,
      "outputs": []
    },
    {
      "cell_type": "code",
      "source": [
        "# Setting up GridSearch for XGBoost\n",
        "startTime = time.time()\n",
        "gb_gs = GridSearchCV(gb_pipe, param_grid=gb_parameters, cv = 3, verbose = 1, n_jobs = -1, scoring = 'roc_auc',)\n",
        "gb_gs.fit(X_train, y_train)\n",
        "cpu_time = (time.time() - startTime)\n",
        "print(cpu_time)"
      ],
      "metadata": {
        "colab": {
          "base_uri": "https://localhost:8080/"
        },
        "outputId": "f1baed52-75b8-49b5-ffaf-ce6a924f6272",
        "id": "3S9vHroB_mRm"
      },
      "execution_count": 44,
      "outputs": [
        {
          "output_type": "stream",
          "name": "stdout",
          "text": [
            "Fitting 3 folds for each of 324 candidates, totalling 972 fits\n",
            "2155.7844705581665\n"
          ]
        }
      ]
    },
    {
      "cell_type": "code",
      "source": [
        "gb_gs.best_params_"
      ],
      "metadata": {
        "colab": {
          "base_uri": "https://localhost:8080/"
        },
        "outputId": "098a1845-ce5f-46eb-f610-bf3ddce3479b",
        "id": "Y09Hyj2R_mRm"
      },
      "execution_count": 45,
      "outputs": [
        {
          "output_type": "execute_result",
          "data": {
            "text/plain": [
              "{'gb__learning_rate': 0.1,\n",
              " 'gb__max_depth': 8,\n",
              " 'tvec__max_df': 0.6,\n",
              " 'tvec__max_features': 1000,\n",
              " 'tvec__min_df': 5,\n",
              " 'tvec__ngram_range': (1, 1)}"
            ]
          },
          "metadata": {},
          "execution_count": 45
        }
      ]
    },
    {
      "cell_type": "code",
      "source": [
        "gb_gs.best_score_"
      ],
      "metadata": {
        "colab": {
          "base_uri": "https://localhost:8080/"
        },
        "outputId": "d98912ac-9e84-4d63-f1e9-3f96bce3f93e",
        "id": "xCyOBBp5_mRm"
      },
      "execution_count": 46,
      "outputs": [
        {
          "output_type": "execute_result",
          "data": {
            "text/plain": [
              "0.9789127279771517"
            ]
          },
          "metadata": {},
          "execution_count": 46
        }
      ]
    },
    {
      "cell_type": "code",
      "source": [
        "best_gb = gb_gs.best_estimator_"
      ],
      "metadata": {
        "id": "vufAiu1h_mRn"
      },
      "execution_count": 47,
      "outputs": []
    },
    {
      "cell_type": "code",
      "source": [
        "with open('{}.pkl'.format(\"best_gb\"),'wb') as f:\n",
        "      pickle.dump(best_gb,f)"
      ],
      "metadata": {
        "id": "eVES1obm_mRn"
      },
      "execution_count": 49,
      "outputs": []
    },
    {
      "cell_type": "code",
      "source": [
        "with open('/content/drive/My Drive/models/{}.pkl'.format(\"best_gb\"),'wb') as f:\n",
        "      pickle.dump(best_gb,f)"
      ],
      "metadata": {
        "id": "H5VXE67z_mRn"
      },
      "execution_count": 50,
      "outputs": []
    },
    {
      "cell_type": "markdown",
      "source": [
        "# **Load the XGBoost model**"
      ],
      "metadata": {
        "id": "debTZjH1fGo_"
      }
    },
    {
      "cell_type": "code",
      "source": [
        "with open('{}.pkl'.format('best_xgb'),'rb') as c_f:\n",
        "  best_xgb = pickle.load(c_f)"
      ],
      "metadata": {
        "id": "0ZePT4XEfJxP"
      },
      "execution_count": 11,
      "outputs": []
    },
    {
      "cell_type": "markdown",
      "source": [
        "# **Load the SVC model**"
      ],
      "metadata": {
        "id": "ji3GuKlnfnzI"
      }
    },
    {
      "cell_type": "code",
      "source": [
        "with open('{}.pkl'.format('best_svc'),'rb') as c_f:\n",
        "  best_svc = pickle.load(c_f)"
      ],
      "metadata": {
        "id": "QE4S5q1DfnzI"
      },
      "execution_count": 12,
      "outputs": []
    },
    {
      "cell_type": "markdown",
      "source": [
        "# **Load the Random Forests model**"
      ],
      "metadata": {
        "id": "NPmQIfzHl4H7"
      }
    },
    {
      "cell_type": "code",
      "source": [
        "with open('{}.pkl'.format('best_rf'),'rb') as c_f:\n",
        "  best_rf = pickle.load(c_f)"
      ],
      "metadata": {
        "id": "TnOl42gWl4ID"
      },
      "execution_count": 13,
      "outputs": []
    },
    {
      "cell_type": "markdown",
      "source": [
        "# **Load the MLP model**"
      ],
      "metadata": {
        "id": "2Zuc025PXPfr"
      }
    },
    {
      "cell_type": "code",
      "source": [
        "with open('{}.pkl'.format('best_mlp'),'rb') as c_f:\n",
        "  best_mlp = pickle.load(c_f)"
      ],
      "metadata": {
        "id": "aujuqa3mXRWb"
      },
      "execution_count": 14,
      "outputs": []
    },
    {
      "cell_type": "markdown",
      "source": [
        "# **Load the Non-linear SVM model**"
      ],
      "metadata": {
        "id": "7cdTDJ0m4Kfp"
      }
    },
    {
      "cell_type": "code",
      "source": [
        "with open('{}.pkl'.format('best_nusvc'),'rb') as c_f:\n",
        "  best_nusvc = pickle.load(c_f)"
      ],
      "metadata": {
        "id": "M5wRGM7j4Kfp"
      },
      "execution_count": 15,
      "outputs": []
    },
    {
      "cell_type": "markdown",
      "source": [
        "# **Load the Logistic Regression model**"
      ],
      "metadata": {
        "id": "-VrcDN6eBYFj"
      }
    },
    {
      "cell_type": "code",
      "source": [
        "with open('{}.pkl'.format('best_lr'),'rb') as c_f:\n",
        "  best_lr = pickle.load(c_f)"
      ],
      "metadata": {
        "id": "DFodTsvPBYFk"
      },
      "execution_count": 16,
      "outputs": []
    },
    {
      "cell_type": "markdown",
      "source": [
        "# **Load the GradientBoosting model**"
      ],
      "metadata": {
        "id": "eaPlW8YTBvql"
      }
    },
    {
      "cell_type": "code",
      "source": [
        "with open('{}.pkl'.format('best_gb'),'rb') as c_f:\n",
        "  best_gb = pickle.load(c_f)"
      ],
      "metadata": {
        "id": "oKg-PFRLBvql"
      },
      "execution_count": 17,
      "outputs": []
    },
    {
      "cell_type": "code",
      "source": [
        "def plot_roc_curve(models, X_test):\n",
        "  plt.figure(0).clf()\n",
        "  for model_name in models:\n",
        "    y_pred = models[model_name].predict_proba(X_test)[:, 1]\n",
        "    fpr, tpr, _ = roc_curve(y_test, y_pred)\n",
        "    auc = round(roc_auc_score(y_test, y_pred), 4)\n",
        "    plt.plot(fpr,tpr,label=\"{}, AUC={}\".format(model_name, round(auc, 4)))\n",
        "  plt.legend()"
      ],
      "metadata": {
        "id": "jieKeHpRIG_C"
      },
      "execution_count": 18,
      "outputs": []
    },
    {
      "cell_type": "code",
      "source": [
        "def plot_precision_recall_curve(models, X_test):\n",
        "  plt.figure(0).clf()\n",
        "\n",
        "  for model_name in models:\n",
        "    y_proba = models[model_name].predict_proba(X_test)[:, 1]\n",
        "    y_pred = models[model_name].predict(X_test)\n",
        "    lr_precision, lr_recall, _ = precision_recall_curve(y_test, y_proba)\n",
        "    lr_f1, lr_auc = f1_score(y_test, y_pred), auc(lr_recall, lr_precision)\n",
        "    plt.plot(lr_precision,lr_recall,label=\"{}, AUC={}\".format(model_name, round(lr_auc, 4)))\n",
        "  plt.legend()"
      ],
      "metadata": {
        "id": "zTqVECQ9IG_K"
      },
      "execution_count": 19,
      "outputs": []
    },
    {
      "cell_type": "code",
      "source": [
        "## build a function to evaluate classification model\n",
        "def model_evaluation(model, train, test, train_y, test_y):\n",
        "    pred_train = model.predict(train)\n",
        "    pred_test = model.predict(test)\n",
        "\n",
        "    print(classification_report(test_y, pred_test))\n",
        "    train_acc = accuracy_score(pred_train,train_y)\n",
        "    test_acc = accuracy_score(pred_test,test_y)\n",
        "\n",
        "    train_recall = recall_score(train_y,pred_train, average = 'weighted')\n",
        "    test_recall = recall_score(test_y,pred_test, average = 'weighted')\n",
        "\n",
        "    train_precision = precision_score(train_y,pred_train, average = 'weighted')\n",
        "    test_precision = precision_score(test_y,pred_test, average = 'weighted')\n",
        "\n",
        "    train_f1 = f1_score(train_y,pred_train, average = 'weighted')\n",
        "    test_f1 = f1_score(test_y,pred_test, average = 'weighted')\n",
        "\n",
        "    print(\"\\n\\t\\t  Train score  /  Test score\\n\")\n",
        "    print(f\"Accuracy  : {train_acc} / {test_acc}\")\n",
        "    print(f\"Recall    : {train_recall} / {test_recall}\")\n",
        "    print(f\"Precision : {train_precision} / {test_precision}\")\n",
        "    print(f\"F1 Score  : {train_f1} / {test_f1}\")\n",
        "\n",
        "    cm=confusion_matrix(test_y, pred_test)\n",
        "    FP = cm[0][1]\n",
        "    df_cm = pd.DataFrame(cm, index = [i for i in ['class:  0', 'class : 1']],\n",
        "                  columns = [i for i in ['class:  0', 'class : 1']])\n",
        "    group_counts = [\"{0:0.0f}\".format(value) for value in\n",
        "                cm.flatten()]\n",
        "    group_percentages = [\"{0:.2%}\".format(value) for value in cm.flatten()/np.sum(cm)]\n",
        "    labels = [f\"{v1}\\n{v2}\" for v1, v2 in zip(group_counts,group_percentages)]\n",
        "    labels = np.asarray(labels).reshape(2,2)\n",
        "    plt.figure(figsize = (8,4))\n",
        "    sns.heatmap(df_cm, annot=labels,fmt='')\n",
        "    plt.title(\"\\nConfusion Matrix\\n\", color='blue', fontsize = 16)\n",
        "    plt.ylabel('\\nActual\\n', color='blue')\n",
        "    plt.xlabel('\\nPredicted\\n', color = 'blue')\n",
        "    plt.show()\n",
        "    return [test_acc, test_recall, test_precision, test_f1], FP"
      ],
      "metadata": {
        "id": "7OlBxJFCVMgJ"
      },
      "execution_count": 20,
      "outputs": []
    },
    {
      "cell_type": "code",
      "source": [
        "models = {}\n",
        "models[\"XGBoost\"] = best_xgb\n",
        "models[\"SVM Classifier\"] = best_svc\n",
        "models[\"Random Forests\"] = best_rf\n",
        "models[\"Non-linear SVM\"] = best_nusvc\n",
        "models[\"MLPClassifier\"] = best_mlp\n",
        "models[\"Logistic Regression\"] = best_lr\n",
        "models[\"GradientBoosting\"] = best_gb\n"
      ],
      "metadata": {
        "id": "q5XJayX9fyCP"
      },
      "execution_count": 21,
      "outputs": []
    },
    {
      "cell_type": "markdown",
      "source": [
        "# **Plot ROC Curve**"
      ],
      "metadata": {
        "id": "1OAep-1EGmxK"
      }
    },
    {
      "cell_type": "code",
      "source": [
        "plot_roc_curve(models, X_test)"
      ],
      "metadata": {
        "colab": {
          "base_uri": "https://localhost:8080/",
          "height": 430
        },
        "id": "u-ZD2k0eGmxS",
        "outputId": "61c5b917-d7d4-41ea-a8df-ac92ed7a0566"
      },
      "execution_count": 22,
      "outputs": [
        {
          "output_type": "display_data",
          "data": {
            "text/plain": [
              "<Figure size 640x480 with 1 Axes>"
            ],
            "image/png": "[encoded data removed]"
          },
          "metadata": {}
        }
      ]
    },
    {
      "cell_type": "markdown",
      "source": [
        "# **Plot PR Curve**"
      ],
      "metadata": {
        "id": "QHhbUe2iGbQq"
      }
    },
    {
      "cell_type": "code",
      "source": [
        "plot_precision_recall_curve(models, X_test)"
      ],
      "metadata": {
        "id": "yKUi6qBDEGyF",
        "colab": {
          "base_uri": "https://localhost:8080/",
          "height": 430
        },
        "outputId": "7c7bfae3-c079-4d8c-cbc4-2ed584f80ace"
      },
      "execution_count": 23,
      "outputs": [
        {
          "output_type": "display_data",
          "data": {
            "text/plain": [
              "<Figure size 640x480 with 1 Axes>"
            ],
            "image/png": "[encoded data removed]"
          },
          "metadata": {}
        }
      ]
    },
    {
      "cell_type": "markdown",
      "source": [
        "# **Plot Model Evaluation**"
      ],
      "metadata": {
        "id": "z5SIlJw9Kv0I"
      }
    },
    {
      "cell_type": "code",
      "source": [
        "scores_data = {}\n",
        "FPs = {}"
      ],
      "metadata": {
        "id": "0K-6CICXDCSY"
      },
      "execution_count": 29,
      "outputs": []
    },
    {
      "cell_type": "code",
      "source": [
        "\n",
        "for model_name in models:\n",
        "  print('\\n\\t\\t\\t{}\\n'.format(model_name))\n",
        "  score, FP = model_evaluation(models[model_name], X_train, X_test, y_train, y_test)\n",
        "  scores_data[model_name] = score\n",
        "  FPs[model_name] = FP"
      ],
      "metadata": {
        "colab": {
          "base_uri": "https://localhost:8080/",
          "height": 1000
        },
        "id": "d7cp6WdTJsOh",
        "outputId": "95c0b404-35e8-44c9-e321-a09ce826dd7b"
      },
      "execution_count": 30,
      "outputs": [
        {
          "output_type": "stream",
          "name": "stdout",
          "text": [
            "\n",
            "\t\t\tXGBoost\n",
            "\n",
            "              precision    recall  f1-score   support\n",
            "\n",
            "           0       0.93      0.96      0.94       580\n",
            "           1       0.96      0.92      0.94       573\n",
            "\n",
            "    accuracy                           0.94      1153\n",
            "   macro avg       0.94      0.94      0.94      1153\n",
            "weighted avg       0.94      0.94      0.94      1153\n",
            "\n",
            "\n",
            "\t\t  Train score  /  Test score\n",
            "\n",
            "Accuracy  : 0.9529457140102208 / 0.9401561144839549\n",
            "Recall    : 0.9529457140102208 / 0.9401561144839549\n",
            "Precision : 0.9529951687610584 / 0.9407279582735991\n",
            "F1 Score  : 0.9529446036639033 / 0.940129629806425\n"
          ]
        },
        {
          "output_type": "display_data",
          "data": {
            "text/plain": [
              "<Figure size 800x400 with 2 Axes>"
            ],
            "image/png": "[encoded data removed]"
          },
          "metadata": {}
        },
        {
          "output_type": "stream",
          "name": "stdout",
          "text": [
            "\n",
            "\t\t\tSVM Classifier\n",
            "\n",
            "              precision    recall  f1-score   support\n",
            "\n",
            "           0       0.94      0.96      0.95       580\n",
            "           1       0.96      0.94      0.95       573\n",
            "\n",
            "    accuracy                           0.95      1153\n",
            "   macro avg       0.95      0.95      0.95      1153\n",
            "weighted avg       0.95      0.95      0.95      1153\n",
            "\n",
            "\n",
            "\t\t  Train score  /  Test score\n",
            "\n",
            "Accuracy  : 0.9750265162472278 / 0.9496964440589766\n",
            "Recall    : 0.9750265162472278 / 0.9496964440589766\n",
            "Precision : 0.9751104158613844 / 0.9498850657847648\n",
            "F1 Score  : 0.9750252985933192 / 0.9496878144152358\n"
          ]
        },
        {
          "output_type": "display_data",
          "data": {
            "text/plain": [
              "<Figure size 800x400 with 2 Axes>"
            ],
            "image/png": "[encoded data removed]"
          },
          "metadata": {}
        },
        {
          "output_type": "stream",
          "name": "stdout",
          "text": [
            "\n",
            "\t\t\tRandom Forests\n",
            "\n",
            "              precision    recall  f1-score   support\n",
            "\n",
            "           0       0.88      0.96      0.92       580\n",
            "           1       0.95      0.86      0.91       573\n",
            "\n",
            "    accuracy                           0.91      1153\n",
            "   macro avg       0.91      0.91      0.91      1153\n",
            "weighted avg       0.91      0.91      0.91      1153\n",
            "\n",
            "\n",
            "\t\t  Train score  /  Test score\n",
            "\n",
            "Accuracy  : 0.9191977629929612 / 0.9106678230702515\n",
            "Recall    : 0.9191977629929612 / 0.9106678230702515\n",
            "Precision : 0.9210977837624424 / 0.914122054435496\n",
            "F1 Score  : 0.919108517660799 / 0.9104535566694074\n"
          ]
        },
        {
          "output_type": "display_data",
          "data": {
            "text/plain": [
              "<Figure size 800x400 with 2 Axes>"
            ],
            "image/png": "[encoded data removed]"
          },
          "metadata": {}
        },
        {
          "output_type": "stream",
          "name": "stdout",
          "text": [
            "\n",
            "\t\t\tNon-linear SVM\n",
            "\n",
            "              precision    recall  f1-score   support\n",
            "\n",
            "           0       0.93      0.97      0.95       580\n",
            "           1       0.97      0.92      0.94       573\n",
            "\n",
            "    accuracy                           0.95      1153\n",
            "   macro avg       0.95      0.95      0.95      1153\n",
            "weighted avg       0.95      0.95      0.95      1153\n",
            "\n",
            "\n",
            "\t\t  Train score  /  Test score\n",
            "\n",
            "Accuracy  : 0.948510269019381 / 0.9462272333044233\n",
            "Recall    : 0.948510269019381 / 0.9462272333044233\n",
            "Precision : 0.9488383589333 / 0.9469887321583931\n",
            "F1 Score  : 0.948501353832299 / 0.9461971177572424\n"
          ]
        },
        {
          "output_type": "display_data",
          "data": {
            "text/plain": [
              "<Figure size 800x400 with 2 Axes>"
            ],
            "image/png": "[encoded data removed]"
          },
          "metadata": {}
        },
        {
          "output_type": "stream",
          "name": "stdout",
          "text": [
            "\n",
            "\t\t\tMLPClassifier\n",
            "\n",
            "              precision    recall  f1-score   support\n",
            "\n",
            "           0       0.93      0.95      0.94       580\n",
            "           1       0.94      0.92      0.93       573\n",
            "\n",
            "    accuracy                           0.93      1153\n",
            "   macro avg       0.94      0.93      0.93      1153\n",
            "weighted avg       0.94      0.93      0.93      1153\n",
            "\n",
            "\n",
            "\t\t  Train score  /  Test score\n",
            "\n",
            "Accuracy  : 0.9748336708128436 / 0.9349522983521249\n",
            "Recall    : 0.9748336708128436 / 0.9349522983521249\n",
            "Precision : 0.9754252107801076 / 0.9351647389326974\n",
            "F1 Score  : 0.9748255325992569 / 0.9349395727780855\n"
          ]
        },
        {
          "output_type": "display_data",
          "data": {
            "text/plain": [
              "<Figure size 800x400 with 2 Axes>"
            ],
            "image/png": "[encoded data removed]"
          },
          "metadata": {}
        },
        {
          "output_type": "stream",
          "name": "stdout",
          "text": [
            "\n",
            "\t\t\tLogistic Regression\n",
            "\n",
            "              precision    recall  f1-score   support\n",
            "\n",
            "           0       0.94      0.96      0.95       580\n",
            "           1       0.96      0.94      0.95       573\n",
            "\n",
            "    accuracy                           0.95      1153\n",
            "   macro avg       0.95      0.95      0.95      1153\n",
            "weighted avg       0.95      0.95      0.95      1153\n",
            "\n",
            "\n",
            "\t\t  Train score  /  Test score\n",
            "\n",
            "Accuracy  : 0.9684697714781603 / 0.9505637467476149\n",
            "Recall    : 0.9684697714781603 / 0.9505637467476149\n",
            "Precision : 0.9686074504147629 / 0.9507221576610381\n",
            "F1 Score  : 0.9684672666132819 / 0.9505563819980737\n"
          ]
        },
        {
          "output_type": "display_data",
          "data": {
            "text/plain": [
              "<Figure size 800x400 with 2 Axes>"
            ],
            "image/png": "[encoded data removed]"
          },
          "metadata": {}
        },
        {
          "output_type": "stream",
          "name": "stdout",
          "text": [
            "\n",
            "\t\t\tGradientBoosting\n",
            "\n",
            "              precision    recall  f1-score   support\n",
            "\n",
            "           0       0.93      0.96      0.94       580\n",
            "           1       0.95      0.92      0.94       573\n",
            "\n",
            "    accuracy                           0.94      1153\n",
            "   macro avg       0.94      0.94      0.94      1153\n",
            "weighted avg       0.94      0.94      0.94      1153\n",
            "\n",
            "\n",
            "\t\t  Train score  /  Test score\n",
            "\n",
            "Accuracy  : 0.9622987175778613 / 0.9392888117953165\n",
            "Recall    : 0.9622987175778613 / 0.9392888117953165\n",
            "Precision : 0.9623036028897707 / 0.9398055861821272\n",
            "F1 Score  : 0.9622985745642599 / 0.9392641376513311\n"
          ]
        },
        {
          "output_type": "display_data",
          "data": {
            "text/plain": [
              "<Figure size 800x400 with 2 Axes>"
            ],
            "image/png": "[encoded data removed]"
          },
          "metadata": {}
        }
      ]
    },
    {
      "cell_type": "code",
      "source": [
        "score_df = pd.DataFrame(scores_data).T\n",
        "score_df.columns = ['accuracy', 'recall', 'precision', 'f1-score']\n",
        "score_df"
      ],
      "metadata": {
        "colab": {
          "base_uri": "https://localhost:8080/",
          "height": 269
        },
        "id": "pqGtrWDuDeYo",
        "outputId": "2b8bef63-e1a9-4f0f-c759-3c787af2c8a9"
      },
      "execution_count": 31,
      "outputs": [
        {
          "output_type": "execute_result",
          "data": {
            "text/plain": [
              "                     accuracy    recall  precision  f1-score\n",
              "XGBoost              0.940156  0.940156   0.940728  0.940130\n",
              "SVM Classifier       0.949696  0.949696   0.949885  0.949688\n",
              "Random Forests       0.910668  0.910668   0.914122  0.910454\n",
              "Non-linear SVM       0.946227  0.946227   0.946989  0.946197\n",
              "MLPClassifier        0.934952  0.934952   0.935165  0.934940\n",
              "Logistic Regression  0.950564  0.950564   0.950722  0.950556\n",
              "GradientBoosting     0.939289  0.939289   0.939806  0.939264"
            ],
            "text/html": [
              "\n",
              "  <div id=\"df-bb510201-302c-4f34-bc1a-0418beb6cd79\" class=\"colab-df-container\">\n",
              "    <div>\n",
              "<style scoped>\n",
              "    .dataframe tbody tr th:only-of-type {\n",
              "        vertical-align: middle;\n",
              "    }\n",
              "\n",
              "    .dataframe tbody tr th {\n",
              "        vertical-align: top;\n",
              "    }\n",
              "\n",
              "    .dataframe thead th {\n",
              "        text-align: right;\n",
              "    }\n",
              "</style>\n",
              "<table border=\"1\" class=\"dataframe\">\n",
              "  <thead>\n",
              "    <tr style=\"text-align: right;\">\n",
              "      <th></th>\n",
              "      <th>accuracy</th>\n",
              "      <th>recall</th>\n",
              "      <th>precision</th>\n",
              "      <th>f1-score</th>\n",
              "    </tr>\n",
              "  </thead>\n",
              "  <tbody>\n",
              "    <tr>\n",
              "      <th>XGBoost</th>\n",
              "      <td>0.940156</td>\n",
              "      <td>0.940156</td>\n",
              "      <td>0.940728</td>\n",
              "      <td>0.940130</td>\n",
              "    </tr>\n",
              "    <tr>\n",
              "      <th>SVM Classifier</th>\n",
              "      <td>0.949696</td>\n",
              "      <td>0.949696</td>\n",
              "      <td>0.949885</td>\n",
              "      <td>0.949688</td>\n",
              "    </tr>\n",
              "    <tr>\n",
              "      <th>Random Forests</th>\n",
              "      <td>0.910668</td>\n",
              "      <td>0.910668</td>\n",
              "      <td>0.914122</td>\n",
              "      <td>0.910454</td>\n",
              "    </tr>\n",
              "    <tr>\n",
              "      <th>Non-linear SVM</th>\n",
              "      <td>0.946227</td>\n",
              "      <td>0.946227</td>\n",
              "      <td>0.946989</td>\n",
              "      <td>0.946197</td>\n",
              "    </tr>\n",
              "    <tr>\n",
              "      <th>MLPClassifier</th>\n",
              "      <td>0.934952</td>\n",
              "      <td>0.934952</td>\n",
              "      <td>0.935165</td>\n",
              "      <td>0.934940</td>\n",
              "    </tr>\n",
              "    <tr>\n",
              "      <th>Logistic Regression</th>\n",
              "      <td>0.950564</td>\n",
              "      <td>0.950564</td>\n",
              "      <td>0.950722</td>\n",
              "      <td>0.950556</td>\n",
              "    </tr>\n",
              "    <tr>\n",
              "      <th>GradientBoosting</th>\n",
              "      <td>0.939289</td>\n",
              "      <td>0.939289</td>\n",
              "      <td>0.939806</td>\n",
              "      <td>0.939264</td>\n",
              "    </tr>\n",
              "  </tbody>\n",
              "</table>\n",
              "</div>\n",
              "    <div class=\"colab-df-buttons\">\n",
              "\n",
              "  <div class=\"colab-df-container\">\n",
              "    <button class=\"colab-df-convert\" onclick=\"convertToInteractive('df-bb510201-302c-4f34-bc1a-0418beb6cd79')\"\n",
              "            title=\"Convert this dataframe to an interactive table.\"\n",
              "            style=\"display:none;\">\n",
              "\n",
              "  <svg xmlns=\"http://www.w3.org/2000/svg\" height=\"24px\" viewBox=\"0 -960 960 960\">\n",
              "    <path d=\"M120-120v-720h720v720H120Zm60-500h600v-160H180v160Zm220 220h160v-160H400v160Zm0 220h160v-160H400v160ZM180-400h160v-160H180v160Zm440 0h160v-160H620v160ZM180-180h160v-160H180v160Zm440 0h160v-160H620v160Z\"/>\n",
              "  </svg>\n",
              "    </button>\n",
              "\n",
              "  <style>\n",
              "    .colab-df-container {\n",
              "      display:flex;\n",
              "      gap: 12px;\n",
              "    }\n",
              "\n",
              "    .colab-df-convert {\n",
              "      background-color: #E8F0FE;\n",
              "      border: none;\n",
              "      border-radius: 50%;\n",
              "      cursor: pointer;\n",
              "      display: none;\n",
              "      fill: #1967D2;\n",
              "      height: 32px;\n",
              "      padding: 0 0 0 0;\n",
              "      width: 32px;\n",
              "    }\n",
              "\n",
              "    .colab-df-convert:hover {\n",
              "      background-color: #E2EBFA;\n",
              "      box-shadow: 0px 1px 2px rgba(60, 64, 67, 0.3), 0px 1px 3px 1px rgba(60, 64, 67, 0.15);\n",
              "      fill: #174EA6;\n",
              "    }\n",
              "\n",
              "    .colab-df-buttons div {\n",
              "      margin-bottom: 4px;\n",
              "    }\n",
              "\n",
              "    [theme=dark] .colab-df-convert {\n",
              "      background-color: #3B4455;\n",
              "      fill: #D2E3FC;\n",
              "    }\n",
              "\n",
              "    [theme=dark] .colab-df-convert:hover {\n",
              "      background-color: #434B5C;\n",
              "      box-shadow: 0px 1px 3px 1px rgba(0, 0, 0, 0.15);\n",
              "      filter: drop-shadow(0px 1px 2px rgba(0, 0, 0, 0.3));\n",
              "      fill: #FFFFFF;\n",
              "    }\n",
              "  </style>\n",
              "\n",
              "    <script>\n",
              "      const buttonEl =\n",
              "        document.querySelector('#df-bb510201-302c-4f34-bc1a-0418beb6cd79 button.colab-df-convert');\n",
              "      buttonEl.style.display =\n",
              "        google.colab.kernel.accessAllowed ? 'block' : 'none';\n",
              "\n",
              "      async function convertToInteractive(key) {\n",
              "        const element = document.querySelector('#df-bb510201-302c-4f34-bc1a-0418beb6cd79');\n",
              "        const dataTable =\n",
              "          await google.colab.kernel.invokeFunction('convertToInteractive',\n",
              "                                                    [key], {});\n",
              "        if (!dataTable) return;\n",
              "\n",
              "        const docLinkHtml = 'Like what you see? Visit the ' +\n",
              "          '<a target=\"_blank\" href=https://colab.research.google.com/notebooks/data_table.ipynb>data table notebook</a>'\n",
              "          + ' to learn more about interactive tables.';\n",
              "        element.innerHTML = '';\n",
              "        dataTable['output_type'] = 'display_data';\n",
              "        await google.colab.output.renderOutput(dataTable, element);\n",
              "        const docLink = document.createElement('div');\n",
              "        docLink.innerHTML = docLinkHtml;\n",
              "        element.appendChild(docLink);\n",
              "      }\n",
              "    </script>\n",
              "  </div>\n",
              "\n",
              "\n",
              "<div id=\"df-07c1e2bb-9ad3-437f-908b-fa5abf2d4ca6\">\n",
              "  <button class=\"colab-df-quickchart\" onclick=\"quickchart('df-07c1e2bb-9ad3-437f-908b-fa5abf2d4ca6')\"\n",
              "            title=\"Suggest charts\"\n",
              "            style=\"display:none;\">\n",
              "\n",
              "<svg xmlns=\"http://www.w3.org/2000/svg\" height=\"24px\"viewBox=\"0 0 24 24\"\n",
              "     width=\"24px\">\n",
              "    <g>\n",
              "        <path d=\"M19 3H5c-1.1 0-2 .9-2 2v14c0 1.1.9 2 2 2h14c1.1 0 2-.9 2-2V5c0-1.1-.9-2-2-2zM9 17H7v-7h2v7zm4 0h-2V7h2v10zm4 0h-2v-4h2v4z\"/>\n",
              "    </g>\n",
              "</svg>\n",
              "  </button>\n",
              "\n",
              "<style>\n",
              "  .colab-df-quickchart {\n",
              "      --bg-color: #E8F0FE;\n",
              "      --fill-color: #1967D2;\n",
              "      --hover-bg-color: #E2EBFA;\n",
              "      --hover-fill-color: #174EA6;\n",
              "      --disabled-fill-color: #AAA;\n",
              "      --disabled-bg-color: #DDD;\n",
              "  }\n",
              "\n",
              "  [theme=dark] .colab-df-quickchart {\n",
              "      --bg-color: #3B4455;\n",
              "      --fill-color: #D2E3FC;\n",
              "      --hover-bg-color: #434B5C;\n",
              "      --hover-fill-color: #FFFFFF;\n",
              "      --disabled-bg-color: #3B4455;\n",
              "      --disabled-fill-color: #666;\n",
              "  }\n",
              "\n",
              "  .colab-df-quickchart {\n",
              "    background-color: var(--bg-color);\n",
              "    border: none;\n",
              "    border-radius: 50%;\n",
              "    cursor: pointer;\n",
              "    display: none;\n",
              "    fill: var(--fill-color);\n",
              "    height: 32px;\n",
              "    padding: 0;\n",
              "    width: 32px;\n",
              "  }\n",
              "\n",
              "  .colab-df-quickchart:hover {\n",
              "    background-color: var(--hover-bg-color);\n",
              "    box-shadow: 0 1px 2px rgba(60, 64, 67, 0.3), 0 1px 3px 1px rgba(60, 64, 67, 0.15);\n",
              "    fill: var(--button-hover-fill-color);\n",
              "  }\n",
              "\n",
              "  .colab-df-quickchart-complete:disabled,\n",
              "  .colab-df-quickchart-complete:disabled:hover {\n",
              "    background-color: var(--disabled-bg-color);\n",
              "    fill: var(--disabled-fill-color);\n",
              "    box-shadow: none;\n",
              "  }\n",
              "\n",
              "  .colab-df-spinner {\n",
              "    border: 2px solid var(--fill-color);\n",
              "    border-color: transparent;\n",
              "    border-bottom-color: var(--fill-color);\n",
              "    animation:\n",
              "      spin 1s steps(1) infinite;\n",
              "  }\n",
              "\n",
              "  @keyframes spin {\n",
              "    0% {\n",
              "      border-color: transparent;\n",
              "      border-bottom-color: var(--fill-color);\n",
              "      border-left-color: var(--fill-color);\n",
              "    }\n",
              "    20% {\n",
              "      border-color: transparent;\n",
              "      border-left-color: var(--fill-color);\n",
              "      border-top-color: var(--fill-color);\n",
              "    }\n",
              "    30% {\n",
              "      border-color: transparent;\n",
              "      border-left-color: var(--fill-color);\n",
              "      border-top-color: var(--fill-color);\n",
              "      border-right-color: var(--fill-color);\n",
              "    }\n",
              "    40% {\n",
              "      border-color: transparent;\n",
              "      border-right-color: var(--fill-color);\n",
              "      border-top-color: var(--fill-color);\n",
              "    }\n",
              "    60% {\n",
              "      border-color: transparent;\n",
              "      border-right-color: var(--fill-color);\n",
              "    }\n",
              "    80% {\n",
              "      border-color: transparent;\n",
              "      border-right-color: var(--fill-color);\n",
              "      border-bottom-color: var(--fill-color);\n",
              "    }\n",
              "    90% {\n",
              "      border-color: transparent;\n",
              "      border-bottom-color: var(--fill-color);\n",
              "    }\n",
              "  }\n",
              "</style>\n",
              "\n",
              "  <script>\n",
              "    async function quickchart(key) {\n",
              "      const quickchartButtonEl =\n",
              "        document.querySelector('#' + key + ' button');\n",
              "      quickchartButtonEl.disabled = true;  // To prevent multiple clicks.\n",
              "      quickchartButtonEl.classList.add('colab-df-spinner');\n",
              "      try {\n",
              "        const charts = await google.colab.kernel.invokeFunction(\n",
              "            'suggestCharts', [key], {});\n",
              "      } catch (error) {\n",
              "        console.error('Error during call to suggestCharts:', error);\n",
              "      }\n",
              "      quickchartButtonEl.classList.remove('colab-df-spinner');\n",
              "      quickchartButtonEl.classList.add('colab-df-quickchart-complete');\n",
              "    }\n",
              "    (() => {\n",
              "      let quickchartButtonEl =\n",
              "        document.querySelector('#df-07c1e2bb-9ad3-437f-908b-fa5abf2d4ca6 button');\n",
              "      quickchartButtonEl.style.display =\n",
              "        google.colab.kernel.accessAllowed ? 'block' : 'none';\n",
              "    })();\n",
              "  </script>\n",
              "</div>\n",
              "    </div>\n",
              "  </div>\n"
            ]
          },
          "metadata": {},
          "execution_count": 31
        }
      ]
    },
    {
      "cell_type": "code",
      "source": [
        "FP_df = pd.DataFrame.from_dict(FPs, orient='index', columns = [\"FP\"])\n",
        "FP_df"
      ],
      "metadata": {
        "colab": {
          "base_uri": "https://localhost:8080/",
          "height": 269
        },
        "id": "uqyB7wWXDtyf",
        "outputId": "c80b50e4-e4a0-4a71-c1e3-0f5f75161414"
      },
      "execution_count": 32,
      "outputs": [
        {
          "output_type": "execute_result",
          "data": {
            "text/plain": [
              "                     FP\n",
              "XGBoost              24\n",
              "SVM Classifier       23\n",
              "Random Forests       25\n",
              "Non-linear SVM       19\n",
              "MLPClassifier        31\n",
              "Logistic Regression  23\n",
              "GradientBoosting     25"
            ],
            "text/html": [
              "\n",
              "  <div id=\"df-cc808461-f283-4282-bb92-67d3e44f8453\" class=\"colab-df-container\">\n",
              "    <div>\n",
              "<style scoped>\n",
              "    .dataframe tbody tr th:only-of-type {\n",
              "        vertical-align: middle;\n",
              "    }\n",
              "\n",
              "    .dataframe tbody tr th {\n",
              "        vertical-align: top;\n",
              "    }\n",
              "\n",
              "    .dataframe thead th {\n",
              "        text-align: right;\n",
              "    }\n",
              "</style>\n",
              "<table border=\"1\" class=\"dataframe\">\n",
              "  <thead>\n",
              "    <tr style=\"text-align: right;\">\n",
              "      <th></th>\n",
              "      <th>FP</th>\n",
              "    </tr>\n",
              "  </thead>\n",
              "  <tbody>\n",
              "    <tr>\n",
              "      <th>XGBoost</th>\n",
              "      <td>24</td>\n",
              "    </tr>\n",
              "    <tr>\n",
              "      <th>SVM Classifier</th>\n",
              "      <td>23</td>\n",
              "    </tr>\n",
              "    <tr>\n",
              "      <th>Random Forests</th>\n",
              "      <td>25</td>\n",
              "    </tr>\n",
              "    <tr>\n",
              "      <th>Non-linear SVM</th>\n",
              "      <td>19</td>\n",
              "    </tr>\n",
              "    <tr>\n",
              "      <th>MLPClassifier</th>\n",
              "      <td>31</td>\n",
              "    </tr>\n",
              "    <tr>\n",
              "      <th>Logistic Regression</th>\n",
              "      <td>23</td>\n",
              "    </tr>\n",
              "    <tr>\n",
              "      <th>GradientBoosting</th>\n",
              "      <td>25</td>\n",
              "    </tr>\n",
              "  </tbody>\n",
              "</table>\n",
              "</div>\n",
              "    <div class=\"colab-df-buttons\">\n",
              "\n",
              "  <div class=\"colab-df-container\">\n",
              "    <button class=\"colab-df-convert\" onclick=\"convertToInteractive('df-cc808461-f283-4282-bb92-67d3e44f8453')\"\n",
              "            title=\"Convert this dataframe to an interactive table.\"\n",
              "            style=\"display:none;\">\n",
              "\n",
              "  <svg xmlns=\"http://www.w3.org/2000/svg\" height=\"24px\" viewBox=\"0 -960 960 960\">\n",
              "    <path d=\"M120-120v-720h720v720H120Zm60-500h600v-160H180v160Zm220 220h160v-160H400v160Zm0 220h160v-160H400v160ZM180-400h160v-160H180v160Zm440 0h160v-160H620v160ZM180-180h160v-160H180v160Zm440 0h160v-160H620v160Z\"/>\n",
              "  </svg>\n",
              "    </button>\n",
              "\n",
              "  <style>\n",
              "    .colab-df-container {\n",
              "      display:flex;\n",
              "      gap: 12px;\n",
              "    }\n",
              "\n",
              "    .colab-df-convert {\n",
              "      background-color: #E8F0FE;\n",
              "      border: none;\n",
              "      border-radius: 50%;\n",
              "      cursor: pointer;\n",
              "      display: none;\n",
              "      fill: #1967D2;\n",
              "      height: 32px;\n",
              "      padding: 0 0 0 0;\n",
              "      width: 32px;\n",
              "    }\n",
              "\n",
              "    .colab-df-convert:hover {\n",
              "      background-color: #E2EBFA;\n",
              "      box-shadow: 0px 1px 2px rgba(60, 64, 67, 0.3), 0px 1px 3px 1px rgba(60, 64, 67, 0.15);\n",
              "      fill: #174EA6;\n",
              "    }\n",
              "\n",
              "    .colab-df-buttons div {\n",
              "      margin-bottom: 4px;\n",
              "    }\n",
              "\n",
              "    [theme=dark] .colab-df-convert {\n",
              "      background-color: #3B4455;\n",
              "      fill: #D2E3FC;\n",
              "    }\n",
              "\n",
              "    [theme=dark] .colab-df-convert:hover {\n",
              "      background-color: #434B5C;\n",
              "      box-shadow: 0px 1px 3px 1px rgba(0, 0, 0, 0.15);\n",
              "      filter: drop-shadow(0px 1px 2px rgba(0, 0, 0, 0.3));\n",
              "      fill: #FFFFFF;\n",
              "    }\n",
              "  </style>\n",
              "\n",
              "    <script>\n",
              "      const buttonEl =\n",
              "        document.querySelector('#df-cc808461-f283-4282-bb92-67d3e44f8453 button.colab-df-convert');\n",
              "      buttonEl.style.display =\n",
              "        google.colab.kernel.accessAllowed ? 'block' : 'none';\n",
              "\n",
              "      async function convertToInteractive(key) {\n",
              "        const element = document.querySelector('#df-cc808461-f283-4282-bb92-67d3e44f8453');\n",
              "        const dataTable =\n",
              "          await google.colab.kernel.invokeFunction('convertToInteractive',\n",
              "                                                    [key], {});\n",
              "        if (!dataTable) return;\n",
              "\n",
              "        const docLinkHtml = 'Like what you see? Visit the ' +\n",
              "          '<a target=\"_blank\" href=https://colab.research.google.com/notebooks/data_table.ipynb>data table notebook</a>'\n",
              "          + ' to learn more about interactive tables.';\n",
              "        element.innerHTML = '';\n",
              "        dataTable['output_type'] = 'display_data';\n",
              "        await google.colab.output.renderOutput(dataTable, element);\n",
              "        const docLink = document.createElement('div');\n",
              "        docLink.innerHTML = docLinkHtml;\n",
              "        element.appendChild(docLink);\n",
              "      }\n",
              "    </script>\n",
              "  </div>\n",
              "\n",
              "\n",
              "<div id=\"df-6a96f31c-c893-47a2-b69e-d437290ae6fe\">\n",
              "  <button class=\"colab-df-quickchart\" onclick=\"quickchart('df-6a96f31c-c893-47a2-b69e-d437290ae6fe')\"\n",
              "            title=\"Suggest charts\"\n",
              "            style=\"display:none;\">\n",
              "\n",
              "<svg xmlns=\"http://www.w3.org/2000/svg\" height=\"24px\"viewBox=\"0 0 24 24\"\n",
              "     width=\"24px\">\n",
              "    <g>\n",
              "        <path d=\"M19 3H5c-1.1 0-2 .9-2 2v14c0 1.1.9 2 2 2h14c1.1 0 2-.9 2-2V5c0-1.1-.9-2-2-2zM9 17H7v-7h2v7zm4 0h-2V7h2v10zm4 0h-2v-4h2v4z\"/>\n",
              "    </g>\n",
              "</svg>\n",
              "  </button>\n",
              "\n",
              "<style>\n",
              "  .colab-df-quickchart {\n",
              "      --bg-color: #E8F0FE;\n",
              "      --fill-color: #1967D2;\n",
              "      --hover-bg-color: #E2EBFA;\n",
              "      --hover-fill-color: #174EA6;\n",
              "      --disabled-fill-color: #AAA;\n",
              "      --disabled-bg-color: #DDD;\n",
              "  }\n",
              "\n",
              "  [theme=dark] .colab-df-quickchart {\n",
              "      --bg-color: #3B4455;\n",
              "      --fill-color: #D2E3FC;\n",
              "      --hover-bg-color: #434B5C;\n",
              "      --hover-fill-color: #FFFFFF;\n",
              "      --disabled-bg-color: #3B4455;\n",
              "      --disabled-fill-color: #666;\n",
              "  }\n",
              "\n",
              "  .colab-df-quickchart {\n",
              "    background-color: var(--bg-color);\n",
              "    border: none;\n",
              "    border-radius: 50%;\n",
              "    cursor: pointer;\n",
              "    display: none;\n",
              "    fill: var(--fill-color);\n",
              "    height: 32px;\n",
              "    padding: 0;\n",
              "    width: 32px;\n",
              "  }\n",
              "\n",
              "  .colab-df-quickchart:hover {\n",
              "    background-color: var(--hover-bg-color);\n",
              "    box-shadow: 0 1px 2px rgba(60, 64, 67, 0.3), 0 1px 3px 1px rgba(60, 64, 67, 0.15);\n",
              "    fill: var(--button-hover-fill-color);\n",
              "  }\n",
              "\n",
              "  .colab-df-quickchart-complete:disabled,\n",
              "  .colab-df-quickchart-complete:disabled:hover {\n",
              "    background-color: var(--disabled-bg-color);\n",
              "    fill: var(--disabled-fill-color);\n",
              "    box-shadow: none;\n",
              "  }\n",
              "\n",
              "  .colab-df-spinner {\n",
              "    border: 2px solid var(--fill-color);\n",
              "    border-color: transparent;\n",
              "    border-bottom-color: var(--fill-color);\n",
              "    animation:\n",
              "      spin 1s steps(1) infinite;\n",
              "  }\n",
              "\n",
              "  @keyframes spin {\n",
              "    0% {\n",
              "      border-color: transparent;\n",
              "      border-bottom-color: var(--fill-color);\n",
              "      border-left-color: var(--fill-color);\n",
              "    }\n",
              "    20% {\n",
              "      border-color: transparent;\n",
              "      border-left-color: var(--fill-color);\n",
              "      border-top-color: var(--fill-color);\n",
              "    }\n",
              "    30% {\n",
              "      border-color: transparent;\n",
              "      border-left-color: var(--fill-color);\n",
              "      border-top-color: var(--fill-color);\n",
              "      border-right-color: var(--fill-color);\n",
              "    }\n",
              "    40% {\n",
              "      border-color: transparent;\n",
              "      border-right-color: var(--fill-color);\n",
              "      border-top-color: var(--fill-color);\n",
              "    }\n",
              "    60% {\n",
              "      border-color: transparent;\n",
              "      border-right-color: var(--fill-color);\n",
              "    }\n",
              "    80% {\n",
              "      border-color: transparent;\n",
              "      border-right-color: var(--fill-color);\n",
              "      border-bottom-color: var(--fill-color);\n",
              "    }\n",
              "    90% {\n",
              "      border-color: transparent;\n",
              "      border-bottom-color: var(--fill-color);\n",
              "    }\n",
              "  }\n",
              "</style>\n",
              "\n",
              "  <script>\n",
              "    async function quickchart(key) {\n",
              "      const quickchartButtonEl =\n",
              "        document.querySelector('#' + key + ' button');\n",
              "      quickchartButtonEl.disabled = true;  // To prevent multiple clicks.\n",
              "      quickchartButtonEl.classList.add('colab-df-spinner');\n",
              "      try {\n",
              "        const charts = await google.colab.kernel.invokeFunction(\n",
              "            'suggestCharts', [key], {});\n",
              "      } catch (error) {\n",
              "        console.error('Error during call to suggestCharts:', error);\n",
              "      }\n",
              "      quickchartButtonEl.classList.remove('colab-df-spinner');\n",
              "      quickchartButtonEl.classList.add('colab-df-quickchart-complete');\n",
              "    }\n",
              "    (() => {\n",
              "      let quickchartButtonEl =\n",
              "        document.querySelector('#df-6a96f31c-c893-47a2-b69e-d437290ae6fe button');\n",
              "      quickchartButtonEl.style.display =\n",
              "        google.colab.kernel.accessAllowed ? 'block' : 'none';\n",
              "    })();\n",
              "  </script>\n",
              "</div>\n",
              "    </div>\n",
              "  </div>\n"
            ]
          },
          "metadata": {},
          "execution_count": 32
        }
      ]
    },
    {
      "cell_type": "code",
      "source": [
        "score_df.sort_values('accuracy',ascending = False).plot(kind='bar',figsize=(8,6))\n",
        "plt.title(\"Testing Metrics for each Model\",fontsize=18,color='red')\n",
        "plt.tick_params(axis='y', colors='blue', direction='out', length=13, width=3)\n",
        "plt.xlabel(\"Modeling Approches\", fontsize=14, color = 'red')\n",
        "plt.ylim([0.3, 0.99])\n",
        "plt.ylabel(\"Test Accuracy\", fontsize=14, color = 'red')\n",
        "plt.show()"
      ],
      "metadata": {
        "colab": {
          "base_uri": "https://localhost:8080/",
          "height": 693
        },
        "id": "-RA16VtGDkG3",
        "outputId": "767b48a1-4fb1-4cff-80a5-1234da10b0fa"
      },
      "execution_count": 33,
      "outputs": [
        {
          "output_type": "display_data",
          "data": {
            "text/plain": [
              "<Figure size 800x600 with 1 Axes>"
            ],
            "image/png": "[encoded data removed]"
          },
          "metadata": {}
        }
      ]
    },
    {
      "cell_type": "code",
      "source": [
        "FP_df.sort_values('FP',ascending = False).plot(kind='bar',figsize=(8,6))\n",
        "plt.title(\"False Positive for each Model\",fontsize=18,color='red')\n",
        "plt.tick_params(axis='y', colors='blue', direction='out', length=13, width=3)\n",
        "plt.xlabel(\"Modeling Approches\", fontsize=14, color = 'red')\n",
        "plt.ylabel(\"FP Numbers\", fontsize=14, color = 'red')\n",
        "plt.show()"
      ],
      "metadata": {
        "colab": {
          "base_uri": "https://localhost:8080/",
          "height": 693
        },
        "id": "NZMKsg0LDmZq",
        "outputId": "9193800f-c0b1-47d6-b00a-39b77c877234"
      },
      "execution_count": 34,
      "outputs": [
        {
          "output_type": "display_data",
          "data": {
            "text/plain": [
              "<Figure size 800x600 with 1 Axes>"
            ],
            "image/png": "[encoded data removed]"
          },
          "metadata": {}
        }
      ]
    }
  ]
}