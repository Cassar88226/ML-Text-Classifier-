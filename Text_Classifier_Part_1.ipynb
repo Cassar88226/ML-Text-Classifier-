{
  "nbformat": 4,
  "nbformat_minor": 0,
  "metadata": {
    "colab": {
      "provenance": []
    },
    "kernelspec": {
      "name": "python3",
      "display_name": "Python 3"
    },
    "language_info": {
      "name": "python"
    }
  },
  "cells": [
    {
      "cell_type": "markdown",
      "source": [
        "## Import Python Sklearn Libraries and NLTK"
      ],
      "metadata": {
        "id": "HEjkKCC8PyHX"
      }
    },
    {
      "cell_type": "code",
      "execution_count": 31,
      "metadata": {
        "colab": {
          "base_uri": "https://localhost:8080/"
        },
        "id": "WdaJbZ59OXDf",
        "outputId": "687e7733-2289-4921-cc50-1a49e371be61"
      },
      "outputs": [
        {
          "output_type": "stream",
          "name": "stderr",
          "text": [
            "[nltk_data] Downloading package punkt to /root/nltk_data...\n",
            "[nltk_data]   Package punkt is already up-to-date!\n",
            "[nltk_data] Downloading package stopwords to /root/nltk_data...\n",
            "[nltk_data]   Package stopwords is already up-to-date!\n",
            "[nltk_data] Downloading package wordnet to /root/nltk_data...\n",
            "[nltk_data]   Package wordnet is already up-to-date!\n"
          ]
        }
      ],
      "source": [
        "import csv\n",
        "import pickle\n",
        "import pandas as pd\n",
        "import numpy as np\n",
        "import matplotlib.pyplot as plt\n",
        "import seaborn as sns\n",
        "\n",
        "import xgboost as xgb\n",
        "from sklearn.feature_extraction.text import CountVectorizer, TfidfVectorizer\n",
        "from sklearn.model_selection import train_test_split\n",
        "from sklearn.metrics import accuracy_score\n",
        "from sklearn.metrics import accuracy_score, recall_score, f1_score, precision_score, roc_auc_score, roc_curve, confusion_matrix, precision_recall_curve, classification_report\n",
        "from sklearn import svm\n",
        "\n",
        "import nltk\n",
        "\n",
        "nltk.download(\"punkt\")\n",
        "nltk.download('stopwords')\n",
        "nltk.download('wordnet')\n",
        "\n",
        "import re\n",
        "\n",
        "from nltk.corpus import stopwords\n",
        "\n",
        "from nltk.stem import WordNetLemmatizer\n",
        "\n",
        "lemmatizer = WordNetLemmatizer()"
      ]
    },
    {
      "cell_type": "markdown",
      "source": [
        "## Load the dataset and remove invalid data"
      ],
      "metadata": {
        "id": "q8qKHZzAP9p9"
      }
    },
    {
      "cell_type": "code",
      "source": [
        "raw_data = pd.read_csv('categories.csv', sep = ';', header = None)\n",
        "raw_data.columns = [\"Text\", \"Class\"]\n",
        "raw_data = raw_data.dropna()\n",
        "raw_data.head(10)"
      ],
      "metadata": {
        "colab": {
          "base_uri": "https://localhost:8080/",
          "height": 363
        },
        "id": "5j1ZJxcoP8_1",
        "outputId": "8e93d598-c7e6-47f7-d26f-90d51dd9f4c2"
      },
      "execution_count": 2,
      "outputs": [
        {
          "output_type": "execute_result",
          "data": {
            "text/plain": [
              "                                                Text  Class\n",
              "0         i feel lots of crypto has exhausted itself    1.0\n",
              "1  How are you guys feeling today ??? :Bear:  or ...    1.0\n",
              "2                         Did not take a trade today    1.0\n",
              "3                      Just entered eos long trade 👌    1.0\n",
              "4       Anything good to buy now? Or did I miss it 😭    1.0\n",
              "5  GL trading tonight guys.  I'm off to eat dinne...    1.0\n",
              "6         Okay my long position is still open on eth    1.0\n",
              "7                  morning guys any trades avaiable?    1.0\n",
              "8                 What’s everybodies thoughts today?    1.0\n",
              "9  Are you guys more bullish or bearish for this ...    1.0"
            ],
            "text/html": [
              "\n",
              "  <div id=\"df-361f0a91-fdf2-4630-b00d-66d0444dba3b\" class=\"colab-df-container\">\n",
              "    <div>\n",
              "<style scoped>\n",
              "    .dataframe tbody tr th:only-of-type {\n",
              "        vertical-align: middle;\n",
              "    }\n",
              "\n",
              "    .dataframe tbody tr th {\n",
              "        vertical-align: top;\n",
              "    }\n",
              "\n",
              "    .dataframe thead th {\n",
              "        text-align: right;\n",
              "    }\n",
              "</style>\n",
              "<table border=\"1\" class=\"dataframe\">\n",
              "  <thead>\n",
              "    <tr style=\"text-align: right;\">\n",
              "      <th></th>\n",
              "      <th>Text</th>\n",
              "      <th>Class</th>\n",
              "    </tr>\n",
              "  </thead>\n",
              "  <tbody>\n",
              "    <tr>\n",
              "      <th>0</th>\n",
              "      <td>i feel lots of crypto has exhausted itself</td>\n",
              "      <td>1.0</td>\n",
              "    </tr>\n",
              "    <tr>\n",
              "      <th>1</th>\n",
              "      <td>How are you guys feeling today ??? :Bear:  or ...</td>\n",
              "      <td>1.0</td>\n",
              "    </tr>\n",
              "    <tr>\n",
              "      <th>2</th>\n",
              "      <td>Did not take a trade today</td>\n",
              "      <td>1.0</td>\n",
              "    </tr>\n",
              "    <tr>\n",
              "      <th>3</th>\n",
              "      <td>Just entered eos long trade 👌</td>\n",
              "      <td>1.0</td>\n",
              "    </tr>\n",
              "    <tr>\n",
              "      <th>4</th>\n",
              "      <td>Anything good to buy now? Or did I miss it 😭</td>\n",
              "      <td>1.0</td>\n",
              "    </tr>\n",
              "    <tr>\n",
              "      <th>5</th>\n",
              "      <td>GL trading tonight guys.  I'm off to eat dinne...</td>\n",
              "      <td>1.0</td>\n",
              "    </tr>\n",
              "    <tr>\n",
              "      <th>6</th>\n",
              "      <td>Okay my long position is still open on eth</td>\n",
              "      <td>1.0</td>\n",
              "    </tr>\n",
              "    <tr>\n",
              "      <th>7</th>\n",
              "      <td>morning guys any trades avaiable?</td>\n",
              "      <td>1.0</td>\n",
              "    </tr>\n",
              "    <tr>\n",
              "      <th>8</th>\n",
              "      <td>What’s everybodies thoughts today?</td>\n",
              "      <td>1.0</td>\n",
              "    </tr>\n",
              "    <tr>\n",
              "      <th>9</th>\n",
              "      <td>Are you guys more bullish or bearish for this ...</td>\n",
              "      <td>1.0</td>\n",
              "    </tr>\n",
              "  </tbody>\n",
              "</table>\n",
              "</div>\n",
              "    <div class=\"colab-df-buttons\">\n",
              "\n",
              "  <div class=\"colab-df-container\">\n",
              "    <button class=\"colab-df-convert\" onclick=\"convertToInteractive('df-361f0a91-fdf2-4630-b00d-66d0444dba3b')\"\n",
              "            title=\"Convert this dataframe to an interactive table.\"\n",
              "            style=\"display:none;\">\n",
              "\n",
              "  <svg xmlns=\"http://www.w3.org/2000/svg\" height=\"24px\" viewBox=\"0 -960 960 960\">\n",
              "    <path d=\"M120-120v-720h720v720H120Zm60-500h600v-160H180v160Zm220 220h160v-160H400v160Zm0 220h160v-160H400v160ZM180-400h160v-160H180v160Zm440 0h160v-160H620v160ZM180-180h160v-160H180v160Zm440 0h160v-160H620v160Z\"/>\n",
              "  </svg>\n",
              "    </button>\n",
              "\n",
              "  <style>\n",
              "    .colab-df-container {\n",
              "      display:flex;\n",
              "      gap: 12px;\n",
              "    }\n",
              "\n",
              "    .colab-df-convert {\n",
              "      background-color: #E8F0FE;\n",
              "      border: none;\n",
              "      border-radius: 50%;\n",
              "      cursor: pointer;\n",
              "      display: none;\n",
              "      fill: #1967D2;\n",
              "      height: 32px;\n",
              "      padding: 0 0 0 0;\n",
              "      width: 32px;\n",
              "    }\n",
              "\n",
              "    .colab-df-convert:hover {\n",
              "      background-color: #E2EBFA;\n",
              "      box-shadow: 0px 1px 2px rgba(60, 64, 67, 0.3), 0px 1px 3px 1px rgba(60, 64, 67, 0.15);\n",
              "      fill: #174EA6;\n",
              "    }\n",
              "\n",
              "    .colab-df-buttons div {\n",
              "      margin-bottom: 4px;\n",
              "    }\n",
              "\n",
              "    [theme=dark] .colab-df-convert {\n",
              "      background-color: #3B4455;\n",
              "      fill: #D2E3FC;\n",
              "    }\n",
              "\n",
              "    [theme=dark] .colab-df-convert:hover {\n",
              "      background-color: #434B5C;\n",
              "      box-shadow: 0px 1px 3px 1px rgba(0, 0, 0, 0.15);\n",
              "      filter: drop-shadow(0px 1px 2px rgba(0, 0, 0, 0.3));\n",
              "      fill: #FFFFFF;\n",
              "    }\n",
              "  </style>\n",
              "\n",
              "    <script>\n",
              "      const buttonEl =\n",
              "        document.querySelector('#df-361f0a91-fdf2-4630-b00d-66d0444dba3b button.colab-df-convert');\n",
              "      buttonEl.style.display =\n",
              "        google.colab.kernel.accessAllowed ? 'block' : 'none';\n",
              "\n",
              "      async function convertToInteractive(key) {\n",
              "        const element = document.querySelector('#df-361f0a91-fdf2-4630-b00d-66d0444dba3b');\n",
              "        const dataTable =\n",
              "          await google.colab.kernel.invokeFunction('convertToInteractive',\n",
              "                                                    [key], {});\n",
              "        if (!dataTable) return;\n",
              "\n",
              "        const docLinkHtml = 'Like what you see? Visit the ' +\n",
              "          '<a target=\"_blank\" href=https://colab.research.google.com/notebooks/data_table.ipynb>data table notebook</a>'\n",
              "          + ' to learn more about interactive tables.';\n",
              "        element.innerHTML = '';\n",
              "        dataTable['output_type'] = 'display_data';\n",
              "        await google.colab.output.renderOutput(dataTable, element);\n",
              "        const docLink = document.createElement('div');\n",
              "        docLink.innerHTML = docLinkHtml;\n",
              "        element.appendChild(docLink);\n",
              "      }\n",
              "    </script>\n",
              "  </div>\n",
              "\n",
              "\n",
              "<div id=\"df-d4357e0a-ab0a-4f68-9ece-fda15f85d7f8\">\n",
              "  <button class=\"colab-df-quickchart\" onclick=\"quickchart('df-d4357e0a-ab0a-4f68-9ece-fda15f85d7f8')\"\n",
              "            title=\"Suggest charts\"\n",
              "            style=\"display:none;\">\n",
              "\n",
              "<svg xmlns=\"http://www.w3.org/2000/svg\" height=\"24px\"viewBox=\"0 0 24 24\"\n",
              "     width=\"24px\">\n",
              "    <g>\n",
              "        <path d=\"M19 3H5c-1.1 0-2 .9-2 2v14c0 1.1.9 2 2 2h14c1.1 0 2-.9 2-2V5c0-1.1-.9-2-2-2zM9 17H7v-7h2v7zm4 0h-2V7h2v10zm4 0h-2v-4h2v4z\"/>\n",
              "    </g>\n",
              "</svg>\n",
              "  </button>\n",
              "\n",
              "<style>\n",
              "  .colab-df-quickchart {\n",
              "      --bg-color: #E8F0FE;\n",
              "      --fill-color: #1967D2;\n",
              "      --hover-bg-color: #E2EBFA;\n",
              "      --hover-fill-color: #174EA6;\n",
              "      --disabled-fill-color: #AAA;\n",
              "      --disabled-bg-color: #DDD;\n",
              "  }\n",
              "\n",
              "  [theme=dark] .colab-df-quickchart {\n",
              "      --bg-color: #3B4455;\n",
              "      --fill-color: #D2E3FC;\n",
              "      --hover-bg-color: #434B5C;\n",
              "      --hover-fill-color: #FFFFFF;\n",
              "      --disabled-bg-color: #3B4455;\n",
              "      --disabled-fill-color: #666;\n",
              "  }\n",
              "\n",
              "  .colab-df-quickchart {\n",
              "    background-color: var(--bg-color);\n",
              "    border: none;\n",
              "    border-radius: 50%;\n",
              "    cursor: pointer;\n",
              "    display: none;\n",
              "    fill: var(--fill-color);\n",
              "    height: 32px;\n",
              "    padding: 0;\n",
              "    width: 32px;\n",
              "  }\n",
              "\n",
              "  .colab-df-quickchart:hover {\n",
              "    background-color: var(--hover-bg-color);\n",
              "    box-shadow: 0 1px 2px rgba(60, 64, 67, 0.3), 0 1px 3px 1px rgba(60, 64, 67, 0.15);\n",
              "    fill: var(--button-hover-fill-color);\n",
              "  }\n",
              "\n",
              "  .colab-df-quickchart-complete:disabled,\n",
              "  .colab-df-quickchart-complete:disabled:hover {\n",
              "    background-color: var(--disabled-bg-color);\n",
              "    fill: var(--disabled-fill-color);\n",
              "    box-shadow: none;\n",
              "  }\n",
              "\n",
              "  .colab-df-spinner {\n",
              "    border: 2px solid var(--fill-color);\n",
              "    border-color: transparent;\n",
              "    border-bottom-color: var(--fill-color);\n",
              "    animation:\n",
              "      spin 1s steps(1) infinite;\n",
              "  }\n",
              "\n",
              "  @keyframes spin {\n",
              "    0% {\n",
              "      border-color: transparent;\n",
              "      border-bottom-color: var(--fill-color);\n",
              "      border-left-color: var(--fill-color);\n",
              "    }\n",
              "    20% {\n",
              "      border-color: transparent;\n",
              "      border-left-color: var(--fill-color);\n",
              "      border-top-color: var(--fill-color);\n",
              "    }\n",
              "    30% {\n",
              "      border-color: transparent;\n",
              "      border-left-color: var(--fill-color);\n",
              "      border-top-color: var(--fill-color);\n",
              "      border-right-color: var(--fill-color);\n",
              "    }\n",
              "    40% {\n",
              "      border-color: transparent;\n",
              "      border-right-color: var(--fill-color);\n",
              "      border-top-color: var(--fill-color);\n",
              "    }\n",
              "    60% {\n",
              "      border-color: transparent;\n",
              "      border-right-color: var(--fill-color);\n",
              "    }\n",
              "    80% {\n",
              "      border-color: transparent;\n",
              "      border-right-color: var(--fill-color);\n",
              "      border-bottom-color: var(--fill-color);\n",
              "    }\n",
              "    90% {\n",
              "      border-color: transparent;\n",
              "      border-bottom-color: var(--fill-color);\n",
              "    }\n",
              "  }\n",
              "</style>\n",
              "\n",
              "  <script>\n",
              "    async function quickchart(key) {\n",
              "      const quickchartButtonEl =\n",
              "        document.querySelector('#' + key + ' button');\n",
              "      quickchartButtonEl.disabled = true;  // To prevent multiple clicks.\n",
              "      quickchartButtonEl.classList.add('colab-df-spinner');\n",
              "      try {\n",
              "        const charts = await google.colab.kernel.invokeFunction(\n",
              "            'suggestCharts', [key], {});\n",
              "      } catch (error) {\n",
              "        console.error('Error during call to suggestCharts:', error);\n",
              "      }\n",
              "      quickchartButtonEl.classList.remove('colab-df-spinner');\n",
              "      quickchartButtonEl.classList.add('colab-df-quickchart-complete');\n",
              "    }\n",
              "    (() => {\n",
              "      let quickchartButtonEl =\n",
              "        document.querySelector('#df-d4357e0a-ab0a-4f68-9ece-fda15f85d7f8 button');\n",
              "      quickchartButtonEl.style.display =\n",
              "        google.colab.kernel.accessAllowed ? 'block' : 'none';\n",
              "    })();\n",
              "  </script>\n",
              "</div>\n",
              "    </div>\n",
              "  </div>\n"
            ]
          },
          "metadata": {},
          "execution_count": 2
        }
      ]
    },
    {
      "cell_type": "code",
      "source": [
        "raw_data['Class'].value_counts(normalize = True).plot.bar()"
      ],
      "metadata": {
        "colab": {
          "base_uri": "https://localhost:8080/",
          "height": 456
        },
        "id": "vUVjjho0QJJN",
        "outputId": "7fd14184-43ae-46e6-b764-4abc2b345be3"
      },
      "execution_count": 3,
      "outputs": [
        {
          "output_type": "execute_result",
          "data": {
            "text/plain": [
              "<Axes: >"
            ]
          },
          "metadata": {},
          "execution_count": 3
        },
        {
          "output_type": "display_data",
          "data": {
            "text/plain": [
              "<Figure size 640x480 with 1 Axes>"
            ],
            "image/png": "[encoded data removed]"
          },
          "metadata": {}
        }
      ]
    },
    {
      "cell_type": "markdown",
      "source": [
        "## Data Sampling (Undersampling)"
      ],
      "metadata": {
        "id": "wYDF1f8hQTR3"
      }
    },
    {
      "cell_type": "code",
      "source": [
        "class_1_data = raw_data[raw_data[\"Class\"] == 1]\n",
        "class_0_data = raw_data[raw_data[\"Class\"] == 0]\n",
        "\n",
        "print(\"Samples of Class 0 : \", len(class_0_data.index))\n",
        "print(\"Samples of Class 1 : \", len(class_1_data.index))"
      ],
      "metadata": {
        "colab": {
          "base_uri": "https://localhost:8080/"
        },
        "id": "hrriUkgAQUZf",
        "outputId": "914da20c-bf50-456f-957b-6e6a83cf22ce"
      },
      "execution_count": 4,
      "outputs": [
        {
          "output_type": "stream",
          "name": "stdout",
          "text": [
            "Samples of Class 0 :  23099\n",
            "Samples of Class 1 :  5762\n"
          ]
        }
      ]
    },
    {
      "cell_type": "code",
      "source": [
        "balanced_dataset = pd.concat([class_1_data, class_0_data.sample(len(class_1_data.index))], ignore_index=True)\n",
        "print(\"Samples of Balanced Dataset : \", len(balanced_dataset.index))"
      ],
      "metadata": {
        "colab": {
          "base_uri": "https://localhost:8080/"
        },
        "id": "uBX3wkMmR6cX",
        "outputId": "093db83d-3bad-4e04-bd7a-29db028b767e"
      },
      "execution_count": 8,
      "outputs": [
        {
          "output_type": "stream",
          "name": "stdout",
          "text": [
            "Samples of Balanced Dataset :  11524\n"
          ]
        }
      ]
    },
    {
      "cell_type": "markdown",
      "source": [
        "## Data Preprocessing"
      ],
      "metadata": {
        "id": "qOF0t2N5Qtid"
      }
    },
    {
      "cell_type": "code",
      "source": [
        "lemmatizer = WordNetLemmatizer()\n",
        "with open('specialWords.txt') as file:\n",
        "    special_words = [line.strip() for line in file]"
      ],
      "metadata": {
        "id": "SJ2-tn32QsfV"
      },
      "execution_count": 9,
      "outputs": []
    },
    {
      "cell_type": "code",
      "source": [
        "## cleaning text data, remove special charactors, numbers, puncatations, stopwords removing, lower casing, skip special words\n",
        "cleaned_text = []\n",
        "for idx in range(len(balanced_dataset)):\n",
        "    sentence = balanced_dataset['Text'][idx]\n",
        "    removeSpecialChars = str(sentence).translate ({ord(c): \" \" for c in \"!@#$%^&*()[]{};:,./<>?\\|`~-=_+\"})\n",
        "    pattern = r'[0-9]'\n",
        "    new_string = re.sub(pattern, '', removeSpecialChars)\n",
        "    new_string = re.sub(' +', ' ', new_string)\n",
        "    new_string = ' '.join([word for word in new_string.split() if word not in stopwords.words(\"english\")])\n",
        "    new_string = ' '.join( [lemmatizer.lemmatize(w).lower() for w in new_string.split() if len(w)>1 and w not in special_words] )\n",
        "    cleaned_text.append(new_string)\n",
        "\n",
        "balanced_dataset['cleaned_text'] = cleaned_text"
      ],
      "metadata": {
        "id": "e3nC3774Rw1m"
      },
      "execution_count": 14,
      "outputs": []
    },
    {
      "cell_type": "code",
      "source": [
        "balanced_dataset.head(30)"
      ],
      "metadata": {
        "colab": {
          "base_uri": "https://localhost:8080/",
          "height": 989
        },
        "id": "ySjp6ek1ShMW",
        "outputId": "2a043881-cd2f-4098-d6af-98dbf982f10f"
      },
      "execution_count": 15,
      "outputs": [
        {
          "output_type": "execute_result",
          "data": {
            "text/plain": [
              "                                                 Text  Class  \\\n",
              "0          i feel lots of crypto has exhausted itself    1.0   \n",
              "1   How are you guys feeling today ??? :Bear:  or ...    1.0   \n",
              "2                          Did not take a trade today    1.0   \n",
              "3                       Just entered eos long trade 👌    1.0   \n",
              "4        Anything good to buy now? Or did I miss it 😭    1.0   \n",
              "5   GL trading tonight guys.  I'm off to eat dinne...    1.0   \n",
              "6          Okay my long position is still open on eth    1.0   \n",
              "7                   morning guys any trades avaiable?    1.0   \n",
              "8                  What’s everybodies thoughts today?    1.0   \n",
              "9   Are you guys more bullish or bearish for this ...    1.0   \n",
              "10                            I'm 100% up on the long    1.0   \n",
              "11                              I am up 17% on Solana    1.0   \n",
              "12                                  Good luck longing    1.0   \n",
              "13  Hey Guys. Please share trades you are going fo...    1.0   \n",
              "14        Hi everyone!  Does anybody have to on rune?    1.0   \n",
              "15  Hey guys, i need a favor, can anyone do a TA f...    1.0   \n",
              "16  I'm still long  +43% AVAX +40% DOT +17% SOL .....    1.0   \n",
              "17  Good morning from sunny South Africa. \\n\\nWhat...    1.0   \n",
              "18  Hi everyone are people in longs or shorts today ?    1.0   \n",
              "19  Trading long and short at the same time messes...    1.0   \n",
              "20                Helloooo bullish or bearish today??    1.0   \n",
              "21  Anyone in see any good trades, i'm in a CHZ on...    1.0   \n",
              "22   Any thoughts on taking a super long LONG on ONE?    1.0   \n",
              "23                            I’m longing btc and ada    1.0   \n",
              "24                                        Longing sol    1.0   \n",
              "25                                           Long btc    1.0   \n",
              "26                                           Btc long    1.0   \n",
              "27                                       any good TA?    1.0   \n",
              "28                    Any point opening SOL long now?    1.0   \n",
              "29                                   APE looking good    1.0   \n",
              "\n",
              "                                         cleaned_text  \n",
              "0                           feel lot crypto exhausted  \n",
              "1                     how guy feeling today bear bull  \n",
              "2                                did take trade today  \n",
              "3                         just entered eos long trade  \n",
              "4                           anything good buy or miss  \n",
              "5   gl trading tonight guy i'm eat dinner watch et...  \n",
              "6                   okay long position still open eth  \n",
              "7                          morning guy trade avaiable  \n",
              "8                    what’s everybodies thought today  \n",
              "9                        are guy bullish bearish week  \n",
              "10                                           i'm long  \n",
              "11                                             solana  \n",
              "12                                  good luck longing  \n",
              "13                  hey guys please share trade going  \n",
              "14                      hi everyone does anybody rune  \n",
              "15                  hey guy need favor anyone ta atom  \n",
              "16  i'm still long avax dot sol like way working w...  \n",
              "17  good morning sunny south africa what trade hot...  \n",
              "18               hi everyone people longs short today  \n",
              "19             trading long short time mess brain lol  \n",
              "20                     helloooo bullish bearish today  \n",
              "21      anyone see good trade i'm chz one moving slow  \n",
              "22             any thought taking super long long one  \n",
              "23                                i’m longing btc ada  \n",
              "24                                        longing sol  \n",
              "25                                           long btc  \n",
              "26                                           btc long  \n",
              "27                                            good ta  \n",
              "28                         any point opening sol long  \n",
              "29                                   ape looking good  "
            ],
            "text/html": [
              "\n",
              "  <div id=\"df-ef51924b-56ce-4c9b-ad7f-94f545099e50\" class=\"colab-df-container\">\n",
              "    <div>\n",
              "<style scoped>\n",
              "    .dataframe tbody tr th:only-of-type {\n",
              "        vertical-align: middle;\n",
              "    }\n",
              "\n",
              "    .dataframe tbody tr th {\n",
              "        vertical-align: top;\n",
              "    }\n",
              "\n",
              "    .dataframe thead th {\n",
              "        text-align: right;\n",
              "    }\n",
              "</style>\n",
              "<table border=\"1\" class=\"dataframe\">\n",
              "  <thead>\n",
              "    <tr style=\"text-align: right;\">\n",
              "      <th></th>\n",
              "      <th>Text</th>\n",
              "      <th>Class</th>\n",
              "      <th>cleaned_text</th>\n",
              "    </tr>\n",
              "  </thead>\n",
              "  <tbody>\n",
              "    <tr>\n",
              "      <th>0</th>\n",
              "      <td>i feel lots of crypto has exhausted itself</td>\n",
              "      <td>1.0</td>\n",
              "      <td>feel lot crypto exhausted</td>\n",
              "    </tr>\n",
              "    <tr>\n",
              "      <th>1</th>\n",
              "      <td>How are you guys feeling today ??? :Bear:  or ...</td>\n",
              "      <td>1.0</td>\n",
              "      <td>how guy feeling today bear bull</td>\n",
              "    </tr>\n",
              "    <tr>\n",
              "      <th>2</th>\n",
              "      <td>Did not take a trade today</td>\n",
              "      <td>1.0</td>\n",
              "      <td>did take trade today</td>\n",
              "    </tr>\n",
              "    <tr>\n",
              "      <th>3</th>\n",
              "      <td>Just entered eos long trade 👌</td>\n",
              "      <td>1.0</td>\n",
              "      <td>just entered eos long trade</td>\n",
              "    </tr>\n",
              "    <tr>\n",
              "      <th>4</th>\n",
              "      <td>Anything good to buy now? Or did I miss it 😭</td>\n",
              "      <td>1.0</td>\n",
              "      <td>anything good buy or miss</td>\n",
              "    </tr>\n",
              "    <tr>\n",
              "      <th>5</th>\n",
              "      <td>GL trading tonight guys.  I'm off to eat dinne...</td>\n",
              "      <td>1.0</td>\n",
              "      <td>gl trading tonight guy i'm eat dinner watch et...</td>\n",
              "    </tr>\n",
              "    <tr>\n",
              "      <th>6</th>\n",
              "      <td>Okay my long position is still open on eth</td>\n",
              "      <td>1.0</td>\n",
              "      <td>okay long position still open eth</td>\n",
              "    </tr>\n",
              "    <tr>\n",
              "      <th>7</th>\n",
              "      <td>morning guys any trades avaiable?</td>\n",
              "      <td>1.0</td>\n",
              "      <td>morning guy trade avaiable</td>\n",
              "    </tr>\n",
              "    <tr>\n",
              "      <th>8</th>\n",
              "      <td>What’s everybodies thoughts today?</td>\n",
              "      <td>1.0</td>\n",
              "      <td>what’s everybodies thought today</td>\n",
              "    </tr>\n",
              "    <tr>\n",
              "      <th>9</th>\n",
              "      <td>Are you guys more bullish or bearish for this ...</td>\n",
              "      <td>1.0</td>\n",
              "      <td>are guy bullish bearish week</td>\n",
              "    </tr>\n",
              "    <tr>\n",
              "      <th>10</th>\n",
              "      <td>I'm 100% up on the long</td>\n",
              "      <td>1.0</td>\n",
              "      <td>i'm long</td>\n",
              "    </tr>\n",
              "    <tr>\n",
              "      <th>11</th>\n",
              "      <td>I am up 17% on Solana</td>\n",
              "      <td>1.0</td>\n",
              "      <td>solana</td>\n",
              "    </tr>\n",
              "    <tr>\n",
              "      <th>12</th>\n",
              "      <td>Good luck longing</td>\n",
              "      <td>1.0</td>\n",
              "      <td>good luck longing</td>\n",
              "    </tr>\n",
              "    <tr>\n",
              "      <th>13</th>\n",
              "      <td>Hey Guys. Please share trades you are going fo...</td>\n",
              "      <td>1.0</td>\n",
              "      <td>hey guys please share trade going</td>\n",
              "    </tr>\n",
              "    <tr>\n",
              "      <th>14</th>\n",
              "      <td>Hi everyone!  Does anybody have to on rune?</td>\n",
              "      <td>1.0</td>\n",
              "      <td>hi everyone does anybody rune</td>\n",
              "    </tr>\n",
              "    <tr>\n",
              "      <th>15</th>\n",
              "      <td>Hey guys, i need a favor, can anyone do a TA f...</td>\n",
              "      <td>1.0</td>\n",
              "      <td>hey guy need favor anyone ta atom</td>\n",
              "    </tr>\n",
              "    <tr>\n",
              "      <th>16</th>\n",
              "      <td>I'm still long  +43% AVAX +40% DOT +17% SOL .....</td>\n",
              "      <td>1.0</td>\n",
              "      <td>i'm still long avax dot sol like way working w...</td>\n",
              "    </tr>\n",
              "    <tr>\n",
              "      <th>17</th>\n",
              "      <td>Good morning from sunny South Africa. \\n\\nWhat...</td>\n",
              "      <td>1.0</td>\n",
              "      <td>good morning sunny south africa what trade hot...</td>\n",
              "    </tr>\n",
              "    <tr>\n",
              "      <th>18</th>\n",
              "      <td>Hi everyone are people in longs or shorts today ?</td>\n",
              "      <td>1.0</td>\n",
              "      <td>hi everyone people longs short today</td>\n",
              "    </tr>\n",
              "    <tr>\n",
              "      <th>19</th>\n",
              "      <td>Trading long and short at the same time messes...</td>\n",
              "      <td>1.0</td>\n",
              "      <td>trading long short time mess brain lol</td>\n",
              "    </tr>\n",
              "    <tr>\n",
              "      <th>20</th>\n",
              "      <td>Helloooo bullish or bearish today??</td>\n",
              "      <td>1.0</td>\n",
              "      <td>helloooo bullish bearish today</td>\n",
              "    </tr>\n",
              "    <tr>\n",
              "      <th>21</th>\n",
              "      <td>Anyone in see any good trades, i'm in a CHZ on...</td>\n",
              "      <td>1.0</td>\n",
              "      <td>anyone see good trade i'm chz one moving slow</td>\n",
              "    </tr>\n",
              "    <tr>\n",
              "      <th>22</th>\n",
              "      <td>Any thoughts on taking a super long LONG on ONE?</td>\n",
              "      <td>1.0</td>\n",
              "      <td>any thought taking super long long one</td>\n",
              "    </tr>\n",
              "    <tr>\n",
              "      <th>23</th>\n",
              "      <td>I’m longing btc and ada</td>\n",
              "      <td>1.0</td>\n",
              "      <td>i’m longing btc ada</td>\n",
              "    </tr>\n",
              "    <tr>\n",
              "      <th>24</th>\n",
              "      <td>Longing sol</td>\n",
              "      <td>1.0</td>\n",
              "      <td>longing sol</td>\n",
              "    </tr>\n",
              "    <tr>\n",
              "      <th>25</th>\n",
              "      <td>Long btc</td>\n",
              "      <td>1.0</td>\n",
              "      <td>long btc</td>\n",
              "    </tr>\n",
              "    <tr>\n",
              "      <th>26</th>\n",
              "      <td>Btc long</td>\n",
              "      <td>1.0</td>\n",
              "      <td>btc long</td>\n",
              "    </tr>\n",
              "    <tr>\n",
              "      <th>27</th>\n",
              "      <td>any good TA?</td>\n",
              "      <td>1.0</td>\n",
              "      <td>good ta</td>\n",
              "    </tr>\n",
              "    <tr>\n",
              "      <th>28</th>\n",
              "      <td>Any point opening SOL long now?</td>\n",
              "      <td>1.0</td>\n",
              "      <td>any point opening sol long</td>\n",
              "    </tr>\n",
              "    <tr>\n",
              "      <th>29</th>\n",
              "      <td>APE looking good</td>\n",
              "      <td>1.0</td>\n",
              "      <td>ape looking good</td>\n",
              "    </tr>\n",
              "  </tbody>\n",
              "</table>\n",
              "</div>\n",
              "    <div class=\"colab-df-buttons\">\n",
              "\n",
              "  <div class=\"colab-df-container\">\n",
              "    <button class=\"colab-df-convert\" onclick=\"convertToInteractive('df-ef51924b-56ce-4c9b-ad7f-94f545099e50')\"\n",
              "            title=\"Convert this dataframe to an interactive table.\"\n",
              "            style=\"display:none;\">\n",
              "\n",
              "  <svg xmlns=\"http://www.w3.org/2000/svg\" height=\"24px\" viewBox=\"0 -960 960 960\">\n",
              "    <path d=\"M120-120v-720h720v720H120Zm60-500h600v-160H180v160Zm220 220h160v-160H400v160Zm0 220h160v-160H400v160ZM180-400h160v-160H180v160Zm440 0h160v-160H620v160ZM180-180h160v-160H180v160Zm440 0h160v-160H620v160Z\"/>\n",
              "  </svg>\n",
              "    </button>\n",
              "\n",
              "  <style>\n",
              "    .colab-df-container {\n",
              "      display:flex;\n",
              "      gap: 12px;\n",
              "    }\n",
              "\n",
              "    .colab-df-convert {\n",
              "      background-color: #E8F0FE;\n",
              "      border: none;\n",
              "      border-radius: 50%;\n",
              "      cursor: pointer;\n",
              "      display: none;\n",
              "      fill: #1967D2;\n",
              "      height: 32px;\n",
              "      padding: 0 0 0 0;\n",
              "      width: 32px;\n",
              "    }\n",
              "\n",
              "    .colab-df-convert:hover {\n",
              "      background-color: #E2EBFA;\n",
              "      box-shadow: 0px 1px 2px rgba(60, 64, 67, 0.3), 0px 1px 3px 1px rgba(60, 64, 67, 0.15);\n",
              "      fill: #174EA6;\n",
              "    }\n",
              "\n",
              "    .colab-df-buttons div {\n",
              "      margin-bottom: 4px;\n",
              "    }\n",
              "\n",
              "    [theme=dark] .colab-df-convert {\n",
              "      background-color: #3B4455;\n",
              "      fill: #D2E3FC;\n",
              "    }\n",
              "\n",
              "    [theme=dark] .colab-df-convert:hover {\n",
              "      background-color: #434B5C;\n",
              "      box-shadow: 0px 1px 3px 1px rgba(0, 0, 0, 0.15);\n",
              "      filter: drop-shadow(0px 1px 2px rgba(0, 0, 0, 0.3));\n",
              "      fill: #FFFFFF;\n",
              "    }\n",
              "  </style>\n",
              "\n",
              "    <script>\n",
              "      const buttonEl =\n",
              "        document.querySelector('#df-ef51924b-56ce-4c9b-ad7f-94f545099e50 button.colab-df-convert');\n",
              "      buttonEl.style.display =\n",
              "        google.colab.kernel.accessAllowed ? 'block' : 'none';\n",
              "\n",
              "      async function convertToInteractive(key) {\n",
              "        const element = document.querySelector('#df-ef51924b-56ce-4c9b-ad7f-94f545099e50');\n",
              "        const dataTable =\n",
              "          await google.colab.kernel.invokeFunction('convertToInteractive',\n",
              "                                                    [key], {});\n",
              "        if (!dataTable) return;\n",
              "\n",
              "        const docLinkHtml = 'Like what you see? Visit the ' +\n",
              "          '<a target=\"_blank\" href=https://colab.research.google.com/notebooks/data_table.ipynb>data table notebook</a>'\n",
              "          + ' to learn more about interactive tables.';\n",
              "        element.innerHTML = '';\n",
              "        dataTable['output_type'] = 'display_data';\n",
              "        await google.colab.output.renderOutput(dataTable, element);\n",
              "        const docLink = document.createElement('div');\n",
              "        docLink.innerHTML = docLinkHtml;\n",
              "        element.appendChild(docLink);\n",
              "      }\n",
              "    </script>\n",
              "  </div>\n",
              "\n",
              "\n",
              "<div id=\"df-ef980236-eb45-4b37-b99e-225991176965\">\n",
              "  <button class=\"colab-df-quickchart\" onclick=\"quickchart('df-ef980236-eb45-4b37-b99e-225991176965')\"\n",
              "            title=\"Suggest charts\"\n",
              "            style=\"display:none;\">\n",
              "\n",
              "<svg xmlns=\"http://www.w3.org/2000/svg\" height=\"24px\"viewBox=\"0 0 24 24\"\n",
              "     width=\"24px\">\n",
              "    <g>\n",
              "        <path d=\"M19 3H5c-1.1 0-2 .9-2 2v14c0 1.1.9 2 2 2h14c1.1 0 2-.9 2-2V5c0-1.1-.9-2-2-2zM9 17H7v-7h2v7zm4 0h-2V7h2v10zm4 0h-2v-4h2v4z\"/>\n",
              "    </g>\n",
              "</svg>\n",
              "  </button>\n",
              "\n",
              "<style>\n",
              "  .colab-df-quickchart {\n",
              "      --bg-color: #E8F0FE;\n",
              "      --fill-color: #1967D2;\n",
              "      --hover-bg-color: #E2EBFA;\n",
              "      --hover-fill-color: #174EA6;\n",
              "      --disabled-fill-color: #AAA;\n",
              "      --disabled-bg-color: #DDD;\n",
              "  }\n",
              "\n",
              "  [theme=dark] .colab-df-quickchart {\n",
              "      --bg-color: #3B4455;\n",
              "      --fill-color: #D2E3FC;\n",
              "      --hover-bg-color: #434B5C;\n",
              "      --hover-fill-color: #FFFFFF;\n",
              "      --disabled-bg-color: #3B4455;\n",
              "      --disabled-fill-color: #666;\n",
              "  }\n",
              "\n",
              "  .colab-df-quickchart {\n",
              "    background-color: var(--bg-color);\n",
              "    border: none;\n",
              "    border-radius: 50%;\n",
              "    cursor: pointer;\n",
              "    display: none;\n",
              "    fill: var(--fill-color);\n",
              "    height: 32px;\n",
              "    padding: 0;\n",
              "    width: 32px;\n",
              "  }\n",
              "\n",
              "  .colab-df-quickchart:hover {\n",
              "    background-color: var(--hover-bg-color);\n",
              "    box-shadow: 0 1px 2px rgba(60, 64, 67, 0.3), 0 1px 3px 1px rgba(60, 64, 67, 0.15);\n",
              "    fill: var(--button-hover-fill-color);\n",
              "  }\n",
              "\n",
              "  .colab-df-quickchart-complete:disabled,\n",
              "  .colab-df-quickchart-complete:disabled:hover {\n",
              "    background-color: var(--disabled-bg-color);\n",
              "    fill: var(--disabled-fill-color);\n",
              "    box-shadow: none;\n",
              "  }\n",
              "\n",
              "  .colab-df-spinner {\n",
              "    border: 2px solid var(--fill-color);\n",
              "    border-color: transparent;\n",
              "    border-bottom-color: var(--fill-color);\n",
              "    animation:\n",
              "      spin 1s steps(1) infinite;\n",
              "  }\n",
              "\n",
              "  @keyframes spin {\n",
              "    0% {\n",
              "      border-color: transparent;\n",
              "      border-bottom-color: var(--fill-color);\n",
              "      border-left-color: var(--fill-color);\n",
              "    }\n",
              "    20% {\n",
              "      border-color: transparent;\n",
              "      border-left-color: var(--fill-color);\n",
              "      border-top-color: var(--fill-color);\n",
              "    }\n",
              "    30% {\n",
              "      border-color: transparent;\n",
              "      border-left-color: var(--fill-color);\n",
              "      border-top-color: var(--fill-color);\n",
              "      border-right-color: var(--fill-color);\n",
              "    }\n",
              "    40% {\n",
              "      border-color: transparent;\n",
              "      border-right-color: var(--fill-color);\n",
              "      border-top-color: var(--fill-color);\n",
              "    }\n",
              "    60% {\n",
              "      border-color: transparent;\n",
              "      border-right-color: var(--fill-color);\n",
              "    }\n",
              "    80% {\n",
              "      border-color: transparent;\n",
              "      border-right-color: var(--fill-color);\n",
              "      border-bottom-color: var(--fill-color);\n",
              "    }\n",
              "    90% {\n",
              "      border-color: transparent;\n",
              "      border-bottom-color: var(--fill-color);\n",
              "    }\n",
              "  }\n",
              "</style>\n",
              "\n",
              "  <script>\n",
              "    async function quickchart(key) {\n",
              "      const quickchartButtonEl =\n",
              "        document.querySelector('#' + key + ' button');\n",
              "      quickchartButtonEl.disabled = true;  // To prevent multiple clicks.\n",
              "      quickchartButtonEl.classList.add('colab-df-spinner');\n",
              "      try {\n",
              "        const charts = await google.colab.kernel.invokeFunction(\n",
              "            'suggestCharts', [key], {});\n",
              "      } catch (error) {\n",
              "        console.error('Error during call to suggestCharts:', error);\n",
              "      }\n",
              "      quickchartButtonEl.classList.remove('colab-df-spinner');\n",
              "      quickchartButtonEl.classList.add('colab-df-quickchart-complete');\n",
              "    }\n",
              "    (() => {\n",
              "      let quickchartButtonEl =\n",
              "        document.querySelector('#df-ef980236-eb45-4b37-b99e-225991176965 button');\n",
              "      quickchartButtonEl.style.display =\n",
              "        google.colab.kernel.accessAllowed ? 'block' : 'none';\n",
              "    })();\n",
              "  </script>\n",
              "</div>\n",
              "    </div>\n",
              "  </div>\n"
            ]
          },
          "metadata": {},
          "execution_count": 15
        }
      ]
    },
    {
      "cell_type": "code",
      "source": [
        "## drop missing rows\n",
        "balanced_dataset=balanced_dataset.dropna()\n",
        "balanced_dataset['Class'] = balanced_dataset['Class'].astype(int)"
      ],
      "metadata": {
        "id": "p2rb3aACSdPF"
      },
      "execution_count": 16,
      "outputs": []
    },
    {
      "cell_type": "markdown",
      "source": [
        "## Vectorization of Text Data and Splitting into Train and Test"
      ],
      "metadata": {
        "id": "we5nKc5_TpMg"
      }
    },
    {
      "cell_type": "code",
      "source": [
        "Count_Vec = CountVectorizer(max_features=1000)\n",
        "cnt_vec = Count_Vec.fit_transform(balanced_dataset['cleaned_text'])\n",
        "\n",
        "tfidf_vectorizer = TfidfVectorizer(max_features=1000)\n",
        "tfidf = tfidf_vectorizer.fit_transform(balanced_dataset['cleaned_text'].values.astype('U'))\n",
        "\n",
        "X_vec = tfidf.copy()\n",
        "y = balanced_dataset['Class']\n",
        "\n",
        "X_train_vec, X_test_vec, y_train_vec, y_test_vec = train_test_split(X_vec, y, test_size=0.1, random_state=0, shuffle=True)"
      ],
      "metadata": {
        "id": "bw0l489BTqFO"
      },
      "execution_count": 19,
      "outputs": []
    },
    {
      "cell_type": "code",
      "source": [
        "## build a function to evaluate classification model\n",
        "def model_evaluation(model, train, test, train_y, test_y):\n",
        "    pred_train = model.predict(train)\n",
        "    pred_test = model.predict(test)\n",
        "\n",
        "    train_acc = accuracy_score(pred_train,train_y)\n",
        "    test_acc = accuracy_score(pred_test,test_y)\n",
        "\n",
        "    train_recall = recall_score(train_y,pred_train, average = 'weighted')\n",
        "    test_recall = recall_score(test_y,pred_test, average = 'weighted')\n",
        "\n",
        "    train_precision = precision_score(train_y,pred_train, average = 'weighted')\n",
        "    test_precision = precision_score(test_y,pred_test, average = 'weighted')\n",
        "\n",
        "    train_f1 = f1_score(train_y,pred_train, average = 'weighted')\n",
        "    test_f1 = f1_score(test_y,pred_test, average = 'weighted')\n",
        "\n",
        "    print(\"\\n\\t\\t  Train score  /  Test score\\n\")\n",
        "    print(f\"Accuracy  : {train_acc} / {test_acc}\")\n",
        "    print(f\"Recall    : {train_recall} / {test_recall}\")\n",
        "    print(f\"Precision : {train_precision} / {test_precision}\")\n",
        "    print(f\"F1 Score  : {train_f1} / {test_f1}\")\n",
        "\n",
        "    cm=confusion_matrix(test_y, pred_test)\n",
        "    df_cm = pd.DataFrame(cm, index = [i for i in ['class:  0', 'class : 1']],\n",
        "                  columns = [i for i in ['class:  0', 'class : 1']])\n",
        "    group_counts = [\"{0:0.0f}\".format(value) for value in\n",
        "                cm.flatten()]\n",
        "    group_percentages = [\"{0:.2%}\".format(value) for value in cm.flatten()/np.sum(cm)]\n",
        "    labels = [f\"{v1}\\n{v2}\" for v1, v2 in zip(group_counts,group_percentages)]\n",
        "    labels = np.asarray(labels).reshape(2,2)\n",
        "    plt.figure(figsize = (8,4))\n",
        "    sns.heatmap(df_cm, annot=labels,fmt='')\n",
        "    plt.title(\"\\nConfusion Matrix\\n\", color='blue', fontsize = 16)\n",
        "    plt.ylabel('\\nActual\\n', color='blue')\n",
        "    plt.xlabel('\\nPredicted\\n', color = 'blue')\n",
        "    plt.show()\n",
        "    return [test_acc, test_recall, test_precision, test_f1]"
      ],
      "metadata": {
        "id": "7OlBxJFCVMgJ"
      },
      "execution_count": 21,
      "outputs": []
    },
    {
      "cell_type": "code",
      "source": [
        "scores_data = {}"
      ],
      "metadata": {
        "id": "7repqn1CWoK_"
      },
      "execution_count": 22,
      "outputs": []
    },
    {
      "cell_type": "markdown",
      "source": [
        "# **1. XGBoost Model**"
      ],
      "metadata": {
        "id": "ZfDelMHgWYlO"
      }
    },
    {
      "cell_type": "code",
      "source": [
        "xgb_classifier = xgb.XGBClassifier(n_jobs=-1)\n",
        "xgb_classifier.fit(X_train_vec, y_train_vec)\n",
        "y_test_vec_prediction = xgb_classifier.predict(X_test_vec)\n",
        "print(classification_report(y_test_vec, y_test_vec_prediction))"
      ],
      "metadata": {
        "colab": {
          "base_uri": "https://localhost:8080/"
        },
        "id": "Xk-JcKpoWPQe",
        "outputId": "0cf595d9-91a5-4a5f-b3eb-6ccef61de041"
      },
      "execution_count": 23,
      "outputs": [
        {
          "output_type": "stream",
          "name": "stdout",
          "text": [
            "              precision    recall  f1-score   support\n",
            "\n",
            "           0       0.93      0.96      0.95       580\n",
            "           1       0.96      0.93      0.94       573\n",
            "\n",
            "    accuracy                           0.95      1153\n",
            "   macro avg       0.95      0.95      0.95      1153\n",
            "weighted avg       0.95      0.95      0.95      1153\n",
            "\n"
          ]
        }
      ]
    },
    {
      "cell_type": "code",
      "source": [
        "score_1 = model_evaluation(xgb_classifier, X_train_vec, X_test_vec, y_train_vec, y_test_vec)\n",
        "scores_data['XGBoost'] = score_1"
      ],
      "metadata": {
        "colab": {
          "base_uri": "https://localhost:8080/",
          "height": 619
        },
        "id": "7ePj-kJCW-em",
        "outputId": "442f5577-4299-421b-acd5-682463bf55f9"
      },
      "execution_count": 34,
      "outputs": [
        {
          "output_type": "stream",
          "name": "stdout",
          "text": [
            "\n",
            "\t\t  Train score  /  Test score\n",
            "\n",
            "Accuracy  : 0.9653842445280107 / 0.9453599306157849\n",
            "Recall    : 0.9653842445280107 / 0.9453599306157849\n",
            "Precision : 0.9654407389226681 / 0.9459398447814924\n",
            "F1 Score  : 0.9653833272784754 / 0.9453357489536922\n"
          ]
        },
        {
          "output_type": "display_data",
          "data": {
            "text/plain": [
              "<Figure size 800x400 with 2 Axes>"
            ],
            "image/png": "[encoded data removed]"
          },
          "metadata": {}
        }
      ]
    },
    {
      "cell_type": "markdown",
      "source": [
        "# **2. SVM Classifier**"
      ],
      "metadata": {
        "id": "lrRwvDpbXi1w"
      }
    },
    {
      "cell_type": "code",
      "source": [
        "SVM = svm.SVC(C=1.0, kernel='linear', degree=3, gamma='auto')\n",
        "SVM.fit(X_train_vec, y_train_vec)\n",
        "y_test_vec_prediction = SVM.predict(X_test_vec)\n",
        "print(classification_report(y_test_vec, y_test_vec_prediction))"
      ],
      "metadata": {
        "colab": {
          "base_uri": "https://localhost:8080/"
        },
        "id": "U01oelk8Xjn3",
        "outputId": "bf68a8d2-4fcb-4b82-aaef-9a883cba25a6"
      },
      "execution_count": 35,
      "outputs": [
        {
          "output_type": "stream",
          "name": "stdout",
          "text": [
            "              precision    recall  f1-score   support\n",
            "\n",
            "           0       0.94      0.96      0.95       580\n",
            "           1       0.95      0.94      0.94       573\n",
            "\n",
            "    accuracy                           0.95      1153\n",
            "   macro avg       0.95      0.95      0.95      1153\n",
            "weighted avg       0.95      0.95      0.95      1153\n",
            "\n"
          ]
        }
      ]
    },
    {
      "cell_type": "code",
      "source": [
        "score_2 = model_evaluation(SVM, X_train_vec, X_test_vec, y_train_vec, y_test_vec)\n",
        "scores_data['Support Vector'] = score_2"
      ],
      "metadata": {
        "colab": {
          "base_uri": "https://localhost:8080/",
          "height": 619
        },
        "id": "aCy033sBXu0O",
        "outputId": "b6ffc722-7b9e-4202-deb5-fe2e7cce6393"
      },
      "execution_count": 36,
      "outputs": [
        {
          "output_type": "stream",
          "name": "stdout",
          "text": [
            "\n",
            "\t\t  Train score  /  Test score\n",
            "\n",
            "Accuracy  : 0.9534278275961816 / 0.9453599306157849\n",
            "Recall    : 0.9534278275961816 / 0.9453599306157849\n",
            "Precision : 0.9534720003231411 / 0.9455158425719158\n",
            "F1 Score  : 0.953426855932662 / 0.9453517906294499\n"
          ]
        },
        {
          "output_type": "display_data",
          "data": {
            "text/plain": [
              "<Figure size 800x400 with 2 Axes>"
            ],
            "image/png": "[encoded data removed]"
          },
          "metadata": {}
        }
      ]
    },
    {
      "cell_type": "markdown",
      "source": [
        "# **3. Random Forests**"
      ],
      "metadata": {
        "id": "Z86BUmY_YGYP"
      }
    },
    {
      "cell_type": "code",
      "source": [
        "from sklearn.ensemble import RandomForestClassifier\n",
        "rf = RandomForestClassifier()\n",
        "rf.fit(X_train_vec, y_train_vec)\n",
        "y_test_vec_prediction = rf.predict(X_test_vec)\n",
        "print(classification_report(y_test_vec, y_test_vec_prediction))"
      ],
      "metadata": {
        "colab": {
          "base_uri": "https://localhost:8080/"
        },
        "id": "wPgyyHtxYHGR",
        "outputId": "0c3763ae-d39b-43d1-dfb5-73523ef79e3a"
      },
      "execution_count": 54,
      "outputs": [
        {
          "output_type": "stream",
          "name": "stdout",
          "text": [
            "              precision    recall  f1-score   support\n",
            "\n",
            "           0       0.94      0.94      0.94       580\n",
            "           1       0.94      0.94      0.94       573\n",
            "\n",
            "    accuracy                           0.94      1153\n",
            "   macro avg       0.94      0.94      0.94      1153\n",
            "weighted avg       0.94      0.94      0.94      1153\n",
            "\n"
          ]
        }
      ]
    },
    {
      "cell_type": "code",
      "source": [
        "score_3 = model_evaluation(rf, X_train_vec, X_test_vec, y_train_vec, y_test_vec)\n",
        "scores_data['Random Forests'] = score_3"
      ],
      "metadata": {
        "colab": {
          "base_uri": "https://localhost:8080/",
          "height": 619
        },
        "id": "X3ZtMfepYO7e",
        "outputId": "9d1107ab-871a-4e8e-e220-e1b1c519db7b"
      },
      "execution_count": 55,
      "outputs": [
        {
          "output_type": "stream",
          "name": "stdout",
          "text": [
            "\n",
            "\t\t  Train score  /  Test score\n",
            "\n",
            "Accuracy  : 0.993732523382509 / 0.9375542064180399\n",
            "Recall    : 0.993732523382509 / 0.9375542064180399\n",
            "Precision : 0.9937366425574554 / 0.9375581576950262\n",
            "F1 Score  : 0.9937325041530373 / 0.9375533608597695\n"
          ]
        },
        {
          "output_type": "display_data",
          "data": {
            "text/plain": [
              "<Figure size 800x400 with 2 Axes>"
            ],
            "image/png": "[encoded data removed]"
          },
          "metadata": {}
        }
      ]
    },
    {
      "cell_type": "markdown",
      "source": [
        "# **4. Non-linear SVM**"
      ],
      "metadata": {
        "id": "Yb0yQ_JsYfTG"
      }
    },
    {
      "cell_type": "code",
      "source": [
        "nu_svm = svm.NuSVC(gamma=\"auto\")\n",
        "nu_svm.fit(X_train_vec, y_train_vec)\n",
        "y_test_vec_prediction = nu_svm.predict(X_test_vec)\n",
        "print(classification_report(y_test_vec, y_test_vec_prediction))"
      ],
      "metadata": {
        "colab": {
          "base_uri": "https://localhost:8080/"
        },
        "id": "F_HD0ZAGYgBO",
        "outputId": "7e4076cf-b986-43de-e4e1-acfcaf2d3531"
      },
      "execution_count": 40,
      "outputs": [
        {
          "output_type": "stream",
          "name": "stdout",
          "text": [
            "              precision    recall  f1-score   support\n",
            "\n",
            "           0       0.89      0.96      0.93       580\n",
            "           1       0.96      0.88      0.92       573\n",
            "\n",
            "    accuracy                           0.92      1153\n",
            "   macro avg       0.93      0.92      0.92      1153\n",
            "weighted avg       0.93      0.92      0.92      1153\n",
            "\n"
          ]
        }
      ]
    },
    {
      "cell_type": "code",
      "source": [
        "score_4 = model_evaluation(nu_svm, X_train_vec, X_test_vec, y_train_vec, y_test_vec)\n",
        "scores_data['Non-linear SVM'] = score_4"
      ],
      "metadata": {
        "colab": {
          "base_uri": "https://localhost:8080/",
          "height": 619
        },
        "id": "uRw-h_tAYsZ2",
        "outputId": "6620a7a0-6b07-40de-a3d8-e033d35bcb49"
      },
      "execution_count": 57,
      "outputs": [
        {
          "output_type": "stream",
          "name": "stdout",
          "text": [
            "\n",
            "\t\t  Train score  /  Test score\n",
            "\n",
            "Accuracy  : 0.9210297946196124 / 0.9228100607111882\n",
            "Recall    : 0.9210297946196124 / 0.9228100607111882\n",
            "Precision : 0.923199665915063 / 0.9256035236953363\n",
            "F1 Score  : 0.9209305212845343 / 0.9226623719816472\n"
          ]
        },
        {
          "output_type": "display_data",
          "data": {
            "text/plain": [
              "<Figure size 800x400 with 2 Axes>"
            ],
            "image/png": "[encoded data removed]"
          },
          "metadata": {}
        }
      ]
    },
    {
      "cell_type": "markdown",
      "source": [
        "# **5. MLPClassifier**"
      ],
      "metadata": {
        "id": "aaqEnXuXY8L_"
      }
    },
    {
      "cell_type": "code",
      "source": [
        "from sklearn.neural_network import MLPClassifier\n",
        "mlp = MLPClassifier(random_state=1, max_iter=300)\n",
        "mlp.fit(X_train_vec, y_train_vec)\n",
        "y_test_vec_prediction = mlp.predict(X_test_vec)\n",
        "print(classification_report(y_test_vec, y_test_vec_prediction))"
      ],
      "metadata": {
        "colab": {
          "base_uri": "https://localhost:8080/"
        },
        "id": "sd8rQPMIY433",
        "outputId": "02b77b2c-1c51-4da6-cd71-14177a6b9d1a"
      },
      "execution_count": 42,
      "outputs": [
        {
          "output_type": "stream",
          "name": "stdout",
          "text": [
            "              precision    recall  f1-score   support\n",
            "\n",
            "           0       0.94      0.96      0.95       580\n",
            "           1       0.96      0.94      0.95       573\n",
            "\n",
            "    accuracy                           0.95      1153\n",
            "   macro avg       0.95      0.95      0.95      1153\n",
            "weighted avg       0.95      0.95      0.95      1153\n",
            "\n"
          ]
        }
      ]
    },
    {
      "cell_type": "code",
      "source": [
        "score_5 = model_evaluation(mlp, X_train_vec, X_test_vec, y_train_vec, y_test_vec)\n",
        "scores_data['Multi-Layer Perceptron'] = score_5"
      ],
      "metadata": {
        "colab": {
          "base_uri": "https://localhost:8080/",
          "height": 619
        },
        "id": "D3UNR7d_Y50X",
        "outputId": "61acf9b2-51f1-4dde-cbdc-6dffe1b2d28e"
      },
      "execution_count": 58,
      "outputs": [
        {
          "output_type": "stream",
          "name": "stdout",
          "text": [
            "\n",
            "\t\t  Train score  /  Test score\n",
            "\n",
            "Accuracy  : 0.9929611416449715 / 0.9479618386816999\n",
            "Recall    : 0.9929611416449715 / 0.9479618386816999\n",
            "Precision : 0.9929692073982487 / 0.9482185821765079\n",
            "F1 Score  : 0.9929611031644056 / 0.9479503265764968\n"
          ]
        },
        {
          "output_type": "display_data",
          "data": {
            "text/plain": [
              "<Figure size 800x400 with 2 Axes>"
            ],
            "image/png": "[encoded data removed]"
          },
          "metadata": {}
        }
      ]
    },
    {
      "cell_type": "markdown",
      "source": [
        "# **6. Logistic Regression**"
      ],
      "metadata": {
        "id": "bBYOUozoZnPn"
      }
    },
    {
      "cell_type": "code",
      "source": [
        "from sklearn.linear_model import LogisticRegression\n",
        "\n",
        "lr = LogisticRegression()\n",
        "lr.fit(X_train_vec, y_train_vec)\n",
        "y_test_vec_prediction = lr.predict(X_test_vec)\n",
        "print(classification_report(y_test_vec, y_test_vec_prediction))"
      ],
      "metadata": {
        "colab": {
          "base_uri": "https://localhost:8080/"
        },
        "id": "9fw-zK9WZsf7",
        "outputId": "6ddb04dc-1780-4b20-e02c-ef4d84579a1e"
      },
      "execution_count": 47,
      "outputs": [
        {
          "output_type": "stream",
          "name": "stdout",
          "text": [
            "              precision    recall  f1-score   support\n",
            "\n",
            "           0       0.94      0.96      0.95       580\n",
            "           1       0.95      0.94      0.95       573\n",
            "\n",
            "    accuracy                           0.95      1153\n",
            "   macro avg       0.95      0.95      0.95      1153\n",
            "weighted avg       0.95      0.95      0.95      1153\n",
            "\n"
          ]
        }
      ]
    },
    {
      "cell_type": "code",
      "source": [
        "score_6 = model_evaluation(lr, X_train_vec, X_test_vec, y_train_vec, y_test_vec)\n",
        "scores_data['Logistic Regression'] = score_6"
      ],
      "metadata": {
        "colab": {
          "base_uri": "https://localhost:8080/",
          "height": 619
        },
        "id": "QQ0Y6YwfZ3zA",
        "outputId": "621f3de3-9ddd-4bc3-b795-e84f8f47c175"
      },
      "execution_count": 48,
      "outputs": [
        {
          "output_type": "stream",
          "name": "stdout",
          "text": [
            "\n",
            "\t\t  Train score  /  Test score\n",
            "\n",
            "Accuracy  : 0.9493780734741105 / 0.9462272333044233\n",
            "Recall    : 0.9493780734741105 / 0.9462272333044233\n",
            "Precision : 0.9494776867909501 / 0.9463559043960214\n",
            "F1 Score  : 0.9493755365589054 / 0.9462203555429433\n"
          ]
        },
        {
          "output_type": "display_data",
          "data": {
            "text/plain": [
              "<Figure size 800x400 with 2 Axes>"
            ],
            "image/png": "[encoded data removed]"
          },
          "metadata": {}
        }
      ]
    },
    {
      "cell_type": "markdown",
      "source": [
        "# **7. GradientBoosting**"
      ],
      "metadata": {
        "id": "KhIH3zeHaR3o"
      }
    },
    {
      "cell_type": "code",
      "source": [
        "from sklearn.ensemble import GradientBoostingClassifier\n",
        "\n",
        "gradient = GradientBoostingClassifier()\n",
        "gradient.fit(X_train_vec, y_train_vec)\n",
        "y_test_vec_prediction_2 = gradient.predict(X_test_vec)\n",
        "print(classification_report(y_test_vec, y_test_vec_prediction_2))"
      ],
      "metadata": {
        "colab": {
          "base_uri": "https://localhost:8080/"
        },
        "id": "-23QDV81aNNQ",
        "outputId": "2f915207-4228-40aa-eb5f-e6e42f4beb91"
      },
      "execution_count": 49,
      "outputs": [
        {
          "output_type": "stream",
          "name": "stdout",
          "text": [
            "              precision    recall  f1-score   support\n",
            "\n",
            "           0       0.90      0.94      0.92       580\n",
            "           1       0.94      0.89      0.91       573\n",
            "\n",
            "    accuracy                           0.92      1153\n",
            "   macro avg       0.92      0.92      0.92      1153\n",
            "weighted avg       0.92      0.92      0.92      1153\n",
            "\n"
          ]
        }
      ]
    },
    {
      "cell_type": "code",
      "source": [
        "score_7 = model_evaluation(gradient, X_train_vec, X_test_vec, y_train_vec, y_test_vec)\n",
        "scores_data['Gradient Boosting'] = score_7"
      ],
      "metadata": {
        "colab": {
          "base_uri": "https://localhost:8080/",
          "height": 619
        },
        "id": "pQ1cgpHQaV85",
        "outputId": "f2513b19-18ec-4915-cdf1-632b4ac73418"
      },
      "execution_count": 50,
      "outputs": [
        {
          "output_type": "stream",
          "name": "stdout",
          "text": [
            "\n",
            "\t\t  Train score  /  Test score\n",
            "\n",
            "Accuracy  : 0.933275479703018 / 0.9176062445793582\n",
            "Recall    : 0.933275479703018 / 0.9176062445793582\n",
            "Precision : 0.9340164812464721 / 0.9187911023787967\n",
            "F1 Score  : 0.9332479880179657 / 0.917533155421221\n"
          ]
        },
        {
          "output_type": "display_data",
          "data": {
            "text/plain": [
              "<Figure size 800x400 with 2 Axes>"
            ],
            "image/png": "[encoded data removed]"
          },
          "metadata": {}
        }
      ]
    },
    {
      "cell_type": "markdown",
      "source": [
        "# **Model Comparison on Testing Data**"
      ],
      "metadata": {
        "id": "uWoaMDGJa7jv"
      }
    },
    {
      "cell_type": "code",
      "source": [
        "score_df = pd.DataFrame(scores_data).T\n",
        "score_df.columns = ['accuracy', 'recall', 'precision', 'f1-score']\n",
        "score_df"
      ],
      "metadata": {
        "colab": {
          "base_uri": "https://localhost:8080/",
          "height": 269
        },
        "id": "mis-iP3na6i4",
        "outputId": "c50f6551-dedd-48a0-e025-6b59f6b27669"
      },
      "execution_count": 59,
      "outputs": [
        {
          "output_type": "execute_result",
          "data": {
            "text/plain": [
              "                        accuracy    recall  precision  f1-score\n",
              "Logistic Regression     0.946227  0.946227   0.946356  0.946220\n",
              "XGBoost                 0.945360  0.945360   0.945940  0.945336\n",
              "Support Vector          0.936687  0.936687   0.936688  0.936687\n",
              "Random Forests          0.937554  0.937554   0.937558  0.937553\n",
              "Non-linear SVM          0.922810  0.922810   0.925604  0.922662\n",
              "Multi-Layer Perceptron  0.947962  0.947962   0.948219  0.947950\n",
              "Gradient Boosting       0.917606  0.917606   0.918791  0.917533"
            ],
            "text/html": [
              "\n",
              "  <div id=\"df-5659fe81-09b9-4586-b634-6dfcddfde2b2\" class=\"colab-df-container\">\n",
              "    <div>\n",
              "<style scoped>\n",
              "    .dataframe tbody tr th:only-of-type {\n",
              "        vertical-align: middle;\n",
              "    }\n",
              "\n",
              "    .dataframe tbody tr th {\n",
              "        vertical-align: top;\n",
              "    }\n",
              "\n",
              "    .dataframe thead th {\n",
              "        text-align: right;\n",
              "    }\n",
              "</style>\n",
              "<table border=\"1\" class=\"dataframe\">\n",
              "  <thead>\n",
              "    <tr style=\"text-align: right;\">\n",
              "      <th></th>\n",
              "      <th>accuracy</th>\n",
              "      <th>recall</th>\n",
              "      <th>precision</th>\n",
              "      <th>f1-score</th>\n",
              "    </tr>\n",
              "  </thead>\n",
              "  <tbody>\n",
              "    <tr>\n",
              "      <th>Logistic Regression</th>\n",
              "      <td>0.946227</td>\n",
              "      <td>0.946227</td>\n",
              "      <td>0.946356</td>\n",
              "      <td>0.946220</td>\n",
              "    </tr>\n",
              "    <tr>\n",
              "      <th>XGBoost</th>\n",
              "      <td>0.945360</td>\n",
              "      <td>0.945360</td>\n",
              "      <td>0.945940</td>\n",
              "      <td>0.945336</td>\n",
              "    </tr>\n",
              "    <tr>\n",
              "      <th>Support Vector</th>\n",
              "      <td>0.936687</td>\n",
              "      <td>0.936687</td>\n",
              "      <td>0.936688</td>\n",
              "      <td>0.936687</td>\n",
              "    </tr>\n",
              "    <tr>\n",
              "      <th>Random Forests</th>\n",
              "      <td>0.937554</td>\n",
              "      <td>0.937554</td>\n",
              "      <td>0.937558</td>\n",
              "      <td>0.937553</td>\n",
              "    </tr>\n",
              "    <tr>\n",
              "      <th>Non-linear SVM</th>\n",
              "      <td>0.922810</td>\n",
              "      <td>0.922810</td>\n",
              "      <td>0.925604</td>\n",
              "      <td>0.922662</td>\n",
              "    </tr>\n",
              "    <tr>\n",
              "      <th>Multi-Layer Perceptron</th>\n",
              "      <td>0.947962</td>\n",
              "      <td>0.947962</td>\n",
              "      <td>0.948219</td>\n",
              "      <td>0.947950</td>\n",
              "    </tr>\n",
              "    <tr>\n",
              "      <th>Gradient Boosting</th>\n",
              "      <td>0.917606</td>\n",
              "      <td>0.917606</td>\n",
              "      <td>0.918791</td>\n",
              "      <td>0.917533</td>\n",
              "    </tr>\n",
              "  </tbody>\n",
              "</table>\n",
              "</div>\n",
              "    <div class=\"colab-df-buttons\">\n",
              "\n",
              "  <div class=\"colab-df-container\">\n",
              "    <button class=\"colab-df-convert\" onclick=\"convertToInteractive('df-5659fe81-09b9-4586-b634-6dfcddfde2b2')\"\n",
              "            title=\"Convert this dataframe to an interactive table.\"\n",
              "            style=\"display:none;\">\n",
              "\n",
              "  <svg xmlns=\"http://www.w3.org/2000/svg\" height=\"24px\" viewBox=\"0 -960 960 960\">\n",
              "    <path d=\"M120-120v-720h720v720H120Zm60-500h600v-160H180v160Zm220 220h160v-160H400v160Zm0 220h160v-160H400v160ZM180-400h160v-160H180v160Zm440 0h160v-160H620v160ZM180-180h160v-160H180v160Zm440 0h160v-160H620v160Z\"/>\n",
              "  </svg>\n",
              "    </button>\n",
              "\n",
              "  <style>\n",
              "    .colab-df-container {\n",
              "      display:flex;\n",
              "      gap: 12px;\n",
              "    }\n",
              "\n",
              "    .colab-df-convert {\n",
              "      background-color: #E8F0FE;\n",
              "      border: none;\n",
              "      border-radius: 50%;\n",
              "      cursor: pointer;\n",
              "      display: none;\n",
              "      fill: #1967D2;\n",
              "      height: 32px;\n",
              "      padding: 0 0 0 0;\n",
              "      width: 32px;\n",
              "    }\n",
              "\n",
              "    .colab-df-convert:hover {\n",
              "      background-color: #E2EBFA;\n",
              "      box-shadow: 0px 1px 2px rgba(60, 64, 67, 0.3), 0px 1px 3px 1px rgba(60, 64, 67, 0.15);\n",
              "      fill: #174EA6;\n",
              "    }\n",
              "\n",
              "    .colab-df-buttons div {\n",
              "      margin-bottom: 4px;\n",
              "    }\n",
              "\n",
              "    [theme=dark] .colab-df-convert {\n",
              "      background-color: #3B4455;\n",
              "      fill: #D2E3FC;\n",
              "    }\n",
              "\n",
              "    [theme=dark] .colab-df-convert:hover {\n",
              "      background-color: #434B5C;\n",
              "      box-shadow: 0px 1px 3px 1px rgba(0, 0, 0, 0.15);\n",
              "      filter: drop-shadow(0px 1px 2px rgba(0, 0, 0, 0.3));\n",
              "      fill: #FFFFFF;\n",
              "    }\n",
              "  </style>\n",
              "\n",
              "    <script>\n",
              "      const buttonEl =\n",
              "        document.querySelector('#df-5659fe81-09b9-4586-b634-6dfcddfde2b2 button.colab-df-convert');\n",
              "      buttonEl.style.display =\n",
              "        google.colab.kernel.accessAllowed ? 'block' : 'none';\n",
              "\n",
              "      async function convertToInteractive(key) {\n",
              "        const element = document.querySelector('#df-5659fe81-09b9-4586-b634-6dfcddfde2b2');\n",
              "        const dataTable =\n",
              "          await google.colab.kernel.invokeFunction('convertToInteractive',\n",
              "                                                    [key], {});\n",
              "        if (!dataTable) return;\n",
              "\n",
              "        const docLinkHtml = 'Like what you see? Visit the ' +\n",
              "          '<a target=\"_blank\" href=https://colab.research.google.com/notebooks/data_table.ipynb>data table notebook</a>'\n",
              "          + ' to learn more about interactive tables.';\n",
              "        element.innerHTML = '';\n",
              "        dataTable['output_type'] = 'display_data';\n",
              "        await google.colab.output.renderOutput(dataTable, element);\n",
              "        const docLink = document.createElement('div');\n",
              "        docLink.innerHTML = docLinkHtml;\n",
              "        element.appendChild(docLink);\n",
              "      }\n",
              "    </script>\n",
              "  </div>\n",
              "\n",
              "\n",
              "<div id=\"df-578ba8ba-9943-4afe-83d5-4c92e6723df0\">\n",
              "  <button class=\"colab-df-quickchart\" onclick=\"quickchart('df-578ba8ba-9943-4afe-83d5-4c92e6723df0')\"\n",
              "            title=\"Suggest charts\"\n",
              "            style=\"display:none;\">\n",
              "\n",
              "<svg xmlns=\"http://www.w3.org/2000/svg\" height=\"24px\"viewBox=\"0 0 24 24\"\n",
              "     width=\"24px\">\n",
              "    <g>\n",
              "        <path d=\"M19 3H5c-1.1 0-2 .9-2 2v14c0 1.1.9 2 2 2h14c1.1 0 2-.9 2-2V5c0-1.1-.9-2-2-2zM9 17H7v-7h2v7zm4 0h-2V7h2v10zm4 0h-2v-4h2v4z\"/>\n",
              "    </g>\n",
              "</svg>\n",
              "  </button>\n",
              "\n",
              "<style>\n",
              "  .colab-df-quickchart {\n",
              "      --bg-color: #E8F0FE;\n",
              "      --fill-color: #1967D2;\n",
              "      --hover-bg-color: #E2EBFA;\n",
              "      --hover-fill-color: #174EA6;\n",
              "      --disabled-fill-color: #AAA;\n",
              "      --disabled-bg-color: #DDD;\n",
              "  }\n",
              "\n",
              "  [theme=dark] .colab-df-quickchart {\n",
              "      --bg-color: #3B4455;\n",
              "      --fill-color: #D2E3FC;\n",
              "      --hover-bg-color: #434B5C;\n",
              "      --hover-fill-color: #FFFFFF;\n",
              "      --disabled-bg-color: #3B4455;\n",
              "      --disabled-fill-color: #666;\n",
              "  }\n",
              "\n",
              "  .colab-df-quickchart {\n",
              "    background-color: var(--bg-color);\n",
              "    border: none;\n",
              "    border-radius: 50%;\n",
              "    cursor: pointer;\n",
              "    display: none;\n",
              "    fill: var(--fill-color);\n",
              "    height: 32px;\n",
              "    padding: 0;\n",
              "    width: 32px;\n",
              "  }\n",
              "\n",
              "  .colab-df-quickchart:hover {\n",
              "    background-color: var(--hover-bg-color);\n",
              "    box-shadow: 0 1px 2px rgba(60, 64, 67, 0.3), 0 1px 3px 1px rgba(60, 64, 67, 0.15);\n",
              "    fill: var(--button-hover-fill-color);\n",
              "  }\n",
              "\n",
              "  .colab-df-quickchart-complete:disabled,\n",
              "  .colab-df-quickchart-complete:disabled:hover {\n",
              "    background-color: var(--disabled-bg-color);\n",
              "    fill: var(--disabled-fill-color);\n",
              "    box-shadow: none;\n",
              "  }\n",
              "\n",
              "  .colab-df-spinner {\n",
              "    border: 2px solid var(--fill-color);\n",
              "    border-color: transparent;\n",
              "    border-bottom-color: var(--fill-color);\n",
              "    animation:\n",
              "      spin 1s steps(1) infinite;\n",
              "  }\n",
              "\n",
              "  @keyframes spin {\n",
              "    0% {\n",
              "      border-color: transparent;\n",
              "      border-bottom-color: var(--fill-color);\n",
              "      border-left-color: var(--fill-color);\n",
              "    }\n",
              "    20% {\n",
              "      border-color: transparent;\n",
              "      border-left-color: var(--fill-color);\n",
              "      border-top-color: var(--fill-color);\n",
              "    }\n",
              "    30% {\n",
              "      border-color: transparent;\n",
              "      border-left-color: var(--fill-color);\n",
              "      border-top-color: var(--fill-color);\n",
              "      border-right-color: var(--fill-color);\n",
              "    }\n",
              "    40% {\n",
              "      border-color: transparent;\n",
              "      border-right-color: var(--fill-color);\n",
              "      border-top-color: var(--fill-color);\n",
              "    }\n",
              "    60% {\n",
              "      border-color: transparent;\n",
              "      border-right-color: var(--fill-color);\n",
              "    }\n",
              "    80% {\n",
              "      border-color: transparent;\n",
              "      border-right-color: var(--fill-color);\n",
              "      border-bottom-color: var(--fill-color);\n",
              "    }\n",
              "    90% {\n",
              "      border-color: transparent;\n",
              "      border-bottom-color: var(--fill-color);\n",
              "    }\n",
              "  }\n",
              "</style>\n",
              "\n",
              "  <script>\n",
              "    async function quickchart(key) {\n",
              "      const quickchartButtonEl =\n",
              "        document.querySelector('#' + key + ' button');\n",
              "      quickchartButtonEl.disabled = true;  // To prevent multiple clicks.\n",
              "      quickchartButtonEl.classList.add('colab-df-spinner');\n",
              "      try {\n",
              "        const charts = await google.colab.kernel.invokeFunction(\n",
              "            'suggestCharts', [key], {});\n",
              "      } catch (error) {\n",
              "        console.error('Error during call to suggestCharts:', error);\n",
              "      }\n",
              "      quickchartButtonEl.classList.remove('colab-df-spinner');\n",
              "      quickchartButtonEl.classList.add('colab-df-quickchart-complete');\n",
              "    }\n",
              "    (() => {\n",
              "      let quickchartButtonEl =\n",
              "        document.querySelector('#df-578ba8ba-9943-4afe-83d5-4c92e6723df0 button');\n",
              "      quickchartButtonEl.style.display =\n",
              "        google.colab.kernel.accessAllowed ? 'block' : 'none';\n",
              "    })();\n",
              "  </script>\n",
              "</div>\n",
              "    </div>\n",
              "  </div>\n"
            ]
          },
          "metadata": {},
          "execution_count": 59
        }
      ]
    },
    {
      "cell_type": "code",
      "source": [
        "score_df.sort_values('accuracy',ascending = False).plot(kind='bar',figsize=(8,6))\n",
        "plt.title(\"Testing Metrics for each Model\",fontsize=18,color='red')\n",
        "plt.tick_params(axis='y', colors='blue', direction='out', length=13, width=3)\n",
        "plt.xlabel(\"Modeling Approches\", fontsize=14, color = 'red')\n",
        "plt.ylim([0.85, 0.99])\n",
        "plt.ylabel(\"Test Accuracy\", fontsize=14, color = 'red')\n",
        "plt.show()"
      ],
      "metadata": {
        "colab": {
          "base_uri": "https://localhost:8080/",
          "height": 717
        },
        "id": "hkxnX9Kwb1JH",
        "outputId": "aeec4050-f0c8-49d2-b402-b84af89d46ce"
      },
      "execution_count": 60,
      "outputs": [
        {
          "output_type": "display_data",
          "data": {
            "text/plain": [
              "<Figure size 800x600 with 1 Axes>"
            ],
            "image/png": "[encoded data removed]"
          },
          "metadata": {}
        }
      ]
    },
    {
      "cell_type": "markdown",
      "source": [
        "# **Save the Encoder and Model into local file**"
      ],
      "metadata": {
        "id": "aWTSmuIMcHgo"
      }
    },
    {
      "cell_type": "code",
      "source": [
        "with open('MLP_model.pkl','wb') as f:\n",
        "    pickle.dump(mlp,f)\n",
        "with open(\"vectorizer.pkl\", \"wb\") as vec_f:\n",
        "  pickle.dump(tfidf_vectorizer, vec_f)"
      ],
      "metadata": {
        "id": "75viRkVZcOlY"
      },
      "execution_count": 62,
      "outputs": []
    },
    {
      "cell_type": "markdown",
      "source": [
        "# **Load the model and encoder**"
      ],
      "metadata": {
        "id": "qLgcR5Y9c_Xw"
      }
    },
    {
      "cell_type": "code",
      "source": [
        "with open('MLP_model.pkl', 'rb') as f:\n",
        "  clf = pickle.load(f)\n",
        "with open('vectorizer.pkl', 'rb') as vec_f:\n",
        "  vectorizer = pickle.load(vec_f)"
      ],
      "metadata": {
        "id": "94rTw6EYdH6w"
      },
      "execution_count": 64,
      "outputs": []
    },
    {
      "cell_type": "code",
      "source": [
        "def preprocess_input(text_list):\n",
        "  cleaned_text = []\n",
        "  for idx in range(len(text_list)):\n",
        "      sentence = text_list[idx]\n",
        "      removeSpecialChars = str(sentence).translate ({ord(c): \" \" for c in \"!@#$%^&*()[]{};:,./<>?\\|`~-=_+\"})\n",
        "      pattern = r'[0-9]'\n",
        "      new_string = re.sub(pattern, '', removeSpecialChars)\n",
        "      new_string = re.sub(' +', ' ', new_string)\n",
        "      new_string = ' '.join([word for word in new_string.split() if word not in stopwords.words(\"english\")])\n",
        "      new_string = ' '.join( [lemmatizer.lemmatize(w).lower() for w in new_string.split() if len(w)>1 and w not in special_words] )\n",
        "      cleaned_text.append(new_string)\n",
        "  return cleaned_text\n"
      ],
      "metadata": {
        "id": "3xIm3CsRd0La"
      },
      "execution_count": 67,
      "outputs": []
    },
    {
      "cell_type": "markdown",
      "source": [
        "# **How to predict the label for input text**"
      ],
      "metadata": {
        "id": "enyIs5cheOwR"
      }
    },
    {
      "cell_type": "code",
      "source": [
        "new_input = [\"What’s everybodies thoughts today?\", \"Anything good to buy now? Or did I miss it \"]\n",
        "input = preprocess_input(new_input)\n",
        "input"
      ],
      "metadata": {
        "colab": {
          "base_uri": "https://localhost:8080/"
        },
        "id": "qxVfGLTIePVR",
        "outputId": "ad4ec289-e5d4-4665-a60c-a5bc18362370"
      },
      "execution_count": 69,
      "outputs": [
        {
          "output_type": "execute_result",
          "data": {
            "text/plain": [
              "['what’s everybodies thought today', 'anything good buy or miss']"
            ]
          },
          "metadata": {},
          "execution_count": 69
        }
      ]
    },
    {
      "cell_type": "code",
      "source": [
        "input = vectorizer.transform(input)"
      ],
      "metadata": {
        "id": "0gJxmhI8eZRi"
      },
      "execution_count": 70,
      "outputs": []
    },
    {
      "cell_type": "code",
      "source": [
        "prediction = clf.predict(input)\n",
        "prediction"
      ],
      "metadata": {
        "colab": {
          "base_uri": "https://localhost:8080/"
        },
        "id": "kktT0puWeceI",
        "outputId": "b9c0f2d4-416b-4367-e129-ff222d6e9579"
      },
      "execution_count": 71,
      "outputs": [
        {
          "output_type": "execute_result",
          "data": {
            "text/plain": [
              "array([1, 1])"
            ]
          },
          "metadata": {},
          "execution_count": 71
        }
      ]
    },
    {
      "cell_type": "code",
      "source": [],
      "metadata": {
        "id": "zwdaO83ReeLQ"
      },
      "execution_count": null,
      "outputs": []
    }
  ]
}