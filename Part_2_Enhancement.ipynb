{
  "nbformat": 4,
  "nbformat_minor": 0,
  "metadata": {
    "colab": {
      "provenance": []
    },
    "kernelspec": {
      "name": "python3",
      "display_name": "Python 3"
    },
    "language_info": {
      "name": "python"
    }
  },
  "cells": [
    {
      "cell_type": "markdown",
      "source": [
        "## Import Python Sklearn Libraries and NLTK\n"
      ],
      "metadata": {
        "id": "Umw5ZUqYAELt"
      }
    },
    {
      "cell_type": "code",
      "execution_count": 42,
      "metadata": {
        "colab": {
          "base_uri": "https://localhost:8080/"
        },
        "id": "Y8m6ukYJIONw",
        "outputId": "be3e779e-cefd-4b02-8a6d-41cf5c2658c8"
      },
      "outputs": [
        {
          "output_type": "stream",
          "name": "stderr",
          "text": [
            "[nltk_data] Downloading package punkt to /root/nltk_data...\n",
            "[nltk_data]   Package punkt is already up-to-date!\n",
            "[nltk_data] Downloading package stopwords to /root/nltk_data...\n",
            "[nltk_data]   Package stopwords is already up-to-date!\n",
            "[nltk_data] Downloading package wordnet to /root/nltk_data...\n",
            "[nltk_data]   Package wordnet is already up-to-date!\n"
          ]
        }
      ],
      "source": [
        "import csv\n",
        "import time\n",
        "import pickle\n",
        "import pandas as pd\n",
        "import numpy as np\n",
        "import matplotlib.pyplot as plt\n",
        "import seaborn as sns\n",
        "\n",
        "import xgboost as xgb\n",
        "from sklearn.feature_extraction.text import CountVectorizer, TfidfVectorizer\n",
        "from sklearn.model_selection import train_test_split\n",
        "from sklearn.metrics import auc, accuracy_score, recall_score, f1_score, precision_score, roc_auc_score, roc_curve, confusion_matrix, precision_recall_curve, classification_report\n",
        "from sklearn import svm\n",
        "from sklearn.pipeline import Pipeline\n",
        "from sklearn.model_selection import GridSearchCV\n",
        "\n",
        "from imblearn.under_sampling import NearMiss, CondensedNearestNeighbour\n",
        "\n",
        "import nltk\n",
        "\n",
        "nltk.download(\"punkt\")\n",
        "nltk.download('stopwords')\n",
        "nltk.download('wordnet')\n",
        "\n",
        "import re\n",
        "\n",
        "from nltk.corpus import stopwords\n",
        "\n",
        "from nltk.stem import WordNetLemmatizer\n",
        "\n",
        "lemmatizer = WordNetLemmatizer()\n",
        "\n",
        "import warnings\n",
        "warnings.filterwarnings('ignore')"
      ]
    },
    {
      "cell_type": "markdown",
      "source": [
        "Get data"
      ],
      "metadata": {
        "id": "cwB1XxJPXFcu"
      }
    },
    {
      "cell_type": "code",
      "source": [
        "%pip install gdown\n",
        "import gdown"
      ],
      "metadata": {
        "colab": {
          "base_uri": "https://localhost:8080/"
        },
        "id": "lg_DKgcTXFJ8",
        "outputId": "1da0d12d-43bd-48eb-b8c6-686ecafd42de"
      },
      "execution_count": 2,
      "outputs": [
        {
          "output_type": "stream",
          "name": "stdout",
          "text": [
            "Requirement already satisfied: gdown in /usr/local/lib/python3.10/dist-packages (4.6.6)\n",
            "Requirement already satisfied: filelock in /usr/local/lib/python3.10/dist-packages (from gdown) (3.13.1)\n",
            "Requirement already satisfied: requests[socks] in /usr/local/lib/python3.10/dist-packages (from gdown) (2.31.0)\n",
            "Requirement already satisfied: six in /usr/local/lib/python3.10/dist-packages (from gdown) (1.16.0)\n",
            "Requirement already satisfied: tqdm in /usr/local/lib/python3.10/dist-packages (from gdown) (4.66.1)\n",
            "Requirement already satisfied: beautifulsoup4 in /usr/local/lib/python3.10/dist-packages (from gdown) (4.11.2)\n",
            "Requirement already satisfied: soupsieve>1.2 in /usr/local/lib/python3.10/dist-packages (from beautifulsoup4->gdown) (2.5)\n",
            "Requirement already satisfied: charset-normalizer<4,>=2 in /usr/local/lib/python3.10/dist-packages (from requests[socks]->gdown) (3.3.2)\n",
            "Requirement already satisfied: idna<4,>=2.5 in /usr/local/lib/python3.10/dist-packages (from requests[socks]->gdown) (3.6)\n",
            "Requirement already satisfied: urllib3<3,>=1.21.1 in /usr/local/lib/python3.10/dist-packages (from requests[socks]->gdown) (2.0.7)\n",
            "Requirement already satisfied: certifi>=2017.4.17 in /usr/local/lib/python3.10/dist-packages (from requests[socks]->gdown) (2023.11.17)\n",
            "Requirement already satisfied: PySocks!=1.5.7,>=1.5.6 in /usr/local/lib/python3.10/dist-packages (from requests[socks]->gdown) (1.7.1)\n"
          ]
        }
      ]
    },
    {
      "cell_type": "code",
      "source": [
        "#Shill\n",
        "download_link = 'https://drive.google.com/u/0/uc?id=1voHIcsfEhC21yr3NA_xe7xKl6tpInJbO&export=download'\n",
        "\n",
        "gdown.download(download_link, quiet=False)\n",
        "\n",
        "#Conversation\n",
        "download_link = 'https://drive.google.com/u/0/uc?id=1IZsujps4GcQtvV3gZGnhN67kIVIt4-Qv&export=download'\n",
        "\n",
        "gdown.download(download_link, quiet=False)\n",
        "\n",
        "#Special Words\n",
        "download_link = 'https://drive.google.com/u/0/uc?id=1lVsDkysOK7qXeogbjbvdT8z7aziQ5oeN&export=download'\n",
        "\n",
        "gdown.download(download_link, quiet=False)"
      ],
      "metadata": {
        "colab": {
          "base_uri": "https://localhost:8080/",
          "height": 244
        },
        "id": "-WgCq67LXFAx",
        "outputId": "979c3bbe-9c7f-4745-c68a-59c845dc515e"
      },
      "execution_count": 3,
      "outputs": [
        {
          "output_type": "stream",
          "name": "stderr",
          "text": [
            "Downloading...\n",
            "From: https://drive.google.com/u/0/uc?id=1voHIcsfEhC21yr3NA_xe7xKl6tpInJbO&export=download\n",
            "To: /content/shill.csv\n",
            "100%|██████████| 1.40M/1.40M [00:00<00:00, 10.8MB/s]\n",
            "Downloading...\n",
            "From: https://drive.google.com/u/0/uc?id=1IZsujps4GcQtvV3gZGnhN67kIVIt4-Qv&export=download\n",
            "To: /content/conversation.csv\n",
            "100%|██████████| 1.40M/1.40M [00:00<00:00, 10.5MB/s]\n",
            "Downloading...\n",
            "From: https://drive.google.com/u/0/uc?id=1lVsDkysOK7qXeogbjbvdT8z7aziQ5oeN&export=download\n",
            "To: /content/specialWords.txt\n",
            "100%|██████████| 33.3k/33.3k [00:00<00:00, 48.2MB/s]\n"
          ]
        },
        {
          "output_type": "execute_result",
          "data": {
            "text/plain": [
              "'specialWords.txt'"
            ],
            "application/vnd.google.colaboratory.intrinsic+json": {
              "type": "string"
            }
          },
          "metadata": {},
          "execution_count": 3
        }
      ]
    },
    {
      "cell_type": "markdown",
      "source": [
        "## Load the dataset and remove invalid data"
      ],
      "metadata": {
        "id": "q8qKHZzAP9p9"
      }
    },
    {
      "cell_type": "code",
      "source": [
        "raw_data = pd.read_csv('shill.csv', sep = ';', header = None)\n",
        "raw_data.columns = [\"Text\", \"Class\"]\n",
        "raw_data.head(10)"
      ],
      "metadata": {
        "colab": {
          "base_uri": "https://localhost:8080/",
          "height": 363
        },
        "id": "5j1ZJxcoP8_1",
        "outputId": "baf34be7-d632-4ac3-e05d-66c520c28275"
      },
      "execution_count": 23,
      "outputs": [
        {
          "output_type": "execute_result",
          "data": {
            "text/plain": [
              "                                                Text  Class\n",
              "0         i feel lots of crypto has exhausted itself    1.0\n",
              "1  How are you guys feeling today ??? :Bear:  or ...    1.0\n",
              "2                         Did not take a trade today    1.0\n",
              "3                      Just entered eos long trade 👌    1.0\n",
              "4       Anything good to buy now? Or did I miss it 😭    1.0\n",
              "5  GL trading tonight guys.  I'm off to eat dinne...    1.0\n",
              "6         Okay my long position is still open on eth    1.0\n",
              "7                  morning guys any trades avaiable?    1.0\n",
              "8                 What’s everybodies thoughts today?    1.0\n",
              "9  Are you guys more bullish or bearish for this ...    1.0"
            ],
            "text/html": [
              "\n",
              "  <div id=\"df-2790f25a-77d5-46b2-9aa4-1b6ab66c2fc9\" class=\"colab-df-container\">\n",
              "    <div>\n",
              "<style scoped>\n",
              "    .dataframe tbody tr th:only-of-type {\n",
              "        vertical-align: middle;\n",
              "    }\n",
              "\n",
              "    .dataframe tbody tr th {\n",
              "        vertical-align: top;\n",
              "    }\n",
              "\n",
              "    .dataframe thead th {\n",
              "        text-align: right;\n",
              "    }\n",
              "</style>\n",
              "<table border=\"1\" class=\"dataframe\">\n",
              "  <thead>\n",
              "    <tr style=\"text-align: right;\">\n",
              "      <th></th>\n",
              "      <th>Text</th>\n",
              "      <th>Class</th>\n",
              "    </tr>\n",
              "  </thead>\n",
              "  <tbody>\n",
              "    <tr>\n",
              "      <th>0</th>\n",
              "      <td>i feel lots of crypto has exhausted itself</td>\n",
              "      <td>1.0</td>\n",
              "    </tr>\n",
              "    <tr>\n",
              "      <th>1</th>\n",
              "      <td>How are you guys feeling today ??? :Bear:  or ...</td>\n",
              "      <td>1.0</td>\n",
              "    </tr>\n",
              "    <tr>\n",
              "      <th>2</th>\n",
              "      <td>Did not take a trade today</td>\n",
              "      <td>1.0</td>\n",
              "    </tr>\n",
              "    <tr>\n",
              "      <th>3</th>\n",
              "      <td>Just entered eos long trade 👌</td>\n",
              "      <td>1.0</td>\n",
              "    </tr>\n",
              "    <tr>\n",
              "      <th>4</th>\n",
              "      <td>Anything good to buy now? Or did I miss it 😭</td>\n",
              "      <td>1.0</td>\n",
              "    </tr>\n",
              "    <tr>\n",
              "      <th>5</th>\n",
              "      <td>GL trading tonight guys.  I'm off to eat dinne...</td>\n",
              "      <td>1.0</td>\n",
              "    </tr>\n",
              "    <tr>\n",
              "      <th>6</th>\n",
              "      <td>Okay my long position is still open on eth</td>\n",
              "      <td>1.0</td>\n",
              "    </tr>\n",
              "    <tr>\n",
              "      <th>7</th>\n",
              "      <td>morning guys any trades avaiable?</td>\n",
              "      <td>1.0</td>\n",
              "    </tr>\n",
              "    <tr>\n",
              "      <th>8</th>\n",
              "      <td>What’s everybodies thoughts today?</td>\n",
              "      <td>1.0</td>\n",
              "    </tr>\n",
              "    <tr>\n",
              "      <th>9</th>\n",
              "      <td>Are you guys more bullish or bearish for this ...</td>\n",
              "      <td>1.0</td>\n",
              "    </tr>\n",
              "  </tbody>\n",
              "</table>\n",
              "</div>\n",
              "    <div class=\"colab-df-buttons\">\n",
              "\n",
              "  <div class=\"colab-df-container\">\n",
              "    <button class=\"colab-df-convert\" onclick=\"convertToInteractive('df-2790f25a-77d5-46b2-9aa4-1b6ab66c2fc9')\"\n",
              "            title=\"Convert this dataframe to an interactive table.\"\n",
              "            style=\"display:none;\">\n",
              "\n",
              "  <svg xmlns=\"http://www.w3.org/2000/svg\" height=\"24px\" viewBox=\"0 -960 960 960\">\n",
              "    <path d=\"M120-120v-720h720v720H120Zm60-500h600v-160H180v160Zm220 220h160v-160H400v160Zm0 220h160v-160H400v160ZM180-400h160v-160H180v160Zm440 0h160v-160H620v160ZM180-180h160v-160H180v160Zm440 0h160v-160H620v160Z\"/>\n",
              "  </svg>\n",
              "    </button>\n",
              "\n",
              "  <style>\n",
              "    .colab-df-container {\n",
              "      display:flex;\n",
              "      gap: 12px;\n",
              "    }\n",
              "\n",
              "    .colab-df-convert {\n",
              "      background-color: #E8F0FE;\n",
              "      border: none;\n",
              "      border-radius: 50%;\n",
              "      cursor: pointer;\n",
              "      display: none;\n",
              "      fill: #1967D2;\n",
              "      height: 32px;\n",
              "      padding: 0 0 0 0;\n",
              "      width: 32px;\n",
              "    }\n",
              "\n",
              "    .colab-df-convert:hover {\n",
              "      background-color: #E2EBFA;\n",
              "      box-shadow: 0px 1px 2px rgba(60, 64, 67, 0.3), 0px 1px 3px 1px rgba(60, 64, 67, 0.15);\n",
              "      fill: #174EA6;\n",
              "    }\n",
              "\n",
              "    .colab-df-buttons div {\n",
              "      margin-bottom: 4px;\n",
              "    }\n",
              "\n",
              "    [theme=dark] .colab-df-convert {\n",
              "      background-color: #3B4455;\n",
              "      fill: #D2E3FC;\n",
              "    }\n",
              "\n",
              "    [theme=dark] .colab-df-convert:hover {\n",
              "      background-color: #434B5C;\n",
              "      box-shadow: 0px 1px 3px 1px rgba(0, 0, 0, 0.15);\n",
              "      filter: drop-shadow(0px 1px 2px rgba(0, 0, 0, 0.3));\n",
              "      fill: #FFFFFF;\n",
              "    }\n",
              "  </style>\n",
              "\n",
              "    <script>\n",
              "      const buttonEl =\n",
              "        document.querySelector('#df-2790f25a-77d5-46b2-9aa4-1b6ab66c2fc9 button.colab-df-convert');\n",
              "      buttonEl.style.display =\n",
              "        google.colab.kernel.accessAllowed ? 'block' : 'none';\n",
              "\n",
              "      async function convertToInteractive(key) {\n",
              "        const element = document.querySelector('#df-2790f25a-77d5-46b2-9aa4-1b6ab66c2fc9');\n",
              "        const dataTable =\n",
              "          await google.colab.kernel.invokeFunction('convertToInteractive',\n",
              "                                                    [key], {});\n",
              "        if (!dataTable) return;\n",
              "\n",
              "        const docLinkHtml = 'Like what you see? Visit the ' +\n",
              "          '<a target=\"_blank\" href=https://colab.research.google.com/notebooks/data_table.ipynb>data table notebook</a>'\n",
              "          + ' to learn more about interactive tables.';\n",
              "        element.innerHTML = '';\n",
              "        dataTable['output_type'] = 'display_data';\n",
              "        await google.colab.output.renderOutput(dataTable, element);\n",
              "        const docLink = document.createElement('div');\n",
              "        docLink.innerHTML = docLinkHtml;\n",
              "        element.appendChild(docLink);\n",
              "      }\n",
              "    </script>\n",
              "  </div>\n",
              "\n",
              "\n",
              "<div id=\"df-8786d8e2-22ba-451b-a80a-a95733a2841e\">\n",
              "  <button class=\"colab-df-quickchart\" onclick=\"quickchart('df-8786d8e2-22ba-451b-a80a-a95733a2841e')\"\n",
              "            title=\"Suggest charts\"\n",
              "            style=\"display:none;\">\n",
              "\n",
              "<svg xmlns=\"http://www.w3.org/2000/svg\" height=\"24px\"viewBox=\"0 0 24 24\"\n",
              "     width=\"24px\">\n",
              "    <g>\n",
              "        <path d=\"M19 3H5c-1.1 0-2 .9-2 2v14c0 1.1.9 2 2 2h14c1.1 0 2-.9 2-2V5c0-1.1-.9-2-2-2zM9 17H7v-7h2v7zm4 0h-2V7h2v10zm4 0h-2v-4h2v4z\"/>\n",
              "    </g>\n",
              "</svg>\n",
              "  </button>\n",
              "\n",
              "<style>\n",
              "  .colab-df-quickchart {\n",
              "      --bg-color: #E8F0FE;\n",
              "      --fill-color: #1967D2;\n",
              "      --hover-bg-color: #E2EBFA;\n",
              "      --hover-fill-color: #174EA6;\n",
              "      --disabled-fill-color: #AAA;\n",
              "      --disabled-bg-color: #DDD;\n",
              "  }\n",
              "\n",
              "  [theme=dark] .colab-df-quickchart {\n",
              "      --bg-color: #3B4455;\n",
              "      --fill-color: #D2E3FC;\n",
              "      --hover-bg-color: #434B5C;\n",
              "      --hover-fill-color: #FFFFFF;\n",
              "      --disabled-bg-color: #3B4455;\n",
              "      --disabled-fill-color: #666;\n",
              "  }\n",
              "\n",
              "  .colab-df-quickchart {\n",
              "    background-color: var(--bg-color);\n",
              "    border: none;\n",
              "    border-radius: 50%;\n",
              "    cursor: pointer;\n",
              "    display: none;\n",
              "    fill: var(--fill-color);\n",
              "    height: 32px;\n",
              "    padding: 0;\n",
              "    width: 32px;\n",
              "  }\n",
              "\n",
              "  .colab-df-quickchart:hover {\n",
              "    background-color: var(--hover-bg-color);\n",
              "    box-shadow: 0 1px 2px rgba(60, 64, 67, 0.3), 0 1px 3px 1px rgba(60, 64, 67, 0.15);\n",
              "    fill: var(--button-hover-fill-color);\n",
              "  }\n",
              "\n",
              "  .colab-df-quickchart-complete:disabled,\n",
              "  .colab-df-quickchart-complete:disabled:hover {\n",
              "    background-color: var(--disabled-bg-color);\n",
              "    fill: var(--disabled-fill-color);\n",
              "    box-shadow: none;\n",
              "  }\n",
              "\n",
              "  .colab-df-spinner {\n",
              "    border: 2px solid var(--fill-color);\n",
              "    border-color: transparent;\n",
              "    border-bottom-color: var(--fill-color);\n",
              "    animation:\n",
              "      spin 1s steps(1) infinite;\n",
              "  }\n",
              "\n",
              "  @keyframes spin {\n",
              "    0% {\n",
              "      border-color: transparent;\n",
              "      border-bottom-color: var(--fill-color);\n",
              "      border-left-color: var(--fill-color);\n",
              "    }\n",
              "    20% {\n",
              "      border-color: transparent;\n",
              "      border-left-color: var(--fill-color);\n",
              "      border-top-color: var(--fill-color);\n",
              "    }\n",
              "    30% {\n",
              "      border-color: transparent;\n",
              "      border-left-color: var(--fill-color);\n",
              "      border-top-color: var(--fill-color);\n",
              "      border-right-color: var(--fill-color);\n",
              "    }\n",
              "    40% {\n",
              "      border-color: transparent;\n",
              "      border-right-color: var(--fill-color);\n",
              "      border-top-color: var(--fill-color);\n",
              "    }\n",
              "    60% {\n",
              "      border-color: transparent;\n",
              "      border-right-color: var(--fill-color);\n",
              "    }\n",
              "    80% {\n",
              "      border-color: transparent;\n",
              "      border-right-color: var(--fill-color);\n",
              "      border-bottom-color: var(--fill-color);\n",
              "    }\n",
              "    90% {\n",
              "      border-color: transparent;\n",
              "      border-bottom-color: var(--fill-color);\n",
              "    }\n",
              "  }\n",
              "</style>\n",
              "\n",
              "  <script>\n",
              "    async function quickchart(key) {\n",
              "      const quickchartButtonEl =\n",
              "        document.querySelector('#' + key + ' button');\n",
              "      quickchartButtonEl.disabled = true;  // To prevent multiple clicks.\n",
              "      quickchartButtonEl.classList.add('colab-df-spinner');\n",
              "      try {\n",
              "        const charts = await google.colab.kernel.invokeFunction(\n",
              "            'suggestCharts', [key], {});\n",
              "      } catch (error) {\n",
              "        console.error('Error during call to suggestCharts:', error);\n",
              "      }\n",
              "      quickchartButtonEl.classList.remove('colab-df-spinner');\n",
              "      quickchartButtonEl.classList.add('colab-df-quickchart-complete');\n",
              "    }\n",
              "    (() => {\n",
              "      let quickchartButtonEl =\n",
              "        document.querySelector('#df-8786d8e2-22ba-451b-a80a-a95733a2841e button');\n",
              "      quickchartButtonEl.style.display =\n",
              "        google.colab.kernel.accessAllowed ? 'block' : 'none';\n",
              "    })();\n",
              "  </script>\n",
              "</div>\n",
              "    </div>\n",
              "  </div>\n"
            ]
          },
          "metadata": {},
          "execution_count": 23
        }
      ]
    },
    {
      "cell_type": "code",
      "source": [
        "raw_data['Class'].value_counts(normalize = True).plot.bar()"
      ],
      "metadata": {
        "colab": {
          "base_uri": "https://localhost:8080/",
          "height": 455
        },
        "id": "vUVjjho0QJJN",
        "outputId": "8b8966ec-9f62-4fa3-c343-d426491571fb"
      },
      "execution_count": 24,
      "outputs": [
        {
          "output_type": "execute_result",
          "data": {
            "text/plain": [
              "<Axes: >"
            ]
          },
          "metadata": {},
          "execution_count": 24
        },
        {
          "output_type": "display_data",
          "data": {
            "text/plain": [
              "<Figure size 640x480 with 1 Axes>"
            ],
            "image/png": "[encoded data removed]"
          },
          "metadata": {}
        }
      ]
    },
    {
      "cell_type": "markdown",
      "source": [
        "## Data Preprocessing"
      ],
      "metadata": {
        "id": "qOF0t2N5Qtid"
      }
    },
    {
      "cell_type": "code",
      "source": [
        "lemmatizer = WordNetLemmatizer()\n",
        "with open('specialWords.txt') as file:\n",
        "    special_words = [line.strip().lower() for line in file] # lower the special words"
      ],
      "metadata": {
        "id": "SJ2-tn32QsfV"
      },
      "execution_count": 25,
      "outputs": []
    },
    {
      "cell_type": "code",
      "source": [
        "## cleaning text data, remove special charactors, numbers, puncatations, stopwords removing, lower casing, skip special words\n",
        "cleaned_text = []\n",
        "existing_special_words = []\n",
        "for idx in range(len(raw_data)):\n",
        "    sentence = raw_data['Text'][idx]\n",
        "    # ignore slash \"/\" in punctuation removing, but if slash is not there in special words, remove it\n",
        "    removeSpecialChars = str(sentence).translate ({ord(c): \" \" for c in \"!@#$%^&*()[]{};:,.<>?\\|`~-=_+\"})\n",
        "    pattern = r'[0-9]'\n",
        "    new_string = re.sub(pattern, '', removeSpecialChars)\n",
        "    new_string = re.sub(' +', ' ', new_string)\n",
        "    new_string = ' '.join([word for word in new_string.split() if word not in stopwords.words(\"english\")])\n",
        "    existing_special_word = any(w in special_words for w in new_string.split())\n",
        "    # keep slash for Special words, but if not special words, remove slash from the word\n",
        "    new_string = ' '.join([lemmatizer.lemmatize(w).lower() if len(w)>1 and w.lower() not in special_words else w.replace(\"/\", \"\").lower() for w in new_string.split() ] )\n",
        "    cleaned_text.append(new_string)\n",
        "    existing_special_words.append(existing_special_word)\n",
        "\n",
        "raw_data['cleaned_text'] = cleaned_text\n",
        "raw_data['existing'] = existing_special_words\n",
        "\n"
      ],
      "metadata": {
        "id": "e3nC3774Rw1m"
      },
      "execution_count": 26,
      "outputs": []
    },
    {
      "cell_type": "code",
      "source": [
        "raw_data.head(30)"
      ],
      "metadata": {
        "colab": {
          "base_uri": "https://localhost:8080/",
          "height": 1000
        },
        "id": "ySjp6ek1ShMW",
        "outputId": "647960eb-9bfc-4c26-85f4-da2dcd31e072"
      },
      "execution_count": 27,
      "outputs": [
        {
          "output_type": "execute_result",
          "data": {
            "text/plain": [
              "                                                 Text  Class  \\\n",
              "0          i feel lots of crypto has exhausted itself    1.0   \n",
              "1   How are you guys feeling today ??? :Bear:  or ...    1.0   \n",
              "2                          Did not take a trade today    1.0   \n",
              "3                       Just entered eos long trade 👌    1.0   \n",
              "4        Anything good to buy now? Or did I miss it 😭    1.0   \n",
              "5   GL trading tonight guys.  I'm off to eat dinne...    1.0   \n",
              "6          Okay my long position is still open on eth    1.0   \n",
              "7                   morning guys any trades avaiable?    1.0   \n",
              "8                  What’s everybodies thoughts today?    1.0   \n",
              "9   Are you guys more bullish or bearish for this ...    1.0   \n",
              "10                            I'm 100% up on the long    1.0   \n",
              "11                              I am up 17% on Solana    1.0   \n",
              "12                                  Good luck longing    1.0   \n",
              "13  Hey Guys. Please share trades you are going fo...    1.0   \n",
              "14        Hi everyone!  Does anybody have to on rune?    1.0   \n",
              "15  Hey guys, i need a favor, can anyone do a TA f...    1.0   \n",
              "16  I'm still long  +43% AVAX +40% DOT +17% SOL .....    1.0   \n",
              "17  Good morning from sunny South Africa. \\n\\nWhat...    1.0   \n",
              "18  Hi everyone are people in longs or shorts today ?    1.0   \n",
              "19  Trading long and short at the same time messes...    1.0   \n",
              "20                Helloooo bullish or bearish today??    1.0   \n",
              "21                                              Hello    0.0   \n",
              "22                        So is everyone shorting eth    0.0   \n",
              "23                               Markets a turd today    0.0   \n",
              "24                                             Yo yo!    0.0   \n",
              "25                                 Hello banter fam .    0.0   \n",
              "26                             Hope you all are ready    0.0   \n",
              "27                                         Good luck!    0.0   \n",
              "28                                        Good luck 🤞    0.0   \n",
              "29     i reckon we have a slow grind up and then dump    0.0   \n",
              "\n",
              "                                         cleaned_text  existing  \n",
              "0                           feel lot crypto exhausted      True  \n",
              "1                     how guy feeling today bear bull     False  \n",
              "2                                did take trade today     False  \n",
              "3                       just entered eos long trade 👌      True  \n",
              "4                       anything good buy or i miss 😭     False  \n",
              "5   gl trading tonight guy i'm eat dinner 🙂 watch ...     False  \n",
              "6                   okay long position still open eth      True  \n",
              "7                          morning guy trade avaiable     False  \n",
              "8                    what’s everybodies thought today     False  \n",
              "9                        are guy bullish bearish week     False  \n",
              "10                                           i'm long     False  \n",
              "11                                           i solana     False  \n",
              "12                                  good luck longing     False  \n",
              "13                  hey guys please share trade going     False  \n",
              "14                      hi everyone does anybody rune      True  \n",
              "15                  hey guy need favor anyone ta atom     False  \n",
              "16  i'm still long avax dot sol i like way working...     False  \n",
              "17  good morning sunny south africa what trade hot...      True  \n",
              "18               hi everyone people longs short today      True  \n",
              "19             trading long short time mess brain lol     False  \n",
              "20                     helloooo bullish bearish today     False  \n",
              "21                                              hello     False  \n",
              "22                           so everyone shorting eth      True  \n",
              "23                                 markets turd today     False  \n",
              "24                                              yo yo     False  \n",
              "25                                   hello banter fam     False  \n",
              "26                                         hope ready     False  \n",
              "27                                          good luck     False  \n",
              "28                                        good luck 🤞     False  \n",
              "29                             reckon slow grind dump     False  "
            ],
            "text/html": [
              "\n",
              "  <div id=\"df-033a6900-0ec9-4174-a747-a8bab5e0cd1d\" class=\"colab-df-container\">\n",
              "    <div>\n",
              "<style scoped>\n",
              "    .dataframe tbody tr th:only-of-type {\n",
              "        vertical-align: middle;\n",
              "    }\n",
              "\n",
              "    .dataframe tbody tr th {\n",
              "        vertical-align: top;\n",
              "    }\n",
              "\n",
              "    .dataframe thead th {\n",
              "        text-align: right;\n",
              "    }\n",
              "</style>\n",
              "<table border=\"1\" class=\"dataframe\">\n",
              "  <thead>\n",
              "    <tr style=\"text-align: right;\">\n",
              "      <th></th>\n",
              "      <th>Text</th>\n",
              "      <th>Class</th>\n",
              "      <th>cleaned_text</th>\n",
              "      <th>existing</th>\n",
              "    </tr>\n",
              "  </thead>\n",
              "  <tbody>\n",
              "    <tr>\n",
              "      <th>0</th>\n",
              "      <td>i feel lots of crypto has exhausted itself</td>\n",
              "      <td>1.0</td>\n",
              "      <td>feel lot crypto exhausted</td>\n",
              "      <td>True</td>\n",
              "    </tr>\n",
              "    <tr>\n",
              "      <th>1</th>\n",
              "      <td>How are you guys feeling today ??? :Bear:  or ...</td>\n",
              "      <td>1.0</td>\n",
              "      <td>how guy feeling today bear bull</td>\n",
              "      <td>False</td>\n",
              "    </tr>\n",
              "    <tr>\n",
              "      <th>2</th>\n",
              "      <td>Did not take a trade today</td>\n",
              "      <td>1.0</td>\n",
              "      <td>did take trade today</td>\n",
              "      <td>False</td>\n",
              "    </tr>\n",
              "    <tr>\n",
              "      <th>3</th>\n",
              "      <td>Just entered eos long trade 👌</td>\n",
              "      <td>1.0</td>\n",
              "      <td>just entered eos long trade 👌</td>\n",
              "      <td>True</td>\n",
              "    </tr>\n",
              "    <tr>\n",
              "      <th>4</th>\n",
              "      <td>Anything good to buy now? Or did I miss it 😭</td>\n",
              "      <td>1.0</td>\n",
              "      <td>anything good buy or i miss 😭</td>\n",
              "      <td>False</td>\n",
              "    </tr>\n",
              "    <tr>\n",
              "      <th>5</th>\n",
              "      <td>GL trading tonight guys.  I'm off to eat dinne...</td>\n",
              "      <td>1.0</td>\n",
              "      <td>gl trading tonight guy i'm eat dinner 🙂 watch ...</td>\n",
              "      <td>False</td>\n",
              "    </tr>\n",
              "    <tr>\n",
              "      <th>6</th>\n",
              "      <td>Okay my long position is still open on eth</td>\n",
              "      <td>1.0</td>\n",
              "      <td>okay long position still open eth</td>\n",
              "      <td>True</td>\n",
              "    </tr>\n",
              "    <tr>\n",
              "      <th>7</th>\n",
              "      <td>morning guys any trades avaiable?</td>\n",
              "      <td>1.0</td>\n",
              "      <td>morning guy trade avaiable</td>\n",
              "      <td>False</td>\n",
              "    </tr>\n",
              "    <tr>\n",
              "      <th>8</th>\n",
              "      <td>What’s everybodies thoughts today?</td>\n",
              "      <td>1.0</td>\n",
              "      <td>what’s everybodies thought today</td>\n",
              "      <td>False</td>\n",
              "    </tr>\n",
              "    <tr>\n",
              "      <th>9</th>\n",
              "      <td>Are you guys more bullish or bearish for this ...</td>\n",
              "      <td>1.0</td>\n",
              "      <td>are guy bullish bearish week</td>\n",
              "      <td>False</td>\n",
              "    </tr>\n",
              "    <tr>\n",
              "      <th>10</th>\n",
              "      <td>I'm 100% up on the long</td>\n",
              "      <td>1.0</td>\n",
              "      <td>i'm long</td>\n",
              "      <td>False</td>\n",
              "    </tr>\n",
              "    <tr>\n",
              "      <th>11</th>\n",
              "      <td>I am up 17% on Solana</td>\n",
              "      <td>1.0</td>\n",
              "      <td>i solana</td>\n",
              "      <td>False</td>\n",
              "    </tr>\n",
              "    <tr>\n",
              "      <th>12</th>\n",
              "      <td>Good luck longing</td>\n",
              "      <td>1.0</td>\n",
              "      <td>good luck longing</td>\n",
              "      <td>False</td>\n",
              "    </tr>\n",
              "    <tr>\n",
              "      <th>13</th>\n",
              "      <td>Hey Guys. Please share trades you are going fo...</td>\n",
              "      <td>1.0</td>\n",
              "      <td>hey guys please share trade going</td>\n",
              "      <td>False</td>\n",
              "    </tr>\n",
              "    <tr>\n",
              "      <th>14</th>\n",
              "      <td>Hi everyone!  Does anybody have to on rune?</td>\n",
              "      <td>1.0</td>\n",
              "      <td>hi everyone does anybody rune</td>\n",
              "      <td>True</td>\n",
              "    </tr>\n",
              "    <tr>\n",
              "      <th>15</th>\n",
              "      <td>Hey guys, i need a favor, can anyone do a TA f...</td>\n",
              "      <td>1.0</td>\n",
              "      <td>hey guy need favor anyone ta atom</td>\n",
              "      <td>False</td>\n",
              "    </tr>\n",
              "    <tr>\n",
              "      <th>16</th>\n",
              "      <td>I'm still long  +43% AVAX +40% DOT +17% SOL .....</td>\n",
              "      <td>1.0</td>\n",
              "      <td>i'm still long avax dot sol i like way working...</td>\n",
              "      <td>False</td>\n",
              "    </tr>\n",
              "    <tr>\n",
              "      <th>17</th>\n",
              "      <td>Good morning from sunny South Africa. \\n\\nWhat...</td>\n",
              "      <td>1.0</td>\n",
              "      <td>good morning sunny south africa what trade hot...</td>\n",
              "      <td>True</td>\n",
              "    </tr>\n",
              "    <tr>\n",
              "      <th>18</th>\n",
              "      <td>Hi everyone are people in longs or shorts today ?</td>\n",
              "      <td>1.0</td>\n",
              "      <td>hi everyone people longs short today</td>\n",
              "      <td>True</td>\n",
              "    </tr>\n",
              "    <tr>\n",
              "      <th>19</th>\n",
              "      <td>Trading long and short at the same time messes...</td>\n",
              "      <td>1.0</td>\n",
              "      <td>trading long short time mess brain lol</td>\n",
              "      <td>False</td>\n",
              "    </tr>\n",
              "    <tr>\n",
              "      <th>20</th>\n",
              "      <td>Helloooo bullish or bearish today??</td>\n",
              "      <td>1.0</td>\n",
              "      <td>helloooo bullish bearish today</td>\n",
              "      <td>False</td>\n",
              "    </tr>\n",
              "    <tr>\n",
              "      <th>21</th>\n",
              "      <td>Hello</td>\n",
              "      <td>0.0</td>\n",
              "      <td>hello</td>\n",
              "      <td>False</td>\n",
              "    </tr>\n",
              "    <tr>\n",
              "      <th>22</th>\n",
              "      <td>So is everyone shorting eth</td>\n",
              "      <td>0.0</td>\n",
              "      <td>so everyone shorting eth</td>\n",
              "      <td>True</td>\n",
              "    </tr>\n",
              "    <tr>\n",
              "      <th>23</th>\n",
              "      <td>Markets a turd today</td>\n",
              "      <td>0.0</td>\n",
              "      <td>markets turd today</td>\n",
              "      <td>False</td>\n",
              "    </tr>\n",
              "    <tr>\n",
              "      <th>24</th>\n",
              "      <td>Yo yo!</td>\n",
              "      <td>0.0</td>\n",
              "      <td>yo yo</td>\n",
              "      <td>False</td>\n",
              "    </tr>\n",
              "    <tr>\n",
              "      <th>25</th>\n",
              "      <td>Hello banter fam .</td>\n",
              "      <td>0.0</td>\n",
              "      <td>hello banter fam</td>\n",
              "      <td>False</td>\n",
              "    </tr>\n",
              "    <tr>\n",
              "      <th>26</th>\n",
              "      <td>Hope you all are ready</td>\n",
              "      <td>0.0</td>\n",
              "      <td>hope ready</td>\n",
              "      <td>False</td>\n",
              "    </tr>\n",
              "    <tr>\n",
              "      <th>27</th>\n",
              "      <td>Good luck!</td>\n",
              "      <td>0.0</td>\n",
              "      <td>good luck</td>\n",
              "      <td>False</td>\n",
              "    </tr>\n",
              "    <tr>\n",
              "      <th>28</th>\n",
              "      <td>Good luck 🤞</td>\n",
              "      <td>0.0</td>\n",
              "      <td>good luck 🤞</td>\n",
              "      <td>False</td>\n",
              "    </tr>\n",
              "    <tr>\n",
              "      <th>29</th>\n",
              "      <td>i reckon we have a slow grind up and then dump</td>\n",
              "      <td>0.0</td>\n",
              "      <td>reckon slow grind dump</td>\n",
              "      <td>False</td>\n",
              "    </tr>\n",
              "  </tbody>\n",
              "</table>\n",
              "</div>\n",
              "    <div class=\"colab-df-buttons\">\n",
              "\n",
              "  <div class=\"colab-df-container\">\n",
              "    <button class=\"colab-df-convert\" onclick=\"convertToInteractive('df-033a6900-0ec9-4174-a747-a8bab5e0cd1d')\"\n",
              "            title=\"Convert this dataframe to an interactive table.\"\n",
              "            style=\"display:none;\">\n",
              "\n",
              "  <svg xmlns=\"http://www.w3.org/2000/svg\" height=\"24px\" viewBox=\"0 -960 960 960\">\n",
              "    <path d=\"M120-120v-720h720v720H120Zm60-500h600v-160H180v160Zm220 220h160v-160H400v160Zm0 220h160v-160H400v160ZM180-400h160v-160H180v160Zm440 0h160v-160H620v160ZM180-180h160v-160H180v160Zm440 0h160v-160H620v160Z\"/>\n",
              "  </svg>\n",
              "    </button>\n",
              "\n",
              "  <style>\n",
              "    .colab-df-container {\n",
              "      display:flex;\n",
              "      gap: 12px;\n",
              "    }\n",
              "\n",
              "    .colab-df-convert {\n",
              "      background-color: #E8F0FE;\n",
              "      border: none;\n",
              "      border-radius: 50%;\n",
              "      cursor: pointer;\n",
              "      display: none;\n",
              "      fill: #1967D2;\n",
              "      height: 32px;\n",
              "      padding: 0 0 0 0;\n",
              "      width: 32px;\n",
              "    }\n",
              "\n",
              "    .colab-df-convert:hover {\n",
              "      background-color: #E2EBFA;\n",
              "      box-shadow: 0px 1px 2px rgba(60, 64, 67, 0.3), 0px 1px 3px 1px rgba(60, 64, 67, 0.15);\n",
              "      fill: #174EA6;\n",
              "    }\n",
              "\n",
              "    .colab-df-buttons div {\n",
              "      margin-bottom: 4px;\n",
              "    }\n",
              "\n",
              "    [theme=dark] .colab-df-convert {\n",
              "      background-color: #3B4455;\n",
              "      fill: #D2E3FC;\n",
              "    }\n",
              "\n",
              "    [theme=dark] .colab-df-convert:hover {\n",
              "      background-color: #434B5C;\n",
              "      box-shadow: 0px 1px 3px 1px rgba(0, 0, 0, 0.15);\n",
              "      filter: drop-shadow(0px 1px 2px rgba(0, 0, 0, 0.3));\n",
              "      fill: #FFFFFF;\n",
              "    }\n",
              "  </style>\n",
              "\n",
              "    <script>\n",
              "      const buttonEl =\n",
              "        document.querySelector('#df-033a6900-0ec9-4174-a747-a8bab5e0cd1d button.colab-df-convert');\n",
              "      buttonEl.style.display =\n",
              "        google.colab.kernel.accessAllowed ? 'block' : 'none';\n",
              "\n",
              "      async function convertToInteractive(key) {\n",
              "        const element = document.querySelector('#df-033a6900-0ec9-4174-a747-a8bab5e0cd1d');\n",
              "        const dataTable =\n",
              "          await google.colab.kernel.invokeFunction('convertToInteractive',\n",
              "                                                    [key], {});\n",
              "        if (!dataTable) return;\n",
              "\n",
              "        const docLinkHtml = 'Like what you see? Visit the ' +\n",
              "          '<a target=\"_blank\" href=https://colab.research.google.com/notebooks/data_table.ipynb>data table notebook</a>'\n",
              "          + ' to learn more about interactive tables.';\n",
              "        element.innerHTML = '';\n",
              "        dataTable['output_type'] = 'display_data';\n",
              "        await google.colab.output.renderOutput(dataTable, element);\n",
              "        const docLink = document.createElement('div');\n",
              "        docLink.innerHTML = docLinkHtml;\n",
              "        element.appendChild(docLink);\n",
              "      }\n",
              "    </script>\n",
              "  </div>\n",
              "\n",
              "\n",
              "<div id=\"df-a016e4e2-0161-4b6f-b2e5-a75ddba867b2\">\n",
              "  <button class=\"colab-df-quickchart\" onclick=\"quickchart('df-a016e4e2-0161-4b6f-b2e5-a75ddba867b2')\"\n",
              "            title=\"Suggest charts\"\n",
              "            style=\"display:none;\">\n",
              "\n",
              "<svg xmlns=\"http://www.w3.org/2000/svg\" height=\"24px\"viewBox=\"0 0 24 24\"\n",
              "     width=\"24px\">\n",
              "    <g>\n",
              "        <path d=\"M19 3H5c-1.1 0-2 .9-2 2v14c0 1.1.9 2 2 2h14c1.1 0 2-.9 2-2V5c0-1.1-.9-2-2-2zM9 17H7v-7h2v7zm4 0h-2V7h2v10zm4 0h-2v-4h2v4z\"/>\n",
              "    </g>\n",
              "</svg>\n",
              "  </button>\n",
              "\n",
              "<style>\n",
              "  .colab-df-quickchart {\n",
              "      --bg-color: #E8F0FE;\n",
              "      --fill-color: #1967D2;\n",
              "      --hover-bg-color: #E2EBFA;\n",
              "      --hover-fill-color: #174EA6;\n",
              "      --disabled-fill-color: #AAA;\n",
              "      --disabled-bg-color: #DDD;\n",
              "  }\n",
              "\n",
              "  [theme=dark] .colab-df-quickchart {\n",
              "      --bg-color: #3B4455;\n",
              "      --fill-color: #D2E3FC;\n",
              "      --hover-bg-color: #434B5C;\n",
              "      --hover-fill-color: #FFFFFF;\n",
              "      --disabled-bg-color: #3B4455;\n",
              "      --disabled-fill-color: #666;\n",
              "  }\n",
              "\n",
              "  .colab-df-quickchart {\n",
              "    background-color: var(--bg-color);\n",
              "    border: none;\n",
              "    border-radius: 50%;\n",
              "    cursor: pointer;\n",
              "    display: none;\n",
              "    fill: var(--fill-color);\n",
              "    height: 32px;\n",
              "    padding: 0;\n",
              "    width: 32px;\n",
              "  }\n",
              "\n",
              "  .colab-df-quickchart:hover {\n",
              "    background-color: var(--hover-bg-color);\n",
              "    box-shadow: 0 1px 2px rgba(60, 64, 67, 0.3), 0 1px 3px 1px rgba(60, 64, 67, 0.15);\n",
              "    fill: var(--button-hover-fill-color);\n",
              "  }\n",
              "\n",
              "  .colab-df-quickchart-complete:disabled,\n",
              "  .colab-df-quickchart-complete:disabled:hover {\n",
              "    background-color: var(--disabled-bg-color);\n",
              "    fill: var(--disabled-fill-color);\n",
              "    box-shadow: none;\n",
              "  }\n",
              "\n",
              "  .colab-df-spinner {\n",
              "    border: 2px solid var(--fill-color);\n",
              "    border-color: transparent;\n",
              "    border-bottom-color: var(--fill-color);\n",
              "    animation:\n",
              "      spin 1s steps(1) infinite;\n",
              "  }\n",
              "\n",
              "  @keyframes spin {\n",
              "    0% {\n",
              "      border-color: transparent;\n",
              "      border-bottom-color: var(--fill-color);\n",
              "      border-left-color: var(--fill-color);\n",
              "    }\n",
              "    20% {\n",
              "      border-color: transparent;\n",
              "      border-left-color: var(--fill-color);\n",
              "      border-top-color: var(--fill-color);\n",
              "    }\n",
              "    30% {\n",
              "      border-color: transparent;\n",
              "      border-left-color: var(--fill-color);\n",
              "      border-top-color: var(--fill-color);\n",
              "      border-right-color: var(--fill-color);\n",
              "    }\n",
              "    40% {\n",
              "      border-color: transparent;\n",
              "      border-right-color: var(--fill-color);\n",
              "      border-top-color: var(--fill-color);\n",
              "    }\n",
              "    60% {\n",
              "      border-color: transparent;\n",
              "      border-right-color: var(--fill-color);\n",
              "    }\n",
              "    80% {\n",
              "      border-color: transparent;\n",
              "      border-right-color: var(--fill-color);\n",
              "      border-bottom-color: var(--fill-color);\n",
              "    }\n",
              "    90% {\n",
              "      border-color: transparent;\n",
              "      border-bottom-color: var(--fill-color);\n",
              "    }\n",
              "  }\n",
              "</style>\n",
              "\n",
              "  <script>\n",
              "    async function quickchart(key) {\n",
              "      const quickchartButtonEl =\n",
              "        document.querySelector('#' + key + ' button');\n",
              "      quickchartButtonEl.disabled = true;  // To prevent multiple clicks.\n",
              "      quickchartButtonEl.classList.add('colab-df-spinner');\n",
              "      try {\n",
              "        const charts = await google.colab.kernel.invokeFunction(\n",
              "            'suggestCharts', [key], {});\n",
              "      } catch (error) {\n",
              "        console.error('Error during call to suggestCharts:', error);\n",
              "      }\n",
              "      quickchartButtonEl.classList.remove('colab-df-spinner');\n",
              "      quickchartButtonEl.classList.add('colab-df-quickchart-complete');\n",
              "    }\n",
              "    (() => {\n",
              "      let quickchartButtonEl =\n",
              "        document.querySelector('#df-a016e4e2-0161-4b6f-b2e5-a75ddba867b2 button');\n",
              "      quickchartButtonEl.style.display =\n",
              "        google.colab.kernel.accessAllowed ? 'block' : 'none';\n",
              "    })();\n",
              "  </script>\n",
              "</div>\n",
              "    </div>\n",
              "  </div>\n"
            ]
          },
          "metadata": {},
          "execution_count": 27
        }
      ]
    },
    {
      "cell_type": "markdown",
      "source": [
        "**how many entries were dropped after pre-processing**"
      ],
      "metadata": {
        "id": "GBgY4fKK2dDU"
      }
    },
    {
      "cell_type": "code",
      "source": [
        "## drop missing rows\n",
        "dropped_dataset=raw_data.dropna()\n",
        "dropped_dataset['Class'] = dropped_dataset['Class'].astype(int)\n",
        "print(\"Droped samples : \", len(raw_data) - len(dropped_dataset))"
      ],
      "metadata": {
        "colab": {
          "base_uri": "https://localhost:8080/"
        },
        "id": "p2rb3aACSdPF",
        "outputId": "eb71bea5-49ca-4852-8b43-dffab5b4f411"
      },
      "execution_count": 28,
      "outputs": [
        {
          "output_type": "stream",
          "name": "stdout",
          "text": [
            "Droped samples :  513\n"
          ]
        }
      ]
    },
    {
      "cell_type": "markdown",
      "source": [
        "**Need to store a column specified if raw text contains Special words or not**"
      ],
      "metadata": {
        "id": "p9jqAepNlkmM"
      }
    },
    {
      "cell_type": "code",
      "source": [
        "dropped_dataset['Class_Existing'] = dropped_dataset.apply(lambda row: str(row.Class) + \"_\" + str(row.existing), axis = 1)"
      ],
      "metadata": {
        "id": "Pm4YDS2EkTZM"
      },
      "execution_count": 30,
      "outputs": []
    },
    {
      "cell_type": "code",
      "source": [
        "dropped_dataset.head()"
      ],
      "metadata": {
        "colab": {
          "base_uri": "https://localhost:8080/",
          "height": 206
        },
        "id": "i4shotDVk8Tc",
        "outputId": "faaedd08-3ee3-45ce-f8b4-b01b260399e1"
      },
      "execution_count": 31,
      "outputs": [
        {
          "output_type": "execute_result",
          "data": {
            "text/plain": [
              "                                                Text  Class  \\\n",
              "0         i feel lots of crypto has exhausted itself      1   \n",
              "1  How are you guys feeling today ??? :Bear:  or ...      1   \n",
              "2                         Did not take a trade today      1   \n",
              "3                      Just entered eos long trade 👌      1   \n",
              "4       Anything good to buy now? Or did I miss it 😭      1   \n",
              "\n",
              "                      cleaned_text  existing Class_Existing  \n",
              "0        feel lot crypto exhausted      True         1_True  \n",
              "1  how guy feeling today bear bull     False        1_False  \n",
              "2             did take trade today     False        1_False  \n",
              "3    just entered eos long trade 👌      True         1_True  \n",
              "4    anything good buy or i miss 😭     False        1_False  "
            ],
            "text/html": [
              "\n",
              "  <div id=\"df-6e8a5e1e-7d65-4d22-9118-6222cf394cd7\" class=\"colab-df-container\">\n",
              "    <div>\n",
              "<style scoped>\n",
              "    .dataframe tbody tr th:only-of-type {\n",
              "        vertical-align: middle;\n",
              "    }\n",
              "\n",
              "    .dataframe tbody tr th {\n",
              "        vertical-align: top;\n",
              "    }\n",
              "\n",
              "    .dataframe thead th {\n",
              "        text-align: right;\n",
              "    }\n",
              "</style>\n",
              "<table border=\"1\" class=\"dataframe\">\n",
              "  <thead>\n",
              "    <tr style=\"text-align: right;\">\n",
              "      <th></th>\n",
              "      <th>Text</th>\n",
              "      <th>Class</th>\n",
              "      <th>cleaned_text</th>\n",
              "      <th>existing</th>\n",
              "      <th>Class_Existing</th>\n",
              "    </tr>\n",
              "  </thead>\n",
              "  <tbody>\n",
              "    <tr>\n",
              "      <th>0</th>\n",
              "      <td>i feel lots of crypto has exhausted itself</td>\n",
              "      <td>1</td>\n",
              "      <td>feel lot crypto exhausted</td>\n",
              "      <td>True</td>\n",
              "      <td>1_True</td>\n",
              "    </tr>\n",
              "    <tr>\n",
              "      <th>1</th>\n",
              "      <td>How are you guys feeling today ??? :Bear:  or ...</td>\n",
              "      <td>1</td>\n",
              "      <td>how guy feeling today bear bull</td>\n",
              "      <td>False</td>\n",
              "      <td>1_False</td>\n",
              "    </tr>\n",
              "    <tr>\n",
              "      <th>2</th>\n",
              "      <td>Did not take a trade today</td>\n",
              "      <td>1</td>\n",
              "      <td>did take trade today</td>\n",
              "      <td>False</td>\n",
              "      <td>1_False</td>\n",
              "    </tr>\n",
              "    <tr>\n",
              "      <th>3</th>\n",
              "      <td>Just entered eos long trade 👌</td>\n",
              "      <td>1</td>\n",
              "      <td>just entered eos long trade 👌</td>\n",
              "      <td>True</td>\n",
              "      <td>1_True</td>\n",
              "    </tr>\n",
              "    <tr>\n",
              "      <th>4</th>\n",
              "      <td>Anything good to buy now? Or did I miss it 😭</td>\n",
              "      <td>1</td>\n",
              "      <td>anything good buy or i miss 😭</td>\n",
              "      <td>False</td>\n",
              "      <td>1_False</td>\n",
              "    </tr>\n",
              "  </tbody>\n",
              "</table>\n",
              "</div>\n",
              "    <div class=\"colab-df-buttons\">\n",
              "\n",
              "  <div class=\"colab-df-container\">\n",
              "    <button class=\"colab-df-convert\" onclick=\"convertToInteractive('df-6e8a5e1e-7d65-4d22-9118-6222cf394cd7')\"\n",
              "            title=\"Convert this dataframe to an interactive table.\"\n",
              "            style=\"display:none;\">\n",
              "\n",
              "  <svg xmlns=\"http://www.w3.org/2000/svg\" height=\"24px\" viewBox=\"0 -960 960 960\">\n",
              "    <path d=\"M120-120v-720h720v720H120Zm60-500h600v-160H180v160Zm220 220h160v-160H400v160Zm0 220h160v-160H400v160ZM180-400h160v-160H180v160Zm440 0h160v-160H620v160ZM180-180h160v-160H180v160Zm440 0h160v-160H620v160Z\"/>\n",
              "  </svg>\n",
              "    </button>\n",
              "\n",
              "  <style>\n",
              "    .colab-df-container {\n",
              "      display:flex;\n",
              "      gap: 12px;\n",
              "    }\n",
              "\n",
              "    .colab-df-convert {\n",
              "      background-color: #E8F0FE;\n",
              "      border: none;\n",
              "      border-radius: 50%;\n",
              "      cursor: pointer;\n",
              "      display: none;\n",
              "      fill: #1967D2;\n",
              "      height: 32px;\n",
              "      padding: 0 0 0 0;\n",
              "      width: 32px;\n",
              "    }\n",
              "\n",
              "    .colab-df-convert:hover {\n",
              "      background-color: #E2EBFA;\n",
              "      box-shadow: 0px 1px 2px rgba(60, 64, 67, 0.3), 0px 1px 3px 1px rgba(60, 64, 67, 0.15);\n",
              "      fill: #174EA6;\n",
              "    }\n",
              "\n",
              "    .colab-df-buttons div {\n",
              "      margin-bottom: 4px;\n",
              "    }\n",
              "\n",
              "    [theme=dark] .colab-df-convert {\n",
              "      background-color: #3B4455;\n",
              "      fill: #D2E3FC;\n",
              "    }\n",
              "\n",
              "    [theme=dark] .colab-df-convert:hover {\n",
              "      background-color: #434B5C;\n",
              "      box-shadow: 0px 1px 3px 1px rgba(0, 0, 0, 0.15);\n",
              "      filter: drop-shadow(0px 1px 2px rgba(0, 0, 0, 0.3));\n",
              "      fill: #FFFFFF;\n",
              "    }\n",
              "  </style>\n",
              "\n",
              "    <script>\n",
              "      const buttonEl =\n",
              "        document.querySelector('#df-6e8a5e1e-7d65-4d22-9118-6222cf394cd7 button.colab-df-convert');\n",
              "      buttonEl.style.display =\n",
              "        google.colab.kernel.accessAllowed ? 'block' : 'none';\n",
              "\n",
              "      async function convertToInteractive(key) {\n",
              "        const element = document.querySelector('#df-6e8a5e1e-7d65-4d22-9118-6222cf394cd7');\n",
              "        const dataTable =\n",
              "          await google.colab.kernel.invokeFunction('convertToInteractive',\n",
              "                                                    [key], {});\n",
              "        if (!dataTable) return;\n",
              "\n",
              "        const docLinkHtml = 'Like what you see? Visit the ' +\n",
              "          '<a target=\"_blank\" href=https://colab.research.google.com/notebooks/data_table.ipynb>data table notebook</a>'\n",
              "          + ' to learn more about interactive tables.';\n",
              "        element.innerHTML = '';\n",
              "        dataTable['output_type'] = 'display_data';\n",
              "        await google.colab.output.renderOutput(dataTable, element);\n",
              "        const docLink = document.createElement('div');\n",
              "        docLink.innerHTML = docLinkHtml;\n",
              "        element.appendChild(docLink);\n",
              "      }\n",
              "    </script>\n",
              "  </div>\n",
              "\n",
              "\n",
              "<div id=\"df-03b202f2-f01d-48b6-b12c-e4d90309da5c\">\n",
              "  <button class=\"colab-df-quickchart\" onclick=\"quickchart('df-03b202f2-f01d-48b6-b12c-e4d90309da5c')\"\n",
              "            title=\"Suggest charts\"\n",
              "            style=\"display:none;\">\n",
              "\n",
              "<svg xmlns=\"http://www.w3.org/2000/svg\" height=\"24px\"viewBox=\"0 0 24 24\"\n",
              "     width=\"24px\">\n",
              "    <g>\n",
              "        <path d=\"M19 3H5c-1.1 0-2 .9-2 2v14c0 1.1.9 2 2 2h14c1.1 0 2-.9 2-2V5c0-1.1-.9-2-2-2zM9 17H7v-7h2v7zm4 0h-2V7h2v10zm4 0h-2v-4h2v4z\"/>\n",
              "    </g>\n",
              "</svg>\n",
              "  </button>\n",
              "\n",
              "<style>\n",
              "  .colab-df-quickchart {\n",
              "      --bg-color: #E8F0FE;\n",
              "      --fill-color: #1967D2;\n",
              "      --hover-bg-color: #E2EBFA;\n",
              "      --hover-fill-color: #174EA6;\n",
              "      --disabled-fill-color: #AAA;\n",
              "      --disabled-bg-color: #DDD;\n",
              "  }\n",
              "\n",
              "  [theme=dark] .colab-df-quickchart {\n",
              "      --bg-color: #3B4455;\n",
              "      --fill-color: #D2E3FC;\n",
              "      --hover-bg-color: #434B5C;\n",
              "      --hover-fill-color: #FFFFFF;\n",
              "      --disabled-bg-color: #3B4455;\n",
              "      --disabled-fill-color: #666;\n",
              "  }\n",
              "\n",
              "  .colab-df-quickchart {\n",
              "    background-color: var(--bg-color);\n",
              "    border: none;\n",
              "    border-radius: 50%;\n",
              "    cursor: pointer;\n",
              "    display: none;\n",
              "    fill: var(--fill-color);\n",
              "    height: 32px;\n",
              "    padding: 0;\n",
              "    width: 32px;\n",
              "  }\n",
              "\n",
              "  .colab-df-quickchart:hover {\n",
              "    background-color: var(--hover-bg-color);\n",
              "    box-shadow: 0 1px 2px rgba(60, 64, 67, 0.3), 0 1px 3px 1px rgba(60, 64, 67, 0.15);\n",
              "    fill: var(--button-hover-fill-color);\n",
              "  }\n",
              "\n",
              "  .colab-df-quickchart-complete:disabled,\n",
              "  .colab-df-quickchart-complete:disabled:hover {\n",
              "    background-color: var(--disabled-bg-color);\n",
              "    fill: var(--disabled-fill-color);\n",
              "    box-shadow: none;\n",
              "  }\n",
              "\n",
              "  .colab-df-spinner {\n",
              "    border: 2px solid var(--fill-color);\n",
              "    border-color: transparent;\n",
              "    border-bottom-color: var(--fill-color);\n",
              "    animation:\n",
              "      spin 1s steps(1) infinite;\n",
              "  }\n",
              "\n",
              "  @keyframes spin {\n",
              "    0% {\n",
              "      border-color: transparent;\n",
              "      border-bottom-color: var(--fill-color);\n",
              "      border-left-color: var(--fill-color);\n",
              "    }\n",
              "    20% {\n",
              "      border-color: transparent;\n",
              "      border-left-color: var(--fill-color);\n",
              "      border-top-color: var(--fill-color);\n",
              "    }\n",
              "    30% {\n",
              "      border-color: transparent;\n",
              "      border-left-color: var(--fill-color);\n",
              "      border-top-color: var(--fill-color);\n",
              "      border-right-color: var(--fill-color);\n",
              "    }\n",
              "    40% {\n",
              "      border-color: transparent;\n",
              "      border-right-color: var(--fill-color);\n",
              "      border-top-color: var(--fill-color);\n",
              "    }\n",
              "    60% {\n",
              "      border-color: transparent;\n",
              "      border-right-color: var(--fill-color);\n",
              "    }\n",
              "    80% {\n",
              "      border-color: transparent;\n",
              "      border-right-color: var(--fill-color);\n",
              "      border-bottom-color: var(--fill-color);\n",
              "    }\n",
              "    90% {\n",
              "      border-color: transparent;\n",
              "      border-bottom-color: var(--fill-color);\n",
              "    }\n",
              "  }\n",
              "</style>\n",
              "\n",
              "  <script>\n",
              "    async function quickchart(key) {\n",
              "      const quickchartButtonEl =\n",
              "        document.querySelector('#' + key + ' button');\n",
              "      quickchartButtonEl.disabled = true;  // To prevent multiple clicks.\n",
              "      quickchartButtonEl.classList.add('colab-df-spinner');\n",
              "      try {\n",
              "        const charts = await google.colab.kernel.invokeFunction(\n",
              "            'suggestCharts', [key], {});\n",
              "      } catch (error) {\n",
              "        console.error('Error during call to suggestCharts:', error);\n",
              "      }\n",
              "      quickchartButtonEl.classList.remove('colab-df-spinner');\n",
              "      quickchartButtonEl.classList.add('colab-df-quickchart-complete');\n",
              "    }\n",
              "    (() => {\n",
              "      let quickchartButtonEl =\n",
              "        document.querySelector('#df-03b202f2-f01d-48b6-b12c-e4d90309da5c button');\n",
              "      quickchartButtonEl.style.display =\n",
              "        google.colab.kernel.accessAllowed ? 'block' : 'none';\n",
              "    })();\n",
              "  </script>\n",
              "</div>\n",
              "    </div>\n",
              "  </div>\n"
            ]
          },
          "metadata": {},
          "execution_count": 31
        }
      ]
    },
    {
      "cell_type": "markdown",
      "source": [
        "## Data Sampling (Undersampling)"
      ],
      "metadata": {
        "id": "wYDF1f8hQTR3"
      }
    },
    {
      "cell_type": "code",
      "source": [
        "class_1_data = dropped_dataset[dropped_dataset[\"Class\"] == 1]\n",
        "class_0_data = dropped_dataset[dropped_dataset[\"Class\"] == 0]\n",
        "\n",
        "print(\"Samples of Class 0 : \", len(class_0_data.index))\n",
        "print(\"Samples of Class 1 : \", len(class_1_data.index))"
      ],
      "metadata": {
        "colab": {
          "base_uri": "https://localhost:8080/"
        },
        "id": "hrriUkgAQUZf",
        "outputId": "eb94965b-e272-41f2-fb1b-ee01be7f3116"
      },
      "execution_count": 32,
      "outputs": [
        {
          "output_type": "stream",
          "name": "stdout",
          "text": [
            "Samples of Class 0 :  23211\n",
            "Samples of Class 1 :  6025\n"
          ]
        }
      ]
    },
    {
      "cell_type": "markdown",
      "source": [
        "## Vectorization of Text Data"
      ],
      "metadata": {
        "id": "95rWcH_TCr5g"
      }
    },
    {
      "cell_type": "code",
      "source": [
        "tfidf_vectorizer = TfidfVectorizer(max_features=1000, max_df = 0.6, min_df = 5, ngram_range = (1, 1))\n",
        "tfidf = tfidf_vectorizer.fit_transform(dropped_dataset['cleaned_text'].values.astype('U'))"
      ],
      "metadata": {
        "id": "V5k-E9XZh9Ay"
      },
      "execution_count": 35,
      "outputs": []
    },
    {
      "cell_type": "code",
      "source": [
        "X_orig = tfidf.copy()\n",
        "y_orig = dropped_dataset[\"Class\"]"
      ],
      "metadata": {
        "id": "JXJP_7HmjNhr"
      },
      "execution_count": 45,
      "outputs": []
    },
    {
      "cell_type": "code",
      "source": [
        "# define the undersampling method\n",
        "undersample = NearMiss(version=1, n_neighbors=3)\n",
        "# transform the dataset\n",
        "X, y = undersample.fit_resample(X_orig, y_orig)"
      ],
      "metadata": {
        "id": "H-6qfhRViXkT"
      },
      "execution_count": 47,
      "outputs": []
    },
    {
      "cell_type": "code",
      "source": [
        "print(X.shape, y.shape)"
      ],
      "metadata": {
        "colab": {
          "base_uri": "https://localhost:8080/"
        },
        "id": "TGNzOgLGm4vs",
        "outputId": "36968055-ac2b-47ab-b7e6-da39b9d235df"
      },
      "execution_count": 48,
      "outputs": [
        {
          "output_type": "stream",
          "name": "stdout",
          "text": [
            "(12050, 1000) (12050,)\n"
          ]
        }
      ]
    },
    {
      "cell_type": "markdown",
      "source": [
        "# **Splitting into Train and Test**"
      ],
      "metadata": {
        "id": "XM9UHOzDiCNF"
      }
    },
    {
      "cell_type": "code",
      "source": [
        "\n",
        "X_train, X_test, y_train, y_test = train_test_split(X, y, test_size=0.1, random_state=0, shuffle=True)"
      ],
      "metadata": {
        "id": "Foo727LdCrQp"
      },
      "execution_count": 49,
      "outputs": []
    },
    {
      "cell_type": "code",
      "source": [
        "scores_data = {}\n",
        "models = {}\n",
        "FPs = {}\n"
      ],
      "metadata": {
        "id": "QTo3iHvzC6aC"
      },
      "execution_count": null,
      "outputs": []
    },
    {
      "cell_type": "markdown",
      "source": [
        "# **1. XGBoost Model**"
      ],
      "metadata": {
        "id": "PzQ8DfYuQhYl"
      }
    },
    {
      "cell_type": "code",
      "source": [
        "xgb_pipe = Pipeline([\n",
        " ('xgb', xgb.XGBClassifier())\n",
        "])\n",
        "xgb_pipe.fit(X_train, y_train)\n",
        "xgb_parameters = {\n",
        "    'xgb__max_depth': range (2, 10, 4),\n",
        "    'xgb__n_estimators': range(60, 220, 80),\n",
        "    'xgb__learning_rate': [0.1, 0.01, 0.05]\n",
        "}"
      ],
      "metadata": {
        "id": "5YPK7l19QiCL"
      },
      "execution_count": 50,
      "outputs": []
    },
    {
      "cell_type": "code",
      "source": [
        "# Setting up GridSearch for XGBoost\n",
        "startTime = time.time()\n",
        "xgb_gs = GridSearchCV(xgb_pipe, param_grid=xgb_parameters, cv = 3, verbose = 1, n_jobs = -1, scoring = 'roc_auc',)\n",
        "xgb_gs.fit(X_train, y_train)\n",
        "cpu_time = (time.time() - startTime)\n",
        "print(cpu_time)"
      ],
      "metadata": {
        "id": "1Nyj7NzJRyAH",
        "colab": {
          "base_uri": "https://localhost:8080/"
        },
        "outputId": "2fadefdf-f6e7-45c7-9e0d-32a8a2474b13"
      },
      "execution_count": 51,
      "outputs": [
        {
          "output_type": "stream",
          "name": "stdout",
          "text": [
            "Fitting 3 folds for each of 12 candidates, totalling 36 fits\n",
            "19.08158588409424\n"
          ]
        }
      ]
    },
    {
      "cell_type": "code",
      "source": [
        "xgb_gs.best_params_"
      ],
      "metadata": {
        "id": "ygFDhftNVZRB",
        "colab": {
          "base_uri": "https://localhost:8080/"
        },
        "outputId": "3134ce4f-3990-48dd-969a-9709e12f7971"
      },
      "execution_count": 52,
      "outputs": [
        {
          "output_type": "execute_result",
          "data": {
            "text/plain": [
              "{'xgb__learning_rate': 0.1, 'xgb__max_depth': 6, 'xgb__n_estimators': 140}"
            ]
          },
          "metadata": {},
          "execution_count": 52
        }
      ]
    },
    {
      "cell_type": "code",
      "source": [
        "xgb_gs.best_score_"
      ],
      "metadata": {
        "id": "H--sMIimVbml",
        "colab": {
          "base_uri": "https://localhost:8080/"
        },
        "outputId": "711f3d4c-f6fe-425e-fd0e-9621d595d3a5"
      },
      "execution_count": 53,
      "outputs": [
        {
          "output_type": "execute_result",
          "data": {
            "text/plain": [
              "0.9614178674610278"
            ]
          },
          "metadata": {},
          "execution_count": 53
        }
      ]
    },
    {
      "cell_type": "code",
      "source": [
        "best_xgb = xgb_gs.best_estimator_"
      ],
      "metadata": {
        "id": "erMe3VLbVlGU"
      },
      "execution_count": 54,
      "outputs": []
    },
    {
      "cell_type": "code",
      "source": [
        "with open('{}.pkl'.format(\"best_xgb\"),'wb') as f:\n",
        "      pickle.dump(best_xgb,f)"
      ],
      "metadata": {
        "id": "Z62la-TRk6ap"
      },
      "execution_count": 55,
      "outputs": []
    },
    {
      "cell_type": "markdown",
      "source": [
        "# **2. SVM Classifier**"
      ],
      "metadata": {
        "id": "y40dVLChn7gE"
      }
    },
    {
      "cell_type": "code",
      "source": [
        "svc_pipe = Pipeline([\n",
        " ('svc', svm.SVC(probability= True))\n",
        "])\n",
        "svc_pipe.fit(X_train, y_train)\n",
        "svc_parameters = {\n",
        "    'svc__probability':[True],\n",
        "    'svc__C':[1,10,100], #[1,10,100,1000]\n",
        "    'svc__gamma':[1,0.1,0.001,0.0001],\n",
        "    'svc__kernel':['linear','rbf']\n",
        "}"
      ],
      "metadata": {
        "id": "qZnnX3vPn8PA"
      },
      "execution_count": 56,
      "outputs": []
    },
    {
      "cell_type": "code",
      "source": [
        "# Setting up GridSearch for SVC\n",
        "startTime = time.time()\n",
        "svc_gs = GridSearchCV(svc_pipe, param_grid=svc_parameters, cv = 3, verbose = 1, n_jobs = -1, scoring = 'roc_auc')\n",
        "svc_gs.fit(X_train, y_train)\n",
        "cpu_time = (time.time() - startTime)\n",
        "print(cpu_time)"
      ],
      "metadata": {
        "id": "DMf7LhxJoheg",
        "colab": {
          "base_uri": "https://localhost:8080/"
        },
        "outputId": "547e59e9-ec49-448e-a831-5a286c5d0c75"
      },
      "execution_count": 57,
      "outputs": [
        {
          "output_type": "stream",
          "name": "stdout",
          "text": [
            "Fitting 3 folds for each of 24 candidates, totalling 72 fits\n",
            "563.7148327827454\n"
          ]
        }
      ]
    },
    {
      "cell_type": "code",
      "source": [
        "svc_gs.best_params_"
      ],
      "metadata": {
        "id": "NTYpXecoUYPf",
        "colab": {
          "base_uri": "https://localhost:8080/"
        },
        "outputId": "a9acd768-a000-4734-cb87-38539855c9b9"
      },
      "execution_count": 58,
      "outputs": [
        {
          "output_type": "execute_result",
          "data": {
            "text/plain": [
              "{'svc__C': 1, 'svc__gamma': 1, 'svc__kernel': 'rbf', 'svc__probability': True}"
            ]
          },
          "metadata": {},
          "execution_count": 58
        }
      ]
    },
    {
      "cell_type": "code",
      "source": [
        "svc_gs.best_score_"
      ],
      "metadata": {
        "id": "Wv_NnKh7Ubko",
        "colab": {
          "base_uri": "https://localhost:8080/"
        },
        "outputId": "cb9e1e31-14f1-4a99-ba9f-f5601ef37212"
      },
      "execution_count": 59,
      "outputs": [
        {
          "output_type": "execute_result",
          "data": {
            "text/plain": [
              "0.9623842952568887"
            ]
          },
          "metadata": {},
          "execution_count": 59
        }
      ]
    },
    {
      "cell_type": "code",
      "source": [
        "best_svc = svc_gs.best_estimator_"
      ],
      "metadata": {
        "id": "3ofZVN9oql_z"
      },
      "execution_count": 60,
      "outputs": []
    },
    {
      "cell_type": "code",
      "source": [
        "with open('{}.pkl'.format(\"best_svc_prob\"),'wb') as f:\n",
        "      pickle.dump(best_svc,f)"
      ],
      "metadata": {
        "id": "Ae8I7yfxql_z"
      },
      "execution_count": 61,
      "outputs": []
    },
    {
      "cell_type": "markdown",
      "source": [
        "# **3. Random Forests**"
      ],
      "metadata": {
        "id": "Na3iJucOtZW-"
      }
    },
    {
      "cell_type": "code",
      "source": [
        "from sklearn.ensemble import RandomForestClassifier\n",
        "rf_pipe = Pipeline([\n",
        " ('rf', RandomForestClassifier())\n",
        "])\n",
        "rf_pipe.fit(X_train, y_train)\n",
        "rf_parameters = {\n",
        "    'rf__n_estimators': [200, 500],\n",
        "    'rf__max_features': ['auto', 'sqrt'],\n",
        "    'rf__max_depth' : [4,5,6],\n",
        "    'rf__criterion' :['gini', 'entropy']\n",
        "}"
      ],
      "metadata": {
        "id": "IwAOBFkjtZxI"
      },
      "execution_count": 62,
      "outputs": []
    },
    {
      "cell_type": "code",
      "source": [
        "# Setting up GridSearch for XGBoost\n",
        "startTime = time.time()\n",
        "rf_gs = GridSearchCV(rf_pipe, param_grid=rf_parameters, cv = 3, verbose = 1, n_jobs = -1, scoring = 'roc_auc',)\n",
        "rf_gs.fit(X_train, y_train)\n",
        "cpu_time = (time.time() - startTime)\n",
        "print(cpu_time)"
      ],
      "metadata": {
        "id": "IDWzd18CuNqD",
        "colab": {
          "base_uri": "https://localhost:8080/"
        },
        "outputId": "6dd74a78-ea5c-4aee-87b2-a84fe59281bb"
      },
      "execution_count": 63,
      "outputs": [
        {
          "output_type": "stream",
          "name": "stdout",
          "text": [
            "Fitting 3 folds for each of 24 candidates, totalling 72 fits\n",
            "63.45443415641785\n"
          ]
        }
      ]
    },
    {
      "cell_type": "code",
      "source": [
        "rf_gs.best_params_"
      ],
      "metadata": {
        "id": "MZH2zcmEuHqJ",
        "colab": {
          "base_uri": "https://localhost:8080/"
        },
        "outputId": "bfd11064-7dda-4e2b-efd2-4b9a29ed9ce0"
      },
      "execution_count": 64,
      "outputs": [
        {
          "output_type": "execute_result",
          "data": {
            "text/plain": [
              "{'rf__criterion': 'gini',\n",
              " 'rf__max_depth': 6,\n",
              " 'rf__max_features': 'sqrt',\n",
              " 'rf__n_estimators': 500}"
            ]
          },
          "metadata": {},
          "execution_count": 64
        }
      ]
    },
    {
      "cell_type": "code",
      "source": [
        "rf_gs.best_score_"
      ],
      "metadata": {
        "id": "BVUfRmSsuHqK",
        "colab": {
          "base_uri": "https://localhost:8080/"
        },
        "outputId": "41753d2a-0f44-4853-c9b0-5c4ca0371198"
      },
      "execution_count": 65,
      "outputs": [
        {
          "output_type": "execute_result",
          "data": {
            "text/plain": [
              "0.9379336698955814"
            ]
          },
          "metadata": {},
          "execution_count": 65
        }
      ]
    },
    {
      "cell_type": "code",
      "source": [
        "best_rf = rf_gs.best_estimator_"
      ],
      "metadata": {
        "id": "FF5pByRiuHqK"
      },
      "execution_count": 66,
      "outputs": []
    },
    {
      "cell_type": "code",
      "source": [
        "with open('{}.pkl'.format(\"best_rf\"),'wb') as f:\n",
        "      pickle.dump(best_rf,f)"
      ],
      "metadata": {
        "id": "Iq8bUOoTuHqK"
      },
      "execution_count": 67,
      "outputs": []
    },
    {
      "cell_type": "markdown",
      "source": [
        "# **4. Non-linear SVM**"
      ],
      "metadata": {
        "id": "Yb0yQ_JsYfTG"
      }
    },
    {
      "cell_type": "code",
      "source": [
        "nusvc_pipe = Pipeline([\n",
        " ('nusvc', svm.NuSVC(probability=True))\n",
        "])\n",
        "nusvc_pipe.fit(X_train, y_train)\n",
        "nusvc_parameters = {\n",
        "    'nusvc__probability':[True],\n",
        "    'nusvc__nu':[0.5,1],\n",
        "    'nusvc__gamma':[1,0.1]\n",
        "}"
      ],
      "metadata": {
        "id": "GYPq2lTUmvAt"
      },
      "execution_count": 68,
      "outputs": []
    },
    {
      "cell_type": "code",
      "source": [
        "# Setting up GridSearch for XGBoost\n",
        "startTime = time.time()\n",
        "nusvc_gs = GridSearchCV(nusvc_pipe, param_grid=nusvc_parameters, cv = 3, verbose = 1, n_jobs = -1, scoring = 'roc_auc',)\n",
        "nusvc_gs.fit(X_train, y_train)\n",
        "cpu_time = (time.time() - startTime)\n",
        "print(cpu_time)"
      ],
      "metadata": {
        "id": "HVv5K7Snn3AU",
        "colab": {
          "base_uri": "https://localhost:8080/"
        },
        "outputId": "4625544a-29c6-4f11-b5d8-c8b75c2ca79e"
      },
      "execution_count": 69,
      "outputs": [
        {
          "output_type": "stream",
          "name": "stdout",
          "text": [
            "Fitting 3 folds for each of 4 candidates, totalling 12 fits\n",
            "63.755866289138794\n"
          ]
        }
      ]
    },
    {
      "cell_type": "code",
      "source": [
        "nusvc_gs.best_params_"
      ],
      "metadata": {
        "id": "CjF7tRMin3AV",
        "colab": {
          "base_uri": "https://localhost:8080/"
        },
        "outputId": "4d2f12ac-5718-44d3-8044-cc6d19ba01bb"
      },
      "execution_count": 70,
      "outputs": [
        {
          "output_type": "execute_result",
          "data": {
            "text/plain": [
              "{'nusvc__gamma': 1, 'nusvc__nu': 0.5, 'nusvc__probability': True}"
            ]
          },
          "metadata": {},
          "execution_count": 70
        }
      ]
    },
    {
      "cell_type": "code",
      "source": [
        "nusvc_gs.best_score_"
      ],
      "metadata": {
        "id": "1z-fXOL4n3AV",
        "colab": {
          "base_uri": "https://localhost:8080/"
        },
        "outputId": "52af2fb9-0da8-4b42-ef63-f74c0010836e"
      },
      "execution_count": 71,
      "outputs": [
        {
          "output_type": "execute_result",
          "data": {
            "text/plain": [
              "0.9527107049651495"
            ]
          },
          "metadata": {},
          "execution_count": 71
        }
      ]
    },
    {
      "cell_type": "code",
      "source": [
        "best_nusvc = nusvc_gs.best_estimator_"
      ],
      "metadata": {
        "id": "JLlbU3eLn3AV"
      },
      "execution_count": 72,
      "outputs": []
    },
    {
      "cell_type": "code",
      "source": [
        "with open('{}.pkl'.format(\"best_nusvc\"),'wb') as f:\n",
        "      pickle.dump(best_nusvc,f)"
      ],
      "metadata": {
        "id": "3E6MdsRRn3AW"
      },
      "execution_count": 73,
      "outputs": []
    },
    {
      "cell_type": "markdown",
      "source": [
        "# **5. MLPClassifier**"
      ],
      "metadata": {
        "id": "aaqEnXuXY8L_"
      }
    },
    {
      "cell_type": "code",
      "source": [
        "from sklearn.neural_network import MLPClassifier\n",
        "mlp_pipe = Pipeline([\n",
        " ('mlp', MLPClassifier())\n",
        "])\n",
        "mlp_pipe.fit(X_train, y_train)\n",
        "mlp_parameters = {\n",
        "    'mlp__max_iter': [1000,2000],\n",
        "    'mlp__hidden_layer_sizes':np.arange(10, 15)\n",
        "}"
      ],
      "metadata": {
        "id": "YwthJOttoiH0"
      },
      "execution_count": 74,
      "outputs": []
    },
    {
      "cell_type": "code",
      "source": [
        "# Setting up GridSearch for XGBoost\n",
        "startTime = time.time()\n",
        "mlp_gs = GridSearchCV(mlp_pipe, param_grid=mlp_parameters, cv = 3, verbose = 1, n_jobs = -1, scoring = 'roc_auc',)\n",
        "mlp_gs.fit(X_train, y_train)\n",
        "cpu_time = (time.time() - startTime)\n",
        "print(cpu_time)"
      ],
      "metadata": {
        "id": "N6YFSiz_oiH-",
        "colab": {
          "base_uri": "https://localhost:8080/"
        },
        "outputId": "bc7dfbab-bf98-4daf-c9fe-3a4ac764f245"
      },
      "execution_count": 75,
      "outputs": [
        {
          "output_type": "stream",
          "name": "stdout",
          "text": [
            "Fitting 3 folds for each of 10 candidates, totalling 30 fits\n",
            "478.72219467163086\n"
          ]
        }
      ]
    },
    {
      "cell_type": "code",
      "source": [
        "mlp_gs.best_params_"
      ],
      "metadata": {
        "id": "4eoSl07eoiH-",
        "colab": {
          "base_uri": "https://localhost:8080/"
        },
        "outputId": "0b2c1dcd-f5c9-48dd-ee8b-d2ab60b98be1"
      },
      "execution_count": 76,
      "outputs": [
        {
          "output_type": "execute_result",
          "data": {
            "text/plain": [
              "{'mlp__hidden_layer_sizes': 13, 'mlp__max_iter': 2000}"
            ]
          },
          "metadata": {},
          "execution_count": 76
        }
      ]
    },
    {
      "cell_type": "code",
      "source": [
        "mlp_gs.best_score_"
      ],
      "metadata": {
        "id": "EaUXhIstoiH-",
        "colab": {
          "base_uri": "https://localhost:8080/"
        },
        "outputId": "07c9a7c1-df54-4725-c018-7e3363ee705e"
      },
      "execution_count": 77,
      "outputs": [
        {
          "output_type": "execute_result",
          "data": {
            "text/plain": [
              "0.9461666906382439"
            ]
          },
          "metadata": {},
          "execution_count": 77
        }
      ]
    },
    {
      "cell_type": "code",
      "source": [
        "best_mlp = mlp_gs.best_estimator_"
      ],
      "metadata": {
        "id": "ZGG33sqgoiH-"
      },
      "execution_count": 78,
      "outputs": []
    },
    {
      "cell_type": "code",
      "source": [
        "with open('{}.pkl'.format(\"best_mlp\"),'wb') as f:\n",
        "      pickle.dump(best_mlp,f)"
      ],
      "metadata": {
        "id": "xfYBIvmqoiH-"
      },
      "execution_count": 79,
      "outputs": []
    },
    {
      "cell_type": "markdown",
      "source": [
        "# **6. Logistic Regression**"
      ],
      "metadata": {
        "id": "9YTStMldYMzD"
      }
    },
    {
      "cell_type": "code",
      "source": [
        "from sklearn.linear_model import LogisticRegression\n",
        "lr_pipe = Pipeline([\n",
        " ('lr', LogisticRegression())\n",
        "])\n",
        "lr_pipe.fit(X_train, y_train)\n",
        "lr_parameters = {\n",
        "    'lr__penalty': ['l1','l2'],\n",
        "    'lr__C': [0.001,0.01,0.1,1,10,100,1000]\n",
        "}"
      ],
      "metadata": {
        "id": "5273w_pvYNlL"
      },
      "execution_count": 80,
      "outputs": []
    },
    {
      "cell_type": "code",
      "source": [
        "# Setting up GridSearch for XGBoost\n",
        "startTime = time.time()\n",
        "lr_gs = GridSearchCV(lr_pipe, param_grid=lr_parameters, cv = 3, verbose = 1, n_jobs = -1, scoring = 'roc_auc',)\n",
        "lr_gs.fit(X_train, y_train)\n",
        "cpu_time = (time.time() - startTime)\n",
        "print(cpu_time)"
      ],
      "metadata": {
        "id": "mLXMM9FfY3-M",
        "colab": {
          "base_uri": "https://localhost:8080/"
        },
        "outputId": "6428c7d9-ef8e-4053-f6a0-23deac6e45c0"
      },
      "execution_count": 81,
      "outputs": [
        {
          "output_type": "stream",
          "name": "stdout",
          "text": [
            "Fitting 3 folds for each of 14 candidates, totalling 42 fits\n",
            "0.8354003429412842\n"
          ]
        }
      ]
    },
    {
      "cell_type": "code",
      "source": [
        "lr_gs.best_params_"
      ],
      "metadata": {
        "id": "uDVHyQPsYRar",
        "colab": {
          "base_uri": "https://localhost:8080/"
        },
        "outputId": "2f9fa03d-e357-4679-8864-f1a5c99f71d6"
      },
      "execution_count": 82,
      "outputs": [
        {
          "output_type": "execute_result",
          "data": {
            "text/plain": [
              "{'lr__C': 10, 'lr__penalty': 'l2'}"
            ]
          },
          "metadata": {},
          "execution_count": 82
        }
      ]
    },
    {
      "cell_type": "code",
      "source": [
        "lr_gs.best_score_"
      ],
      "metadata": {
        "id": "iNJdP-6OYRar",
        "colab": {
          "base_uri": "https://localhost:8080/"
        },
        "outputId": "c44cc217-83de-4950-fc83-868bfb85cc05"
      },
      "execution_count": 83,
      "outputs": [
        {
          "output_type": "execute_result",
          "data": {
            "text/plain": [
              "0.952988735681776"
            ]
          },
          "metadata": {},
          "execution_count": 83
        }
      ]
    },
    {
      "cell_type": "code",
      "source": [
        "best_lr = lr_gs.best_estimator_"
      ],
      "metadata": {
        "id": "XGqGs4_xYRas"
      },
      "execution_count": 84,
      "outputs": []
    },
    {
      "cell_type": "code",
      "source": [
        "with open('{}.pkl'.format(\"best_lr\"),'wb') as f:\n",
        "      pickle.dump(best_lr,f)"
      ],
      "metadata": {
        "id": "XQ3d_KtaYRas"
      },
      "execution_count": 85,
      "outputs": []
    },
    {
      "cell_type": "markdown",
      "source": [
        "# **7. GradientBoosting**"
      ],
      "metadata": {
        "id": "z3e7ooFQ_fT4"
      }
    },
    {
      "cell_type": "code",
      "source": [
        "from sklearn.ensemble import GradientBoostingClassifier\n",
        "\n",
        "gb_pipe = Pipeline([\n",
        " ('gb', GradientBoostingClassifier())\n",
        "])\n",
        "gb_pipe.fit(X_train, y_train)\n",
        "gb_parameters = {\n",
        "    'gb__learning_rate': [0.01, 0.05, 0.1],\n",
        "    'gb__max_depth': [3,5,8]\n",
        "}"
      ],
      "metadata": {
        "id": "bInu5rbO_mRY"
      },
      "execution_count": 86,
      "outputs": []
    },
    {
      "cell_type": "code",
      "source": [
        "# Setting up GridSearch for XGBoost\n",
        "startTime = time.time()\n",
        "gb_gs = GridSearchCV(gb_pipe, param_grid=gb_parameters, cv = 3, verbose = 1, n_jobs = -1, scoring = 'roc_auc',)\n",
        "gb_gs.fit(X_train, y_train)\n",
        "cpu_time = (time.time() - startTime)\n",
        "print(cpu_time)"
      ],
      "metadata": {
        "id": "3S9vHroB_mRm",
        "colab": {
          "base_uri": "https://localhost:8080/"
        },
        "outputId": "017b33a6-2340-4ce5-a59b-41db482bfac4"
      },
      "execution_count": 87,
      "outputs": [
        {
          "output_type": "stream",
          "name": "stdout",
          "text": [
            "Fitting 3 folds for each of 9 candidates, totalling 27 fits\n",
            "30.947471618652344\n"
          ]
        }
      ]
    },
    {
      "cell_type": "code",
      "source": [
        "gb_gs.best_params_"
      ],
      "metadata": {
        "id": "Y09Hyj2R_mRm",
        "colab": {
          "base_uri": "https://localhost:8080/"
        },
        "outputId": "19d4b9e2-7588-4960-c685-9d735ba6014a"
      },
      "execution_count": 88,
      "outputs": [
        {
          "output_type": "execute_result",
          "data": {
            "text/plain": [
              "{'gb__learning_rate': 0.1, 'gb__max_depth': 8}"
            ]
          },
          "metadata": {},
          "execution_count": 88
        }
      ]
    },
    {
      "cell_type": "code",
      "source": [
        "gb_gs.best_score_"
      ],
      "metadata": {
        "id": "xCyOBBp5_mRm",
        "colab": {
          "base_uri": "https://localhost:8080/"
        },
        "outputId": "42bea55e-a9a4-486b-9b33-56b82195786f"
      },
      "execution_count": 89,
      "outputs": [
        {
          "output_type": "execute_result",
          "data": {
            "text/plain": [
              "0.9597415107485096"
            ]
          },
          "metadata": {},
          "execution_count": 89
        }
      ]
    },
    {
      "cell_type": "code",
      "source": [
        "best_gb = gb_gs.best_estimator_"
      ],
      "metadata": {
        "id": "vufAiu1h_mRn"
      },
      "execution_count": 90,
      "outputs": []
    },
    {
      "cell_type": "code",
      "source": [
        "with open('{}.pkl'.format(\"best_gb\"),'wb') as f:\n",
        "      pickle.dump(best_gb,f)"
      ],
      "metadata": {
        "id": "eVES1obm_mRn"
      },
      "execution_count": 91,
      "outputs": []
    },
    {
      "cell_type": "markdown",
      "source": [
        "# **Load the XGBoost model**"
      ],
      "metadata": {
        "id": "debTZjH1fGo_"
      }
    },
    {
      "cell_type": "code",
      "source": [
        "with open('{}.pkl'.format('best_xgb'),'rb') as c_f:\n",
        "  best_xgb = pickle.load(c_f)"
      ],
      "metadata": {
        "id": "0ZePT4XEfJxP"
      },
      "execution_count": 92,
      "outputs": []
    },
    {
      "cell_type": "markdown",
      "source": [
        "# **Load the SVC model**"
      ],
      "metadata": {
        "id": "ji3GuKlnfnzI"
      }
    },
    {
      "cell_type": "code",
      "source": [
        "with open('{}.pkl'.format('best_svc_prob'),'rb') as c_f:\n",
        "  best_svc = pickle.load(c_f)"
      ],
      "metadata": {
        "id": "QE4S5q1DfnzI"
      },
      "execution_count": 93,
      "outputs": []
    },
    {
      "cell_type": "markdown",
      "source": [
        "# **Load the Random Forests model**"
      ],
      "metadata": {
        "id": "NPmQIfzHl4H7"
      }
    },
    {
      "cell_type": "code",
      "source": [
        "with open('{}.pkl'.format('best_rf'),'rb') as c_f:\n",
        "  best_rf = pickle.load(c_f)"
      ],
      "metadata": {
        "id": "TnOl42gWl4ID"
      },
      "execution_count": 94,
      "outputs": []
    },
    {
      "cell_type": "markdown",
      "source": [
        "# **Load the MLP model**"
      ],
      "metadata": {
        "id": "2Zuc025PXPfr"
      }
    },
    {
      "cell_type": "code",
      "source": [
        "with open('{}.pkl'.format('best_mlp'),'rb') as c_f:\n",
        "  best_mlp = pickle.load(c_f)"
      ],
      "metadata": {
        "id": "aujuqa3mXRWb"
      },
      "execution_count": 95,
      "outputs": []
    },
    {
      "cell_type": "markdown",
      "source": [
        "# **Load the Non-linear SVM model**"
      ],
      "metadata": {
        "id": "7cdTDJ0m4Kfp"
      }
    },
    {
      "cell_type": "code",
      "source": [
        "with open('{}.pkl'.format('best_nusvc'),'rb') as c_f:\n",
        "  best_nusvc = pickle.load(c_f)"
      ],
      "metadata": {
        "id": "M5wRGM7j4Kfp"
      },
      "execution_count": 96,
      "outputs": []
    },
    {
      "cell_type": "markdown",
      "source": [
        "# **Load the Logistic Regression model**"
      ],
      "metadata": {
        "id": "-VrcDN6eBYFj"
      }
    },
    {
      "cell_type": "code",
      "source": [
        "with open('{}.pkl'.format('best_lr'),'rb') as c_f:\n",
        "  best_lr = pickle.load(c_f)"
      ],
      "metadata": {
        "id": "DFodTsvPBYFk"
      },
      "execution_count": 97,
      "outputs": []
    },
    {
      "cell_type": "markdown",
      "source": [
        "# **Load the GradientBoosting model**"
      ],
      "metadata": {
        "id": "eaPlW8YTBvql"
      }
    },
    {
      "cell_type": "code",
      "source": [
        "with open('{}.pkl'.format('best_gb'),'rb') as c_f:\n",
        "  best_gb = pickle.load(c_f)"
      ],
      "metadata": {
        "id": "oKg-PFRLBvql"
      },
      "execution_count": 98,
      "outputs": []
    },
    {
      "cell_type": "code",
      "source": [
        "def plot_roc_curve(models, X_test):\n",
        "  plt.figure(0).clf()\n",
        "  for model_name in models:\n",
        "    y_pred = models[model_name].predict_proba(X_test)[:, 1]\n",
        "    fpr, tpr, _ = roc_curve(y_test, y_pred)\n",
        "    auc = round(roc_auc_score(y_test, y_pred), 4)\n",
        "    plt.plot(fpr,tpr,label=\"{}, AUC={}\".format(model_name, round(auc, 4)))\n",
        "  plt.legend()"
      ],
      "metadata": {
        "id": "jieKeHpRIG_C"
      },
      "execution_count": 99,
      "outputs": []
    },
    {
      "cell_type": "code",
      "source": [
        "def plot_precision_recall_curve(models, X_test):\n",
        "  plt.figure(0).clf()\n",
        "\n",
        "  for model_name in models:\n",
        "    y_proba = models[model_name].predict_proba(X_test)[:, 1]\n",
        "    y_pred = models[model_name].predict(X_test)\n",
        "    lr_precision, lr_recall, _ = precision_recall_curve(y_test, y_proba)\n",
        "    lr_f1, lr_auc = f1_score(y_test, y_pred), auc(lr_recall, lr_precision)\n",
        "    plt.plot(lr_precision,lr_recall,label=\"{}, AUC={}\".format(model_name, round(lr_auc, 4)))\n",
        "  plt.legend()"
      ],
      "metadata": {
        "id": "zTqVECQ9IG_K"
      },
      "execution_count": 100,
      "outputs": []
    },
    {
      "cell_type": "code",
      "source": [
        "## build a function to evaluate classification model\n",
        "def model_evaluation(model, train, test, train_y, test_y):\n",
        "    pred_train = model.predict(train)\n",
        "    pred_test = model.predict(test)\n",
        "\n",
        "    print(classification_report(test_y, pred_test))\n",
        "    train_acc = accuracy_score(pred_train,train_y)\n",
        "    test_acc = accuracy_score(pred_test,test_y)\n",
        "\n",
        "    train_recall = recall_score(train_y,pred_train, average = 'weighted')\n",
        "    test_recall = recall_score(test_y,pred_test, average = 'weighted')\n",
        "\n",
        "    train_precision = precision_score(train_y,pred_train, average = 'weighted')\n",
        "    test_precision = precision_score(test_y,pred_test, average = 'weighted')\n",
        "\n",
        "    train_f1 = f1_score(train_y,pred_train, average = 'weighted')\n",
        "    test_f1 = f1_score(test_y,pred_test, average = 'weighted')\n",
        "\n",
        "    print(\"\\n\\t\\t  Train score  /  Test score\\n\")\n",
        "    print(f\"Accuracy  : {train_acc} / {test_acc}\")\n",
        "    print(f\"Recall    : {train_recall} / {test_recall}\")\n",
        "    print(f\"Precision : {train_precision} / {test_precision}\")\n",
        "    print(f\"F1 Score  : {train_f1} / {test_f1}\")\n",
        "\n",
        "    cm=confusion_matrix(test_y, pred_test)\n",
        "    FP = cm[0][1]\n",
        "    df_cm = pd.DataFrame(cm, index = [i for i in ['class:  0', 'class : 1']],\n",
        "                  columns = [i for i in ['class:  0', 'class : 1']])\n",
        "    group_counts = [\"{0:0.0f}\".format(value) for value in\n",
        "                cm.flatten()]\n",
        "    group_percentages = [\"{0:.2%}\".format(value) for value in cm.flatten()/np.sum(cm)]\n",
        "    labels = [f\"{v1}\\n{v2}\" for v1, v2 in zip(group_counts,group_percentages)]\n",
        "    labels = np.asarray(labels).reshape(2,2)\n",
        "    plt.figure(figsize = (8,4))\n",
        "    sns.heatmap(df_cm, annot=labels,fmt='')\n",
        "    plt.title(\"\\nConfusion Matrix\\n\", color='blue', fontsize = 16)\n",
        "    plt.ylabel('\\nActual\\n', color='blue')\n",
        "    plt.xlabel('\\nPredicted\\n', color = 'blue')\n",
        "    plt.show()\n",
        "    return [test_acc, test_recall, test_precision, test_f1], FP"
      ],
      "metadata": {
        "id": "7OlBxJFCVMgJ"
      },
      "execution_count": 101,
      "outputs": []
    },
    {
      "cell_type": "code",
      "source": [
        "models = {}\n",
        "models[\"XGBoost\"] = best_xgb\n",
        "models[\"SVM Classifier\"] = best_svc\n",
        "models[\"Random Forests\"] = best_rf\n",
        "models[\"Non-linear SVM\"] = best_nusvc\n",
        "models[\"MLPClassifier\"] = best_mlp\n",
        "models[\"Logistic Regression\"] = best_lr\n",
        "models[\"GradientBoosting\"] = best_gb\n"
      ],
      "metadata": {
        "id": "q5XJayX9fyCP"
      },
      "execution_count": 102,
      "outputs": []
    },
    {
      "cell_type": "markdown",
      "source": [
        "# **Plot ROC Curve**"
      ],
      "metadata": {
        "id": "1OAep-1EGmxK"
      }
    },
    {
      "cell_type": "code",
      "source": [
        "plot_roc_curve(models, X_test)"
      ],
      "metadata": {
        "id": "u-ZD2k0eGmxS",
        "colab": {
          "base_uri": "https://localhost:8080/",
          "height": 430
        },
        "outputId": "62220cc8-f4ee-458b-84e9-aedd466fd5b7"
      },
      "execution_count": 103,
      "outputs": [
        {
          "output_type": "display_data",
          "data": {
            "text/plain": [
              "<Figure size 640x480 with 1 Axes>"
            ],
            "image/png": "[encoded data removed]"
          },
          "metadata": {}
        }
      ]
    },
    {
      "cell_type": "markdown",
      "source": [
        "# **Plot PR Curve**"
      ],
      "metadata": {
        "id": "QHhbUe2iGbQq"
      }
    },
    {
      "cell_type": "code",
      "source": [
        "plot_precision_recall_curve(models, X_test)"
      ],
      "metadata": {
        "id": "yKUi6qBDEGyF",
        "colab": {
          "base_uri": "https://localhost:8080/",
          "height": 430
        },
        "outputId": "242d0a5a-752d-4836-d847-4e68b4f1be14"
      },
      "execution_count": 104,
      "outputs": [
        {
          "output_type": "display_data",
          "data": {
            "text/plain": [
              "<Figure size 640x480 with 1 Axes>"
            ],
            "image/png": "[encoded data removed]"
          },
          "metadata": {}
        }
      ]
    },
    {
      "cell_type": "markdown",
      "source": [
        "# **Plot Model Evaluation**"
      ],
      "metadata": {
        "id": "z5SIlJw9Kv0I"
      }
    },
    {
      "cell_type": "code",
      "source": [
        "scores_data = {}\n",
        "FPs = {}"
      ],
      "metadata": {
        "id": "0K-6CICXDCSY"
      },
      "execution_count": 105,
      "outputs": []
    },
    {
      "cell_type": "code",
      "source": [
        "\n",
        "for model_name in models:\n",
        "  print('\\n\\t\\t\\t{}\\n'.format(model_name))\n",
        "  score, FP = model_evaluation(models[model_name], X_train, X_test, y_train, y_test)\n",
        "  scores_data[model_name] = score\n",
        "  FPs[model_name] = FP"
      ],
      "metadata": {
        "id": "d7cp6WdTJsOh",
        "colab": {
          "base_uri": "https://localhost:8080/",
          "height": 1000
        },
        "outputId": "17a06130-d9a5-4977-f01c-50ad81d59c69"
      },
      "execution_count": 106,
      "outputs": [
        {
          "output_type": "stream",
          "name": "stdout",
          "text": [
            "\n",
            "\t\t\tXGBoost\n",
            "\n",
            "              precision    recall  f1-score   support\n",
            "\n",
            "           0       0.89      0.93      0.91       581\n",
            "           1       0.93      0.90      0.91       624\n",
            "\n",
            "    accuracy                           0.91      1205\n",
            "   macro avg       0.91      0.91      0.91      1205\n",
            "weighted avg       0.91      0.91      0.91      1205\n",
            "\n",
            "\n",
            "\t\t  Train score  /  Test score\n",
            "\n",
            "Accuracy  : 0.9252189949285385 / 0.9103734439834025\n",
            "Recall    : 0.9252189949285385 / 0.9103734439834025\n",
            "Precision : 0.9253049589781022 / 0.9110373837196158\n",
            "F1 Score  : 0.9252128661479984 / 0.9104019696966092\n"
          ]
        },
        {
          "output_type": "display_data",
          "data": {
            "text/plain": [
              "<Figure size 800x400 with 2 Axes>"
            ],
            "image/png": "[encoded data removed]"
          },
          "metadata": {}
        },
        {
          "output_type": "stream",
          "name": "stdout",
          "text": [
            "\n",
            "\t\t\tSVM Classifier\n",
            "\n",
            "              precision    recall  f1-score   support\n",
            "\n",
            "           0       0.90      0.94      0.92       581\n",
            "           1       0.94      0.90      0.92       624\n",
            "\n",
            "    accuracy                           0.92      1205\n",
            "   macro avg       0.92      0.92      0.92      1205\n",
            "weighted avg       0.92      0.92      0.92      1205\n",
            "\n",
            "\n",
            "\t\t  Train score  /  Test score\n",
            "\n",
            "Accuracy  : 0.9503918856615952 / 0.9186721991701244\n",
            "Recall    : 0.9503918856615952 / 0.9186721991701244\n",
            "Precision : 0.9503918856615952 / 0.9194521449881693\n",
            "F1 Score  : 0.9503918856615952 / 0.9186977460440421\n"
          ]
        },
        {
          "output_type": "display_data",
          "data": {
            "text/plain": [
              "<Figure size 800x400 with 2 Axes>"
            ],
            "image/png": "[encoded data removed]"
          },
          "metadata": {}
        },
        {
          "output_type": "stream",
          "name": "stdout",
          "text": [
            "\n",
            "\t\t\tRandom Forests\n",
            "\n",
            "              precision    recall  f1-score   support\n",
            "\n",
            "           0       0.85      0.90      0.88       581\n",
            "           1       0.90      0.86      0.88       624\n",
            "\n",
            "    accuracy                           0.88      1205\n",
            "   macro avg       0.88      0.88      0.88      1205\n",
            "weighted avg       0.88      0.88      0.88      1205\n",
            "\n",
            "\n",
            "\t\t  Train score  /  Test score\n",
            "\n",
            "Accuracy  : 0.8822498847395113 / 0.8771784232365145\n",
            "Recall    : 0.8822498847395113 / 0.8771784232365145\n",
            "Precision : 0.8827281883661803 / 0.8784755771048609\n",
            "F1 Score  : 0.882203398650737 / 0.8772082001329353\n"
          ]
        },
        {
          "output_type": "display_data",
          "data": {
            "text/plain": [
              "<Figure size 800x400 with 2 Axes>"
            ],
            "image/png": "[encoded data removed]"
          },
          "metadata": {}
        },
        {
          "output_type": "stream",
          "name": "stdout",
          "text": [
            "\n",
            "\t\t\tNon-linear SVM\n",
            "\n",
            "              precision    recall  f1-score   support\n",
            "\n",
            "           0       0.87      0.93      0.90       581\n",
            "           1       0.93      0.87      0.90       624\n",
            "\n",
            "    accuracy                           0.90      1205\n",
            "   macro avg       0.90      0.90      0.90      1205\n",
            "weighted avg       0.90      0.90      0.90      1205\n",
            "\n",
            "\n",
            "\t\t  Train score  /  Test score\n",
            "\n",
            "Accuracy  : 0.9016136468418626 / 0.8954356846473029\n",
            "Recall    : 0.9016136468418626 / 0.8954356846473029\n",
            "Precision : 0.9021738833289416 / 0.8974282243166358\n",
            "F1 Score  : 0.9015710959705415 / 0.8954443262310335\n"
          ]
        },
        {
          "output_type": "display_data",
          "data": {
            "text/plain": [
              "<Figure size 800x400 with 2 Axes>"
            ],
            "image/png": "[encoded data removed]"
          },
          "metadata": {}
        },
        {
          "output_type": "stream",
          "name": "stdout",
          "text": [
            "\n",
            "\t\t\tMLPClassifier\n",
            "\n",
            "              precision    recall  f1-score   support\n",
            "\n",
            "           0       0.90      0.90      0.90       581\n",
            "           1       0.91      0.91      0.91       624\n",
            "\n",
            "    accuracy                           0.90      1205\n",
            "   macro avg       0.90      0.90      0.90      1205\n",
            "weighted avg       0.90      0.90      0.90      1205\n",
            "\n",
            "\n",
            "\t\t  Train score  /  Test score\n",
            "\n",
            "Accuracy  : 0.9732595666205625 / 0.9029045643153527\n",
            "Recall    : 0.9732595666205625 / 0.9029045643153527\n",
            "Precision : 0.9732766740055184 / 0.9029114329104764\n",
            "F1 Score  : 0.9732596466504928 / 0.9029073762287249\n"
          ]
        },
        {
          "output_type": "display_data",
          "data": {
            "text/plain": [
              "<Figure size 800x400 with 2 Axes>"
            ],
            "image/png": "[encoded data removed]"
          },
          "metadata": {}
        },
        {
          "output_type": "stream",
          "name": "stdout",
          "text": [
            "\n",
            "\t\t\tLogistic Regression\n",
            "\n",
            "              precision    recall  f1-score   support\n",
            "\n",
            "           0       0.90      0.90      0.90       581\n",
            "           1       0.91      0.90      0.90       624\n",
            "\n",
            "    accuracy                           0.90      1205\n",
            "   macro avg       0.90      0.90      0.90      1205\n",
            "weighted avg       0.90      0.90      0.90      1205\n",
            "\n",
            "\n",
            "\t\t  Train score  /  Test score\n",
            "\n",
            "Accuracy  : 0.9141539880129091 / 0.9012448132780083\n",
            "Recall    : 0.9141539880129091 / 0.9012448132780083\n",
            "Precision : 0.9141755933445117 / 0.901272334379808\n",
            "F1 Score  : 0.9141541500498814 / 0.9012529837262607\n"
          ]
        },
        {
          "output_type": "display_data",
          "data": {
            "text/plain": [
              "<Figure size 800x400 with 2 Axes>"
            ],
            "image/png": "[encoded data removed]"
          },
          "metadata": {}
        },
        {
          "output_type": "stream",
          "name": "stdout",
          "text": [
            "\n",
            "\t\t\tGradientBoosting\n",
            "\n",
            "              precision    recall  f1-score   support\n",
            "\n",
            "           0       0.90      0.93      0.91       581\n",
            "           1       0.93      0.90      0.91       624\n",
            "\n",
            "    accuracy                           0.91      1205\n",
            "   macro avg       0.91      0.91      0.91      1205\n",
            "weighted avg       0.91      0.91      0.91      1205\n",
            "\n",
            "\n",
            "\t\t  Train score  /  Test score\n",
            "\n",
            "Accuracy  : 0.9426463808206547 / 0.9120331950207469\n",
            "Recall    : 0.9426463808206547 / 0.9120331950207469\n",
            "Precision : 0.9426912514828798 / 0.9125914230406843\n",
            "F1 Score  : 0.9426436771042922 / 0.91206107296894\n"
          ]
        },
        {
          "output_type": "display_data",
          "data": {
            "text/plain": [
              "<Figure size 800x400 with 2 Axes>"
            ],
            "image/png": "[encoded data removed]"
          },
          "metadata": {}
        }
      ]
    },
    {
      "cell_type": "code",
      "source": [
        "score_df = pd.DataFrame(scores_data).T\n",
        "score_df.columns = ['accuracy', 'recall', 'precision', 'f1-score']\n",
        "score_df"
      ],
      "metadata": {
        "id": "pqGtrWDuDeYo",
        "colab": {
          "base_uri": "https://localhost:8080/",
          "height": 269
        },
        "outputId": "d38c0e5b-8466-4582-959b-63f04106ebc8"
      },
      "execution_count": 107,
      "outputs": [
        {
          "output_type": "execute_result",
          "data": {
            "text/plain": [
              "                     accuracy    recall  precision  f1-score\n",
              "XGBoost              0.910373  0.910373   0.911037  0.910402\n",
              "SVM Classifier       0.918672  0.918672   0.919452  0.918698\n",
              "Random Forests       0.877178  0.877178   0.878476  0.877208\n",
              "Non-linear SVM       0.895436  0.895436   0.897428  0.895444\n",
              "MLPClassifier        0.902905  0.902905   0.902911  0.902907\n",
              "Logistic Regression  0.901245  0.901245   0.901272  0.901253\n",
              "GradientBoosting     0.912033  0.912033   0.912591  0.912061"
            ],
            "text/html": [
              "\n",
              "  <div id=\"df-842712c8-2d3e-48ab-a1d1-ace7453d30f1\" class=\"colab-df-container\">\n",
              "    <div>\n",
              "<style scoped>\n",
              "    .dataframe tbody tr th:only-of-type {\n",
              "        vertical-align: middle;\n",
              "    }\n",
              "\n",
              "    .dataframe tbody tr th {\n",
              "        vertical-align: top;\n",
              "    }\n",
              "\n",
              "    .dataframe thead th {\n",
              "        text-align: right;\n",
              "    }\n",
              "</style>\n",
              "<table border=\"1\" class=\"dataframe\">\n",
              "  <thead>\n",
              "    <tr style=\"text-align: right;\">\n",
              "      <th></th>\n",
              "      <th>accuracy</th>\n",
              "      <th>recall</th>\n",
              "      <th>precision</th>\n",
              "      <th>f1-score</th>\n",
              "    </tr>\n",
              "  </thead>\n",
              "  <tbody>\n",
              "    <tr>\n",
              "      <th>XGBoost</th>\n",
              "      <td>0.910373</td>\n",
              "      <td>0.910373</td>\n",
              "      <td>0.911037</td>\n",
              "      <td>0.910402</td>\n",
              "    </tr>\n",
              "    <tr>\n",
              "      <th>SVM Classifier</th>\n",
              "      <td>0.918672</td>\n",
              "      <td>0.918672</td>\n",
              "      <td>0.919452</td>\n",
              "      <td>0.918698</td>\n",
              "    </tr>\n",
              "    <tr>\n",
              "      <th>Random Forests</th>\n",
              "      <td>0.877178</td>\n",
              "      <td>0.877178</td>\n",
              "      <td>0.878476</td>\n",
              "      <td>0.877208</td>\n",
              "    </tr>\n",
              "    <tr>\n",
              "      <th>Non-linear SVM</th>\n",
              "      <td>0.895436</td>\n",
              "      <td>0.895436</td>\n",
              "      <td>0.897428</td>\n",
              "      <td>0.895444</td>\n",
              "    </tr>\n",
              "    <tr>\n",
              "      <th>MLPClassifier</th>\n",
              "      <td>0.902905</td>\n",
              "      <td>0.902905</td>\n",
              "      <td>0.902911</td>\n",
              "      <td>0.902907</td>\n",
              "    </tr>\n",
              "    <tr>\n",
              "      <th>Logistic Regression</th>\n",
              "      <td>0.901245</td>\n",
              "      <td>0.901245</td>\n",
              "      <td>0.901272</td>\n",
              "      <td>0.901253</td>\n",
              "    </tr>\n",
              "    <tr>\n",
              "      <th>GradientBoosting</th>\n",
              "      <td>0.912033</td>\n",
              "      <td>0.912033</td>\n",
              "      <td>0.912591</td>\n",
              "      <td>0.912061</td>\n",
              "    </tr>\n",
              "  </tbody>\n",
              "</table>\n",
              "</div>\n",
              "    <div class=\"colab-df-buttons\">\n",
              "\n",
              "  <div class=\"colab-df-container\">\n",
              "    <button class=\"colab-df-convert\" onclick=\"convertToInteractive('df-842712c8-2d3e-48ab-a1d1-ace7453d30f1')\"\n",
              "            title=\"Convert this dataframe to an interactive table.\"\n",
              "            style=\"display:none;\">\n",
              "\n",
              "  <svg xmlns=\"http://www.w3.org/2000/svg\" height=\"24px\" viewBox=\"0 -960 960 960\">\n",
              "    <path d=\"M120-120v-720h720v720H120Zm60-500h600v-160H180v160Zm220 220h160v-160H400v160Zm0 220h160v-160H400v160ZM180-400h160v-160H180v160Zm440 0h160v-160H620v160ZM180-180h160v-160H180v160Zm440 0h160v-160H620v160Z\"/>\n",
              "  </svg>\n",
              "    </button>\n",
              "\n",
              "  <style>\n",
              "    .colab-df-container {\n",
              "      display:flex;\n",
              "      gap: 12px;\n",
              "    }\n",
              "\n",
              "    .colab-df-convert {\n",
              "      background-color: #E8F0FE;\n",
              "      border: none;\n",
              "      border-radius: 50%;\n",
              "      cursor: pointer;\n",
              "      display: none;\n",
              "      fill: #1967D2;\n",
              "      height: 32px;\n",
              "      padding: 0 0 0 0;\n",
              "      width: 32px;\n",
              "    }\n",
              "\n",
              "    .colab-df-convert:hover {\n",
              "      background-color: #E2EBFA;\n",
              "      box-shadow: 0px 1px 2px rgba(60, 64, 67, 0.3), 0px 1px 3px 1px rgba(60, 64, 67, 0.15);\n",
              "      fill: #174EA6;\n",
              "    }\n",
              "\n",
              "    .colab-df-buttons div {\n",
              "      margin-bottom: 4px;\n",
              "    }\n",
              "\n",
              "    [theme=dark] .colab-df-convert {\n",
              "      background-color: #3B4455;\n",
              "      fill: #D2E3FC;\n",
              "    }\n",
              "\n",
              "    [theme=dark] .colab-df-convert:hover {\n",
              "      background-color: #434B5C;\n",
              "      box-shadow: 0px 1px 3px 1px rgba(0, 0, 0, 0.15);\n",
              "      filter: drop-shadow(0px 1px 2px rgba(0, 0, 0, 0.3));\n",
              "      fill: #FFFFFF;\n",
              "    }\n",
              "  </style>\n",
              "\n",
              "    <script>\n",
              "      const buttonEl =\n",
              "        document.querySelector('#df-842712c8-2d3e-48ab-a1d1-ace7453d30f1 button.colab-df-convert');\n",
              "      buttonEl.style.display =\n",
              "        google.colab.kernel.accessAllowed ? 'block' : 'none';\n",
              "\n",
              "      async function convertToInteractive(key) {\n",
              "        const element = document.querySelector('#df-842712c8-2d3e-48ab-a1d1-ace7453d30f1');\n",
              "        const dataTable =\n",
              "          await google.colab.kernel.invokeFunction('convertToInteractive',\n",
              "                                                    [key], {});\n",
              "        if (!dataTable) return;\n",
              "\n",
              "        const docLinkHtml = 'Like what you see? Visit the ' +\n",
              "          '<a target=\"_blank\" href=https://colab.research.google.com/notebooks/data_table.ipynb>data table notebook</a>'\n",
              "          + ' to learn more about interactive tables.';\n",
              "        element.innerHTML = '';\n",
              "        dataTable['output_type'] = 'display_data';\n",
              "        await google.colab.output.renderOutput(dataTable, element);\n",
              "        const docLink = document.createElement('div');\n",
              "        docLink.innerHTML = docLinkHtml;\n",
              "        element.appendChild(docLink);\n",
              "      }\n",
              "    </script>\n",
              "  </div>\n",
              "\n",
              "\n",
              "<div id=\"df-18e2b708-68a2-4387-90c9-5b0e355d3909\">\n",
              "  <button class=\"colab-df-quickchart\" onclick=\"quickchart('df-18e2b708-68a2-4387-90c9-5b0e355d3909')\"\n",
              "            title=\"Suggest charts\"\n",
              "            style=\"display:none;\">\n",
              "\n",
              "<svg xmlns=\"http://www.w3.org/2000/svg\" height=\"24px\"viewBox=\"0 0 24 24\"\n",
              "     width=\"24px\">\n",
              "    <g>\n",
              "        <path d=\"M19 3H5c-1.1 0-2 .9-2 2v14c0 1.1.9 2 2 2h14c1.1 0 2-.9 2-2V5c0-1.1-.9-2-2-2zM9 17H7v-7h2v7zm4 0h-2V7h2v10zm4 0h-2v-4h2v4z\"/>\n",
              "    </g>\n",
              "</svg>\n",
              "  </button>\n",
              "\n",
              "<style>\n",
              "  .colab-df-quickchart {\n",
              "      --bg-color: #E8F0FE;\n",
              "      --fill-color: #1967D2;\n",
              "      --hover-bg-color: #E2EBFA;\n",
              "      --hover-fill-color: #174EA6;\n",
              "      --disabled-fill-color: #AAA;\n",
              "      --disabled-bg-color: #DDD;\n",
              "  }\n",
              "\n",
              "  [theme=dark] .colab-df-quickchart {\n",
              "      --bg-color: #3B4455;\n",
              "      --fill-color: #D2E3FC;\n",
              "      --hover-bg-color: #434B5C;\n",
              "      --hover-fill-color: #FFFFFF;\n",
              "      --disabled-bg-color: #3B4455;\n",
              "      --disabled-fill-color: #666;\n",
              "  }\n",
              "\n",
              "  .colab-df-quickchart {\n",
              "    background-color: var(--bg-color);\n",
              "    border: none;\n",
              "    border-radius: 50%;\n",
              "    cursor: pointer;\n",
              "    display: none;\n",
              "    fill: var(--fill-color);\n",
              "    height: 32px;\n",
              "    padding: 0;\n",
              "    width: 32px;\n",
              "  }\n",
              "\n",
              "  .colab-df-quickchart:hover {\n",
              "    background-color: var(--hover-bg-color);\n",
              "    box-shadow: 0 1px 2px rgba(60, 64, 67, 0.3), 0 1px 3px 1px rgba(60, 64, 67, 0.15);\n",
              "    fill: var(--button-hover-fill-color);\n",
              "  }\n",
              "\n",
              "  .colab-df-quickchart-complete:disabled,\n",
              "  .colab-df-quickchart-complete:disabled:hover {\n",
              "    background-color: var(--disabled-bg-color);\n",
              "    fill: var(--disabled-fill-color);\n",
              "    box-shadow: none;\n",
              "  }\n",
              "\n",
              "  .colab-df-spinner {\n",
              "    border: 2px solid var(--fill-color);\n",
              "    border-color: transparent;\n",
              "    border-bottom-color: var(--fill-color);\n",
              "    animation:\n",
              "      spin 1s steps(1) infinite;\n",
              "  }\n",
              "\n",
              "  @keyframes spin {\n",
              "    0% {\n",
              "      border-color: transparent;\n",
              "      border-bottom-color: var(--fill-color);\n",
              "      border-left-color: var(--fill-color);\n",
              "    }\n",
              "    20% {\n",
              "      border-color: transparent;\n",
              "      border-left-color: var(--fill-color);\n",
              "      border-top-color: var(--fill-color);\n",
              "    }\n",
              "    30% {\n",
              "      border-color: transparent;\n",
              "      border-left-color: var(--fill-color);\n",
              "      border-top-color: var(--fill-color);\n",
              "      border-right-color: var(--fill-color);\n",
              "    }\n",
              "    40% {\n",
              "      border-color: transparent;\n",
              "      border-right-color: var(--fill-color);\n",
              "      border-top-color: var(--fill-color);\n",
              "    }\n",
              "    60% {\n",
              "      border-color: transparent;\n",
              "      border-right-color: var(--fill-color);\n",
              "    }\n",
              "    80% {\n",
              "      border-color: transparent;\n",
              "      border-right-color: var(--fill-color);\n",
              "      border-bottom-color: var(--fill-color);\n",
              "    }\n",
              "    90% {\n",
              "      border-color: transparent;\n",
              "      border-bottom-color: var(--fill-color);\n",
              "    }\n",
              "  }\n",
              "</style>\n",
              "\n",
              "  <script>\n",
              "    async function quickchart(key) {\n",
              "      const quickchartButtonEl =\n",
              "        document.querySelector('#' + key + ' button');\n",
              "      quickchartButtonEl.disabled = true;  // To prevent multiple clicks.\n",
              "      quickchartButtonEl.classList.add('colab-df-spinner');\n",
              "      try {\n",
              "        const charts = await google.colab.kernel.invokeFunction(\n",
              "            'suggestCharts', [key], {});\n",
              "      } catch (error) {\n",
              "        console.error('Error during call to suggestCharts:', error);\n",
              "      }\n",
              "      quickchartButtonEl.classList.remove('colab-df-spinner');\n",
              "      quickchartButtonEl.classList.add('colab-df-quickchart-complete');\n",
              "    }\n",
              "    (() => {\n",
              "      let quickchartButtonEl =\n",
              "        document.querySelector('#df-18e2b708-68a2-4387-90c9-5b0e355d3909 button');\n",
              "      quickchartButtonEl.style.display =\n",
              "        google.colab.kernel.accessAllowed ? 'block' : 'none';\n",
              "    })();\n",
              "  </script>\n",
              "</div>\n",
              "    </div>\n",
              "  </div>\n"
            ]
          },
          "metadata": {},
          "execution_count": 107
        }
      ]
    },
    {
      "cell_type": "code",
      "source": [
        "FP_df = pd.DataFrame.from_dict(FPs, orient='index', columns = [\"FP\"])\n",
        "FP_df"
      ],
      "metadata": {
        "id": "uqyB7wWXDtyf",
        "colab": {
          "base_uri": "https://localhost:8080/",
          "height": 269
        },
        "outputId": "371b4756-7799-441e-d495-dcf900feece4"
      },
      "execution_count": 108,
      "outputs": [
        {
          "output_type": "execute_result",
          "data": {
            "text/plain": [
              "                     FP\n",
              "XGBoost              43\n",
              "SVM Classifier       37\n",
              "Random Forests       58\n",
              "Non-linear SVM       43\n",
              "MLPClassifier        58\n",
              "Logistic Regression  58\n",
              "GradientBoosting     43"
            ],
            "text/html": [
              "\n",
              "  <div id=\"df-381cf8e8-529d-4d11-b97c-aee6014c01c4\" class=\"colab-df-container\">\n",
              "    <div>\n",
              "<style scoped>\n",
              "    .dataframe tbody tr th:only-of-type {\n",
              "        vertical-align: middle;\n",
              "    }\n",
              "\n",
              "    .dataframe tbody tr th {\n",
              "        vertical-align: top;\n",
              "    }\n",
              "\n",
              "    .dataframe thead th {\n",
              "        text-align: right;\n",
              "    }\n",
              "</style>\n",
              "<table border=\"1\" class=\"dataframe\">\n",
              "  <thead>\n",
              "    <tr style=\"text-align: right;\">\n",
              "      <th></th>\n",
              "      <th>FP</th>\n",
              "    </tr>\n",
              "  </thead>\n",
              "  <tbody>\n",
              "    <tr>\n",
              "      <th>XGBoost</th>\n",
              "      <td>43</td>\n",
              "    </tr>\n",
              "    <tr>\n",
              "      <th>SVM Classifier</th>\n",
              "      <td>37</td>\n",
              "    </tr>\n",
              "    <tr>\n",
              "      <th>Random Forests</th>\n",
              "      <td>58</td>\n",
              "    </tr>\n",
              "    <tr>\n",
              "      <th>Non-linear SVM</th>\n",
              "      <td>43</td>\n",
              "    </tr>\n",
              "    <tr>\n",
              "      <th>MLPClassifier</th>\n",
              "      <td>58</td>\n",
              "    </tr>\n",
              "    <tr>\n",
              "      <th>Logistic Regression</th>\n",
              "      <td>58</td>\n",
              "    </tr>\n",
              "    <tr>\n",
              "      <th>GradientBoosting</th>\n",
              "      <td>43</td>\n",
              "    </tr>\n",
              "  </tbody>\n",
              "</table>\n",
              "</div>\n",
              "    <div class=\"colab-df-buttons\">\n",
              "\n",
              "  <div class=\"colab-df-container\">\n",
              "    <button class=\"colab-df-convert\" onclick=\"convertToInteractive('df-381cf8e8-529d-4d11-b97c-aee6014c01c4')\"\n",
              "            title=\"Convert this dataframe to an interactive table.\"\n",
              "            style=\"display:none;\">\n",
              "\n",
              "  <svg xmlns=\"http://www.w3.org/2000/svg\" height=\"24px\" viewBox=\"0 -960 960 960\">\n",
              "    <path d=\"M120-120v-720h720v720H120Zm60-500h600v-160H180v160Zm220 220h160v-160H400v160Zm0 220h160v-160H400v160ZM180-400h160v-160H180v160Zm440 0h160v-160H620v160ZM180-180h160v-160H180v160Zm440 0h160v-160H620v160Z\"/>\n",
              "  </svg>\n",
              "    </button>\n",
              "\n",
              "  <style>\n",
              "    .colab-df-container {\n",
              "      display:flex;\n",
              "      gap: 12px;\n",
              "    }\n",
              "\n",
              "    .colab-df-convert {\n",
              "      background-color: #E8F0FE;\n",
              "      border: none;\n",
              "      border-radius: 50%;\n",
              "      cursor: pointer;\n",
              "      display: none;\n",
              "      fill: #1967D2;\n",
              "      height: 32px;\n",
              "      padding: 0 0 0 0;\n",
              "      width: 32px;\n",
              "    }\n",
              "\n",
              "    .colab-df-convert:hover {\n",
              "      background-color: #E2EBFA;\n",
              "      box-shadow: 0px 1px 2px rgba(60, 64, 67, 0.3), 0px 1px 3px 1px rgba(60, 64, 67, 0.15);\n",
              "      fill: #174EA6;\n",
              "    }\n",
              "\n",
              "    .colab-df-buttons div {\n",
              "      margin-bottom: 4px;\n",
              "    }\n",
              "\n",
              "    [theme=dark] .colab-df-convert {\n",
              "      background-color: #3B4455;\n",
              "      fill: #D2E3FC;\n",
              "    }\n",
              "\n",
              "    [theme=dark] .colab-df-convert:hover {\n",
              "      background-color: #434B5C;\n",
              "      box-shadow: 0px 1px 3px 1px rgba(0, 0, 0, 0.15);\n",
              "      filter: drop-shadow(0px 1px 2px rgba(0, 0, 0, 0.3));\n",
              "      fill: #FFFFFF;\n",
              "    }\n",
              "  </style>\n",
              "\n",
              "    <script>\n",
              "      const buttonEl =\n",
              "        document.querySelector('#df-381cf8e8-529d-4d11-b97c-aee6014c01c4 button.colab-df-convert');\n",
              "      buttonEl.style.display =\n",
              "        google.colab.kernel.accessAllowed ? 'block' : 'none';\n",
              "\n",
              "      async function convertToInteractive(key) {\n",
              "        const element = document.querySelector('#df-381cf8e8-529d-4d11-b97c-aee6014c01c4');\n",
              "        const dataTable =\n",
              "          await google.colab.kernel.invokeFunction('convertToInteractive',\n",
              "                                                    [key], {});\n",
              "        if (!dataTable) return;\n",
              "\n",
              "        const docLinkHtml = 'Like what you see? Visit the ' +\n",
              "          '<a target=\"_blank\" href=https://colab.research.google.com/notebooks/data_table.ipynb>data table notebook</a>'\n",
              "          + ' to learn more about interactive tables.';\n",
              "        element.innerHTML = '';\n",
              "        dataTable['output_type'] = 'display_data';\n",
              "        await google.colab.output.renderOutput(dataTable, element);\n",
              "        const docLink = document.createElement('div');\n",
              "        docLink.innerHTML = docLinkHtml;\n",
              "        element.appendChild(docLink);\n",
              "      }\n",
              "    </script>\n",
              "  </div>\n",
              "\n",
              "\n",
              "<div id=\"df-4f6138aa-32ff-42e2-9891-b5593e9b12e8\">\n",
              "  <button class=\"colab-df-quickchart\" onclick=\"quickchart('df-4f6138aa-32ff-42e2-9891-b5593e9b12e8')\"\n",
              "            title=\"Suggest charts\"\n",
              "            style=\"display:none;\">\n",
              "\n",
              "<svg xmlns=\"http://www.w3.org/2000/svg\" height=\"24px\"viewBox=\"0 0 24 24\"\n",
              "     width=\"24px\">\n",
              "    <g>\n",
              "        <path d=\"M19 3H5c-1.1 0-2 .9-2 2v14c0 1.1.9 2 2 2h14c1.1 0 2-.9 2-2V5c0-1.1-.9-2-2-2zM9 17H7v-7h2v7zm4 0h-2V7h2v10zm4 0h-2v-4h2v4z\"/>\n",
              "    </g>\n",
              "</svg>\n",
              "  </button>\n",
              "\n",
              "<style>\n",
              "  .colab-df-quickchart {\n",
              "      --bg-color: #E8F0FE;\n",
              "      --fill-color: #1967D2;\n",
              "      --hover-bg-color: #E2EBFA;\n",
              "      --hover-fill-color: #174EA6;\n",
              "      --disabled-fill-color: #AAA;\n",
              "      --disabled-bg-color: #DDD;\n",
              "  }\n",
              "\n",
              "  [theme=dark] .colab-df-quickchart {\n",
              "      --bg-color: #3B4455;\n",
              "      --fill-color: #D2E3FC;\n",
              "      --hover-bg-color: #434B5C;\n",
              "      --hover-fill-color: #FFFFFF;\n",
              "      --disabled-bg-color: #3B4455;\n",
              "      --disabled-fill-color: #666;\n",
              "  }\n",
              "\n",
              "  .colab-df-quickchart {\n",
              "    background-color: var(--bg-color);\n",
              "    border: none;\n",
              "    border-radius: 50%;\n",
              "    cursor: pointer;\n",
              "    display: none;\n",
              "    fill: var(--fill-color);\n",
              "    height: 32px;\n",
              "    padding: 0;\n",
              "    width: 32px;\n",
              "  }\n",
              "\n",
              "  .colab-df-quickchart:hover {\n",
              "    background-color: var(--hover-bg-color);\n",
              "    box-shadow: 0 1px 2px rgba(60, 64, 67, 0.3), 0 1px 3px 1px rgba(60, 64, 67, 0.15);\n",
              "    fill: var(--button-hover-fill-color);\n",
              "  }\n",
              "\n",
              "  .colab-df-quickchart-complete:disabled,\n",
              "  .colab-df-quickchart-complete:disabled:hover {\n",
              "    background-color: var(--disabled-bg-color);\n",
              "    fill: var(--disabled-fill-color);\n",
              "    box-shadow: none;\n",
              "  }\n",
              "\n",
              "  .colab-df-spinner {\n",
              "    border: 2px solid var(--fill-color);\n",
              "    border-color: transparent;\n",
              "    border-bottom-color: var(--fill-color);\n",
              "    animation:\n",
              "      spin 1s steps(1) infinite;\n",
              "  }\n",
              "\n",
              "  @keyframes spin {\n",
              "    0% {\n",
              "      border-color: transparent;\n",
              "      border-bottom-color: var(--fill-color);\n",
              "      border-left-color: var(--fill-color);\n",
              "    }\n",
              "    20% {\n",
              "      border-color: transparent;\n",
              "      border-left-color: var(--fill-color);\n",
              "      border-top-color: var(--fill-color);\n",
              "    }\n",
              "    30% {\n",
              "      border-color: transparent;\n",
              "      border-left-color: var(--fill-color);\n",
              "      border-top-color: var(--fill-color);\n",
              "      border-right-color: var(--fill-color);\n",
              "    }\n",
              "    40% {\n",
              "      border-color: transparent;\n",
              "      border-right-color: var(--fill-color);\n",
              "      border-top-color: var(--fill-color);\n",
              "    }\n",
              "    60% {\n",
              "      border-color: transparent;\n",
              "      border-right-color: var(--fill-color);\n",
              "    }\n",
              "    80% {\n",
              "      border-color: transparent;\n",
              "      border-right-color: var(--fill-color);\n",
              "      border-bottom-color: var(--fill-color);\n",
              "    }\n",
              "    90% {\n",
              "      border-color: transparent;\n",
              "      border-bottom-color: var(--fill-color);\n",
              "    }\n",
              "  }\n",
              "</style>\n",
              "\n",
              "  <script>\n",
              "    async function quickchart(key) {\n",
              "      const quickchartButtonEl =\n",
              "        document.querySelector('#' + key + ' button');\n",
              "      quickchartButtonEl.disabled = true;  // To prevent multiple clicks.\n",
              "      quickchartButtonEl.classList.add('colab-df-spinner');\n",
              "      try {\n",
              "        const charts = await google.colab.kernel.invokeFunction(\n",
              "            'suggestCharts', [key], {});\n",
              "      } catch (error) {\n",
              "        console.error('Error during call to suggestCharts:', error);\n",
              "      }\n",
              "      quickchartButtonEl.classList.remove('colab-df-spinner');\n",
              "      quickchartButtonEl.classList.add('colab-df-quickchart-complete');\n",
              "    }\n",
              "    (() => {\n",
              "      let quickchartButtonEl =\n",
              "        document.querySelector('#df-4f6138aa-32ff-42e2-9891-b5593e9b12e8 button');\n",
              "      quickchartButtonEl.style.display =\n",
              "        google.colab.kernel.accessAllowed ? 'block' : 'none';\n",
              "    })();\n",
              "  </script>\n",
              "</div>\n",
              "    </div>\n",
              "  </div>\n"
            ]
          },
          "metadata": {},
          "execution_count": 108
        }
      ]
    },
    {
      "cell_type": "code",
      "source": [
        "score_df.sort_values('accuracy',ascending = False).plot(kind='bar',figsize=(8,6))\n",
        "plt.title(\"Testing Metrics for each Model\",fontsize=18,color='red')\n",
        "plt.tick_params(axis='y', colors='blue', direction='out', length=13, width=3)\n",
        "plt.xlabel(\"Modeling Approches\", fontsize=14, color = 'red')\n",
        "plt.ylim([0.3, 0.99])\n",
        "plt.ylabel(\"Test Accuracy\", fontsize=14, color = 'red')\n",
        "plt.show()"
      ],
      "metadata": {
        "id": "-RA16VtGDkG3",
        "colab": {
          "base_uri": "https://localhost:8080/",
          "height": 693
        },
        "outputId": "3d14733a-d843-4b95-997a-659cb6346a31"
      },
      "execution_count": 109,
      "outputs": [
        {
          "output_type": "display_data",
          "data": {
            "text/plain": [
              "<Figure size 800x600 with 1 Axes>"
            ],
            "image/png": "[encoded data removed]"
          },
          "metadata": {}
        }
      ]
    },
    {
      "cell_type": "code",
      "source": [
        "FP_df.sort_values('FP',ascending = False).plot(kind='bar',figsize=(8,6))\n",
        "plt.title(\"False Positive for each Model\",fontsize=18,color='red')\n",
        "plt.tick_params(axis='y', colors='blue', direction='out', length=13, width=3)\n",
        "plt.xlabel(\"Modeling Approches\", fontsize=14, color = 'red')\n",
        "plt.ylabel(\"FP Numbers\", fontsize=14, color = 'red')\n",
        "plt.show()"
      ],
      "metadata": {
        "id": "NZMKsg0LDmZq",
        "colab": {
          "base_uri": "https://localhost:8080/",
          "height": 693
        },
        "outputId": "91824a3f-e61b-4c3b-ebe7-c0162accb0a9"
      },
      "execution_count": 110,
      "outputs": [
        {
          "output_type": "display_data",
          "data": {
            "text/plain": [
              "<Figure size 800x600 with 1 Axes>"
            ],
            "image/png": "[encoded data removed]"
          },
          "metadata": {}
        }
      ]
    }
  ]
}