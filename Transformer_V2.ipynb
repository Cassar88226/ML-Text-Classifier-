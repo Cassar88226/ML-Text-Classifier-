{
  "nbformat": 4,
  "nbformat_minor": 0,
  "metadata": {
    "colab": {
      "provenance": [],
      "gpuType": "T4"
    },
    "kernelspec": {
      "name": "python3",
      "display_name": "Python 3"
    },
    "language_info": {
      "name": "python"
    },
    "accelerator": "GPU"
  },
  "cells": [
    {
      "cell_type": "markdown",
      "source": [
        "Import Libraries"
      ],
      "metadata": {
        "id": "ipch2CisUjOC"
      }
    },
    {
      "cell_type": "code",
      "execution_count": 1,
      "metadata": {
        "colab": {
          "base_uri": "https://localhost:8080/"
        },
        "id": "qbaIHMXW-Jto",
        "outputId": "5281612e-9bbd-4bab-9611-4005d8fde69f"
      },
      "outputs": [
        {
          "output_type": "stream",
          "name": "stderr",
          "text": [
            "[nltk_data] Downloading package punkt to /root/nltk_data...\n",
            "[nltk_data]   Unzipping tokenizers/punkt.zip.\n",
            "[nltk_data] Downloading package stopwords to /root/nltk_data...\n",
            "[nltk_data]   Unzipping corpora/stopwords.zip.\n",
            "[nltk_data] Downloading package wordnet to /root/nltk_data...\n"
          ]
        }
      ],
      "source": [
        "import csv\n",
        "import pickle\n",
        "import numpy as np\n",
        "import pandas as pd\n",
        "import matplotlib.pyplot as plt\n",
        "from sklearn.model_selection import train_test_split\n",
        "from sklearn.metrics import accuracy_score\n",
        "from sklearn.metrics import auc, accuracy_score, recall_score, f1_score, precision_score, roc_auc_score, roc_curve, confusion_matrix, precision_recall_curve, classification_report\n",
        "import seaborn as sns\n",
        "\n",
        "import tensorflow as tf\n",
        "from tensorflow.keras.preprocessing.text import Tokenizer\n",
        "from tensorflow.keras.preprocessing.sequence import pad_sequences\n",
        "from tensorflow.keras.utils import to_categorical\n",
        "from tensorflow.keras.models import Sequential, Model\n",
        "from tensorflow.keras import layers\n",
        "from tensorflow.keras.layers import Embedding, Layer, Dense, Dropout, MultiHeadAttention, LayerNormalization, Input, GlobalAveragePooling1D\n",
        "from tensorflow.keras.layers import LSTM, Bidirectional\n",
        "from tensorflow.keras.callbacks import ModelCheckpoint, EarlyStopping, ReduceLROnPlateau\n",
        "\n",
        "\n",
        "from imblearn.under_sampling import NearMiss, CondensedNearestNeighbour\n",
        "\n",
        "import nltk\n",
        "\n",
        "nltk.download(\"punkt\")\n",
        "nltk.download('stopwords')\n",
        "nltk.download('wordnet')\n",
        "\n",
        "import re\n",
        "\n",
        "from nltk.corpus import stopwords\n",
        "\n",
        "from nltk.stem import WordNetLemmatizer\n",
        "\n",
        "lemmatizer = WordNetLemmatizer()\n",
        "\n",
        "import warnings\n",
        "warnings.filterwarnings('ignore')"
      ]
    },
    {
      "cell_type": "code",
      "source": [
        "%pip install gdown\n",
        "import gdown"
      ],
      "metadata": {
        "colab": {
          "base_uri": "https://localhost:8080/"
        },
        "id": "lg_DKgcTXFJ8",
        "outputId": "15531025-1b64-4cfc-a590-03605b9b99b7"
      },
      "execution_count": 2,
      "outputs": [
        {
          "output_type": "stream",
          "name": "stdout",
          "text": [
            "Requirement already satisfied: gdown in /usr/local/lib/python3.10/dist-packages (4.6.6)\n",
            "Requirement already satisfied: filelock in /usr/local/lib/python3.10/dist-packages (from gdown) (3.13.1)\n",
            "Requirement already satisfied: requests[socks] in /usr/local/lib/python3.10/dist-packages (from gdown) (2.31.0)\n",
            "Requirement already satisfied: six in /usr/local/lib/python3.10/dist-packages (from gdown) (1.16.0)\n",
            "Requirement already satisfied: tqdm in /usr/local/lib/python3.10/dist-packages (from gdown) (4.66.1)\n",
            "Requirement already satisfied: beautifulsoup4 in /usr/local/lib/python3.10/dist-packages (from gdown) (4.11.2)\n",
            "Requirement already satisfied: soupsieve>1.2 in /usr/local/lib/python3.10/dist-packages (from beautifulsoup4->gdown) (2.5)\n",
            "Requirement already satisfied: charset-normalizer<4,>=2 in /usr/local/lib/python3.10/dist-packages (from requests[socks]->gdown) (3.3.2)\n",
            "Requirement already satisfied: idna<4,>=2.5 in /usr/local/lib/python3.10/dist-packages (from requests[socks]->gdown) (3.6)\n",
            "Requirement already satisfied: urllib3<3,>=1.21.1 in /usr/local/lib/python3.10/dist-packages (from requests[socks]->gdown) (2.0.7)\n",
            "Requirement already satisfied: certifi>=2017.4.17 in /usr/local/lib/python3.10/dist-packages (from requests[socks]->gdown) (2023.11.17)\n",
            "Requirement already satisfied: PySocks!=1.5.7,>=1.5.6 in /usr/local/lib/python3.10/dist-packages (from requests[socks]->gdown) (1.7.1)\n"
          ]
        }
      ]
    },
    {
      "cell_type": "code",
      "source": [
        "#Shill\n",
        "download_link = 'https://drive.google.com/u/0/uc?id=1voHIcsfEhC21yr3NA_xe7xKl6tpInJbO&export=download'\n",
        "\n",
        "gdown.download(download_link, quiet=False)\n",
        "\n",
        "#Conversation\n",
        "download_link = 'https://drive.google.com/u/0/uc?id=1IZsujps4GcQtvV3gZGnhN67kIVIt4-Qv&export=download'\n",
        "\n",
        "gdown.download(download_link, quiet=False)\n",
        "\n",
        "#Special Words\n",
        "download_link = 'https://drive.google.com/u/0/uc?id=1lVsDkysOK7qXeogbjbvdT8z7aziQ5oeN&export=download'\n",
        "\n",
        "gdown.download(download_link, quiet=False)"
      ],
      "metadata": {
        "colab": {
          "base_uri": "https://localhost:8080/",
          "height": 244
        },
        "id": "-WgCq67LXFAx",
        "outputId": "c50e7437-da00-42fd-87ab-b72d0ac60044"
      },
      "execution_count": 3,
      "outputs": [
        {
          "output_type": "stream",
          "name": "stderr",
          "text": [
            "Downloading...\n",
            "From: https://drive.google.com/u/0/uc?id=1voHIcsfEhC21yr3NA_xe7xKl6tpInJbO&export=download\n",
            "To: /content/shill.csv\n",
            "100%|██████████| 1.40M/1.40M [00:00<00:00, 10.7MB/s]\n",
            "Downloading...\n",
            "From: https://drive.google.com/u/0/uc?id=1IZsujps4GcQtvV3gZGnhN67kIVIt4-Qv&export=download\n",
            "To: /content/conversation.csv\n",
            "100%|██████████| 1.40M/1.40M [00:00<00:00, 10.6MB/s]\n",
            "Downloading...\n",
            "From: https://drive.google.com/u/0/uc?id=1lVsDkysOK7qXeogbjbvdT8z7aziQ5oeN&export=download\n",
            "To: /content/specialWords.txt\n",
            "100%|██████████| 33.3k/33.3k [00:00<00:00, 59.5MB/s]\n"
          ]
        },
        {
          "output_type": "execute_result",
          "data": {
            "text/plain": [
              "'specialWords.txt'"
            ],
            "application/vnd.google.colaboratory.intrinsic+json": {
              "type": "string"
            }
          },
          "metadata": {},
          "execution_count": 3
        }
      ]
    },
    {
      "cell_type": "markdown",
      "source": [
        "## Load the dataset and remove invalid data"
      ],
      "metadata": {
        "id": "q8qKHZzAP9p9"
      }
    },
    {
      "cell_type": "code",
      "source": [
        "raw_data = pd.read_csv('shill.csv', sep = ';', header = None)\n",
        "raw_data.columns = [\"Text\", \"Class\"]\n",
        "raw_data.head(10)"
      ],
      "metadata": {
        "colab": {
          "base_uri": "https://localhost:8080/",
          "height": 363
        },
        "id": "5j1ZJxcoP8_1",
        "outputId": "88dc3635-58d7-46c1-e9da-005e0a7d9e59"
      },
      "execution_count": 4,
      "outputs": [
        {
          "output_type": "execute_result",
          "data": {
            "text/plain": [
              "                                                Text  Class\n",
              "0         i feel lots of crypto has exhausted itself    1.0\n",
              "1  How are you guys feeling today ??? :Bear:  or ...    1.0\n",
              "2                         Did not take a trade today    1.0\n",
              "3                      Just entered eos long trade 👌    1.0\n",
              "4       Anything good to buy now? Or did I miss it 😭    1.0\n",
              "5  GL trading tonight guys.  I'm off to eat dinne...    1.0\n",
              "6         Okay my long position is still open on eth    1.0\n",
              "7                  morning guys any trades avaiable?    1.0\n",
              "8                 What’s everybodies thoughts today?    1.0\n",
              "9  Are you guys more bullish or bearish for this ...    1.0"
            ],
            "text/html": [
              "\n",
              "  <div id=\"df-ade0e3bc-26c6-4ef6-98a8-c6827be95ec3\" class=\"colab-df-container\">\n",
              "    <div>\n",
              "<style scoped>\n",
              "    .dataframe tbody tr th:only-of-type {\n",
              "        vertical-align: middle;\n",
              "    }\n",
              "\n",
              "    .dataframe tbody tr th {\n",
              "        vertical-align: top;\n",
              "    }\n",
              "\n",
              "    .dataframe thead th {\n",
              "        text-align: right;\n",
              "    }\n",
              "</style>\n",
              "<table border=\"1\" class=\"dataframe\">\n",
              "  <thead>\n",
              "    <tr style=\"text-align: right;\">\n",
              "      <th></th>\n",
              "      <th>Text</th>\n",
              "      <th>Class</th>\n",
              "    </tr>\n",
              "  </thead>\n",
              "  <tbody>\n",
              "    <tr>\n",
              "      <th>0</th>\n",
              "      <td>i feel lots of crypto has exhausted itself</td>\n",
              "      <td>1.0</td>\n",
              "    </tr>\n",
              "    <tr>\n",
              "      <th>1</th>\n",
              "      <td>How are you guys feeling today ??? :Bear:  or ...</td>\n",
              "      <td>1.0</td>\n",
              "    </tr>\n",
              "    <tr>\n",
              "      <th>2</th>\n",
              "      <td>Did not take a trade today</td>\n",
              "      <td>1.0</td>\n",
              "    </tr>\n",
              "    <tr>\n",
              "      <th>3</th>\n",
              "      <td>Just entered eos long trade 👌</td>\n",
              "      <td>1.0</td>\n",
              "    </tr>\n",
              "    <tr>\n",
              "      <th>4</th>\n",
              "      <td>Anything good to buy now? Or did I miss it 😭</td>\n",
              "      <td>1.0</td>\n",
              "    </tr>\n",
              "    <tr>\n",
              "      <th>5</th>\n",
              "      <td>GL trading tonight guys.  I'm off to eat dinne...</td>\n",
              "      <td>1.0</td>\n",
              "    </tr>\n",
              "    <tr>\n",
              "      <th>6</th>\n",
              "      <td>Okay my long position is still open on eth</td>\n",
              "      <td>1.0</td>\n",
              "    </tr>\n",
              "    <tr>\n",
              "      <th>7</th>\n",
              "      <td>morning guys any trades avaiable?</td>\n",
              "      <td>1.0</td>\n",
              "    </tr>\n",
              "    <tr>\n",
              "      <th>8</th>\n",
              "      <td>What’s everybodies thoughts today?</td>\n",
              "      <td>1.0</td>\n",
              "    </tr>\n",
              "    <tr>\n",
              "      <th>9</th>\n",
              "      <td>Are you guys more bullish or bearish for this ...</td>\n",
              "      <td>1.0</td>\n",
              "    </tr>\n",
              "  </tbody>\n",
              "</table>\n",
              "</div>\n",
              "    <div class=\"colab-df-buttons\">\n",
              "\n",
              "  <div class=\"colab-df-container\">\n",
              "    <button class=\"colab-df-convert\" onclick=\"convertToInteractive('df-ade0e3bc-26c6-4ef6-98a8-c6827be95ec3')\"\n",
              "            title=\"Convert this dataframe to an interactive table.\"\n",
              "            style=\"display:none;\">\n",
              "\n",
              "  <svg xmlns=\"http://www.w3.org/2000/svg\" height=\"24px\" viewBox=\"0 -960 960 960\">\n",
              "    <path d=\"M120-120v-720h720v720H120Zm60-500h600v-160H180v160Zm220 220h160v-160H400v160Zm0 220h160v-160H400v160ZM180-400h160v-160H180v160Zm440 0h160v-160H620v160ZM180-180h160v-160H180v160Zm440 0h160v-160H620v160Z\"/>\n",
              "  </svg>\n",
              "    </button>\n",
              "\n",
              "  <style>\n",
              "    .colab-df-container {\n",
              "      display:flex;\n",
              "      gap: 12px;\n",
              "    }\n",
              "\n",
              "    .colab-df-convert {\n",
              "      background-color: #E8F0FE;\n",
              "      border: none;\n",
              "      border-radius: 50%;\n",
              "      cursor: pointer;\n",
              "      display: none;\n",
              "      fill: #1967D2;\n",
              "      height: 32px;\n",
              "      padding: 0 0 0 0;\n",
              "      width: 32px;\n",
              "    }\n",
              "\n",
              "    .colab-df-convert:hover {\n",
              "      background-color: #E2EBFA;\n",
              "      box-shadow: 0px 1px 2px rgba(60, 64, 67, 0.3), 0px 1px 3px 1px rgba(60, 64, 67, 0.15);\n",
              "      fill: #174EA6;\n",
              "    }\n",
              "\n",
              "    .colab-df-buttons div {\n",
              "      margin-bottom: 4px;\n",
              "    }\n",
              "\n",
              "    [theme=dark] .colab-df-convert {\n",
              "      background-color: #3B4455;\n",
              "      fill: #D2E3FC;\n",
              "    }\n",
              "\n",
              "    [theme=dark] .colab-df-convert:hover {\n",
              "      background-color: #434B5C;\n",
              "      box-shadow: 0px 1px 3px 1px rgba(0, 0, 0, 0.15);\n",
              "      filter: drop-shadow(0px 1px 2px rgba(0, 0, 0, 0.3));\n",
              "      fill: #FFFFFF;\n",
              "    }\n",
              "  </style>\n",
              "\n",
              "    <script>\n",
              "      const buttonEl =\n",
              "        document.querySelector('#df-ade0e3bc-26c6-4ef6-98a8-c6827be95ec3 button.colab-df-convert');\n",
              "      buttonEl.style.display =\n",
              "        google.colab.kernel.accessAllowed ? 'block' : 'none';\n",
              "\n",
              "      async function convertToInteractive(key) {\n",
              "        const element = document.querySelector('#df-ade0e3bc-26c6-4ef6-98a8-c6827be95ec3');\n",
              "        const dataTable =\n",
              "          await google.colab.kernel.invokeFunction('convertToInteractive',\n",
              "                                                    [key], {});\n",
              "        if (!dataTable) return;\n",
              "\n",
              "        const docLinkHtml = 'Like what you see? Visit the ' +\n",
              "          '<a target=\"_blank\" href=https://colab.research.google.com/notebooks/data_table.ipynb>data table notebook</a>'\n",
              "          + ' to learn more about interactive tables.';\n",
              "        element.innerHTML = '';\n",
              "        dataTable['output_type'] = 'display_data';\n",
              "        await google.colab.output.renderOutput(dataTable, element);\n",
              "        const docLink = document.createElement('div');\n",
              "        docLink.innerHTML = docLinkHtml;\n",
              "        element.appendChild(docLink);\n",
              "      }\n",
              "    </script>\n",
              "  </div>\n",
              "\n",
              "\n",
              "<div id=\"df-bc4daa85-2e0d-4283-809e-4a9008a1c2d3\">\n",
              "  <button class=\"colab-df-quickchart\" onclick=\"quickchart('df-bc4daa85-2e0d-4283-809e-4a9008a1c2d3')\"\n",
              "            title=\"Suggest charts\"\n",
              "            style=\"display:none;\">\n",
              "\n",
              "<svg xmlns=\"http://www.w3.org/2000/svg\" height=\"24px\"viewBox=\"0 0 24 24\"\n",
              "     width=\"24px\">\n",
              "    <g>\n",
              "        <path d=\"M19 3H5c-1.1 0-2 .9-2 2v14c0 1.1.9 2 2 2h14c1.1 0 2-.9 2-2V5c0-1.1-.9-2-2-2zM9 17H7v-7h2v7zm4 0h-2V7h2v10zm4 0h-2v-4h2v4z\"/>\n",
              "    </g>\n",
              "</svg>\n",
              "  </button>\n",
              "\n",
              "<style>\n",
              "  .colab-df-quickchart {\n",
              "      --bg-color: #E8F0FE;\n",
              "      --fill-color: #1967D2;\n",
              "      --hover-bg-color: #E2EBFA;\n",
              "      --hover-fill-color: #174EA6;\n",
              "      --disabled-fill-color: #AAA;\n",
              "      --disabled-bg-color: #DDD;\n",
              "  }\n",
              "\n",
              "  [theme=dark] .colab-df-quickchart {\n",
              "      --bg-color: #3B4455;\n",
              "      --fill-color: #D2E3FC;\n",
              "      --hover-bg-color: #434B5C;\n",
              "      --hover-fill-color: #FFFFFF;\n",
              "      --disabled-bg-color: #3B4455;\n",
              "      --disabled-fill-color: #666;\n",
              "  }\n",
              "\n",
              "  .colab-df-quickchart {\n",
              "    background-color: var(--bg-color);\n",
              "    border: none;\n",
              "    border-radius: 50%;\n",
              "    cursor: pointer;\n",
              "    display: none;\n",
              "    fill: var(--fill-color);\n",
              "    height: 32px;\n",
              "    padding: 0;\n",
              "    width: 32px;\n",
              "  }\n",
              "\n",
              "  .colab-df-quickchart:hover {\n",
              "    background-color: var(--hover-bg-color);\n",
              "    box-shadow: 0 1px 2px rgba(60, 64, 67, 0.3), 0 1px 3px 1px rgba(60, 64, 67, 0.15);\n",
              "    fill: var(--button-hover-fill-color);\n",
              "  }\n",
              "\n",
              "  .colab-df-quickchart-complete:disabled,\n",
              "  .colab-df-quickchart-complete:disabled:hover {\n",
              "    background-color: var(--disabled-bg-color);\n",
              "    fill: var(--disabled-fill-color);\n",
              "    box-shadow: none;\n",
              "  }\n",
              "\n",
              "  .colab-df-spinner {\n",
              "    border: 2px solid var(--fill-color);\n",
              "    border-color: transparent;\n",
              "    border-bottom-color: var(--fill-color);\n",
              "    animation:\n",
              "      spin 1s steps(1) infinite;\n",
              "  }\n",
              "\n",
              "  @keyframes spin {\n",
              "    0% {\n",
              "      border-color: transparent;\n",
              "      border-bottom-color: var(--fill-color);\n",
              "      border-left-color: var(--fill-color);\n",
              "    }\n",
              "    20% {\n",
              "      border-color: transparent;\n",
              "      border-left-color: var(--fill-color);\n",
              "      border-top-color: var(--fill-color);\n",
              "    }\n",
              "    30% {\n",
              "      border-color: transparent;\n",
              "      border-left-color: var(--fill-color);\n",
              "      border-top-color: var(--fill-color);\n",
              "      border-right-color: var(--fill-color);\n",
              "    }\n",
              "    40% {\n",
              "      border-color: transparent;\n",
              "      border-right-color: var(--fill-color);\n",
              "      border-top-color: var(--fill-color);\n",
              "    }\n",
              "    60% {\n",
              "      border-color: transparent;\n",
              "      border-right-color: var(--fill-color);\n",
              "    }\n",
              "    80% {\n",
              "      border-color: transparent;\n",
              "      border-right-color: var(--fill-color);\n",
              "      border-bottom-color: var(--fill-color);\n",
              "    }\n",
              "    90% {\n",
              "      border-color: transparent;\n",
              "      border-bottom-color: var(--fill-color);\n",
              "    }\n",
              "  }\n",
              "</style>\n",
              "\n",
              "  <script>\n",
              "    async function quickchart(key) {\n",
              "      const quickchartButtonEl =\n",
              "        document.querySelector('#' + key + ' button');\n",
              "      quickchartButtonEl.disabled = true;  // To prevent multiple clicks.\n",
              "      quickchartButtonEl.classList.add('colab-df-spinner');\n",
              "      try {\n",
              "        const charts = await google.colab.kernel.invokeFunction(\n",
              "            'suggestCharts', [key], {});\n",
              "      } catch (error) {\n",
              "        console.error('Error during call to suggestCharts:', error);\n",
              "      }\n",
              "      quickchartButtonEl.classList.remove('colab-df-spinner');\n",
              "      quickchartButtonEl.classList.add('colab-df-quickchart-complete');\n",
              "    }\n",
              "    (() => {\n",
              "      let quickchartButtonEl =\n",
              "        document.querySelector('#df-bc4daa85-2e0d-4283-809e-4a9008a1c2d3 button');\n",
              "      quickchartButtonEl.style.display =\n",
              "        google.colab.kernel.accessAllowed ? 'block' : 'none';\n",
              "    })();\n",
              "  </script>\n",
              "</div>\n",
              "    </div>\n",
              "  </div>\n"
            ]
          },
          "metadata": {},
          "execution_count": 4
        }
      ]
    },
    {
      "cell_type": "code",
      "source": [
        "raw_data['Class'].value_counts(normalize = True).plot.bar()"
      ],
      "metadata": {
        "colab": {
          "base_uri": "https://localhost:8080/",
          "height": 455
        },
        "id": "vUVjjho0QJJN",
        "outputId": "adb5b59e-bb8e-4a40-d27f-caf884bfd668"
      },
      "execution_count": 5,
      "outputs": [
        {
          "output_type": "execute_result",
          "data": {
            "text/plain": [
              "<Axes: >"
            ]
          },
          "metadata": {},
          "execution_count": 5
        },
        {
          "output_type": "display_data",
          "data": {
            "text/plain": [
              "<Figure size 640x480 with 1 Axes>"
            ],
            "image/png": "[encoded data removed]"
          },
          "metadata": {}
        }
      ]
    },
    {
      "cell_type": "markdown",
      "source": [
        "## Data Preprocessing"
      ],
      "metadata": {
        "id": "qOF0t2N5Qtid"
      }
    },
    {
      "cell_type": "code",
      "source": [
        "lemmatizer = WordNetLemmatizer()\n",
        "with open('specialWords.txt') as file:\n",
        "    special_words = [line.strip().lower() for line in file] # lower the special words"
      ],
      "metadata": {
        "id": "SJ2-tn32QsfV"
      },
      "execution_count": 6,
      "outputs": []
    },
    {
      "cell_type": "code",
      "source": [
        "## cleaning text data, remove special charactors, numbers, puncatations, stopwords removing, lower casing, skip special words\n",
        "cleaned_text = []\n",
        "existing_special_words = []\n",
        "for idx in range(len(raw_data)):\n",
        "    sentence = raw_data['Text'][idx]\n",
        "    # ignore slash \"/\" in punctuation removing, but if slash is not there in special words, remove it\n",
        "    removeSpecialChars = str(sentence).translate ({ord(c): \" \" for c in \"!@#$%^&*()[]{};:,.<>?\\|`~-=_+\"})\n",
        "    pattern = r'[0-9]'\n",
        "    new_string = re.sub(pattern, '', removeSpecialChars)\n",
        "    new_string = re.sub(' +', ' ', new_string)\n",
        "    new_string = ' '.join([word for word in new_string.split() if word not in stopwords.words(\"english\")])\n",
        "    existing_special_word = any(w in special_words for w in new_string.split())\n",
        "    # keep slash for Special words, but if not special words, remove slash from the word\n",
        "    new_string = ' '.join([lemmatizer.lemmatize(w).lower() if len(w)>1 and w.lower() not in special_words else w.replace(\"/\", \"\").lower() for w in new_string.split() ] )\n",
        "    cleaned_text.append(new_string)\n",
        "    existing_special_words.append(existing_special_word)\n",
        "\n",
        "raw_data['cleaned_text'] = cleaned_text\n",
        "raw_data['existing'] = existing_special_words\n",
        "\n"
      ],
      "metadata": {
        "id": "e3nC3774Rw1m"
      },
      "execution_count": 7,
      "outputs": []
    },
    {
      "cell_type": "code",
      "source": [
        "raw_data.head(30)"
      ],
      "metadata": {
        "colab": {
          "base_uri": "https://localhost:8080/",
          "height": 1000
        },
        "id": "ySjp6ek1ShMW",
        "outputId": "d32dd050-7ed8-4c49-c541-85e57184c54b"
      },
      "execution_count": 8,
      "outputs": [
        {
          "output_type": "execute_result",
          "data": {
            "text/plain": [
              "                                                 Text  Class  \\\n",
              "0          i feel lots of crypto has exhausted itself    1.0   \n",
              "1   How are you guys feeling today ??? :Bear:  or ...    1.0   \n",
              "2                          Did not take a trade today    1.0   \n",
              "3                       Just entered eos long trade 👌    1.0   \n",
              "4        Anything good to buy now? Or did I miss it 😭    1.0   \n",
              "5   GL trading tonight guys.  I'm off to eat dinne...    1.0   \n",
              "6          Okay my long position is still open on eth    1.0   \n",
              "7                   morning guys any trades avaiable?    1.0   \n",
              "8                  What’s everybodies thoughts today?    1.0   \n",
              "9   Are you guys more bullish or bearish for this ...    1.0   \n",
              "10                            I'm 100% up on the long    1.0   \n",
              "11                              I am up 17% on Solana    1.0   \n",
              "12                                  Good luck longing    1.0   \n",
              "13  Hey Guys. Please share trades you are going fo...    1.0   \n",
              "14        Hi everyone!  Does anybody have to on rune?    1.0   \n",
              "15  Hey guys, i need a favor, can anyone do a TA f...    1.0   \n",
              "16  I'm still long  +43% AVAX +40% DOT +17% SOL .....    1.0   \n",
              "17  Good morning from sunny South Africa. \\n\\nWhat...    1.0   \n",
              "18  Hi everyone are people in longs or shorts today ?    1.0   \n",
              "19  Trading long and short at the same time messes...    1.0   \n",
              "20                Helloooo bullish or bearish today??    1.0   \n",
              "21                                              Hello    0.0   \n",
              "22                        So is everyone shorting eth    0.0   \n",
              "23                               Markets a turd today    0.0   \n",
              "24                                             Yo yo!    0.0   \n",
              "25                                 Hello banter fam .    0.0   \n",
              "26                             Hope you all are ready    0.0   \n",
              "27                                         Good luck!    0.0   \n",
              "28                                        Good luck 🤞    0.0   \n",
              "29     i reckon we have a slow grind up and then dump    0.0   \n",
              "\n",
              "                                         cleaned_text  existing  \n",
              "0                           feel lot crypto exhausted      True  \n",
              "1                     how guy feeling today bear bull     False  \n",
              "2                                did take trade today     False  \n",
              "3                       just entered eos long trade 👌      True  \n",
              "4                       anything good buy or i miss 😭     False  \n",
              "5   gl trading tonight guy i'm eat dinner 🙂 watch ...     False  \n",
              "6                   okay long position still open eth      True  \n",
              "7                          morning guy trade avaiable     False  \n",
              "8                    what’s everybodies thought today     False  \n",
              "9                        are guy bullish bearish week     False  \n",
              "10                                           i'm long     False  \n",
              "11                                           i solana     False  \n",
              "12                                  good luck longing     False  \n",
              "13                  hey guys please share trade going     False  \n",
              "14                      hi everyone does anybody rune      True  \n",
              "15                  hey guy need favor anyone ta atom     False  \n",
              "16  i'm still long avax dot sol i like way working...     False  \n",
              "17  good morning sunny south africa what trade hot...      True  \n",
              "18               hi everyone people longs short today      True  \n",
              "19             trading long short time mess brain lol     False  \n",
              "20                     helloooo bullish bearish today     False  \n",
              "21                                              hello     False  \n",
              "22                           so everyone shorting eth      True  \n",
              "23                                 markets turd today     False  \n",
              "24                                              yo yo     False  \n",
              "25                                   hello banter fam     False  \n",
              "26                                         hope ready     False  \n",
              "27                                          good luck     False  \n",
              "28                                        good luck 🤞     False  \n",
              "29                             reckon slow grind dump     False  "
            ],
            "text/html": [
              "\n",
              "  <div id=\"df-addc1b92-d928-403b-9f6d-d66bff4f0a9c\" class=\"colab-df-container\">\n",
              "    <div>\n",
              "<style scoped>\n",
              "    .dataframe tbody tr th:only-of-type {\n",
              "        vertical-align: middle;\n",
              "    }\n",
              "\n",
              "    .dataframe tbody tr th {\n",
              "        vertical-align: top;\n",
              "    }\n",
              "\n",
              "    .dataframe thead th {\n",
              "        text-align: right;\n",
              "    }\n",
              "</style>\n",
              "<table border=\"1\" class=\"dataframe\">\n",
              "  <thead>\n",
              "    <tr style=\"text-align: right;\">\n",
              "      <th></th>\n",
              "      <th>Text</th>\n",
              "      <th>Class</th>\n",
              "      <th>cleaned_text</th>\n",
              "      <th>existing</th>\n",
              "    </tr>\n",
              "  </thead>\n",
              "  <tbody>\n",
              "    <tr>\n",
              "      <th>0</th>\n",
              "      <td>i feel lots of crypto has exhausted itself</td>\n",
              "      <td>1.0</td>\n",
              "      <td>feel lot crypto exhausted</td>\n",
              "      <td>True</td>\n",
              "    </tr>\n",
              "    <tr>\n",
              "      <th>1</th>\n",
              "      <td>How are you guys feeling today ??? :Bear:  or ...</td>\n",
              "      <td>1.0</td>\n",
              "      <td>how guy feeling today bear bull</td>\n",
              "      <td>False</td>\n",
              "    </tr>\n",
              "    <tr>\n",
              "      <th>2</th>\n",
              "      <td>Did not take a trade today</td>\n",
              "      <td>1.0</td>\n",
              "      <td>did take trade today</td>\n",
              "      <td>False</td>\n",
              "    </tr>\n",
              "    <tr>\n",
              "      <th>3</th>\n",
              "      <td>Just entered eos long trade 👌</td>\n",
              "      <td>1.0</td>\n",
              "      <td>just entered eos long trade 👌</td>\n",
              "      <td>True</td>\n",
              "    </tr>\n",
              "    <tr>\n",
              "      <th>4</th>\n",
              "      <td>Anything good to buy now? Or did I miss it 😭</td>\n",
              "      <td>1.0</td>\n",
              "      <td>anything good buy or i miss 😭</td>\n",
              "      <td>False</td>\n",
              "    </tr>\n",
              "    <tr>\n",
              "      <th>5</th>\n",
              "      <td>GL trading tonight guys.  I'm off to eat dinne...</td>\n",
              "      <td>1.0</td>\n",
              "      <td>gl trading tonight guy i'm eat dinner 🙂 watch ...</td>\n",
              "      <td>False</td>\n",
              "    </tr>\n",
              "    <tr>\n",
              "      <th>6</th>\n",
              "      <td>Okay my long position is still open on eth</td>\n",
              "      <td>1.0</td>\n",
              "      <td>okay long position still open eth</td>\n",
              "      <td>True</td>\n",
              "    </tr>\n",
              "    <tr>\n",
              "      <th>7</th>\n",
              "      <td>morning guys any trades avaiable?</td>\n",
              "      <td>1.0</td>\n",
              "      <td>morning guy trade avaiable</td>\n",
              "      <td>False</td>\n",
              "    </tr>\n",
              "    <tr>\n",
              "      <th>8</th>\n",
              "      <td>What’s everybodies thoughts today?</td>\n",
              "      <td>1.0</td>\n",
              "      <td>what’s everybodies thought today</td>\n",
              "      <td>False</td>\n",
              "    </tr>\n",
              "    <tr>\n",
              "      <th>9</th>\n",
              "      <td>Are you guys more bullish or bearish for this ...</td>\n",
              "      <td>1.0</td>\n",
              "      <td>are guy bullish bearish week</td>\n",
              "      <td>False</td>\n",
              "    </tr>\n",
              "    <tr>\n",
              "      <th>10</th>\n",
              "      <td>I'm 100% up on the long</td>\n",
              "      <td>1.0</td>\n",
              "      <td>i'm long</td>\n",
              "      <td>False</td>\n",
              "    </tr>\n",
              "    <tr>\n",
              "      <th>11</th>\n",
              "      <td>I am up 17% on Solana</td>\n",
              "      <td>1.0</td>\n",
              "      <td>i solana</td>\n",
              "      <td>False</td>\n",
              "    </tr>\n",
              "    <tr>\n",
              "      <th>12</th>\n",
              "      <td>Good luck longing</td>\n",
              "      <td>1.0</td>\n",
              "      <td>good luck longing</td>\n",
              "      <td>False</td>\n",
              "    </tr>\n",
              "    <tr>\n",
              "      <th>13</th>\n",
              "      <td>Hey Guys. Please share trades you are going fo...</td>\n",
              "      <td>1.0</td>\n",
              "      <td>hey guys please share trade going</td>\n",
              "      <td>False</td>\n",
              "    </tr>\n",
              "    <tr>\n",
              "      <th>14</th>\n",
              "      <td>Hi everyone!  Does anybody have to on rune?</td>\n",
              "      <td>1.0</td>\n",
              "      <td>hi everyone does anybody rune</td>\n",
              "      <td>True</td>\n",
              "    </tr>\n",
              "    <tr>\n",
              "      <th>15</th>\n",
              "      <td>Hey guys, i need a favor, can anyone do a TA f...</td>\n",
              "      <td>1.0</td>\n",
              "      <td>hey guy need favor anyone ta atom</td>\n",
              "      <td>False</td>\n",
              "    </tr>\n",
              "    <tr>\n",
              "      <th>16</th>\n",
              "      <td>I'm still long  +43% AVAX +40% DOT +17% SOL .....</td>\n",
              "      <td>1.0</td>\n",
              "      <td>i'm still long avax dot sol i like way working...</td>\n",
              "      <td>False</td>\n",
              "    </tr>\n",
              "    <tr>\n",
              "      <th>17</th>\n",
              "      <td>Good morning from sunny South Africa. \\n\\nWhat...</td>\n",
              "      <td>1.0</td>\n",
              "      <td>good morning sunny south africa what trade hot...</td>\n",
              "      <td>True</td>\n",
              "    </tr>\n",
              "    <tr>\n",
              "      <th>18</th>\n",
              "      <td>Hi everyone are people in longs or shorts today ?</td>\n",
              "      <td>1.0</td>\n",
              "      <td>hi everyone people longs short today</td>\n",
              "      <td>True</td>\n",
              "    </tr>\n",
              "    <tr>\n",
              "      <th>19</th>\n",
              "      <td>Trading long and short at the same time messes...</td>\n",
              "      <td>1.0</td>\n",
              "      <td>trading long short time mess brain lol</td>\n",
              "      <td>False</td>\n",
              "    </tr>\n",
              "    <tr>\n",
              "      <th>20</th>\n",
              "      <td>Helloooo bullish or bearish today??</td>\n",
              "      <td>1.0</td>\n",
              "      <td>helloooo bullish bearish today</td>\n",
              "      <td>False</td>\n",
              "    </tr>\n",
              "    <tr>\n",
              "      <th>21</th>\n",
              "      <td>Hello</td>\n",
              "      <td>0.0</td>\n",
              "      <td>hello</td>\n",
              "      <td>False</td>\n",
              "    </tr>\n",
              "    <tr>\n",
              "      <th>22</th>\n",
              "      <td>So is everyone shorting eth</td>\n",
              "      <td>0.0</td>\n",
              "      <td>so everyone shorting eth</td>\n",
              "      <td>True</td>\n",
              "    </tr>\n",
              "    <tr>\n",
              "      <th>23</th>\n",
              "      <td>Markets a turd today</td>\n",
              "      <td>0.0</td>\n",
              "      <td>markets turd today</td>\n",
              "      <td>False</td>\n",
              "    </tr>\n",
              "    <tr>\n",
              "      <th>24</th>\n",
              "      <td>Yo yo!</td>\n",
              "      <td>0.0</td>\n",
              "      <td>yo yo</td>\n",
              "      <td>False</td>\n",
              "    </tr>\n",
              "    <tr>\n",
              "      <th>25</th>\n",
              "      <td>Hello banter fam .</td>\n",
              "      <td>0.0</td>\n",
              "      <td>hello banter fam</td>\n",
              "      <td>False</td>\n",
              "    </tr>\n",
              "    <tr>\n",
              "      <th>26</th>\n",
              "      <td>Hope you all are ready</td>\n",
              "      <td>0.0</td>\n",
              "      <td>hope ready</td>\n",
              "      <td>False</td>\n",
              "    </tr>\n",
              "    <tr>\n",
              "      <th>27</th>\n",
              "      <td>Good luck!</td>\n",
              "      <td>0.0</td>\n",
              "      <td>good luck</td>\n",
              "      <td>False</td>\n",
              "    </tr>\n",
              "    <tr>\n",
              "      <th>28</th>\n",
              "      <td>Good luck 🤞</td>\n",
              "      <td>0.0</td>\n",
              "      <td>good luck 🤞</td>\n",
              "      <td>False</td>\n",
              "    </tr>\n",
              "    <tr>\n",
              "      <th>29</th>\n",
              "      <td>i reckon we have a slow grind up and then dump</td>\n",
              "      <td>0.0</td>\n",
              "      <td>reckon slow grind dump</td>\n",
              "      <td>False</td>\n",
              "    </tr>\n",
              "  </tbody>\n",
              "</table>\n",
              "</div>\n",
              "    <div class=\"colab-df-buttons\">\n",
              "\n",
              "  <div class=\"colab-df-container\">\n",
              "    <button class=\"colab-df-convert\" onclick=\"convertToInteractive('df-addc1b92-d928-403b-9f6d-d66bff4f0a9c')\"\n",
              "            title=\"Convert this dataframe to an interactive table.\"\n",
              "            style=\"display:none;\">\n",
              "\n",
              "  <svg xmlns=\"http://www.w3.org/2000/svg\" height=\"24px\" viewBox=\"0 -960 960 960\">\n",
              "    <path d=\"M120-120v-720h720v720H120Zm60-500h600v-160H180v160Zm220 220h160v-160H400v160Zm0 220h160v-160H400v160ZM180-400h160v-160H180v160Zm440 0h160v-160H620v160ZM180-180h160v-160H180v160Zm440 0h160v-160H620v160Z\"/>\n",
              "  </svg>\n",
              "    </button>\n",
              "\n",
              "  <style>\n",
              "    .colab-df-container {\n",
              "      display:flex;\n",
              "      gap: 12px;\n",
              "    }\n",
              "\n",
              "    .colab-df-convert {\n",
              "      background-color: #E8F0FE;\n",
              "      border: none;\n",
              "      border-radius: 50%;\n",
              "      cursor: pointer;\n",
              "      display: none;\n",
              "      fill: #1967D2;\n",
              "      height: 32px;\n",
              "      padding: 0 0 0 0;\n",
              "      width: 32px;\n",
              "    }\n",
              "\n",
              "    .colab-df-convert:hover {\n",
              "      background-color: #E2EBFA;\n",
              "      box-shadow: 0px 1px 2px rgba(60, 64, 67, 0.3), 0px 1px 3px 1px rgba(60, 64, 67, 0.15);\n",
              "      fill: #174EA6;\n",
              "    }\n",
              "\n",
              "    .colab-df-buttons div {\n",
              "      margin-bottom: 4px;\n",
              "    }\n",
              "\n",
              "    [theme=dark] .colab-df-convert {\n",
              "      background-color: #3B4455;\n",
              "      fill: #D2E3FC;\n",
              "    }\n",
              "\n",
              "    [theme=dark] .colab-df-convert:hover {\n",
              "      background-color: #434B5C;\n",
              "      box-shadow: 0px 1px 3px 1px rgba(0, 0, 0, 0.15);\n",
              "      filter: drop-shadow(0px 1px 2px rgba(0, 0, 0, 0.3));\n",
              "      fill: #FFFFFF;\n",
              "    }\n",
              "  </style>\n",
              "\n",
              "    <script>\n",
              "      const buttonEl =\n",
              "        document.querySelector('#df-addc1b92-d928-403b-9f6d-d66bff4f0a9c button.colab-df-convert');\n",
              "      buttonEl.style.display =\n",
              "        google.colab.kernel.accessAllowed ? 'block' : 'none';\n",
              "\n",
              "      async function convertToInteractive(key) {\n",
              "        const element = document.querySelector('#df-addc1b92-d928-403b-9f6d-d66bff4f0a9c');\n",
              "        const dataTable =\n",
              "          await google.colab.kernel.invokeFunction('convertToInteractive',\n",
              "                                                    [key], {});\n",
              "        if (!dataTable) return;\n",
              "\n",
              "        const docLinkHtml = 'Like what you see? Visit the ' +\n",
              "          '<a target=\"_blank\" href=https://colab.research.google.com/notebooks/data_table.ipynb>data table notebook</a>'\n",
              "          + ' to learn more about interactive tables.';\n",
              "        element.innerHTML = '';\n",
              "        dataTable['output_type'] = 'display_data';\n",
              "        await google.colab.output.renderOutput(dataTable, element);\n",
              "        const docLink = document.createElement('div');\n",
              "        docLink.innerHTML = docLinkHtml;\n",
              "        element.appendChild(docLink);\n",
              "      }\n",
              "    </script>\n",
              "  </div>\n",
              "\n",
              "\n",
              "<div id=\"df-9376c8ca-e361-498e-866b-3f604f29ca35\">\n",
              "  <button class=\"colab-df-quickchart\" onclick=\"quickchart('df-9376c8ca-e361-498e-866b-3f604f29ca35')\"\n",
              "            title=\"Suggest charts\"\n",
              "            style=\"display:none;\">\n",
              "\n",
              "<svg xmlns=\"http://www.w3.org/2000/svg\" height=\"24px\"viewBox=\"0 0 24 24\"\n",
              "     width=\"24px\">\n",
              "    <g>\n",
              "        <path d=\"M19 3H5c-1.1 0-2 .9-2 2v14c0 1.1.9 2 2 2h14c1.1 0 2-.9 2-2V5c0-1.1-.9-2-2-2zM9 17H7v-7h2v7zm4 0h-2V7h2v10zm4 0h-2v-4h2v4z\"/>\n",
              "    </g>\n",
              "</svg>\n",
              "  </button>\n",
              "\n",
              "<style>\n",
              "  .colab-df-quickchart {\n",
              "      --bg-color: #E8F0FE;\n",
              "      --fill-color: #1967D2;\n",
              "      --hover-bg-color: #E2EBFA;\n",
              "      --hover-fill-color: #174EA6;\n",
              "      --disabled-fill-color: #AAA;\n",
              "      --disabled-bg-color: #DDD;\n",
              "  }\n",
              "\n",
              "  [theme=dark] .colab-df-quickchart {\n",
              "      --bg-color: #3B4455;\n",
              "      --fill-color: #D2E3FC;\n",
              "      --hover-bg-color: #434B5C;\n",
              "      --hover-fill-color: #FFFFFF;\n",
              "      --disabled-bg-color: #3B4455;\n",
              "      --disabled-fill-color: #666;\n",
              "  }\n",
              "\n",
              "  .colab-df-quickchart {\n",
              "    background-color: var(--bg-color);\n",
              "    border: none;\n",
              "    border-radius: 50%;\n",
              "    cursor: pointer;\n",
              "    display: none;\n",
              "    fill: var(--fill-color);\n",
              "    height: 32px;\n",
              "    padding: 0;\n",
              "    width: 32px;\n",
              "  }\n",
              "\n",
              "  .colab-df-quickchart:hover {\n",
              "    background-color: var(--hover-bg-color);\n",
              "    box-shadow: 0 1px 2px rgba(60, 64, 67, 0.3), 0 1px 3px 1px rgba(60, 64, 67, 0.15);\n",
              "    fill: var(--button-hover-fill-color);\n",
              "  }\n",
              "\n",
              "  .colab-df-quickchart-complete:disabled,\n",
              "  .colab-df-quickchart-complete:disabled:hover {\n",
              "    background-color: var(--disabled-bg-color);\n",
              "    fill: var(--disabled-fill-color);\n",
              "    box-shadow: none;\n",
              "  }\n",
              "\n",
              "  .colab-df-spinner {\n",
              "    border: 2px solid var(--fill-color);\n",
              "    border-color: transparent;\n",
              "    border-bottom-color: var(--fill-color);\n",
              "    animation:\n",
              "      spin 1s steps(1) infinite;\n",
              "  }\n",
              "\n",
              "  @keyframes spin {\n",
              "    0% {\n",
              "      border-color: transparent;\n",
              "      border-bottom-color: var(--fill-color);\n",
              "      border-left-color: var(--fill-color);\n",
              "    }\n",
              "    20% {\n",
              "      border-color: transparent;\n",
              "      border-left-color: var(--fill-color);\n",
              "      border-top-color: var(--fill-color);\n",
              "    }\n",
              "    30% {\n",
              "      border-color: transparent;\n",
              "      border-left-color: var(--fill-color);\n",
              "      border-top-color: var(--fill-color);\n",
              "      border-right-color: var(--fill-color);\n",
              "    }\n",
              "    40% {\n",
              "      border-color: transparent;\n",
              "      border-right-color: var(--fill-color);\n",
              "      border-top-color: var(--fill-color);\n",
              "    }\n",
              "    60% {\n",
              "      border-color: transparent;\n",
              "      border-right-color: var(--fill-color);\n",
              "    }\n",
              "    80% {\n",
              "      border-color: transparent;\n",
              "      border-right-color: var(--fill-color);\n",
              "      border-bottom-color: var(--fill-color);\n",
              "    }\n",
              "    90% {\n",
              "      border-color: transparent;\n",
              "      border-bottom-color: var(--fill-color);\n",
              "    }\n",
              "  }\n",
              "</style>\n",
              "\n",
              "  <script>\n",
              "    async function quickchart(key) {\n",
              "      const quickchartButtonEl =\n",
              "        document.querySelector('#' + key + ' button');\n",
              "      quickchartButtonEl.disabled = true;  // To prevent multiple clicks.\n",
              "      quickchartButtonEl.classList.add('colab-df-spinner');\n",
              "      try {\n",
              "        const charts = await google.colab.kernel.invokeFunction(\n",
              "            'suggestCharts', [key], {});\n",
              "      } catch (error) {\n",
              "        console.error('Error during call to suggestCharts:', error);\n",
              "      }\n",
              "      quickchartButtonEl.classList.remove('colab-df-spinner');\n",
              "      quickchartButtonEl.classList.add('colab-df-quickchart-complete');\n",
              "    }\n",
              "    (() => {\n",
              "      let quickchartButtonEl =\n",
              "        document.querySelector('#df-9376c8ca-e361-498e-866b-3f604f29ca35 button');\n",
              "      quickchartButtonEl.style.display =\n",
              "        google.colab.kernel.accessAllowed ? 'block' : 'none';\n",
              "    })();\n",
              "  </script>\n",
              "</div>\n",
              "    </div>\n",
              "  </div>\n"
            ]
          },
          "metadata": {},
          "execution_count": 8
        }
      ]
    },
    {
      "cell_type": "markdown",
      "source": [
        "**how many entries were dropped after pre-processing**"
      ],
      "metadata": {
        "id": "GBgY4fKK2dDU"
      }
    },
    {
      "cell_type": "code",
      "source": [
        "## drop missing rows\n",
        "dropped_dataset=raw_data.dropna()\n",
        "dropped_dataset['Class'] = dropped_dataset['Class'].astype(int)\n",
        "print(\"Droped samples : \", len(raw_data) - len(dropped_dataset))"
      ],
      "metadata": {
        "colab": {
          "base_uri": "https://localhost:8080/"
        },
        "id": "p2rb3aACSdPF",
        "outputId": "71b27a41-d5fb-4466-ed34-51311ea1fa28"
      },
      "execution_count": 9,
      "outputs": [
        {
          "output_type": "stream",
          "name": "stdout",
          "text": [
            "Droped samples :  513\n"
          ]
        }
      ]
    },
    {
      "cell_type": "code",
      "source": [
        "class_1_data = dropped_dataset[dropped_dataset[\"Class\"] == 1]\n",
        "class_0_data = dropped_dataset[dropped_dataset[\"Class\"] == 0]\n",
        "\n",
        "print(\"Samples of Class 0 : \", len(class_0_data.index))\n",
        "print(\"Samples of Class 1 : \", len(class_1_data.index))"
      ],
      "metadata": {
        "colab": {
          "base_uri": "https://localhost:8080/"
        },
        "id": "hrriUkgAQUZf",
        "outputId": "d524cb0b-6f69-496e-f93c-5d982b9aba27"
      },
      "execution_count": 10,
      "outputs": [
        {
          "output_type": "stream",
          "name": "stdout",
          "text": [
            "Samples of Class 0 :  23211\n",
            "Samples of Class 1 :  6025\n"
          ]
        }
      ]
    },
    {
      "cell_type": "code",
      "source": [
        "X_orig = dropped_dataset[\"Text\"]\n",
        "y_orig = dropped_dataset[\"Class\"]"
      ],
      "metadata": {
        "id": "YahggCYB8QgL"
      },
      "execution_count": 11,
      "outputs": []
    },
    {
      "cell_type": "markdown",
      "source": [
        "# **Tokenization**\n",
        "- splitting sentences into words\n",
        "- get Vocabulary size"
      ],
      "metadata": {
        "id": "Grvf45uNMK9D"
      }
    },
    {
      "cell_type": "code",
      "source": [
        "max_len = 20\n",
        "oov_token = '00_V'\n",
        "padding_type = 'post'\n",
        "trunc_type = 'post'\n",
        "\n",
        "tokenizer = Tokenizer()\n",
        "tokenizer.fit_on_texts(X_orig)\n",
        "vocab_size = len(tokenizer.word_index) + 1\n",
        "print(\"Vocab Size: \",vocab_size)"
      ],
      "metadata": {
        "colab": {
          "base_uri": "https://localhost:8080/"
        },
        "id": "R0wcn3RoBV01",
        "outputId": "28200acd-ff08-4836-8054-8bde86b7125a"
      },
      "execution_count": 12,
      "outputs": [
        {
          "output_type": "stream",
          "name": "stdout",
          "text": [
            "Vocab Size:  10145\n"
          ]
        }
      ]
    },
    {
      "cell_type": "markdown",
      "source": [
        "# **Encoding the word into numeric for All Dataset**"
      ],
      "metadata": {
        "id": "Rr8w_D7Y9LD6"
      }
    },
    {
      "cell_type": "code",
      "source": [
        "X_sequences = tokenizer.texts_to_sequences(X_orig)\n",
        "X_pad = pad_sequences(X_sequences, maxlen=max_len, padding=padding_type, truncating=trunc_type)"
      ],
      "metadata": {
        "id": "2jiTUfmg8rZy"
      },
      "execution_count": 13,
      "outputs": []
    },
    {
      "cell_type": "markdown",
      "source": [
        "## Data Sampling (Undersampling)"
      ],
      "metadata": {
        "id": "wYDF1f8hQTR3"
      }
    },
    {
      "cell_type": "code",
      "source": [
        "# define the undersampling method\n",
        "# NearMiss has 3 versions, named NearMiss-1, NearMiss-2, NearMiss-3\n",
        "# By default, the technique will undersample the majority\n",
        "# class to have the same number of examples as the minority class.\n",
        "\n",
        "undersample = NearMiss(version=1, n_neighbors=3)\n",
        "# transform the dataset\n",
        "X, y = undersample.fit_resample(X_pad, y_orig)"
      ],
      "metadata": {
        "id": "tCOa1_OD_EPy"
      },
      "execution_count": 14,
      "outputs": []
    },
    {
      "cell_type": "code",
      "source": [
        "print(len(X))"
      ],
      "metadata": {
        "colab": {
          "base_uri": "https://localhost:8080/"
        },
        "id": "SXej_6Pi_VlC",
        "outputId": "28b3480d-7142-41bf-e54c-1baa63c46a9d"
      },
      "execution_count": 15,
      "outputs": [
        {
          "output_type": "stream",
          "name": "stdout",
          "text": [
            "12050\n"
          ]
        }
      ]
    },
    {
      "cell_type": "markdown",
      "source": [
        "# Other undersampling\n",
        "**Condensed Nearest Neighbor Rule Undersampling**\n",
        "```\n",
        "undersample = CondensedNearestNeighbour(n_neighbors=1)\n",
        "X, y = undersample.fit_resample(X_orig, y_orig)\n",
        "```\n",
        "**Tomek Links for Undersampling**\n",
        "\n",
        "```\n",
        "undersample = TomekLinks()\n",
        "X, y = undersample.fit_resample(X_orig, y_orig)\n",
        "```\n",
        "\n",
        "\n",
        "**Edited Nearest Neighbors Rule for Undersampling**\n",
        "```\n",
        "undersample = EditedNearestNeighbours(n_neighbors=3)\n",
        "X, y = undersample.fit_resample(X_orig, y_orig)\n",
        "```"
      ],
      "metadata": {
        "id": "rSnc17QFZlH3"
      }
    },
    {
      "cell_type": "markdown",
      "source": [
        "# **Splitting into Train and Test**"
      ],
      "metadata": {
        "id": "L4Ct_CH62HYm"
      }
    },
    {
      "cell_type": "code",
      "source": [
        "X_train, X_val, y_train, y_val = train_test_split(X, y, test_size=0.2, stratify=y, random_state=42)\n",
        "X_val, X_test, y_val, y_test = train_test_split(X_val, y_val, test_size=0.5, stratify=y_val, random_state=42)"
      ],
      "metadata": {
        "id": "3LqX_tjX9VxR"
      },
      "execution_count": 16,
      "outputs": []
    },
    {
      "cell_type": "markdown",
      "source": [
        "# **Encoding the word into numeric**"
      ],
      "metadata": {
        "id": "NFdRD0AYMkOl"
      }
    },
    {
      "cell_type": "markdown",
      "source": [
        "- convert list of int into numpy array"
      ],
      "metadata": {
        "id": "KufG_IsXMw6F"
      }
    },
    {
      "cell_type": "code",
      "source": [
        "X_train = np.array(X_train)\n",
        "X_val = np.array(X_val)\n",
        "X_test = np.array(X_test)\n",
        "y_train = np.array(y_train)\n",
        "y_val = np.array(y_val)\n",
        "y_test = np.array(y_test)"
      ],
      "metadata": {
        "id": "3gsW9fTACpRt"
      },
      "execution_count": 17,
      "outputs": []
    },
    {
      "cell_type": "markdown",
      "source": [
        "# **Building a Transformer**"
      ],
      "metadata": {
        "id": "hZJ_w4J0NF1s"
      }
    },
    {
      "cell_type": "code",
      "source": [
        "class TransformerEncoder(layers.Layer):\n",
        "    def __init__(self, embed_dim, heads, neurons):\n",
        "        super(TransformerEncoder, self).__init__()\n",
        "        self.att = layers.MultiHeadAttention(num_heads=heads, key_dim=embed_dim)\n",
        "        self.ffn = Sequential(\n",
        "            [layers.Dense(neurons, activation=\"relu\"), layers.Dense(embed_dim),]\n",
        "        )\n",
        "        self.layernorm1 = layers.LayerNormalization(epsilon=1e-6)\n",
        "        self.layernorm2 = layers.LayerNormalization(epsilon=1e-6)\n",
        "        self.dropout1 = layers.Dropout(0.5)\n",
        "        self.dropout2 = layers.Dropout(0.5)\n",
        "\n",
        "    def call(self, inputs, training):\n",
        "        attn_output = self.att(inputs, inputs)\n",
        "        attn_output = self.dropout1(attn_output, training=training)\n",
        "        out1 = self.layernorm1(inputs + attn_output)\n",
        "        ffn_output = self.ffn(out1)\n",
        "        ffn_output = self.dropout2(ffn_output, training=training)\n",
        "        return self.layernorm2(out1 + ffn_output)\n",
        "\n",
        "class TokenAndPositionEmbedding(layers.Layer):\n",
        "    def __init__(self, maxlen, vocab_size, embed_dim):\n",
        "        super(TokenAndPositionEmbedding, self).__init__()\n",
        "        self.token_emb = layers.Embedding(input_dim=vocab_size, output_dim=embed_dim)\n",
        "        self.pos_emb = layers.Embedding(input_dim=maxlen, output_dim=embed_dim)\n",
        "\n",
        "    def call(self, x):\n",
        "        maxlen = tf.shape(x)[-1]\n",
        "        positions = tf.range(start=0, limit=maxlen, delta=1)\n",
        "        positions = self.pos_emb(positions)\n",
        "        x = self.token_emb(x)\n",
        "        return x + positions"
      ],
      "metadata": {
        "id": "LzOUKY0RBcsM"
      },
      "execution_count": 18,
      "outputs": []
    },
    {
      "cell_type": "markdown",
      "source": [
        "# **Building a Model**"
      ],
      "metadata": {
        "id": "3uS9OWeSNLE2"
      }
    },
    {
      "cell_type": "code",
      "source": [
        "embed_dim = 40\n",
        "heads = 2\n",
        "neurons = 32\n",
        "maxlen = 20\n",
        "\n",
        "inputs = layers.Input(shape=(maxlen,))\n",
        "embedding_layer = TokenAndPositionEmbedding(maxlen, vocab_size, embed_dim)\n",
        "x = embedding_layer(inputs)\n",
        "transformer_block = TransformerEncoder(embed_dim, heads, neurons)\n",
        "x = transformer_block(x)\n",
        "x = layers.GlobalAveragePooling1D()(x)\n",
        "x = Dropout(0.35)(x)\n",
        "outputs = layers.Dense(1, activation=\"sigmoid\")(x)\n",
        "model = Model(inputs=inputs, outputs=outputs)"
      ],
      "metadata": {
        "id": "kES_RbmgBf-d"
      },
      "execution_count": 19,
      "outputs": []
    },
    {
      "cell_type": "markdown",
      "source": [
        "- Model Compiling"
      ],
      "metadata": {
        "id": "SuCvzrmBNaxF"
      }
    },
    {
      "cell_type": "code",
      "source": [
        "model.compile(optimizer=tf.keras.optimizers.Adam(0.0003), loss='binary_crossentropy', metrics=['accuracy'])\n",
        "model.summary()"
      ],
      "metadata": {
        "colab": {
          "base_uri": "https://localhost:8080/"
        },
        "id": "lXW2Tzu7BpuN",
        "outputId": "5a39268f-398f-4d69-a328-d362c8973f1f"
      },
      "execution_count": 20,
      "outputs": [
        {
          "output_type": "stream",
          "name": "stdout",
          "text": [
            "Model: \"model\"\n",
            "_________________________________________________________________\n",
            " Layer (type)                Output Shape              Param #   \n",
            "=================================================================\n",
            " input_1 (InputLayer)        [(None, 20)]              0         \n",
            "                                                                 \n",
            " token_and_position_embeddi  (None, 20, 40)            406600    \n",
            " ng (TokenAndPositionEmbedd                                      \n",
            " ing)                                                            \n",
            "                                                                 \n",
            " transformer_encoder (Trans  (None, 20, 40)            15872     \n",
            " formerEncoder)                                                  \n",
            "                                                                 \n",
            " global_average_pooling1d (  (None, 40)                0         \n",
            " GlobalAveragePooling1D)                                         \n",
            "                                                                 \n",
            " dropout_2 (Dropout)         (None, 40)                0         \n",
            "                                                                 \n",
            " dense_2 (Dense)             (None, 1)                 41        \n",
            "                                                                 \n",
            "=================================================================\n",
            "Total params: 422513 (1.61 MB)\n",
            "Trainable params: 422513 (1.61 MB)\n",
            "Non-trainable params: 0 (0.00 Byte)\n",
            "_________________________________________________________________\n"
          ]
        }
      ]
    },
    {
      "cell_type": "markdown",
      "source": [
        "# **Training a Model**"
      ],
      "metadata": {
        "id": "AzpJ0dupNgQk"
      }
    },
    {
      "cell_type": "code",
      "source": [
        "model_name = \"checkpoint.h5\"\n",
        "checkpoint = ModelCheckpoint(model_name,\n",
        "                            monitor=\"val_loss\",\n",
        "                            mode=\"min\",\n",
        "                            save_best_only = True,\n",
        "                            verbose=1)\n",
        "\n",
        "earlystopping = EarlyStopping(monitor='val_loss',min_delta = 0.0003, patience = 3, verbose = 1)\n",
        "\n",
        "learning_rate_reduction = ReduceLROnPlateau(monitor='val_loss',\n",
        "                                            patience=3,\n",
        "                                            verbose=1,\n",
        "                                            factor=0.2,\n",
        "                                            min_lr=0.00000001)"
      ],
      "metadata": {
        "id": "SFKXRPhvBrQP"
      },
      "execution_count": 21,
      "outputs": []
    },
    {
      "cell_type": "code",
      "source": [
        "history = model.fit(X_train,y_train,\n",
        "                    validation_data=(X_val,y_val),\n",
        "                    epochs=25,\n",
        "                    batch_size=32,\n",
        "                    callbacks=[earlystopping])"
      ],
      "metadata": {
        "colab": {
          "base_uri": "https://localhost:8080/"
        },
        "id": "nt1cEi7HBvWe",
        "outputId": "71d1eba4-b1ca-4b7a-eb99-370c7cdcdf22"
      },
      "execution_count": 22,
      "outputs": [
        {
          "output_type": "stream",
          "name": "stdout",
          "text": [
            "Epoch 1/25\n",
            "302/302 [==============================] - 20s 41ms/step - loss: 0.3817 - accuracy: 0.8338 - val_loss: 0.2001 - val_accuracy: 0.9220\n",
            "Epoch 2/25\n",
            "302/302 [==============================] - 3s 10ms/step - loss: 0.1925 - accuracy: 0.9257 - val_loss: 0.1711 - val_accuracy: 0.9369\n",
            "Epoch 3/25\n",
            "302/302 [==============================] - 3s 10ms/step - loss: 0.1668 - accuracy: 0.9385 - val_loss: 0.1813 - val_accuracy: 0.9328\n",
            "Epoch 4/25\n",
            "302/302 [==============================] - 4s 15ms/step - loss: 0.1529 - accuracy: 0.9444 - val_loss: 0.1528 - val_accuracy: 0.9494\n",
            "Epoch 5/25\n",
            "302/302 [==============================] - 3s 10ms/step - loss: 0.1404 - accuracy: 0.9492 - val_loss: 0.1559 - val_accuracy: 0.9494\n",
            "Epoch 6/25\n",
            "302/302 [==============================] - 3s 10ms/step - loss: 0.1393 - accuracy: 0.9501 - val_loss: 0.1709 - val_accuracy: 0.9527\n",
            "Epoch 7/25\n",
            "302/302 [==============================] - 4s 13ms/step - loss: 0.1321 - accuracy: 0.9536 - val_loss: 0.1734 - val_accuracy: 0.9494\n",
            "Epoch 7: early stopping\n"
          ]
        }
      ]
    },
    {
      "cell_type": "code",
      "source": [
        "def plot_roc_curve(models, X_test):\n",
        "  plt.figure(0).clf()\n",
        "  for model_name in models:\n",
        "    y_pred = models[model_name].predict(X_test)\n",
        "    fpr, tpr, _ = roc_curve(y_test, y_pred)\n",
        "    auc = round(roc_auc_score(y_test, y_pred), 4)\n",
        "    plt.plot(fpr,tpr,label=\"{}, AUC={}\".format(model_name, round(auc, 4)))\n",
        "  plt.legend()"
      ],
      "metadata": {
        "id": "jieKeHpRIG_C"
      },
      "execution_count": 23,
      "outputs": []
    },
    {
      "cell_type": "code",
      "source": [
        "def plot_precision_recall_curve(models, X_test):\n",
        "  plt.figure(0).clf()\n",
        "\n",
        "  for model_name in models:\n",
        "    y_proba = models[model_name].predict(X_test)\n",
        "    y_pred = models[model_name].predict(X_test)\n",
        "    y_pred = [1 if pred>=0.5 else 0 for pred in y_pred]\n",
        "    lr_precision, lr_recall, _ = precision_recall_curve(y_test, y_proba)\n",
        "    lr_f1, lr_auc = f1_score(y_test, y_pred), auc(lr_recall, lr_precision)\n",
        "    plt.plot(lr_precision,lr_recall,label=\"{}, AUC={}\".format(model_name, round(lr_auc, 4)))\n",
        "  plt.legend()"
      ],
      "metadata": {
        "id": "zTqVECQ9IG_K"
      },
      "execution_count": 24,
      "outputs": []
    },
    {
      "cell_type": "code",
      "source": [
        "## build a function to evaluate classification model\n",
        "def model_evaluation(model, train, test, train_y, test_y):\n",
        "    pred_train = model.predict(train)\n",
        "    pred_test = model.predict(test)\n",
        "    pred_train = [1 if pred>=0.5 else 0 for pred in pred_train]\n",
        "    pred_test = [1 if pred>=0.5 else 0 for pred in pred_test]\n",
        "    print(classification_report(test_y, pred_test))\n",
        "    train_acc = accuracy_score(pred_train,train_y)\n",
        "    test_acc = accuracy_score(pred_test,test_y)\n",
        "\n",
        "    train_recall = recall_score(train_y,pred_train, average = 'weighted')\n",
        "    test_recall = recall_score(test_y,pred_test, average = 'weighted')\n",
        "\n",
        "    train_precision = precision_score(train_y,pred_train, average = 'weighted')\n",
        "    test_precision = precision_score(test_y,pred_test, average = 'weighted')\n",
        "\n",
        "    train_f1 = f1_score(train_y,pred_train, average = 'weighted')\n",
        "    test_f1 = f1_score(test_y,pred_test, average = 'weighted')\n",
        "\n",
        "    print(\"\\n\\t\\t  Train score  /  Test score\\n\")\n",
        "    print(f\"Accuracy  : {train_acc} / {test_acc}\")\n",
        "    print(f\"Recall    : {train_recall} / {test_recall}\")\n",
        "    print(f\"Precision : {train_precision} / {test_precision}\")\n",
        "    print(f\"F1 Score  : {train_f1} / {test_f1}\")\n",
        "\n",
        "    cm=confusion_matrix(test_y, pred_test)\n",
        "    FP = cm[0][1]\n",
        "    df_cm = pd.DataFrame(cm, index = [i for i in ['class:  0', 'class : 1']],\n",
        "                  columns = [i for i in ['class:  0', 'class : 1']])\n",
        "    group_counts = [\"{0:0.0f}\".format(value) for value in\n",
        "                cm.flatten()]\n",
        "    group_percentages = [\"{0:.2%}\".format(value) for value in cm.flatten()/np.sum(cm)]\n",
        "    labels = [f\"{v1}\\n{v2}\" for v1, v2 in zip(group_counts,group_percentages)]\n",
        "    labels = np.asarray(labels).reshape(2,2)\n",
        "    plt.figure(figsize = (8,4))\n",
        "    sns.heatmap(df_cm, annot=labels,fmt='')\n",
        "    plt.title(\"\\nConfusion Matrix\\n\", color='blue', fontsize = 16)\n",
        "    plt.ylabel('\\nActual\\n', color='blue')\n",
        "    plt.xlabel('\\nPredicted\\n', color = 'blue')\n",
        "    plt.show()\n",
        "    return [test_acc, test_recall, test_precision, test_f1], FP"
      ],
      "metadata": {
        "id": "7OlBxJFCVMgJ"
      },
      "execution_count": 25,
      "outputs": []
    },
    {
      "cell_type": "markdown",
      "source": [
        "# **Save the model**"
      ],
      "metadata": {
        "id": "IjHu6GzNQEIO"
      }
    },
    {
      "cell_type": "code",
      "source": [
        "model.save_weights(\"transformer_model.h5\")"
      ],
      "metadata": {
        "id": "KIJ1F5V1DlcO"
      },
      "execution_count": 26,
      "outputs": []
    },
    {
      "cell_type": "markdown",
      "source": [
        "# **Load the model**"
      ],
      "metadata": {
        "id": "th0dsdxoQHJO"
      }
    },
    {
      "cell_type": "code",
      "source": [
        "model.load_weights('transformer_model.h5')"
      ],
      "metadata": {
        "id": "___KDez8DxJF"
      },
      "execution_count": 27,
      "outputs": []
    },
    {
      "cell_type": "markdown",
      "source": [
        "# **Save the Tokenizer**"
      ],
      "metadata": {
        "id": "3q8Vqv2UFiY5"
      }
    },
    {
      "cell_type": "code",
      "source": [
        "with open('tokenizer.pickle', 'wb') as handle:\n",
        "    pickle.dump(tokenizer, handle, protocol=pickle.HIGHEST_PROTOCOL)"
      ],
      "metadata": {
        "id": "ubFQnrdVFkyV"
      },
      "execution_count": 28,
      "outputs": []
    },
    {
      "cell_type": "markdown",
      "source": [
        "# **Load the Tokenizer**"
      ],
      "metadata": {
        "id": "TJespV2KFuDu"
      }
    },
    {
      "cell_type": "code",
      "source": [
        "with open('tokenizer.pickle', 'rb') as handle:\n",
        "    tokenizer = pickle.load(handle)"
      ],
      "metadata": {
        "id": "7AN_B1LpFwu4"
      },
      "execution_count": 29,
      "outputs": []
    },
    {
      "cell_type": "code",
      "source": [
        "models = {}\n",
        "models[\"Transformer\"] = model"
      ],
      "metadata": {
        "id": "X6AzEiYWBUyD"
      },
      "execution_count": 30,
      "outputs": []
    },
    {
      "cell_type": "markdown",
      "source": [
        "# **Plot ROC Curve**"
      ],
      "metadata": {
        "id": "1OAep-1EGmxK"
      }
    },
    {
      "cell_type": "code",
      "source": [
        "plot_roc_curve(models, X_test)"
      ],
      "metadata": {
        "id": "u-ZD2k0eGmxS",
        "colab": {
          "base_uri": "https://localhost:8080/",
          "height": 447
        },
        "outputId": "243ad19a-9d98-46eb-aaae-9ef1f75c2b0a"
      },
      "execution_count": 31,
      "outputs": [
        {
          "output_type": "stream",
          "name": "stdout",
          "text": [
            "38/38 [==============================] - 0s 3ms/step\n"
          ]
        },
        {
          "output_type": "display_data",
          "data": {
            "text/plain": [
              "<Figure size 640x480 with 1 Axes>"
            ],
            "image/png": "[encoded data removed]"
          },
          "metadata": {}
        }
      ]
    },
    {
      "cell_type": "markdown",
      "source": [
        "# **Plot PR Curve**"
      ],
      "metadata": {
        "id": "QHhbUe2iGbQq"
      }
    },
    {
      "cell_type": "code",
      "source": [
        "plot_precision_recall_curve(models, X_test)"
      ],
      "metadata": {
        "id": "yKUi6qBDEGyF",
        "colab": {
          "base_uri": "https://localhost:8080/",
          "height": 465
        },
        "outputId": "c82c0511-2536-45bb-c9b5-44de92db6511"
      },
      "execution_count": 32,
      "outputs": [
        {
          "output_type": "stream",
          "name": "stdout",
          "text": [
            "38/38 [==============================] - 0s 3ms/step\n",
            "38/38 [==============================] - 0s 3ms/step\n"
          ]
        },
        {
          "output_type": "display_data",
          "data": {
            "text/plain": [
              "<Figure size 640x480 with 1 Axes>"
            ],
            "image/png": "[encoded data removed]"
          },
          "metadata": {}
        }
      ]
    },
    {
      "cell_type": "code",
      "source": [
        "y_pred = model.predict(X_test)\n",
        "prediction = y_pred"
      ],
      "metadata": {
        "colab": {
          "base_uri": "https://localhost:8080/"
        },
        "id": "Za8hI27KGf2v",
        "outputId": "ea5bccd6-b700-403b-83bf-b6b4ebd888ea"
      },
      "execution_count": 33,
      "outputs": [
        {
          "output_type": "stream",
          "name": "stdout",
          "text": [
            "38/38 [==============================] - 0s 3ms/step\n"
          ]
        }
      ]
    },
    {
      "cell_type": "code",
      "source": [
        "prediction[y_pred>=0.5] = 1\n",
        "prediction[y_pred<0.5] = 0\n",
        "\n",
        "print(classification_report(y_test, prediction))"
      ],
      "metadata": {
        "colab": {
          "base_uri": "https://localhost:8080/"
        },
        "id": "iTFG6Wb4EfL-",
        "outputId": "328e5f95-7345-415f-8cb2-bce5b76bb5d1"
      },
      "execution_count": 34,
      "outputs": [
        {
          "output_type": "stream",
          "name": "stdout",
          "text": [
            "              precision    recall  f1-score   support\n",
            "\n",
            "           0       0.93      0.96      0.94       603\n",
            "           1       0.96      0.92      0.94       602\n",
            "\n",
            "    accuracy                           0.94      1205\n",
            "   macro avg       0.94      0.94      0.94      1205\n",
            "weighted avg       0.94      0.94      0.94      1205\n",
            "\n"
          ]
        }
      ]
    },
    {
      "cell_type": "code",
      "source": [
        "score, FP = model_evaluation(model, X_train, X_test, y_train, y_test)"
      ],
      "metadata": {
        "colab": {
          "base_uri": "https://localhost:8080/",
          "height": 803
        },
        "id": "zgwRC10qDYS7",
        "outputId": "e399cef8-879d-4468-e44d-cf6fbc99d157"
      },
      "execution_count": 35,
      "outputs": [
        {
          "output_type": "stream",
          "name": "stdout",
          "text": [
            "302/302 [==============================] - 1s 3ms/step\n",
            "38/38 [==============================] - 0s 3ms/step\n",
            "              precision    recall  f1-score   support\n",
            "\n",
            "           0       0.93      0.96      0.94       603\n",
            "           1       0.96      0.92      0.94       602\n",
            "\n",
            "    accuracy                           0.94      1205\n",
            "   macro avg       0.94      0.94      0.94      1205\n",
            "weighted avg       0.94      0.94      0.94      1205\n",
            "\n",
            "\n",
            "\t\t  Train score  /  Test score\n",
            "\n",
            "Accuracy  : 0.9570539419087137 / 0.9402489626556016\n",
            "Recall    : 0.9570539419087137 / 0.9402489626556016\n",
            "Precision : 0.9573008549234757 / 0.9407329914782501\n",
            "F1 Score  : 0.9570481440996151 / 0.9402316743445671\n"
          ]
        },
        {
          "output_type": "display_data",
          "data": {
            "text/plain": [
              "<Figure size 800x400 with 2 Axes>"
            ],
            "image/png": "[encoded data removed]"
          },
          "metadata": {}
        }
      ]
    },
    {
      "cell_type": "markdown",
      "source": [
        "# **Predict the new input**"
      ],
      "metadata": {
        "id": "BmifKjpvQKNO"
      }
    },
    {
      "cell_type": "code",
      "source": [
        "new_input = [\"i feel lots of crypto has exhausted itself\", \"Hello banter fam .\", \"Okay my long position is still open on eth\t\"]"
      ],
      "metadata": {
        "id": "0Qz3kkykFae3"
      },
      "execution_count": 36,
      "outputs": []
    },
    {
      "cell_type": "code",
      "source": [
        "def preprocess_input(text_list):\n",
        "  cleaned_text = []\n",
        "  existing = []\n",
        "  for idx in range(len(text_list)):\n",
        "    sentence = text_list[idx]\n",
        "    removeSpecialChars = str(sentence).translate ({ord(c): \" \" for c in \"!@#$%^&*()[]{};:,.<>?\\|`~-=_+\"})\n",
        "    pattern = r'[0-9]'\n",
        "    new_string = re.sub(pattern, '', removeSpecialChars)\n",
        "    new_string = re.sub(' +', ' ', new_string)\n",
        "    new_string = ' '.join([word for word in new_string.split() if word not in stopwords.words(\"english\")])\n",
        "    existing_special_word = any(w.lower() in special_words for w in new_string.split())\n",
        "    # keep slash for Special words, but if not special words, remove slash from the word\n",
        "    new_string = ' '.join([lemmatizer.lemmatize(w).lower() if len(w)>1 and w.lower() not in special_words else w.replace(\"/\", \"\").lower() for w in new_string.split() ] )\n",
        "    cleaned_text.append(new_string)\n",
        "    existing.append(existing_special_word)\n",
        "  return cleaned_text, existing\n"
      ],
      "metadata": {
        "id": "8BNlM6LAFolG"
      },
      "execution_count": 37,
      "outputs": []
    },
    {
      "cell_type": "markdown",
      "source": [
        "- Preprocessing"
      ],
      "metadata": {
        "id": "NC9HHXA0QRPO"
      }
    },
    {
      "cell_type": "code",
      "source": [
        "input, existngs = preprocess_input(new_input)\n",
        "input"
      ],
      "metadata": {
        "colab": {
          "base_uri": "https://localhost:8080/"
        },
        "id": "61j3Z-h2FyVu",
        "outputId": "b4231a2f-4d2d-4808-f218-55b02c7b5437"
      },
      "execution_count": 38,
      "outputs": [
        {
          "output_type": "execute_result",
          "data": {
            "text/plain": [
              "['feel lot crypto exhausted',\n",
              " 'hello banter fam',\n",
              " 'okay long position still open eth']"
            ]
          },
          "metadata": {},
          "execution_count": 38
        }
      ]
    },
    {
      "cell_type": "markdown",
      "source": [
        "- Word Encoding"
      ],
      "metadata": {
        "id": "8xwbfpC5QU02"
      }
    },
    {
      "cell_type": "code",
      "source": [
        "input_sequences = tokenizer.texts_to_sequences(input)\n",
        "input = pad_sequences(input_sequences, maxlen=max_len, padding=padding_type, truncating=trunc_type)"
      ],
      "metadata": {
        "id": "wMIDJaZ9F6zA"
      },
      "execution_count": 39,
      "outputs": []
    },
    {
      "cell_type": "code",
      "source": [
        "input = np.array(input)"
      ],
      "metadata": {
        "id": "JmIdryQyGh-f"
      },
      "execution_count": 40,
      "outputs": []
    },
    {
      "cell_type": "markdown",
      "source": [
        "- Predict the input"
      ],
      "metadata": {
        "id": "DEF_z5CuQgHQ"
      }
    },
    {
      "cell_type": "code",
      "source": [
        "pred = model.predict(input)\n",
        "#scoring\n",
        "pred = [1 if val[0] >= 0.5 else 0 for val in pred]\n",
        "replaced_pred = [1 if existngs[index] else pred[index] for index, value in enumerate(input)]\n"
      ],
      "metadata": {
        "colab": {
          "base_uri": "https://localhost:8080/"
        },
        "id": "4HGpxIzQFnnG",
        "outputId": "02bad151-3bcd-41c4-e698-2df7dfa56317"
      },
      "execution_count": 51,
      "outputs": [
        {
          "output_type": "stream",
          "name": "stdout",
          "text": [
            "1/1 [==============================] - 0s 30ms/step\n"
          ]
        }
      ]
    },
    {
      "cell_type": "code",
      "source": [
        "comp_pred = [pred, replaced_pred]\n",
        "comp_df = pd.DataFrame(comp_pred).T\n",
        "comp_df.columns = [\"Before\", \"After\"]\n",
        "comp_df"
      ],
      "metadata": {
        "colab": {
          "base_uri": "https://localhost:8080/",
          "height": 143
        },
        "id": "cYy0xbAgFCFy",
        "outputId": "5655fa8e-93bf-42e5-e893-3461aec6a458"
      },
      "execution_count": 56,
      "outputs": [
        {
          "output_type": "execute_result",
          "data": {
            "text/plain": [
              "   Before  After\n",
              "0       1      1\n",
              "1       0      0\n",
              "2       1      1"
            ],
            "text/html": [
              "\n",
              "  <div id=\"df-778e5252-0132-43a6-8a31-4aae8486a2bb\" class=\"colab-df-container\">\n",
              "    <div>\n",
              "<style scoped>\n",
              "    .dataframe tbody tr th:only-of-type {\n",
              "        vertical-align: middle;\n",
              "    }\n",
              "\n",
              "    .dataframe tbody tr th {\n",
              "        vertical-align: top;\n",
              "    }\n",
              "\n",
              "    .dataframe thead th {\n",
              "        text-align: right;\n",
              "    }\n",
              "</style>\n",
              "<table border=\"1\" class=\"dataframe\">\n",
              "  <thead>\n",
              "    <tr style=\"text-align: right;\">\n",
              "      <th></th>\n",
              "      <th>Before</th>\n",
              "      <th>After</th>\n",
              "    </tr>\n",
              "  </thead>\n",
              "  <tbody>\n",
              "    <tr>\n",
              "      <th>0</th>\n",
              "      <td>1</td>\n",
              "      <td>1</td>\n",
              "    </tr>\n",
              "    <tr>\n",
              "      <th>1</th>\n",
              "      <td>0</td>\n",
              "      <td>0</td>\n",
              "    </tr>\n",
              "    <tr>\n",
              "      <th>2</th>\n",
              "      <td>1</td>\n",
              "      <td>1</td>\n",
              "    </tr>\n",
              "  </tbody>\n",
              "</table>\n",
              "</div>\n",
              "    <div class=\"colab-df-buttons\">\n",
              "\n",
              "  <div class=\"colab-df-container\">\n",
              "    <button class=\"colab-df-convert\" onclick=\"convertToInteractive('df-778e5252-0132-43a6-8a31-4aae8486a2bb')\"\n",
              "            title=\"Convert this dataframe to an interactive table.\"\n",
              "            style=\"display:none;\">\n",
              "\n",
              "  <svg xmlns=\"http://www.w3.org/2000/svg\" height=\"24px\" viewBox=\"0 -960 960 960\">\n",
              "    <path d=\"M120-120v-720h720v720H120Zm60-500h600v-160H180v160Zm220 220h160v-160H400v160Zm0 220h160v-160H400v160ZM180-400h160v-160H180v160Zm440 0h160v-160H620v160ZM180-180h160v-160H180v160Zm440 0h160v-160H620v160Z\"/>\n",
              "  </svg>\n",
              "    </button>\n",
              "\n",
              "  <style>\n",
              "    .colab-df-container {\n",
              "      display:flex;\n",
              "      gap: 12px;\n",
              "    }\n",
              "\n",
              "    .colab-df-convert {\n",
              "      background-color: #E8F0FE;\n",
              "      border: none;\n",
              "      border-radius: 50%;\n",
              "      cursor: pointer;\n",
              "      display: none;\n",
              "      fill: #1967D2;\n",
              "      height: 32px;\n",
              "      padding: 0 0 0 0;\n",
              "      width: 32px;\n",
              "    }\n",
              "\n",
              "    .colab-df-convert:hover {\n",
              "      background-color: #E2EBFA;\n",
              "      box-shadow: 0px 1px 2px rgba(60, 64, 67, 0.3), 0px 1px 3px 1px rgba(60, 64, 67, 0.15);\n",
              "      fill: #174EA6;\n",
              "    }\n",
              "\n",
              "    .colab-df-buttons div {\n",
              "      margin-bottom: 4px;\n",
              "    }\n",
              "\n",
              "    [theme=dark] .colab-df-convert {\n",
              "      background-color: #3B4455;\n",
              "      fill: #D2E3FC;\n",
              "    }\n",
              "\n",
              "    [theme=dark] .colab-df-convert:hover {\n",
              "      background-color: #434B5C;\n",
              "      box-shadow: 0px 1px 3px 1px rgba(0, 0, 0, 0.15);\n",
              "      filter: drop-shadow(0px 1px 2px rgba(0, 0, 0, 0.3));\n",
              "      fill: #FFFFFF;\n",
              "    }\n",
              "  </style>\n",
              "\n",
              "    <script>\n",
              "      const buttonEl =\n",
              "        document.querySelector('#df-778e5252-0132-43a6-8a31-4aae8486a2bb button.colab-df-convert');\n",
              "      buttonEl.style.display =\n",
              "        google.colab.kernel.accessAllowed ? 'block' : 'none';\n",
              "\n",
              "      async function convertToInteractive(key) {\n",
              "        const element = document.querySelector('#df-778e5252-0132-43a6-8a31-4aae8486a2bb');\n",
              "        const dataTable =\n",
              "          await google.colab.kernel.invokeFunction('convertToInteractive',\n",
              "                                                    [key], {});\n",
              "        if (!dataTable) return;\n",
              "\n",
              "        const docLinkHtml = 'Like what you see? Visit the ' +\n",
              "          '<a target=\"_blank\" href=https://colab.research.google.com/notebooks/data_table.ipynb>data table notebook</a>'\n",
              "          + ' to learn more about interactive tables.';\n",
              "        element.innerHTML = '';\n",
              "        dataTable['output_type'] = 'display_data';\n",
              "        await google.colab.output.renderOutput(dataTable, element);\n",
              "        const docLink = document.createElement('div');\n",
              "        docLink.innerHTML = docLinkHtml;\n",
              "        element.appendChild(docLink);\n",
              "      }\n",
              "    </script>\n",
              "  </div>\n",
              "\n",
              "\n",
              "<div id=\"df-c3a91eca-31fe-4cc4-abe8-b02d8f363fa5\">\n",
              "  <button class=\"colab-df-quickchart\" onclick=\"quickchart('df-c3a91eca-31fe-4cc4-abe8-b02d8f363fa5')\"\n",
              "            title=\"Suggest charts\"\n",
              "            style=\"display:none;\">\n",
              "\n",
              "<svg xmlns=\"http://www.w3.org/2000/svg\" height=\"24px\"viewBox=\"0 0 24 24\"\n",
              "     width=\"24px\">\n",
              "    <g>\n",
              "        <path d=\"M19 3H5c-1.1 0-2 .9-2 2v14c0 1.1.9 2 2 2h14c1.1 0 2-.9 2-2V5c0-1.1-.9-2-2-2zM9 17H7v-7h2v7zm4 0h-2V7h2v10zm4 0h-2v-4h2v4z\"/>\n",
              "    </g>\n",
              "</svg>\n",
              "  </button>\n",
              "\n",
              "<style>\n",
              "  .colab-df-quickchart {\n",
              "      --bg-color: #E8F0FE;\n",
              "      --fill-color: #1967D2;\n",
              "      --hover-bg-color: #E2EBFA;\n",
              "      --hover-fill-color: #174EA6;\n",
              "      --disabled-fill-color: #AAA;\n",
              "      --disabled-bg-color: #DDD;\n",
              "  }\n",
              "\n",
              "  [theme=dark] .colab-df-quickchart {\n",
              "      --bg-color: #3B4455;\n",
              "      --fill-color: #D2E3FC;\n",
              "      --hover-bg-color: #434B5C;\n",
              "      --hover-fill-color: #FFFFFF;\n",
              "      --disabled-bg-color: #3B4455;\n",
              "      --disabled-fill-color: #666;\n",
              "  }\n",
              "\n",
              "  .colab-df-quickchart {\n",
              "    background-color: var(--bg-color);\n",
              "    border: none;\n",
              "    border-radius: 50%;\n",
              "    cursor: pointer;\n",
              "    display: none;\n",
              "    fill: var(--fill-color);\n",
              "    height: 32px;\n",
              "    padding: 0;\n",
              "    width: 32px;\n",
              "  }\n",
              "\n",
              "  .colab-df-quickchart:hover {\n",
              "    background-color: var(--hover-bg-color);\n",
              "    box-shadow: 0 1px 2px rgba(60, 64, 67, 0.3), 0 1px 3px 1px rgba(60, 64, 67, 0.15);\n",
              "    fill: var(--button-hover-fill-color);\n",
              "  }\n",
              "\n",
              "  .colab-df-quickchart-complete:disabled,\n",
              "  .colab-df-quickchart-complete:disabled:hover {\n",
              "    background-color: var(--disabled-bg-color);\n",
              "    fill: var(--disabled-fill-color);\n",
              "    box-shadow: none;\n",
              "  }\n",
              "\n",
              "  .colab-df-spinner {\n",
              "    border: 2px solid var(--fill-color);\n",
              "    border-color: transparent;\n",
              "    border-bottom-color: var(--fill-color);\n",
              "    animation:\n",
              "      spin 1s steps(1) infinite;\n",
              "  }\n",
              "\n",
              "  @keyframes spin {\n",
              "    0% {\n",
              "      border-color: transparent;\n",
              "      border-bottom-color: var(--fill-color);\n",
              "      border-left-color: var(--fill-color);\n",
              "    }\n",
              "    20% {\n",
              "      border-color: transparent;\n",
              "      border-left-color: var(--fill-color);\n",
              "      border-top-color: var(--fill-color);\n",
              "    }\n",
              "    30% {\n",
              "      border-color: transparent;\n",
              "      border-left-color: var(--fill-color);\n",
              "      border-top-color: var(--fill-color);\n",
              "      border-right-color: var(--fill-color);\n",
              "    }\n",
              "    40% {\n",
              "      border-color: transparent;\n",
              "      border-right-color: var(--fill-color);\n",
              "      border-top-color: var(--fill-color);\n",
              "    }\n",
              "    60% {\n",
              "      border-color: transparent;\n",
              "      border-right-color: var(--fill-color);\n",
              "    }\n",
              "    80% {\n",
              "      border-color: transparent;\n",
              "      border-right-color: var(--fill-color);\n",
              "      border-bottom-color: var(--fill-color);\n",
              "    }\n",
              "    90% {\n",
              "      border-color: transparent;\n",
              "      border-bottom-color: var(--fill-color);\n",
              "    }\n",
              "  }\n",
              "</style>\n",
              "\n",
              "  <script>\n",
              "    async function quickchart(key) {\n",
              "      const quickchartButtonEl =\n",
              "        document.querySelector('#' + key + ' button');\n",
              "      quickchartButtonEl.disabled = true;  // To prevent multiple clicks.\n",
              "      quickchartButtonEl.classList.add('colab-df-spinner');\n",
              "      try {\n",
              "        const charts = await google.colab.kernel.invokeFunction(\n",
              "            'suggestCharts', [key], {});\n",
              "      } catch (error) {\n",
              "        console.error('Error during call to suggestCharts:', error);\n",
              "      }\n",
              "      quickchartButtonEl.classList.remove('colab-df-spinner');\n",
              "      quickchartButtonEl.classList.add('colab-df-quickchart-complete');\n",
              "    }\n",
              "    (() => {\n",
              "      let quickchartButtonEl =\n",
              "        document.querySelector('#df-c3a91eca-31fe-4cc4-abe8-b02d8f363fa5 button');\n",
              "      quickchartButtonEl.style.display =\n",
              "        google.colab.kernel.accessAllowed ? 'block' : 'none';\n",
              "    })();\n",
              "  </script>\n",
              "</div>\n",
              "    </div>\n",
              "  </div>\n"
            ]
          },
          "metadata": {},
          "execution_count": 56
        }
      ]
    }
  ]
}